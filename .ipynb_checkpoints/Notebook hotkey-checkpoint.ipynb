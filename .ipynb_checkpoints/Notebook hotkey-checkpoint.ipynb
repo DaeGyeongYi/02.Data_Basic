{
 "cells": [
  {
   "cell_type": "markdown",
   "id": "1ad52e59",
   "metadata": {},
   "source": [
    "## 0.셀 실행\n",
    "- ctrl + enter : 현재 셀 실행\n",
    "- shift + enter: 현재 셀을 실행하고, 포커스를 다음 셀로 이동(없으면 빈 셀 추가)"
   ]
  },
  {
   "cell_type": "markdown",
   "id": "106f5471",
   "metadata": {},
   "source": [
    "## 1.셀 선택모드\n",
    "- [esc] 또는 [ctrl]+m을 눌러서 셀 테두리가 파란색이 된 상태(선택모드)\n",
    "- 위로 셀 추가 : a\n",
    "- 아래로셀 추가 : b  \n",
    "- 선택 셀 삭제 : dd  d키를 두번 누름\n",
    "- 선택 셀 잘라내기 : x\n",
    "- 선택 셀 복사 : c  붙여넣기 : p\n",
    "- 선택셀과 아래 셀 합치기: shift + m\n",
    "- 실행결과 열기 / 닫기 : o\n",
    "- MarkDown으로 변경 : m    \n",
    "- code로 변경 : y\n",
    "- 파일 저장 : ctrl + s \n",
    "- 선택된 셀의 입력모드로 돌아가기 enter"
   ]
  },
  {
   "cell_type": "markdown",
   "id": "2a7f55f1",
   "metadata": {},
   "source": [
    "## 2.편집모드\n",
    "- enter키를 눌러 셀 테두리가 초록색이 된 상태\n",
    "- 선택 셀의 전체 코드 선택 : ctrl + a\n",
    "- 선택 셀 내 실행 취소 : ctrl + z\n",
    "- 선택 셀 내 다시 실행 : ctrl + y\n",
    "- 커서 위치 주석 처리 : ctrl + /\n",
    "- 선택 셀 코드 실행 : ctrl + enter\n",
    "- 선택 셀 코드 실행 후 다음 cell로 이동(없으면 새로추가):shift+enter\n",
    "- 커서위치에서 셀을 둘로 나누기\n",
    "- shift+ctrl + [-]"
   ]
  },
  {
   "cell_type": "code",
   "execution_count": null,
   "id": "27553435",
   "metadata": {},
   "outputs": [],
   "source": []
  }
 ],
 "metadata": {
  "kernelspec": {
   "display_name": "Python 3",
   "language": "python",
   "name": "python3"
  },
  "language_info": {
   "codemirror_mode": {
    "name": "ipython",
    "version": 3
   },
   "file_extension": ".py",
   "mimetype": "text/x-python",
   "name": "python",
   "nbconvert_exporter": "python",
   "pygments_lexer": "ipython3",
   "version": "3.8.8"
  }
 },
 "nbformat": 4,
 "nbformat_minor": 5
}
