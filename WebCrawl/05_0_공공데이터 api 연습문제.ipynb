{
 "cells": [
  {
   "cell_type": "markdown",
   "id": "218e3ceb",
   "metadata": {},
   "source": [
    "- 공공데이터 포탈 사용법\n",
    "    - 데이터를 직접 다운받는 방식\n",
    "    - 사용하고자 하는 API 서비스에 대해 '활용신청'을 해서 인증키를 받아 REST API 방식으로 원하는 데이터를 얻도록 되어있음\n",
    "    - 지자체, 각 기관, 정부 연관 기관, 정부 부서 별로 따로 관리를 함"
   ]
  },
  {
   "cell_type": "markdown",
   "id": "ec202e21",
   "metadata": {},
   "source": [
    "#### 신청한 API를 활용하기 위해서는  인증키 필요\n",
    "- 보안과 관리를 위해서 인증키 사용\n",
    "- 인증키와 트래픽 제한 등의 장치가 없다면 \n",
    "- 서비스를 악용하거나 무제한으로 트래픽을 보내서 시스템을 마비시키는 등의 공격이 가능하기 때문에\n",
    "- 서비스를 제공하는 곳에서 반드시 인증키를 발급 받아 사용\n"
   ]
  },
  {
   "cell_type": "markdown",
   "id": "ab540fa9",
   "metadata": {},
   "source": [
    "#### 공공데이터포털: 한국 관광공사 지역기반 관광정보 조회"
   ]
  },
  {
   "cell_type": "code",
   "execution_count": 1,
   "id": "1694952b",
   "metadata": {},
   "outputs": [],
   "source": [
    "import requests\n",
    "from bs4 import BeautifulSoup"
   ]
  },
  {
   "cell_type": "markdown",
   "id": "865b518b",
   "metadata": {},
   "source": [
    "## 위에서 추출한 데이터를 df로 작성"
   ]
  },
  {
   "cell_type": "code",
   "execution_count": 2,
   "id": "1c5debeb",
   "metadata": {},
   "outputs": [],
   "source": [
    "#url 및 서비스 키\n",
    "endpoint = 'http://api.visitkorea.or.kr/openapi/service/rest/KorService/searchFestival?'\n",
    "serviceKey = 'E2A4f5crRw2SR0z5JzLrlHr27RitLzVG98%2FDRvMoS1W65JvqyH3y77UsAoVdD8XvpFX6FtR1kdnts3Sc%2BERmpw%3D%3D'"
   ]
  },
  {
   "cell_type": "code",
   "execution_count": 3,
   "id": "510cb357",
   "metadata": {},
   "outputs": [],
   "source": [
    "numOfRows = \"50\"\n",
    "pageNo = \"1\"\n",
    "MobileOS = \"ETC\"\n",
    "MobileApp = \"AppTest\"\n",
    "arrange = \"A\"\n",
    "listYN = \"Y\"\n",
    "areaCode =\"1\"\n",
    "sigunguCode =\"4\"\n",
    "eventStartDate = \"20200101\""
   ]
  },
  {
   "cell_type": "code",
   "execution_count": 4,
   "id": "9f054652",
   "metadata": {},
   "outputs": [],
   "source": [
    "paramset = \"serviceKey=\" + serviceKey +\"&\" \\\n",
    "            + \"numOfRows=\" + numOfRows +\"&\" \\\n",
    "            + \"pageNo=\" + pageNo +\"&\"  \\\n",
    "            + \"MobileOS=\" + MobileOS +\"&\"  \\\n",
    "            + \"MobileApp=\" + MobileApp + \"&\" \\\n",
    "            + \"arrange=\"+ arrange + \"&\" \\\n",
    "            + \"areaCode=\" + areaCode + \"&\"\\\n",
    "            + \"listYN=\" + listYN + \"&\"  \\\n",
    "            + \"eventStartDate=\" + eventStartDate\n"
   ]
  },
  {
   "cell_type": "code",
   "execution_count": 5,
   "id": "889f5b85",
   "metadata": {},
   "outputs": [
    {
     "data": {
      "text/plain": [
       "'serviceKey=E2A4f5crRw2SR0z5JzLrlHr27RitLzVG98%2FDRvMoS1W65JvqyH3y77UsAoVdD8XvpFX6FtR1kdnts3Sc%2BERmpw%3D%3D&numOfRows=50&pageNo=1&MobileOS=ETC&MobileApp=AppTest&arrange=A&areaCode=1&listYN=Y&eventStartDate=20200101'"
      ]
     },
     "execution_count": 5,
     "metadata": {},
     "output_type": "execute_result"
    }
   ],
   "source": [
    "paramset"
   ]
  },
  {
   "cell_type": "code",
   "execution_count": 6,
   "id": "5b25567a",
   "metadata": {},
   "outputs": [
    {
     "data": {
      "text/plain": [
       "'http://api.visitkorea.or.kr/openapi/service/rest/KorService/searchFestival?serviceKey=E2A4f5crRw2SR0z5JzLrlHr27RitLzVG98%2FDRvMoS1W65JvqyH3y77UsAoVdD8XvpFX6FtR1kdnts3Sc%2BERmpw%3D%3D&numOfRows=50&pageNo=1&MobileOS=ETC&MobileApp=AppTest&arrange=A&areaCode=1&listYN=Y&eventStartDate=20200101'"
      ]
     },
     "execution_count": 6,
     "metadata": {},
     "output_type": "execute_result"
    }
   ],
   "source": [
    "url = endpoint +paramset\n",
    "url"
   ]
  },
  {
   "cell_type": "code",
   "execution_count": 7,
   "id": "a9885f14",
   "metadata": {},
   "outputs": [],
   "source": [
    "result = requests.get(url)  #api 서비스호출\n",
    "\n",
    "bs_obj = BeautifulSoup(result.content,'html.parser')"
   ]
  },
  {
   "cell_type": "code",
   "execution_count": 8,
   "id": "81dfd8a4",
   "metadata": {},
   "outputs": [
    {
     "data": {
      "text/plain": [
       "<?xml version=\"1.0\" encoding=\"UTF-8\" standalone=\"yes\"?><response><header><resultcode>0000</resultcode><resultmsg>OK</resultmsg></header><body><items><item><addr1>온라인개최</addr1><areacode>1</areacode><cat1>A02</cat1><cat2>A0207</cat2><cat3>A02070200</cat3><contentid>2676393</contentid><contenttypeid>15</contenttypeid><createdtime>20201014165040</createdtime><eventenddate>20201017</eventenddate><eventstartdate>20201017</eventstartdate><firstimage>http://tong.visitkorea.or.kr/cms/resource/92/2676392_image2_1.jpg</firstimage><firstimage2>http://tong.visitkorea.or.kr/cms/resource/92/2676392_image2_1.jpg</firstimage2><modifiedtime>20201014165040</modifiedtime><readcount>0</readcount><sigungucode>2</sigungucode><title>강동구 청소년 민주주의 축제 \"놀면 뭐하니? 한 번 더 민주!\" 2020</title></item><item><addr1>온라인개최</addr1><addr2>(상일동)</addr2><areacode>1</areacode><cat1>A02</cat1><cat2>A0207</cat2><cat3>A02070200</cat3><contentid>1806376</contentid><contenttypeid>15</contenttypeid><createdtime>20130422102127</createdtime><eventenddate>20200927</eventenddate><eventstartdate>20200921</eventstartdate><firstimage>http://tong.visitkorea.or.kr/cms/resource/69/2670569_image2_1.png</firstimage><firstimage2>http://tong.visitkorea.or.kr/cms/resource/69/2670569_image2_1.png</firstimage2><mapx>127.1573829418</mapx><mapy>37.5512675743</mapy><mlevel>6</mlevel><modifiedtime>20201005171130</modifiedtime><readcount>21828</readcount><sigungucode>2</sigungucode><tel>강일 427-4004, 성내 471-0044, 해공 478-9656, 암사 429-0476, 천호 488-7223</tel><title>강동북페스티벌2020</title></item><item><addr1>온라인개최</addr1><areacode>1</areacode><cat1>A02</cat1><cat2>A0207</cat2><cat3>A02070200</cat3><contentid>1307813</contentid><contenttypeid>15</contenttypeid><createdtime>20110614164707</createdtime><eventenddate>20201011</eventenddate><eventstartdate>20201005</eventstartdate><firstimage>http://tong.visitkorea.or.kr/cms/resource/34/2674234_image2_1.jpg</firstimage><firstimage2>http://tong.visitkorea.or.kr/cms/resource/34/2674234_image2_1.jpg</firstimage2><modifiedtime>20201006161346</modifiedtime><readcount>66461</readcount><sigungucode>2</sigungucode><tel>02-3425-5245</tel><title>강동선사문화축제 2020</title></item><item><addr1>서울특별시 종로구 인왕산로 22</addr1><areacode>1</areacode><cat1>A02</cat1><cat2>A0207</cat2><cat3>A02070200</cat3><contentid>1372085</contentid><contenttypeid>15</contenttypeid><createdtime>20110825151910</createdtime><eventenddate>20201117</eventenddate><eventstartdate>20201117</eventstartdate><firstimage>http://tong.visitkorea.or.kr/cms/resource/44/2621144_image2_1.JPG</firstimage><firstimage2>http://tong.visitkorea.or.kr/cms/resource/44/2621144_image2_1.JPG</firstimage2><mapx>126.9657719166</mapx><mapy>37.5758807095</mapy><mlevel>6</mlevel><modifiedtime>20201207135647</modifiedtime><readcount>12866</readcount><sigungucode>23</sigungucode><tel>02-736-6375</tel><title>개천절 대제전 2020</title></item><item><addr1>온라인개최</addr1><areacode>1</areacode><cat1>A02</cat1><cat2>A0207</cat2><cat3>A02070200</cat3><contentid>2613900</contentid><contenttypeid>15</contenttypeid><createdtime>20190801153406</createdtime><eventenddate>20201120</eventenddate><eventstartdate>20201114</eventstartdate><firstimage>http://tong.visitkorea.or.kr/cms/resource/20/2680820_image2_1.png</firstimage><firstimage2>http://tong.visitkorea.or.kr/cms/resource/20/2680820_image2_1.png</firstimage2><mapx>127.0053765000</mapx><mapy>37.4826644710</mapy><mlevel>6</mlevel><modifiedtime>20201111160054</modifiedtime><readcount>0</readcount><sigungucode>15</sigungucode><tel>070-7575-2351~2</tel><title>건강서울페스티벌 2020</title></item><item><addr1>서울특별시 종로구 사직로 161</addr1><areacode>1</areacode><cat1>A02</cat1><cat2>A0207</cat2><cat3>A02070200</cat3><contentid>2648460</contentid><contenttypeid>15</contenttypeid><createdtime>20200224102834</createdtime><eventenddate>20210527</eventenddate><eventstartdate>20210506</eventstartdate><firstimage>http://tong.visitkorea.or.kr/cms/resource/58/2648458_image2_1.PNG</firstimage><firstimage2>http://tong.visitkorea.or.kr/cms/resource/58/2648458_image2_1.PNG</firstimage2><mapx>126.9770319156</mapx><mapy>37.5788944508</mapy><mlevel>6</mlevel><modifiedtime>20210513154207</modifiedtime><readcount>0</readcount><sigungucode>23</sigungucode><tel>02-3210-4806</tel><title>경복궁 별빛야행</title></item><item><addr1>서울특별시 종로구 사직로 161 경복궁</addr1><areacode>1</areacode><cat1>A02</cat1><cat2>A0207</cat2><cat3>A02070200</cat3><contentid>2615461</contentid><contenttypeid>15</contenttypeid><createdtime>20190816134954</createdtime><eventenddate>20210630</eventenddate><eventstartdate>20210415</eventstartdate><firstimage>http://tong.visitkorea.or.kr/cms/resource/48/2713648_image2_1.jpg</firstimage><firstimage2>http://tong.visitkorea.or.kr/cms/resource/48/2713648_image2_1.jpg</firstimage2><mapx>126.9770319156</mapx><mapy>37.5788944508</mapy><mlevel>6</mlevel><modifiedtime>20210413134125</modifiedtime><readcount>0</readcount><sigungucode>23</sigungucode><tel>02-3210-4807, 02-3210-3506</tel><title>경복궁 생과방</title></item><item><addr1>서울특별시 종로구 사직로 161</addr1><areacode>1</areacode><cat1>A02</cat1><cat2>A0207</cat2><cat3>A02070200</cat3><contentid>2601364</contentid><contenttypeid>15</contenttypeid><createdtime>20190510174353</createdtime><eventenddate>20210529</eventenddate><eventstartdate>20210501</eventstartdate><firstimage>http://tong.visitkorea.or.kr/cms/resource/91/2714691_image2_1.jpg</firstimage><firstimage2>http://tong.visitkorea.or.kr/cms/resource/91/2714691_image2_1.jpg</firstimage2><mapx>126.9748959222</mapx><mapy>37.5816246501</mapy><mlevel>6</mlevel><modifiedtime>20210427160617</modifiedtime><readcount>40</readcount><sigungucode>23</sigungucode><tel>02-3210-4806</tel><title>경복궁 시식공감</title></item><item><addr1>서울특별시 종로구 사직로 161</addr1><addr2>(세종로)</addr2><areacode>1</areacode><cat1>A02</cat1><cat2>A0208</cat2><cat3>A02081300</cat3><contentid>2597569</contentid><contenttypeid>15</contenttypeid><createdtime>20190417150900</createdtime><eventenddate>20210530</eventenddate><eventstartdate>20210401</eventstartdate><firstimage>http://tong.visitkorea.or.kr/cms/resource/44/2597544_image2_1.jpg</firstimage><firstimage2>http://tong.visitkorea.or.kr/cms/resource/44/2597544_image3_1.jpg</firstimage2><mapx>126.9748959222</mapx><mapy>37.5816246501</mapy><mlevel>6</mlevel><modifiedtime>20210514101652</modifiedtime><readcount>42</readcount><sigungucode>23</sigungucode><tel>02-3700-3900~1</tel><title>경복궁 야간 특별관람</title></item><item><addr1>서울특별시 종로구 창경궁로 185</addr1><areacode>1</areacode><cat1>A02</cat1><cat2>A0208</cat2><cat3>A02081300</cat3><contentid>2433581</contentid><contenttypeid>15</contenttypeid><createdtime>20161007152205</createdtime><eventenddate>20210627</eventenddate><eventstartdate>20210612</eventstartdate><firstimage>http://tong.visitkorea.or.kr/cms/resource/03/1965903_image2_1.jpg</firstimage><firstimage2>http://tong.visitkorea.or.kr/cms/resource/03/1965903_image3_1.jpg</firstimage2><mapx>126.9938137563</mapx><mapy>37.5776087901</mapy><mlevel>6</mlevel><modifiedtime>20210617153745</modifiedtime><readcount>4544</readcount><sigungucode>23</sigungucode><tel>02-2270-1132</tel><title>고궁음악회「고궁의 숲, 무용을 만나다」</title></item><item><addr1>온라인개최</addr1><areacode>1</areacode><cat1>A02</cat1><cat2>A0208</cat2><cat3>A02081300</cat3><contentid>2676927</contentid><contenttypeid>15</contenttypeid><createdtime>20201016145744</createdtime><eventenddate>20201109</eventenddate><eventstartdate>20201019</eventstartdate><firstimage>http://tong.visitkorea.or.kr/cms/resource/26/2676926_image2_1.jpg</firstimage><firstimage2>http://tong.visitkorea.or.kr/cms/resource/26/2676926_image2_1.jpg</firstimage2><modifiedtime>20201016145744</modifiedtime><readcount>0</readcount><tel>070-4367-0559</tel><title>공연관광 온라인 쇼케이스 &lt; K-Performance On Air &gt; 2020</title></item><item><addr1>온라인개최</addr1><areacode>1</areacode><cat1>A02</cat1><cat2>A0208</cat2><cat3>A02080600</cat3><contentid>1948920</contentid><contenttypeid>15</contenttypeid><createdtime>20140918150952</createdtime><eventenddate>20201120</eventenddate><eventstartdate>20201019</eventstartdate><firstimage>http://tong.visitkorea.or.kr/cms/resource/72/2696872_image2_1.png</firstimage><firstimage2>http://tong.visitkorea.or.kr/cms/resource/72/2696872_image2_1.png</firstimage2><mapx>127.0594429796</mapx><mapy>37.5117148467</mapy><mlevel>6</mlevel><modifiedtime>20201210163145</modifiedtime><readcount>8280</readcount><sigungucode>1</sigungucode><tel>02-2486-9295~6</tel><title>관광산업 일자리박람회 2020</title></item><item><addr1>서울특별시 관악구</addr1><addr2>(봉천동)</addr2><areacode>1</areacode><cat1>A02</cat1><cat2>A0207</cat2><cat3>A02070200</cat3><contentid>2612274</contentid><contenttypeid>15</contenttypeid><createdtime>20190722094803</createdtime><eventenddate>20211017</eventenddate><eventstartdate>20211014</eventstartdate><mapx>126.9514981970</mapx><mapy>37.4782084678</mapy><mlevel>6</mlevel><modifiedtime>20210520154201</modifiedtime><readcount>0</readcount><sigungucode>5</sigungucode><tel>02) 828-5763</tel><title>관악강감찬축제</title></item><item><addr1>서울특별시 구로구 가마산로 245</addr1><addr2>(구로동)</addr2><areacode>1</areacode><cat1>A02</cat1><cat2>A0207</cat2><cat3>A02070200</cat3><contentid>2039869</contentid><contenttypeid>15</contenttypeid><createdtime>20151109152951</createdtime><eventenddate>20200927</eventenddate><eventstartdate>20200901</eventstartdate><firstimage>http://tong.visitkorea.or.kr/cms/resource/25/2665525_image2_1.jpg</firstimage><firstimage2>http://tong.visitkorea.or.kr/cms/resource/25/2665525_image2_1.jpg</firstimage2><mapx>126.8875507563</mapx><mapy>37.4955247594</mapy><mlevel>6</mlevel><modifiedtime>20200828154619</modifiedtime><readcount>16692</readcount><sigungucode>7</sigungucode><tel>02-860-2282</tel><title>구로G페스티벌 2020</title></item><item><addr1>온라인개최</addr1><areacode>1</areacode><cat1>A02</cat1><cat2>A0207</cat2><cat3>A02070200</cat3><contentid>2618971</contentid><contenttypeid>15</contenttypeid><createdtime>20190917133340</createdtime><eventenddate>20210127</eventenddate><eventstartdate>20201230</eventstartdate><firstimage>http://tong.visitkorea.or.kr/cms/resource/78/2703678_image2_1.png</firstimage><firstimage2>http://tong.visitkorea.or.kr/cms/resource/78/2703678_image2_1.png</firstimage2><mapx>126.8875507563</mapx><mapy>37.4955247594</mapy><mlevel>6</mlevel><modifiedtime>20210517162137</modifiedtime><readcount>0</readcount><sigungucode>7</sigungucode><tel>02-860-2140</tel><title>구로청소년축제 2021</title></item><item><addr1>서울특별시 종로구 삼청로 37</addr1><addr2>(세종로)</addr2><areacode>1</areacode><cat1>A02</cat1><cat2>A0208</cat2><cat3>A02080100</cat3><contentid>140660</contentid><contenttypeid>15</contenttypeid><createdtime>20040311000000</createdtime><eventenddate>20211231</eventenddate><eventstartdate>20210101</eventstartdate><mapx>126.9788705506</mapx><mapy>37.5819663482</mapy><mlevel>6</mlevel><modifiedtime>20210125131301</modifiedtime><readcount>22182</readcount><sigungucode>23</sigungucode><tel>02-3704-3114</tel><title>국립민속박물관 우리민속한마당 2021</title></item><item><addr1>서울특별시 종로구 삼청로 37</addr1><addr2>(세종로)</addr2><areacode>1</areacode><cat1>A02</cat1><cat2>A0207</cat2><cat3>A02070200</cat3><contentid>1204941</contentid><contenttypeid>15</contenttypeid><createdtime>20110215150050</createdtime><eventenddate>20210303</eventenddate><eventstartdate>20210201</eventstartdate><firstimage>http://tong.visitkorea.or.kr/cms/resource/50/495150_image2_1.jpg</firstimage><firstimage2>http://tong.visitkorea.or.kr/cms/resource/50/495150_image3_1.jpg</firstimage2><mapx>126.9788594400</mapx><mapy>37.5819774581</mapy><mlevel>6</mlevel><modifiedtime>20210209154621</modifiedtime><readcount>9540</readcount><sigungucode>23</sigungucode><tel>02-3704-3142, 3127</tel><title>국립민속박물관 정월대보름 한마당 2021</title></item><item><addr1>서울특별시 강남구 영동대로 513</addr1><addr2>(삼성동)</addr2><areacode>1</areacode><cat1>A02</cat1><cat2>A0207</cat2><cat3>A02070200</cat3><contentid>1276136</contentid><contenttypeid>15</contenttypeid><createdtime>20110512102643</createdtime><eventenddate>20210801</eventenddate><eventstartdate>20210729</eventstartdate><mapx>127.0594124394</mapx><mapy>37.5112648981</mapy><mlevel>6</mlevel><modifiedtime>20210701172123</modifiedtime><readcount>31761</readcount><sigungucode>1</sigungucode><tel>02-6000-8000</tel><title>국제차문화대전</title></item><item><areacode>1</areacode><cat1>A02</cat1><cat2>A0208</cat2><cat3>A02081300</cat3><contentid>2684198</contentid><contenttypeid>15</contenttypeid><createdtime>20201119164324</createdtime><eventenddate>20201231</eventenddate><eventstartdate>20201123</eventstartdate><firstimage>http://tong.visitkorea.or.kr/cms/resource/92/2684192_image2_1.jpg</firstimage><firstimage2>http://tong.visitkorea.or.kr/cms/resource/92/2684192_image2_1.jpg</firstimage2><modifiedtime>20210517163126</modifiedtime><readcount>0</readcount><tel>02-3210-4806~7</tel><title>궁궐활용 온라인 프로젝트 '궁온' 2020</title></item><item><addr1>서울특별시 서초구 강남대로 27</addr1><addr2>(양재동)</addr2><areacode>1</areacode><cat1>A02</cat1><cat2>A0208</cat2><cat3>A02080600</cat3><contentid>2659596</contentid><contenttypeid>15</contenttypeid><createdtime>20200612110502</createdtime><eventenddate>20210905</eventenddate><eventstartdate>20210903</eventstartdate><firstimage>http://tong.visitkorea.or.kr/cms/resource/39/2722939_image2_1.png</firstimage><firstimage2>http://tong.visitkorea.or.kr/cms/resource/39/2722939_image2_1.png</firstimage2><mapx>127.0390127336</mapx><mapy>37.4683111849</mapy><mlevel>6</mlevel><modifiedtime>20210623140108</modifiedtime><readcount>0</readcount><sigungucode>15</sigungucode><tel>070-8866-6668</tel><title>궁디팡팡 캣페스타</title></item><item><addr1>서울특별시 종로구 사직로 161</addr1><addr2>(세종로)</addr2><areacode>1</areacode><cat1>A02</cat1><cat2>A0208</cat2><cat3>A02081300</cat3><contentid>2676031</contentid><contenttypeid>15</contenttypeid><createdtime>20201012173436</createdtime><eventenddate>20201025</eventenddate><eventstartdate>20201019</eventstartdate><firstimage>http://tong.visitkorea.or.kr/cms/resource/30/2676030_image2_1.jpg</firstimage><firstimage2>http://tong.visitkorea.or.kr/cms/resource/30/2676030_image2_1.jpg</firstimage2><mapx>126.9770319156</mapx><mapy>37.5788944508</mapy><mlevel>6</mlevel><modifiedtime>20201012173436</modifiedtime><readcount>0</readcount><sigungucode>23</sigungucode><tel>02-3210-4806,4807,3506</tel><title>궁에서 즐기는 슬기로운 가을나기 2020</title></item><item><addr1>서울특별시 종로구 사직로 161</addr1><areacode>1</areacode><cat1>A02</cat1><cat2>A0207</cat2><cat3>A02070200</cat3><contentid>1998564</contentid><contenttypeid>15</contenttypeid><createdtime>20150421095827</createdtime><eventenddate>20211010</eventenddate><eventstartdate>20211002</eventstartdate><firstimage>http://tong.visitkorea.or.kr/cms/resource/07/2718907_image2_1.png</firstimage><firstimage2>http://tong.visitkorea.or.kr/cms/resource/07/2718907_image2_1.png</firstimage2><mapx>126.9769930325</mapx><mapy>37.5788222356</mapy><mlevel>6</mlevel><modifiedtime>20210531153419</modifiedtime><readcount>65553</readcount><sigungucode>23</sigungucode><tel>02-3210-4684</tel><title>궁중문화축전</title></item><item><addr1>서울특별시 중구 명동길 26</addr1><addr2>(명동2가)</addr2><areacode>1</areacode><cat1>A02</cat1><cat2>A0208</cat2><cat3>A02080300</cat3><contentid>406745</contentid><contenttypeid>15</contenttypeid><createdtime>20080118180330</createdtime><eventenddate>20211231</eventenddate><eventstartdate>20210101</eventstartdate><firstimage>http://tong.visitkorea.or.kr/cms/resource/86/2034286_image2_1.jpg</firstimage><firstimage2>http://tong.visitkorea.or.kr/cms/resource/86/2034286_image3_1.jpg</firstimage2><mapx>126.9837456304</mapx><mapy>37.5634463660</mapy><mlevel>6</mlevel><modifiedtime>20210125132029</modifiedtime><readcount>44442</readcount><sigungucode>24</sigungucode><tel>02-739-8288</tel><title>난타 (명동)</title></item><item><addr1>온라인개최</addr1><addr2>(필동2가)</addr2><areacode>1</areacode><cat1>A02</cat1><cat2>A0207</cat2><cat3>A02070200</cat3><contentid>1796637</contentid><contenttypeid>15</contenttypeid><createdtime>20130220143544</createdtime><eventenddate>20210226</eventenddate><eventstartdate>20210211</eventstartdate><firstimage>http://tong.visitkorea.or.kr/cms/resource/71/2706671_image2_1.jpg</firstimage><firstimage2>http://tong.visitkorea.or.kr/cms/resource/71/2706671_image2_1.jpg</firstimage2><mapx>126.9935365470</mapx><mapy>37.5584387906</mapy><mlevel>6</mlevel><modifiedtime>20210219151346</modifiedtime><readcount>13629</readcount><sigungucode>24</sigungucode><tel>02-2261-0517</tel><title>남산골 세시절기 축제 정월대보름 2021</title></item><item><addr1>서울특별시 성동구 왕십리로 63</addr1><addr2>(성수동1가)</addr2><areacode>1</areacode><cat1>A02</cat1><cat2>A0207</cat2><cat3>A02070200</cat3><contentid>2716833</contentid><contenttypeid>15</contenttypeid><createdtime>20210512165803</createdtime><eventenddate>20210606</eventenddate><eventstartdate>20210603</eventstartdate><firstimage>http://tong.visitkorea.or.kr/cms/resource/24/2716824_image2_1.jpg</firstimage><firstimage2>http://tong.visitkorea.or.kr/cms/resource/24/2716824_image2_1.jpg</firstimage2><mapx>127.0435962960</mapx><mapy>37.5436136344</mapy><mlevel>6</mlevel><modifiedtime>20210528131519</modifiedtime><readcount>0</readcount><sigungucode>16</sigungucode><tel>010-4667-0417</tel><title>노 모어 플라스틱(2021 NO MORE PLASTIC)</title></item><item><addr1>서울특별시 종로구 대학로12길 64</addr1><addr2>(동숭동)</addr2><areacode>1</areacode><cat1>A02</cat1><cat2>A0208</cat2><cat3>A02080200</cat3><contentid>1204763</contentid><contenttypeid>15</contenttypeid><createdtime>20110215141024</createdtime><eventenddate>20211231</eventenddate><eventstartdate>20210101</eventstartdate><mapx>127.0036933107</mapx><mapy>37.5811613326</mapy><mlevel>6</mlevel><modifiedtime>20210217101450</modifiedtime><readcount>33949</readcount><sigungucode>23</sigungucode><tel>02-3672-0900</tel><title>늘근도둑 이야기</title></item><item><addr1>서울특별시 종로구 대학로8길 1</addr1><addr2>(동숭동)</addr2><areacode>1</areacode><cat1>A02</cat1><cat2>A0207</cat2><cat3>A02070200</cat3><contentid>1717921</contentid><contenttypeid>15</contenttypeid><createdtime>20120913100408</createdtime><eventenddate>20210530</eventenddate><eventstartdate>20210528</eventstartdate><firstimage>http://tong.visitkorea.or.kr/cms/resource/20/2718320_image2_1.jpg</firstimage><firstimage2>http://tong.visitkorea.or.kr/cms/resource/20/2718320_image2_1.jpg</firstimage2><mapx>127.0023906561</mapx><mapy>37.5809974394</mapy><mlevel>6</mlevel><modifiedtime>20210526102051</modifiedtime><readcount>37956</readcount><sigungucode>23</sigungucode><tel>02-741-4188</tel><title>대학로 거리공연축제</title></item><item><addr1>서울특별시 서초구 강남대로 27 AT Center 제 2전시장</addr1><addr2>(양재동)</addr2><areacode>1</areacode><cat1>A02</cat1><cat2>A0208</cat2><cat3>A02081300</cat3><contentid>2373224</contentid><contenttypeid>15</contenttypeid><createdtime>20160316172145</createdtime><eventenddate>20210606</eventenddate><eventstartdate>20210603</eventstartdate><firstimage>http://tong.visitkorea.or.kr/cms/resource/33/2713633_image2_1.jpg</firstimage><firstimage2>http://tong.visitkorea.or.kr/cms/resource/33/2713633_image2_1.jpg</firstimage2><mapx>127.0396016001</mapx><mapy>37.4672141004</mapy><mlevel>6</mlevel><modifiedtime>20210412171238</modifiedtime><readcount>46743</readcount><sigungucode>15</sigungucode><tel>02-802-7666, 7669</tel><title>대한민국 국제요리&amp;제과경연대회</title></item><item><addr1>서울특별시 강남구 영동대로 513</addr1><addr2>(삼성동)</addr2><areacode>1</areacode><cat1>A02</cat1><cat2>A0207</cat2><cat3>A02070200</cat3><contentid>2730685</contentid><contenttypeid>15</contenttypeid><createdtime>20210804091401</createdtime><eventenddate>20211023</eventenddate><eventstartdate>20211020</eventstartdate><firstimage>http://tong.visitkorea.or.kr/cms/resource/43/2730843_image2_1.jpg</firstimage><firstimage2>http://tong.visitkorea.or.kr/cms/resource/43/2730843_image2_1.jpg</firstimage2><mapx>127.0594429796</mapx><mapy>37.5117148467</mapy><mlevel>6</mlevel><modifiedtime>20210804130827</modifiedtime><readcount>0</readcount><sigungucode>1</sigungucode><tel>02-6404-0166</tel><title>대한민국 목재산업 박람회(WOOD FAIR 2021)</title></item><item><addr1>온라인개최</addr1><areacode>1</areacode><cat1>A02</cat1><cat2>A0207</cat2><cat3>A02070200</cat3><contentid>2563687</contentid><contenttypeid>15</contenttypeid><createdtime>20181022094031</createdtime><eventenddate>20201218</eventenddate><eventstartdate>20201216</eventstartdate><firstimage>http://tong.visitkorea.or.kr/cms/resource/84/2563684_image2_1.JPG</firstimage><firstimage2>http://tong.visitkorea.or.kr/cms/resource/84/2563684_image2_1.JPG</firstimage2><mapx>127.0591318945</mapx><mapy>37.5118092746</mapy><mlevel>6</mlevel><modifiedtime>20201109170931</modifiedtime><readcount>176</readcount><sigungucode>1</sigungucode><tel>042-712-9231</tel><title>대한민국 산업기술 R&amp;D대전 2020</title></item><item><addr1>서울특별시 서초구 남부순환로 2364</addr1><addr2>(서초동)</addr2><areacode>1</areacode><cat1>A02</cat1><cat2>A0207</cat2><cat3>A02070200</cat3><contentid>607348</contentid><contenttypeid>15</contenttypeid><createdtime>20080811133450</createdtime><eventenddate>20210502</eventenddate><eventstartdate>20210428</eventstartdate><firstimage>http://tong.visitkorea.or.kr/cms/resource/56/2597356_image2_1.jpg</firstimage><firstimage2>http://tong.visitkorea.or.kr/cms/resource/56/2597356_image2_1.jpg</firstimage2><mapx>127.0088957592</mapx><mapy>37.4778984208</mapy><mlevel>6</mlevel><modifiedtime>20210407170656</modifiedtime><readcount>4819</readcount><sigungucode>15</sigungucode><tel>02-580-3274</tel><title>대한민국 전통연희축제</title></item><item><addr1>서울특별시 송파구 백제고분로 270</addr1><addr2>(삼전동)</addr2><areacode>1</areacode><cat1>A02</cat1><cat2>A0207</cat2><cat3>A02070200</cat3><contentid>2657111</contentid><contenttypeid>15</contenttypeid><createdtime>20200522145425</createdtime><eventenddate>20210730</eventenddate><eventstartdate>20210716</eventstartdate><firstimage>http://tong.visitkorea.or.kr/cms/resource/46/2726046_image2_1.png</firstimage><firstimage2>http://tong.visitkorea.or.kr/cms/resource/46/2726046_image2_1.png</firstimage2><mapx>127.0963010045</mapx><mapy>37.5022777168</mapy><mlevel>6</mlevel><modifiedtime>20210716132522</modifiedtime><readcount>0</readcount><sigungucode>18</sigungucode><tel>070-7938-5480</tel><title>대한민국 청년미술축제</title></item><item><addr1>서울특별시 양천구 목동서로 225</addr1><addr2>(목동)</addr2><areacode>1</areacode><cat1>A02</cat1><cat2>A0207</cat2><cat3>A02070200</cat3><contentid>2558683</contentid><contenttypeid>15</contenttypeid><createdtime>20180823143207</createdtime><eventenddate>20210821</eventenddate><eventstartdate>20210821</eventstartdate><firstimage>http://tong.visitkorea.or.kr/cms/resource/35/2724135_image2_1.jpg</firstimage><firstimage2>http://tong.visitkorea.or.kr/cms/resource/35/2724135_image2_1.jpg</firstimage2><mapx>126.8707958384</mapx><mapy>37.5271541181</mapy><mlevel>6</mlevel><modifiedtime>20210705095305</modifiedtime><readcount>759</readcount><sigungucode>19</sigungucode><tel>02-744-8066</tel><title>대한민국무용대상</title></item><item><addr1>서울특별시 서초구 강남대로 27</addr1><areacode>1</areacode><cat1>A02</cat1><cat2>A0208</cat2><cat3>A02081300</cat3><contentid>2479634</contentid><contenttypeid>15</contenttypeid><createdtime>20170207140641</createdtime><eventenddate>20211114</eventenddate><eventstartdate>20211112</eventstartdate><firstimage>http://tong.visitkorea.or.kr/cms/resource/53/2723753_image2_1.jpg</firstimage><firstimage2>http://tong.visitkorea.or.kr/cms/resource/53/2723753_image2_1.jpg</firstimage2><mapx>127.0396016001</mapx><mapy>37.4672141004</mapy><mlevel>6</mlevel><modifiedtime>20210629135155</modifiedtime><readcount>9778</readcount><sigungucode>15</sigungucode><tel>02-511-1540</tel><title>대한민국향토식문화대전(&amp;남북음식문화축제)</title></item><item><addr1>서울특별시 영등포구 여의대로 108</addr1><addr2>(여의도동)</addr2><areacode>1</areacode><cat1>A02</cat1><cat2>A0208</cat2><cat3>A02081300</cat3><contentid>2714690</contentid><contenttypeid>15</contenttypeid><createdtime>20210427154724</createdtime><eventenddate>20210613</eventenddate><eventstartdate>20210522</eventstartdate><firstimage>http://tong.visitkorea.or.kr/cms/resource/89/2714689_image2_1.png</firstimage><firstimage2>http://tong.visitkorea.or.kr/cms/resource/89/2714689_image2_1.png</firstimage2><mapx>126.9283267400</mapx><mapy>37.5259691729</mapy><mlevel>6</mlevel><modifiedtime>20210518170502</modifiedtime><readcount>0</readcount><sigungucode>20</sigungucode><tel>070-7575-2351</tel><title>더현대 플로깅</title></item><item><addr1>서울특별시 중구 세종대로 99</addr1><addr2>(정동)</addr2><areacode>1</areacode><cat1>A02</cat1><cat2>A0208</cat2><cat3>A02080100</cat3><contentid>292961</contentid><contenttypeid>15</contenttypeid><createdtime>20060126100026</createdtime><eventenddate>20211231</eventenddate><eventstartdate>20210101</eventstartdate><firstimage>http://tong.visitkorea.or.kr/cms/resource/24/495224_image2_1.jpg</firstimage><firstimage2>http://tong.visitkorea.or.kr/cms/resource/24/495224_image3_1.jpg</firstimage2><mapx>126.9761046145</mapx><mapy>37.5650460435</mapy><mlevel>6</mlevel><modifiedtime>20210106160853</modifiedtime><readcount>35451</readcount><sigungucode>24</sigungucode><tel>다산콜센터 02-120</tel><title>덕수궁 왕궁수문장교대의식</title></item><item><addr1>서울특별시 중구 세종대로 99</addr1><addr2>(정동)</addr2><areacode>1</areacode><cat1>A02</cat1><cat2>A0208</cat2><cat3>A02080100</cat3><contentid>1301487</contentid><contenttypeid>15</contenttypeid><createdtime>20110603142942</createdtime><eventenddate>20210509</eventenddate><eventstartdate>20210501</eventstartdate><firstimage>http://tong.visitkorea.or.kr/cms/resource/08/1965908_image2_1.jpg</firstimage><firstimage2>http://tong.visitkorea.or.kr/cms/resource/08/1965908_image3_1.jpg</firstimage2><mapx>126.9749158128</mapx><mapy>37.5658042673</mapy><mlevel>6</mlevel><modifiedtime>20210609132748</modifiedtime><readcount>40043</readcount><sigungucode>24</sigungucode><tel>02-2270-1244</tel><title>덕수궁 풍류</title></item><item><addr1>온라인개최</addr1><addr2>(창동)</addr2><areacode>1</areacode><cat1>A02</cat1><cat2>A0207</cat2><cat3>A02070200</cat3><contentid>1104496</contentid><contenttypeid>15</contenttypeid><createdtime>20101006170222</createdtime><eventenddate>20201115</eventenddate><eventstartdate>20201012</eventstartdate><firstimage>http://tong.visitkorea.or.kr/cms/resource/33/2678233_image2_1.jpg</firstimage><firstimage2>http://tong.visitkorea.or.kr/cms/resource/33/2678233_image2_1.jpg</firstimage2><mapx>127.0439570482</mapx><mapy>37.6527648428</mapy><mlevel>6</mlevel><modifiedtime>20201022174510</modifiedtime><readcount>4640</readcount><sigungucode>10</sigungucode><tel>070-4153-6392</tel><title>도봉산 페스티벌 2020</title></item><item><addr1>서울특별시 도봉구 도봉로 552</addr1><addr2>(창동)</addr2><areacode>1</areacode><cat1>A02</cat1><cat2>A0207</cat2><cat3>A02070200</cat3><contentid>2725188</contentid><contenttypeid>15</contenttypeid><createdtime>20210712101001</createdtime><eventenddate>20211002</eventenddate><eventstartdate>20211002</eventstartdate><firstimage>http://tong.visitkorea.or.kr/cms/resource/86/2725186_image2_1.jpg</firstimage><firstimage2>http://tong.visitkorea.or.kr/cms/resource/86/2725186_image2_1.jpg</firstimage2><mapx>127.0384686195</mapx><mapy>37.6541590259</mapy><mlevel>6</mlevel><modifiedtime>20210712101001</modifiedtime><readcount>0</readcount><sigungucode>10</sigungucode><tel>02-905-4026</tel><title>도봉옛길 문화제</title></item><item><addr1>서울특별시 도봉구 도봉로 552</addr1><addr2>(창동)</addr2><areacode>1</areacode><cat1>A02</cat1><cat2>A0207</cat2><cat3>A02070200</cat3><contentid>2601242</contentid><contenttypeid>15</contenttypeid><createdtime>20190509132339</createdtime><eventenddate>20211009</eventenddate><eventstartdate>20211009</eventstartdate><firstimage>http://tong.visitkorea.or.kr/cms/resource/81/2725681_image2_1.jpg</firstimage><firstimage2>http://tong.visitkorea.or.kr/cms/resource/81/2725681_image2_1.jpg</firstimage2><mapx>127.0384686195</mapx><mapy>37.6541590259</mapy><mlevel>6</mlevel><modifiedtime>20210714092434</modifiedtime><readcount>4</readcount><sigungucode>10</sigungucode><tel>02-905-4026</tel><title>도봉한글잔치</title></item><item><addr1>서울특별시 송파구 올림픽로 240</addr1><addr2>(잠실동)</addr2><areacode>1</areacode><cat1>A02</cat1><cat2>A0207</cat2><cat3>A02070200</cat3><contentid>808590</contentid><contenttypeid>15</contenttypeid><createdtime>20090923142021</createdtime><eventenddate>20201115</eventenddate><eventstartdate>20200905</eventstartdate><firstimage>http://tong.visitkorea.or.kr/cms/resource/56/2505256_image2_1.JPG</firstimage><firstimage2>http://tong.visitkorea.or.kr/cms/resource/56/2505256_image2_1.JPG</firstimage2><mapx>127.0983644514</mapx><mapy>37.5112350469</mapy><mlevel>6</mlevel><modifiedtime>20201013140122</modifiedtime><readcount>140463</readcount><sigungucode>18</sigungucode><tel>1661-2000</tel><title>롯데월드 호러 할로윈 : The Invitation 2020</title></item><item><addr1>서울특별시 송파구 올림픽로 240</addr1><areacode>1</areacode><cat1>A02</cat1><cat2>A0207</cat2><cat3>A02070200</cat3><contentid>650452</contentid><contenttypeid>15</contenttypeid><createdtime>20081111162346</createdtime><eventenddate>20201231</eventenddate><eventstartdate>20201121</eventstartdate><firstimage>http://tong.visitkorea.or.kr/cms/resource/04/2565704_image2_1.JPG</firstimage><firstimage2>http://tong.visitkorea.or.kr/cms/resource/04/2565704_image2_1.JPG</firstimage2><mapx>127.0981394766</mapx><mapy>37.5110683960</mapy><mlevel>6</mlevel><modifiedtime>20201215145848</modifiedtime><readcount>64624</readcount><sigungucode>18</sigungucode><tel>1661-2000</tel><title>롯데월드 Lights Up 2020</title></item><item><addr1>서울특별시 마포구 양화로 161</addr1><addr2>(동교동)</addr2><areacode>1</areacode><cat1>A02</cat1><cat2>A0208</cat2><cat3>A02081300</cat3><contentid>2709586</contentid><contenttypeid>15</contenttypeid><createdtime>20210311110225</createdtime><eventenddate>20210529</eventenddate><eventstartdate>20210501</eventstartdate><firstimage>http://tong.visitkorea.or.kr/cms/resource/40/2717640_image2_1.png</firstimage><firstimage2>http://tong.visitkorea.or.kr/cms/resource/40/2717640_image2_1.png</firstimage2><mapx>126.9233374302</mapx><mapy>37.5569904785</mapy><modifiedtime>20210520101754</modifiedtime><readcount>0</readcount><sigungucode>13</sigungucode><tel>02-324-9137</tel><title>리얼리티 러브 홀림픽</title></item><item><addr1>서울특별시 중구 장충단로13길 20</addr1><areacode>1</areacode><cat1>A02</cat1><cat2>A0207</cat2><cat3>A02070200</cat3><contentid>2602756</contentid><contenttypeid>15</contenttypeid><createdtime>20190521172228</createdtime><eventenddate>20200621</eventenddate><eventstartdate>20200619</eventstartdate><firstimage>http://tong.visitkorea.or.kr/cms/resource/10/2622610_image2_1.jpg</firstimage><firstimage2>http://tong.visitkorea.or.kr/cms/resource/10/2622610_image2_1.jpg</firstimage2><mapx>127.0076821872</mapx><mapy>37.5687878415</mapy><mlevel>6</mlevel><modifiedtime>20210527142047</modifiedtime><readcount>2</readcount><sigungucode>24</sigungucode><tel>02-1661-6925</tel><title>마켓을 여행하다</title></item><item><addr1>서울특별시 강남구 남부순환로 3104</addr1><addr2>(대치동)</addr2><areacode>1</areacode><cat1>A02</cat1><cat2>A0208</cat2><cat3>A02080600</cat3><contentid>2659594</contentid><contenttypeid>15</contenttypeid><createdtime>20200612104639</createdtime><eventenddate>20200830</eventenddate><eventstartdate>20200827</eventstartdate><firstimage>http://tong.visitkorea.or.kr/cms/resource/54/2661054_image2_1.jpg</firstimage><firstimage2>http://tong.visitkorea.or.kr/cms/resource/54/2661054_image2_1.jpg</firstimage2><mapx>127.0719811806</mapx><mapy>37.4957363721</mapy><mlevel>6</mlevel><modifiedtime>20200624171608</modifiedtime><readcount>0</readcount><sigungucode>1</sigungucode><tel>02-6677-3477</tel><title>메가쇼 시즌2 2020</title></item><item><addr1>서울특별시 구로구 구로동 3-33</addr1><areacode>1</areacode><cat1>A02</cat1><cat2>A0208</cat2><cat3>A02080500</cat3><contentid>2601692</contentid><contenttypeid>15</contenttypeid><createdtime>20190514165328</createdtime><eventenddate>20200906</eventenddate><eventstartdate>20200811</eventstartdate><firstimage>http://tong.visitkorea.or.kr/cms/resource/91/2601691_image2_1.jpg</firstimage><firstimage2>http://tong.visitkorea.or.kr/cms/resource/91/2601691_image2_1.jpg</firstimage2><mapx>126.8888363208</mapx><mapy>37.5107924524</mapy><mlevel>6</mlevel><modifiedtime>20201005110743</modifiedtime><readcount>4</readcount><sigungucode>7</sigungucode><tel>02-867--2202</tel><title>모두의 전람회 &lt;그럼에도 변하지 않은 것들展&gt; 2020</title></item><item><addr1>서울특별시 강남구 영동대로 513</addr1><areacode>1</areacode><cat1>A02</cat1><cat2>A0207</cat2><cat3>A02070200</cat3><contentid>2045414</contentid><contenttypeid>15</contenttypeid><createdtime>20151203141943</createdtime><eventenddate>20201231</eventenddate><eventstartdate>20201217</eventstartdate><firstimage>http://tong.visitkorea.or.kr/cms/resource/72/2639672_image2_1.jpg</firstimage><firstimage2>http://tong.visitkorea.or.kr/cms/resource/72/2639672_image2_1.jpg</firstimage2><mapx>127.0591874466</mapx><mapy>37.5117592813</mapy><mlevel>6</mlevel><modifiedtime>20201111153635</modifiedtime><readcount>23271</readcount><sigungucode>1</sigungucode><tel>02-6000-0114</tel><title>무역센터 겨울축제 '코엑스 윈터페스티벌' 2020</title></item><item><addr1>온라인개최</addr1><areacode>1</areacode><cat1>A02</cat1><cat2>A0208</cat2><cat3>A02081300</cat3><contentid>2556687</contentid><contenttypeid>15</contenttypeid><createdtime>20180807162040</createdtime><eventenddate>20201130</eventenddate><eventstartdate>20200926</eventstartdate><firstimage>http://tong.visitkorea.or.kr/cms/resource/84/2556684_image2_1.png</firstimage><firstimage2>http://tong.visitkorea.or.kr/cms/resource/84/2556684_image2_1.png</firstimage2><modifiedtime>20201006093724</modifiedtime><readcount>940</readcount><sigungucode>23</sigungucode><tel>061-900-2328~9</tel><title>문학주간 '문학은 더 가깝게' 2020</title></item><item><addr1>온라인개최</addr1><addr2>(서교동)</addr2><areacode>1</areacode><cat1>A02</cat1><cat2>A0208</cat2><cat3>A02081300</cat3><contentid>2666774</contentid><contenttypeid>15</contenttypeid><createdtime>20200810165701</createdtime><eventenddate>20210505</eventenddate><eventstartdate>20210425</eventstartdate><firstimage>http://tong.visitkorea.or.kr/cms/resource/78/2715178_image2_1.jpg</firstimage><firstimage2>http://tong.visitkorea.or.kr/cms/resource/78/2715178_image2_1.jpg</firstimage2><mapx>126.9167298722</mapx><mapy>37.5508549625</mapy><mlevel>6</mlevel><modifiedtime>20210503141920</modifiedtime><readcount>0</readcount><sigungucode>13</sigungucode><tel>찾아가는공연 운영사무국 (02-3443-2695)</tel><title>문화로 토닥토닥 \"찾아가는 공연\"</title></item><item><addr1>서울특별시 종로구 이화장길 26</addr1><addr2>(이화동)</addr2><areacode>1</areacode><cat1>A02</cat1><cat2>A0208</cat2><cat3>A02080300</cat3><contentid>1394326</contentid><contenttypeid>15</contenttypeid><createdtime>20110930145126</createdtime><eventenddate>20211231</eventenddate><eventstartdate>20210101</eventstartdate><firstimage>http://tong.visitkorea.or.kr/cms/resource/72/2489672_image2_1.jpg</firstimage><firstimage2>http://tong.visitkorea.or.kr/cms/resource/72/2489672_image2_1.jpg</firstimage2><mapx>127.0039128630</mapx><mapy>37.5766424167</mapy><mlevel>6</mlevel><modifiedtime>20210520170535</modifiedtime><readcount>23319</readcount><sigungucode>23</sigungucode><tel>070-8245-2602</tel><title>뮤직드라마 당신만이</title></item></items><numofrows>50</numofrows><pageno>1</pageno><totalcount>190</totalcount></body></response>"
      ]
     },
     "execution_count": 8,
     "metadata": {},
     "output_type": "execute_result"
    }
   ],
   "source": [
    "bs_obj"
   ]
  },
  {
   "cell_type": "code",
   "execution_count": 9,
   "id": "35dc9bd7",
   "metadata": {},
   "outputs": [
    {
     "data": {
      "text/plain": [
       "[<tel>강일 427-4004, 성내 471-0044, 해공 478-9656, 암사 429-0476, 천호 488-7223</tel>,\n",
       " <tel>02-3425-5245</tel>,\n",
       " <tel>02-736-6375</tel>,\n",
       " <tel>070-7575-2351~2</tel>,\n",
       " <tel>02-3210-4806</tel>,\n",
       " <tel>02-3210-4807, 02-3210-3506</tel>,\n",
       " <tel>02-3210-4806</tel>,\n",
       " <tel>02-3700-3900~1</tel>,\n",
       " <tel>02-2270-1132</tel>,\n",
       " <tel>070-4367-0559</tel>,\n",
       " <tel>02-2486-9295~6</tel>,\n",
       " <tel>02) 828-5763</tel>,\n",
       " <tel>02-860-2282</tel>,\n",
       " <tel>02-860-2140</tel>,\n",
       " <tel>02-3704-3114</tel>,\n",
       " <tel>02-3704-3142, 3127</tel>,\n",
       " <tel>02-6000-8000</tel>,\n",
       " <tel>02-3210-4806~7</tel>,\n",
       " <tel>070-8866-6668</tel>,\n",
       " <tel>02-3210-4806,4807,3506</tel>,\n",
       " <tel>02-3210-4684</tel>,\n",
       " <tel>02-739-8288</tel>,\n",
       " <tel>02-2261-0517</tel>,\n",
       " <tel>010-4667-0417</tel>,\n",
       " <tel>02-3672-0900</tel>,\n",
       " <tel>02-741-4188</tel>,\n",
       " <tel>02-802-7666, 7669</tel>,\n",
       " <tel>02-6404-0166</tel>,\n",
       " <tel>042-712-9231</tel>,\n",
       " <tel>02-580-3274</tel>,\n",
       " <tel>070-7938-5480</tel>,\n",
       " <tel>02-744-8066</tel>,\n",
       " <tel>02-511-1540</tel>,\n",
       " <tel>070-7575-2351</tel>,\n",
       " <tel>다산콜센터 02-120</tel>,\n",
       " <tel>02-2270-1244</tel>,\n",
       " <tel>070-4153-6392</tel>,\n",
       " <tel>02-905-4026</tel>,\n",
       " <tel>02-905-4026</tel>,\n",
       " <tel>1661-2000</tel>,\n",
       " <tel>1661-2000</tel>,\n",
       " <tel>02-324-9137</tel>,\n",
       " <tel>02-1661-6925</tel>,\n",
       " <tel>02-6677-3477</tel>,\n",
       " <tel>02-867--2202</tel>,\n",
       " <tel>02-6000-0114</tel>,\n",
       " <tel>061-900-2328~9</tel>,\n",
       " <tel>찾아가는공연 운영사무국 (02-3443-2695)</tel>,\n",
       " <tel>070-8245-2602</tel>]"
      ]
     },
     "execution_count": 9,
     "metadata": {},
     "output_type": "execute_result"
    }
   ],
   "source": [
    "bs_obj.findAll('title')\n",
    "bs_obj.findAll('addr1')\n",
    "bs_obj.findAll('tel')"
   ]
  },
  {
   "cell_type": "code",
   "execution_count": 10,
   "id": "ad9496d1",
   "metadata": {},
   "outputs": [
    {
     "name": "stdout",
     "output_type": "stream",
     "text": [
      "50\n",
      "49\n"
     ]
    },
    {
     "data": {
      "text/plain": [
       "49"
      ]
     },
     "execution_count": 10,
     "metadata": {},
     "output_type": "execute_result"
    }
   ],
   "source": [
    "print(len(bs_obj.findAll('title')))\n",
    "print(len(bs_obj.findAll('addr1')))\n",
    "len(bs_obj.findAll('tel'))"
   ]
  },
  {
   "cell_type": "markdown",
   "id": "7fb33fdb",
   "metadata": {},
   "source": [
    "#### 제주도 숙박시설"
   ]
  },
  {
   "cell_type": "code",
   "execution_count": 11,
   "id": "37e6eac5",
   "metadata": {},
   "outputs": [],
   "source": [
    "endpoint='http://api.visitkorea.or.kr/openapi/service/rest/KorService/areaBasedList?'"
   ]
  },
  {
   "cell_type": "code",
   "execution_count": 12,
   "id": "f203424b",
   "metadata": {},
   "outputs": [],
   "source": [
    "#  paramset  구성\n",
    "numOfRows = \"225\"\n",
    "pageNo = \"1\"\n",
    "MobileOS = \"ETC\"\n",
    "MobileApp = \"AppTest\"\n",
    "arrange = \"A\"\n",
    "listYN = \"Y\"\n",
    "areaCode =\"39\"\n",
    "sigunguCode =\"4\"\n",
    "# contentTypeId = \"15\" #32 번 숙박코드\n",
    "contentTypeId = \"32\""
   ]
  },
  {
   "cell_type": "code",
   "execution_count": 13,
   "id": "8d716ca6",
   "metadata": {},
   "outputs": [],
   "source": [
    "paramset = \"serviceKey=\" + serviceKey +\"&\" \\\n",
    "            + \"numOfRows=\" + numOfRows +\"&\" \\\n",
    "            + \"pageNo=\" + pageNo +\"&\"  \\\n",
    "            + \"MobileOS=\" + MobileOS +\"&\"  \\\n",
    "            + \"MobileApp=\" + MobileApp + \"&\" \\\n",
    "            + \"arrange=\"+ arrange + \"&\" \\\n",
    "            + \"areaCode=\" + areaCode + \"&\"\\\n",
    "            + \"listYN=\" + listYN + \"&\"  \\\n",
    "            + \"contentTypeId=\" + contentTypeId\n"
   ]
  },
  {
   "cell_type": "code",
   "execution_count": 14,
   "id": "14c5751c",
   "metadata": {},
   "outputs": [],
   "source": [
    "url =endpoint + paramset"
   ]
  },
  {
   "cell_type": "code",
   "execution_count": 15,
   "id": "4b5c1536",
   "metadata": {},
   "outputs": [
    {
     "data": {
      "text/plain": [
       "'http://api.visitkorea.or.kr/openapi/service/rest/KorService/areaBasedList?serviceKey=E2A4f5crRw2SR0z5JzLrlHr27RitLzVG98%2FDRvMoS1W65JvqyH3y77UsAoVdD8XvpFX6FtR1kdnts3Sc%2BERmpw%3D%3D&numOfRows=225&pageNo=1&MobileOS=ETC&MobileApp=AppTest&arrange=A&areaCode=39&listYN=Y&contentTypeId=32'"
      ]
     },
     "execution_count": 15,
     "metadata": {},
     "output_type": "execute_result"
    }
   ],
   "source": [
    "url"
   ]
  },
  {
   "cell_type": "code",
   "execution_count": 27,
   "id": "b2dcb543",
   "metadata": {},
   "outputs": [],
   "source": [
    "result = requests.get(url)\n",
    "bs_obj = BeautifulSoup(result.content, \"html.parser\")"
   ]
  },
  {
   "cell_type": "code",
   "execution_count": 26,
   "id": "07f72237",
   "metadata": {},
   "outputs": [
    {
     "data": {
      "text/plain": [
       "220"
      ]
     },
     "execution_count": 26,
     "metadata": {},
     "output_type": "execute_result"
    }
   ],
   "source": [
    "items = bs_obj.findAll('item')\n",
    "len(items)"
   ]
  },
  {
   "cell_type": "code",
   "execution_count": 28,
   "id": "a36cfe23",
   "metadata": {},
   "outputs": [],
   "source": [
    "items = bs_obj.findAll('item')\n",
    "\n",
    "title_list = []\n",
    "address_list = []\n",
    "tel_list = []\n",
    "\n",
    "for item in items :\n",
    "    try:\n",
    "        title_list.append(item.find('title').text)\n",
    "        address_list.append(item.find('addr1').text)\n",
    "        tel_list.append(item.find('tel').text) \n",
    "        \n",
    "    except:\n",
    "        tel_list.append('No Data') "
   ]
  },
  {
   "cell_type": "code",
   "execution_count": 29,
   "id": "fa1ecc4a",
   "metadata": {},
   "outputs": [],
   "source": [
    "#bs_obj"
   ]
  },
  {
   "cell_type": "code",
   "execution_count": 30,
   "id": "26626667",
   "metadata": {
    "scrolled": true
   },
   "outputs": [
    {
     "data": {
      "text/html": [
       "<div>\n",
       "<style scoped>\n",
       "    .dataframe tbody tr th:only-of-type {\n",
       "        vertical-align: middle;\n",
       "    }\n",
       "\n",
       "    .dataframe tbody tr th {\n",
       "        vertical-align: top;\n",
       "    }\n",
       "\n",
       "    .dataframe thead th {\n",
       "        text-align: right;\n",
       "    }\n",
       "</style>\n",
       "<table border=\"1\" class=\"dataframe\">\n",
       "  <thead>\n",
       "    <tr style=\"text-align: right;\">\n",
       "      <th></th>\n",
       "      <th>title</th>\n",
       "      <th>address</th>\n",
       "      <th>tel</th>\n",
       "    </tr>\n",
       "  </thead>\n",
       "  <tbody>\n",
       "    <tr>\n",
       "      <th>0</th>\n",
       "      <td>가름게스트하우스</td>\n",
       "      <td>제주특별자치도 서귀포시 법환하로9번길 10</td>\n",
       "      <td>064-739-4499</td>\n",
       "    </tr>\n",
       "    <tr>\n",
       "      <th>1</th>\n",
       "      <td>고망난돌민박</td>\n",
       "      <td>제주특별자치도 서귀포시 성산읍 일주동로 5464</td>\n",
       "      <td>064-787-1060</td>\n",
       "    </tr>\n",
       "    <tr>\n",
       "      <th>2</th>\n",
       "      <td>고추잠자리</td>\n",
       "      <td>제주특별자치도 제주시 도령로 190</td>\n",
       "      <td>064-782-2434&lt;br /&gt;010-6283-2434</td>\n",
       "    </tr>\n",
       "    <tr>\n",
       "      <th>3</th>\n",
       "      <td>관음사가는길펜션</td>\n",
       "      <td>제주특별자치도 제주시 산록북로 819</td>\n",
       "      <td>064-724-9931</td>\n",
       "    </tr>\n",
       "    <tr>\n",
       "      <th>4</th>\n",
       "      <td>귤익는마을</td>\n",
       "      <td>제주특별자치도 서귀포시 성산읍 신천서로 11</td>\n",
       "      <td>064-787-0543</td>\n",
       "    </tr>\n",
       "    <tr>\n",
       "      <th>...</th>\n",
       "      <td>...</td>\n",
       "      <td>...</td>\n",
       "      <td>...</td>\n",
       "    </tr>\n",
       "    <tr>\n",
       "      <th>215</th>\n",
       "      <td>C&amp;P리조트</td>\n",
       "      <td>제주특별자치도 서귀포시 성산읍 중산간동로 4328-63</td>\n",
       "      <td>064-784-7701</td>\n",
       "    </tr>\n",
       "    <tr>\n",
       "      <th>216</th>\n",
       "      <td>IGH펜션</td>\n",
       "      <td>제주특별자치도 제주시 한경면 금등3길 25</td>\n",
       "      <td>010-8664-3340</td>\n",
       "    </tr>\n",
       "    <tr>\n",
       "      <th>217</th>\n",
       "      <td>JJ하우스</td>\n",
       "      <td>제주특별자치도 서귀포시 중산간서로 241</td>\n",
       "      <td>064-739-7891</td>\n",
       "    </tr>\n",
       "    <tr>\n",
       "      <th>218</th>\n",
       "      <td>THE BAY 제주리조트 (더베이 제주리조트)</td>\n",
       "      <td>제주특별자치도 서귀포시 문필로35번길 46</td>\n",
       "      <td>064-732-8500</td>\n",
       "    </tr>\n",
       "    <tr>\n",
       "      <th>219</th>\n",
       "      <td>WE호텔</td>\n",
       "      <td>제주특별자치도 서귀포시 1100로 453-95</td>\n",
       "      <td>064-730-1200</td>\n",
       "    </tr>\n",
       "  </tbody>\n",
       "</table>\n",
       "<p>220 rows × 3 columns</p>\n",
       "</div>"
      ],
      "text/plain": [
       "                         title                         address  \\\n",
       "0                     가름게스트하우스         제주특별자치도 서귀포시 법환하로9번길 10   \n",
       "1                       고망난돌민박      제주특별자치도 서귀포시 성산읍 일주동로 5464   \n",
       "2                        고추잠자리             제주특별자치도 제주시 도령로 190   \n",
       "3                     관음사가는길펜션            제주특별자치도 제주시 산록북로 819   \n",
       "4                        귤익는마을        제주특별자치도 서귀포시 성산읍 신천서로 11   \n",
       "..                         ...                             ...   \n",
       "215                     C&P리조트  제주특별자치도 서귀포시 성산읍 중산간동로 4328-63   \n",
       "216                      IGH펜션         제주특별자치도 제주시 한경면 금등3길 25   \n",
       "217                      JJ하우스          제주특별자치도 서귀포시 중산간서로 241   \n",
       "218  THE BAY 제주리조트 (더베이 제주리조트)         제주특별자치도 서귀포시 문필로35번길 46   \n",
       "219                       WE호텔       제주특별자치도 서귀포시 1100로 453-95   \n",
       "\n",
       "                                 tel  \n",
       "0                       064-739-4499  \n",
       "1                       064-787-1060  \n",
       "2    064-782-2434<br />010-6283-2434  \n",
       "3                       064-724-9931  \n",
       "4                       064-787-0543  \n",
       "..                               ...  \n",
       "215                     064-784-7701  \n",
       "216                    010-8664-3340  \n",
       "217                     064-739-7891  \n",
       "218                     064-732-8500  \n",
       "219                     064-730-1200  \n",
       "\n",
       "[220 rows x 3 columns]"
      ]
     },
     "execution_count": 30,
     "metadata": {},
     "output_type": "execute_result"
    }
   ],
   "source": [
    "import pandas as pd\n",
    "\n",
    "df_list = pd.DataFrame({'title':title_list,\n",
    "                        'address':address_list,\n",
    "                        'tel':tel_list})\n",
    "df_list"
   ]
  },
  {
   "cell_type": "code",
   "execution_count": 31,
   "id": "d7898cc4",
   "metadata": {},
   "outputs": [],
   "source": [
    "## 연습문제"
   ]
  },
  {
   "cell_type": "code",
   "execution_count": 61,
   "id": "489c27f5",
   "metadata": {},
   "outputs": [],
   "source": [
    "#### 연습문제 : 특정 지역을 선택해서 관광정보에서 제공하는 데이터를 수집해주세요\n",
    "#  paramset  구성\n",
    "serviceKey = 'E2A4f5crRw2SR0z5JzLrlHr27RitLzVG98%2FDRvMoS1W65JvqyH3y77UsAoVdD8XvpFX6FtR1kdnts3Sc%2BERmpw%3D%3D'\n",
    "numOfRows = \"225\"\n",
    "pageNo = \"1\"\n",
    "MobileOS = \"ETC\"\n",
    "MobileApp = \"AppTest\"\n",
    "arrange = \"A\"\n",
    "listYN = \"Y\"\n",
    "sigunguCode =\"4\"\n",
    "\n",
    "paramset = \"serviceKey=\" + serviceKey +\"&\" \\\n",
    "            + \"numOfRows=\" + numOfRows +\"&\" \\\n",
    "            + \"pageNo=\" + pageNo +\"&\"  \\\n",
    "            + \"MobileOS=\" + MobileOS +\"&\"  \\\n",
    "            + \"MobileApp=\" + MobileApp + \"&\" \\\n",
    "            + \"arrange=\"+ arrange + \"&\" \\\n",
    "            + \"listYN=\" + listYN \n",
    "            \n",
    "url ='http://api.visitkorea.or.kr/openapi/service/rest/KorService/areaCode?' + paramset"
   ]
  },
  {
   "cell_type": "code",
   "execution_count": 62,
   "id": "c5e7c25b",
   "metadata": {},
   "outputs": [
    {
     "data": {
      "text/plain": [
       "'http://api.visitkorea.or.kr/openapi/service/rest/KorService/areaCode?serviceKey=E2A4f5crRw2SR0z5JzLrlHr27RitLzVG98%2FDRvMoS1W65JvqyH3y77UsAoVdD8XvpFX6FtR1kdnts3Sc%2BERmpw%3D%3D&numOfRows=225&pageNo=1&MobileOS=ETC&MobileApp=AppTest&arrange=A&listYN=Y'"
      ]
     },
     "execution_count": 62,
     "metadata": {},
     "output_type": "execute_result"
    }
   ],
   "source": [
    "url"
   ]
  },
  {
   "cell_type": "code",
   "execution_count": 63,
   "id": "ab1cd730",
   "metadata": {},
   "outputs": [
    {
     "data": {
      "text/plain": [
       "<?xml version=\"1.0\" encoding=\"UTF-8\" standalone=\"yes\"?><response><header><resultcode>0000</resultcode><resultmsg>OK</resultmsg></header><body><items><item><code>1</code><name>서울</name><rnum>1</rnum></item><item><code>2</code><name>인천</name><rnum>2</rnum></item><item><code>3</code><name>대전</name><rnum>3</rnum></item><item><code>4</code><name>대구</name><rnum>4</rnum></item><item><code>5</code><name>광주</name><rnum>5</rnum></item><item><code>6</code><name>부산</name><rnum>6</rnum></item><item><code>7</code><name>울산</name><rnum>7</rnum></item><item><code>8</code><name>세종특별자치시</name><rnum>8</rnum></item><item><code>31</code><name>경기도</name><rnum>9</rnum></item><item><code>32</code><name>강원도</name><rnum>10</rnum></item><item><code>33</code><name>충청북도</name><rnum>11</rnum></item><item><code>34</code><name>충청남도</name><rnum>12</rnum></item><item><code>35</code><name>경상북도</name><rnum>13</rnum></item><item><code>36</code><name>경상남도</name><rnum>14</rnum></item><item><code>37</code><name>전라북도</name><rnum>15</rnum></item><item><code>38</code><name>전라남도</name><rnum>16</rnum></item><item><code>39</code><name>제주도</name><rnum>17</rnum></item></items><numofrows>225</numofrows><pageno>1</pageno><totalcount>17</totalcount></body></response>"
      ]
     },
     "execution_count": 63,
     "metadata": {},
     "output_type": "execute_result"
    }
   ],
   "source": [
    "result = requests.get(url)\n",
    "bs_obj = BeautifulSoup(result.content, \"html.parser\")\n",
    "bs_obj"
   ]
  },
  {
   "cell_type": "code",
   "execution_count": 73,
   "id": "93b9c8db",
   "metadata": {
    "scrolled": true
   },
   "outputs": [
    {
     "name": "stdout",
     "output_type": "stream",
     "text": [
      "1서울1\n",
      "2인천2\n",
      "3대전3\n",
      "4대구4\n",
      "5광주5\n",
      "6부산6\n",
      "7울산7\n",
      "8세종특별자치시8\n",
      "31경기도9\n",
      "32강원도10\n",
      "33충청북도11\n",
      "34충청남도12\n",
      "35경상북도13\n",
      "36경상남도14\n",
      "37전라북도15\n",
      "38전라남도16\n",
      "39제주도17\n"
     ]
    }
   ],
   "source": [
    "for i in bs_obj.find('items'):\n",
    "    print(i.text)"
   ]
  },
  {
   "cell_type": "code",
   "execution_count": 76,
   "id": "40769107",
   "metadata": {},
   "outputs": [
    {
     "data": {
      "text/plain": [
       "'http://api.visitkorea.or.kr/openapi/service/rest/KorService/areaBasedList?serviceKey=E2A4f5crRw2SR0z5JzLrlHr27RitLzVG98%2FDRvMoS1W65JvqyH3y77UsAoVdD8XvpFX6FtR1kdnts3Sc%2BERmpw%3D%3D&numOfRows=225&pageNo=1&MobileOS=ETC&MobileApp=AppTest&arrange=A&listYN=Y&areaCode=5'"
      ]
     },
     "execution_count": 76,
     "metadata": {},
     "output_type": "execute_result"
    }
   ],
   "source": [
    "serviceKey = 'E2A4f5crRw2SR0z5JzLrlHr27RitLzVG98%2FDRvMoS1W65JvqyH3y77UsAoVdD8XvpFX6FtR1kdnts3Sc%2BERmpw%3D%3D'\n",
    "numOfRows = \"225\"\n",
    "pageNo = \"1\"\n",
    "MobileOS = \"ETC\"\n",
    "MobileApp = \"AppTest\"\n",
    "arrange = \"A\"\n",
    "listYN = \"Y\"\n",
    "sigunguCode =\"4\"\n",
    "areaCode = '5'\n",
    "paramset = \"serviceKey=\" + serviceKey +\"&\" \\\n",
    "            + \"numOfRows=\" + numOfRows +\"&\" \\\n",
    "            + \"pageNo=\" + pageNo +\"&\"  \\\n",
    "            + \"MobileOS=\" + MobileOS +\"&\"  \\\n",
    "            + \"MobileApp=\" + MobileApp + \"&\" \\\n",
    "            + \"arrange=\"+ arrange + \"&\" \\\n",
    "            + \"listYN=\" + listYN + \"&\" \\\n",
    "            +\"areaCode=\" + areaCode\n",
    "\n",
    "url = 'http://api.visitkorea.or.kr/openapi/service/rest/KorService/areaBasedList?' + paramset\n",
    "url"
   ]
  },
  {
   "cell_type": "code",
   "execution_count": 79,
   "id": "7b5c7580",
   "metadata": {},
   "outputs": [],
   "source": [
    "result = requests.get(url)\n",
    "bs_obj = BeautifulSoup(result.content, \"html.parser\")\n",
    "items = bs_obj.findAll('item')\n"
   ]
  },
  {
   "cell_type": "code",
   "execution_count": 89,
   "id": "92dfa489",
   "metadata": {},
   "outputs": [
    {
     "name": "stdout",
     "output_type": "stream",
     "text": [
      "가매일식, 126.8838215936, 35.1525153326\n",
      "개마고원, 126.8814718006, 35.1525486232\n",
      "거목한정식, 126.9116415279, 35.1456471337\n",
      "게스트145, 126.9157104541, 35.1519909306\n",
      "경장각, 126.8052666353, 35.1843631887\n",
      "계림동잔치집, 126.9160879510, 35.1618648223\n",
      "고싸움놀이전수회관, 126.8375388610, 35.0697294541\n",
      "고씨삼강문, 126.8384604525, 35.0917964235\n",
      "고원희가옥, 126.8395075721, 35.0922075057\n",
      "관덕정의 각궁, 126.9117749456, 35.1418003485\n",
      "광산구 국민여가 친환경 오토캠핑장, 126.7303952125, 35.1953634646\n",
      "광산문화원, 126.7951296891, 35.1424455318\n",
      "광석대 (무등산권 국가지질공원), 126.9890013959, 35.1441458348\n",
      "광양숯불구이, 126.8556352183, 35.1516677308\n",
      "광주 경찰충혼탑, 126.9155968119, 35.1425419960\n",
      "광주 남구문화원, 126.9172194019, 35.1221193287\n",
      "광주 대인시장 (대인예술시장), 126.9167519759, 35.1540934888\n",
      "광주 동구문화원, 126.9181741721, 35.1501189620\n",
      "광주 북구문화원, 126.9136739994, 35.1728607617\n",
      "광주 서구 8경 중 4경을 찾아 떠나는 여행, 126.8338490284, 35.1207264135\n",
      "광주 송정도서관, 126.7998069918, 35.1449147758\n",
      "광주 송정동 떡갈비 골목, 126.7943076079, 35.1397152706\n",
      "광주 아우라 비즈니스 호텔 [한국관광 품질인증/Korea Quality], 126.7928938784, 35.1383348473\n",
      "광주 아우라호텔, 126.7928938784, 35.1383348473\n",
      "광주 양동시장, 126.9022421427, 35.1542876660\n",
      "광주 역사민속박물관, 126.8884092845, 35.1841423940\n",
      "광주 예술의 거리, 126.9186491379, 35.1498078933\n",
      "광주 우치공원 동물원, 126.8940800160, 35.2235741448\n",
      "광주 충효동 왕버들 군, 127.0009520932, 35.1848719954\n",
      "광주 충효동 요지, 126.9983333183, 35.1674711376\n",
      "광주 평촌마을, 127.0105542557, 35.1756287576\n",
      "광주 프린지페스티벌, 126.9086639556, 35.1479801537\n",
      "광주 3·1 만세운동 기념비, 126.9096947007, 35.1367619930\n",
      "광주 ACE Fair 2020, 126.8405366718, 35.1469291222\n",
      "광주-기아 챔피언스 필드, 126.8890596255, 35.1682414234\n",
      "광주공원, 126.9079362685, 35.1468969300\n",
      "광주공원 사적비군, 126.9093972429, 35.1472246955\n",
      "광주광역시 서구문화원, 126.8599131134, 35.1318478187\n",
      "광주광역시 야외스케이트(썰매)장, 126.8513520539, 35.1600722649\n",
      "광주광역시립 사직도서관, 126.9139775859, 35.1395200873\n",
      "광주광역시립무등도서관, 126.9253034327, 35.1766327548\n",
      "광주광역시립산수도서관, 126.9284731545, 35.1544075405\n",
      "광주광역시청소년수련원, 126.8674455457, 35.1412413299\n",
      "광주국제차문화전시회, 126.8405588979, 35.1467180358\n",
      "광주동오층석탑, 126.9330951059, 35.1489026847\n",
      "광주무역회관, 126.8114277913, 35.1607326292\n",
      "광주문화관광상품전시장 광주아트샵, 126.9181741705, 35.1501856206\n",
      "광주문화예술회관, 126.8813878390, 35.1779374203\n",
      "광주문화재야행 '동구 달빛걸음', 126.9231210717, 35.1455501169\n",
      "광주북구청소년수련관, 126.9166678776, 35.1848927862\n",
      "광주비엔날레 2021, 126.8902647155, 35.1825648257\n",
      "광주비엔날레미디어파사드 특별전, 126.8902591590, 35.1826203741\n",
      "광주세계김치랜선축제 2020, no data\n",
      "광주시립미술관, 126.8858428681, 35.1832174547\n",
      "광주시청 야외음악당, 126.8513576102, 35.1600194930\n",
      "광주실내수영장, 126.8791807340, 35.1366531569\n",
      "광주월드컵경기장, 126.8749061843, 35.1337617441\n",
      "광주의 기아자동차 체험과 지역문화가 숨쉬는 박물관, 126.8831151872, 35.1889806463\n",
      "광주의 민속박물관과 충효동 왕버들, 126.8885953789, 35.1841507292\n",
      "광주의 예술가거리와 번화한 금남로, 127.0002465691, 35.1860968451\n",
      "광주패밀리랜드, 126.8936078564, 35.2227325653\n",
      "광주패밀리랜드 눈썰매장, 126.8940800160, 35.2235741448\n",
      "광주폴리, 126.8902591590, 35.1826203741\n",
      "광주하계유니버시아드 주경기장을 중심으로 가족, 연인과 함께하는 여행, 126.8750478428, 35.1335701018\n",
      "광주학생교육문화회관, 126.8585681905, 35.1557506526\n",
      "광주학생독립운동기념회관, 126.8650124428, 35.1406302465\n",
      "광주향교, 126.9092917275, 35.1459803899\n",
      "광주호, 126.9927528112, 35.1851523796\n",
      "광주호 호수생태원, 127.0002465689, 35.1861051771\n",
      "국립 5.18 민주묘지, 126.9395617934, 35.2358457501\n",
      "국립공원의 막내, 무등산을 오르다, 126.9701895569, 35.1287000370\n",
      "국립광주과학관, 126.8498782136, 35.2298976827\n",
      "국립광주박물관, 126.8830651901, 35.1890417498\n",
      "국립아시아문화전당, 126.9207267855, 35.1476692819\n",
      "국제뿌리산업전시회, 126.8405588979, 35.1467180358\n",
      "귀향정, 126.9294951197, 35.1610568071\n",
      "그린그린해, 126.7959908278, 35.1383071247\n",
      "근대와 현대를 넘나드는 100년의 시간여행, 126.8855651524, 35.1817203970\n",
      "근현대를 넘나드는 100년 여행, 126.9158941142, 35.1382980355\n",
      "금강식육식당, 126.8611343006, 35.1689075428\n",
      "금곡동 제철유적, 126.9928789967, 35.1375438681\n",
      "금남로, 126.9106747413, 35.1538517467\n",
      "금남지하도상가, 126.9164688054, 35.1485941049\n",
      "금다연한정식, 126.8505022648, 35.1546367535\n",
      "금당, 126.8697041062, 35.1241682956\n",
      "금성칡냉면, 126.8991633618, 35.2051540903\n",
      "금수장관광호텔, 126.9184960636, 35.1621787163\n",
      "금수저은수저, 126.8423102316, 35.1982483544\n",
      "금호타이어 광주공장, 126.7913189159, 35.1424426902\n",
      "금호평생교육관, 126.9005647433, 35.1450970088\n",
      "김강심 칼국수, 126.8578441627, 35.1193853023\n",
      "김대중컨벤션센터, 126.8405033459, 35.1467624742\n",
      "김용학가옥, 126.8882285875, 35.1904250142\n",
      "꿀단지, 126.8915047876, 35.1309179014\n",
      "나비야청산가자, 126.9523521009, 35.1344102021\n",
      "남광주시장(남광주밤기차야시장), 126.9207186432, 35.1400673617\n",
      "남도향토음식박물관·호남문화자료전시관, 126.8986968221, 35.2017405787\n",
      "남평문씨 쌍효문, 126.9132581128, 35.1432029927\n",
      "남해가든, 126.9096088878, 35.1251327490\n",
      "너릿재공원, 126.9535616807, 35.0803774303\n",
      "노블 스테이 (Noble Stay) [한국관광 품질인증/Korea Quality], 126.8493230352, 35.2168158192\n",
      "노블레스호텔, 126.8523993549, 35.1532091689\n",
      "녹색에너지체험관 (광주전남지역본부), 126.8416345612, 35.2274311559\n",
      "녹색의 에너지 체험과 광주의 유적지 탐방, 126.8446232093, 35.2264646491\n",
      "뉴광주게스트하우스, 126.9154434509, 35.1663559709\n",
      "다부, 126.8477830383, 35.1555310512\n",
      "다솜채 [한국관광 품질인증/Korea Quality], 126.7976628846, 35.1389709668\n",
      "담양판그릴, 126.8971380128, 35.1153586416\n",
      "당산나무집, 126.9114391630, 35.1298739108\n",
      "대양꼬리곰탕, 126.7946088065, 35.2019415783\n",
      "대흥반점, 126.9110587055, 35.1273130830\n",
      "더존호텔 [한국관광 품질인증/Korea Quality], 126.8476620922, 35.2159575548\n",
      "더존호텔A [한국관광 품질인증/Korea Quality], 126.8476620922, 35.2159575548\n",
      "덕산너덜 (무등산권 국가지질공원), 126.9890013959, 35.1441458348\n",
      "도림사(광주), 126.7007374404, 35.1666995405\n",
      "돈까스만드는남자, 126.8920506549, 35.1831175707\n",
      "동명동 카페거리, 126.9267289927, 35.1492525371\n",
      "동성떡갈비, 126.7943187098, 35.1400568990\n",
      "두남제, 126.7462953738, 35.2437804781\n",
      "두바이호텔 [한국관광 품질인증/Korea Quality], 126.8527576350, 35.1540812987\n",
      "두암골설렁탕, 126.9269450241, 35.1738497635\n",
      "두암사, 126.9293586617, 35.1753413022\n",
      "등림사, 126.7706861029, 35.1947864285\n",
      "라마다프라자 광주호텔, 126.8505745449, 35.1520675999\n",
      "롯데아울렛 광주월드컵점, 126.8748450816, 35.1336284249\n",
      "루치아, 126.8996369603, 35.1485854885\n",
      "마리오셰프, 126.9141998219, 35.1382202379\n",
      "마스터스관광호텔, 126.8505273214, 35.1522870190\n",
      "마이다스관광호텔, 126.8484896920, 35.2201487615\n",
      "마천루, 126.8674172915, 35.1604002767\n",
      "만귀정, 126.8338268081, 35.1207291905\n",
      "만찬코다리 봉선점, 126.9112502930, 35.1297850288\n",
      "말바우장 / 말바우시장 (2, 4, 7, 9일), 126.9203150774, 35.1729386432\n",
      "매월화로구이, 126.8489700298, 35.1160771930\n",
      "메타포, 126.9154108107, 35.1388090808\n",
      "명지원, 126.8544797155, 35.1536480433\n",
      "무각사, 126.8560351305, 35.1537702779\n",
      "무등갤러리, 126.9181852835, 35.1500689678\n",
      "무등산 광주화강암 (무등산권 국가지질공원), 126.9346395638, 35.1429200527\n",
      "무등산 정상3봉 (무등산 국가지질공원), 126.9890013959, 35.1441458348\n",
      "무등산 주상절리대, 126.9989650099, 35.1200598333\n",
      "무등산 풍혈 (무등산권 국가지질공원), 126.9890013959, 35.1441458348\n",
      "무등산국립공원, 126.9482942154, 35.1308438692\n",
      "무등산수박마을, 126.9988776464, 35.1701847296\n",
      "무등울림 2020, 126.9523771168, 35.1336797291\n",
      "무등파크호텔, 126.9468605604, 35.1487446022\n",
      "무등현대미술관, 126.9537047651, 35.1341630308\n",
      "무안요(광주), 126.9183074873, 35.1503689354\n",
      "무양서원, 126.8401045774, 35.2099969896\n",
      "무진고성지, 126.9464157595, 35.1644872617\n",
      "미래연, 126.8586847576, 35.1593002533\n",
      "민들레소극장, 126.9227515272, 35.1508467347\n",
      "바나나호텔 [한국관광 품질인증/Korea Quality], 126.8498590279, 35.2196432865\n",
      "밥콘서트, 126.9185020359, 35.1455222635\n",
      "백마능선 (무등산권 국가지질공원), 126.9890013959, 35.1441458348\n",
      "벤처 비즈니스 호텔(유한회사 벤처) [한국관광 품질인증/Korea Quality], 126.8495135627, 35.1506621859\n",
      "벽옥, 126.8919767497, 35.1396585890\n",
      "별밤 [한국관광 품질인증/Korea Quality], 126.9084830874, 35.1610814490\n",
      "병천사, 126.8567076899, 35.1378970819\n",
      "보보식당, 126.9239041331, 35.1536325506\n",
      "본디소, 126.9142136296, 35.1414059897\n",
      "부용정, 126.8366333845, 35.0697627681\n",
      "불꼬챙이, 126.7914163013, 35.1355295840\n",
      "비엔날레 문화콘서트, 126.8902591590, 35.1826203741\n",
      "빌리지 1호점, 126.8566154574, 35.1608639310\n",
      "빙월당, 126.7452012233, 35.2358674659\n",
      "빛 고을에 울려 퍼진 민주화의 함성, 126.9395617934, 35.2358457501\n",
      "빛고을시민문화관, 126.9086750662, 35.1479301594\n",
      "사직공원(광주), 126.9121749221, 35.1413559608\n",
      "사직단, 126.9120888213, 35.1412337508\n",
      "산수동 한옥체험시설(여로) [한국관광 품질인증/Korea Quality], 126.9251984745, 35.1531798459\n",
      "산울림, 126.8887086488, 35.2084285435\n",
      "삼거동 고인돌, 126.6725736251, 35.1522951414\n",
      "삼애다원, 126.9697618157, 35.1287583574\n",
      "상무시민공원, 126.8403948478, 35.1537505721\n",
      "새인봉 (무등산권 국가지질공원), 126.9890013959, 35.1441458348\n",
      "서강사, 126.9219854490, 35.1300546245\n",
      "서석대 (무등산권 국가지질공원), 126.9890013959, 35.1441458348\n",
      "서석정, 126.9012578678, 35.1953135706\n",
      "석암돌솥밥, 126.9204952589, 35.1872009240\n",
      "선교기념비, 126.9110417893, 35.1373258410\n",
      "센트럴관광호텔, 126.8504744966, 35.1543590066\n",
      "소담(구 정통아구), 126.8461760959, 35.2166407856\n",
      "손길게스트하우스, 126.9290231203, 35.1538270597\n",
      "송강, 126.8839019424, 35.1604922112\n",
      "송산유원지, 126.7361567252, 35.1587121481\n",
      "송정공원, 126.8027594348, 35.1478700476\n",
      "송정떡갈비 1호점, 126.7948298032, 35.1389542543\n",
      "송학식당, 126.7931410250, 35.1404873859\n",
      "송학한정식, 126.8477969146, 35.1559754455\n",
      "송호영당, 126.7956211269, 35.1498891440\n",
      "수자타, 126.9466165566, 35.1320214862\n",
      "수피아여자중고등학교, 126.9096335919, 35.1368703131\n",
      "승촌보오토캠핑장, 126.7611512602, 35.0660063695\n",
      "시골집국밥, 126.8565908112, 35.1467988527\n",
      "시무지기 폭포 (무등산권 국가지질공원), 126.9890013959, 35.1441458348\n",
      "시민의 숲 야영장, 126.8663516760, 35.2330587150\n",
      "신광사(광주), 126.9402606368, 35.1689227670\n",
      "신나는 광주패밀리랜드 눈썰매장에서 하루를 즐겁게..., 126.8978963533, 35.2232159165\n",
      "신락원 수완점, 126.8148739924, 35.1894100022\n",
      "신룡동오층석탑, 126.7704380168, 35.2302601916\n",
      "신선대와 억새평전 (무등산권 국가지질공원), 126.9890013959, 35.1441458348\n",
      "신창동 선사유적지, 126.8457571857, 35.1968124642\n",
      "싼타모관광호텔, 126.8096473451, 35.1626629364\n",
      "쌍암공원, 126.8427290223, 35.2228872434\n",
      "아리랑하우스, 126.9185071751, 35.1621231670\n",
      "아시아문화포럼 2020, 126.9202851804, 35.1467693755\n",
      "아이엠게스트하우스[한국관광 품질인증/Korea Quality], 126.9090191415, 35.1614703029\n",
      "애플모텔, 126.8654010129, 35.1520095234\n",
      "약사암(광주), 126.9722478684, 35.1223174593\n",
      "양과동정, 126.8634805854, 35.0869251721\n",
      "양림동 선교사 묘지, 126.9114888940, 35.1404504959\n",
      "양림동 펭귄마을공예거리, 126.9164190229, 35.1400895088\n",
      "양림동 호랑가시나무길, 126.9120916781, 35.1380924389\n",
      "양림역사문화마을, 126.9135191516, 35.1451944390\n",
      "양송천묘역, 126.6855578934, 35.1802227572\n",
      "양씨삼강문, 126.7415781972, 35.1695804550\n",
      "어니스트 식스티(honest 6T), 126.9166773161, 35.1407783244\n",
      "에덴모텔, 126.8857878477, 35.1620615106\n",
      "에프엔티 호텔 [한국관광 품질인증/Korea Quality], 126.8499468484, 35.1510343734\n",
      "연경, 126.8088689487, 35.1902042556\n",
      "영광오리탕, 126.9061971541, 35.1620563003\n",
      "영미오리탕, 126.9054972352, 35.1612841533\n",
      "영빈관, 126.8853776094, 35.1286152799\n",
      "영사재, 126.7032198592, 35.1946380905\n"
     ]
    }
   ],
   "source": [
    "for i in items:\n",
    "    try:\n",
    "        print(i.find('title').text, end= ', ')\n",
    "        print(i.find('mapx').text, end= ', ')\n",
    "        print(i.find('mapy').text)\n",
    "    except:\n",
    "        print('no data')"
   ]
  },
  {
   "cell_type": "code",
   "execution_count": null,
   "id": "05f04dea",
   "metadata": {},
   "outputs": [],
   "source": []
  }
 ],
 "metadata": {
  "kernelspec": {
   "display_name": "Python 3",
   "language": "python",
   "name": "python3"
  },
  "language_info": {
   "codemirror_mode": {
    "name": "ipython",
    "version": 3
   },
   "file_extension": ".py",
   "mimetype": "text/x-python",
   "name": "python",
   "nbconvert_exporter": "python",
   "pygments_lexer": "ipython3",
   "version": "3.8.8"
  }
 },
 "nbformat": 4,
 "nbformat_minor": 5
}
