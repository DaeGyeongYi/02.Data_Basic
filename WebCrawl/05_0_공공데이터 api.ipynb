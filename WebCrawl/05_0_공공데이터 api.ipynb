{
 "cells": [
  {
   "cell_type": "markdown",
   "id": "218e3ceb",
   "metadata": {},
   "source": [
    "- 공공데이터 포탈 사용법\n",
    "    - 데이터를 직접 다운받는 방식\n",
    "    - 사용하고자 하는 API 서비스에 대해 '활용신청'을 해서 인증키를 받아 REST API 방식으로 원하는 데이터를 얻도록 되어있음\n",
    "    - 지자체, 각 기관, 정부 연관 기관, 정부 부서 별로 따로 관리를 함"
   ]
  },
  {
   "cell_type": "markdown",
   "id": "ec202e21",
   "metadata": {},
   "source": [
    "#### 신청한 API를 활용하기 위해서는  인증키 필요\n",
    "- 보안과 관리를 위해서 인증키 사용\n",
    "- 인증키와 트래픽 제한 등의 장치가 없다면 \n",
    "- 서비스를 악용하거나 무제한으로 트래픽을 보내서 시스템을 마비시키는 등의 공격이 가능하기 때문에\n",
    "- 서비스를 제공하는 곳에서 반드시 인증키를 발급 받아 사용\n"
   ]
  },
  {
   "cell_type": "markdown",
   "id": "ab540fa9",
   "metadata": {},
   "source": [
    "#### 공공데이터포털: 한국 관광공사 지역기반 관광정보 조회"
   ]
  },
  {
   "cell_type": "code",
   "execution_count": 1,
   "id": "1694952b",
   "metadata": {},
   "outputs": [],
   "source": [
    "import requests\n",
    "from bs4 import BeautifulSoup"
   ]
  },
  {
   "cell_type": "code",
   "execution_count": 12,
   "id": "1c5debeb",
   "metadata": {},
   "outputs": [],
   "source": [
    "#url 및 서비스 키\n",
    "endpoint = 'http://api.visitkorea.or.kr/openapi/service/rest/KorService/searchFestival?'\n",
    "serviceKey = 'E2A4f5crRw2SR0z5JzLrlHr27RitLzVG98%2FDRvMoS1W65JvqyH3y77UsAoVdD8XvpFX6FtR1kdnts3Sc%2BERmpw%3D%3D'"
   ]
  },
  {
   "cell_type": "code",
   "execution_count": 13,
   "id": "510cb357",
   "metadata": {},
   "outputs": [],
   "source": [
    "numOfRows = \"50\"\n",
    "pageNo = \"1\"\n",
    "MobileOS = \"ETC\"\n",
    "MobileApp = \"AppTest\"\n",
    "arrange = \"A\"\n",
    "listYN = \"Y\"\n",
    "areaCode =\"1\"\n",
    "sigunguCode =\"4\"\n",
    "eventStartDate = \"20200101\""
   ]
  },
  {
   "cell_type": "code",
   "execution_count": 14,
   "id": "9f054652",
   "metadata": {},
   "outputs": [],
   "source": [
    "paramset = \"serviceKey=\" + serviceKey +\"&\" \\\n",
    "            + \"numOfRows=\" + numOfRows +\"&\" \\\n",
    "            + \"pageNo=\" + pageNo +\"&\"  \\\n",
    "            + \"MobileOS=\" + MobileOS +\"&\"  \\\n",
    "            + \"MobileApp=\" + MobileApp + \"&\" \\\n",
    "            + \"arrange=\"+ arrange + \"&\" \\\n",
    "            + \"areaCode=\" + areaCode + \"&\"\\\n",
    "            + \"listYN=\" + listYN + \"&\"  \\\n",
    "            + \"eventStartDate=\" + eventStartDate\n"
   ]
  },
  {
   "cell_type": "code",
   "execution_count": 15,
   "id": "889f5b85",
   "metadata": {},
   "outputs": [
    {
     "data": {
      "text/plain": [
       "'serviceKey=E2A4f5crRw2SR0z5JzLrlHr27RitLzVG98%2FDRvMoS1W65JvqyH3y77UsAoVdD8XvpFX6FtR1kdnts3Sc%2BERmpw%3D%3D&numOfRows=50&pageNo=1&MobileOS=ETC&MobileApp=AppTest&arrange=A&areaCode=1&listYN=Y&eventStartDate=20200101'"
      ]
     },
     "execution_count": 15,
     "metadata": {},
     "output_type": "execute_result"
    }
   ],
   "source": [
    "paramset"
   ]
  },
  {
   "cell_type": "code",
   "execution_count": 16,
   "id": "5b25567a",
   "metadata": {},
   "outputs": [
    {
     "data": {
      "text/plain": [
       "'http://api.visitkorea.or.kr/openapi/service/rest/KorService/searchFestival?serviceKey=E2A4f5crRw2SR0z5JzLrlHr27RitLzVG98%2FDRvMoS1W65JvqyH3y77UsAoVdD8XvpFX6FtR1kdnts3Sc%2BERmpw%3D%3D&numOfRows=50&pageNo=1&MobileOS=ETC&MobileApp=AppTest&arrange=A&areaCode=1&listYN=Y&eventStartDate=20200101'"
      ]
     },
     "execution_count": 16,
     "metadata": {},
     "output_type": "execute_result"
    }
   ],
   "source": [
    "url = endpoint +paramset\n",
    "url"
   ]
  },
  {
   "cell_type": "code",
   "execution_count": 23,
   "id": "a9885f14",
   "metadata": {},
   "outputs": [],
   "source": [
    "result = requests.get(url)  #api 서비스호출\n",
    "\n",
    "bs_obj = BeautifulSoup(result.content,'html.parser')"
   ]
  },
  {
   "cell_type": "code",
   "execution_count": 24,
   "id": "81dfd8a4",
   "metadata": {},
   "outputs": [
    {
     "data": {
      "text/plain": [
       "<?xml version=\"1.0\" encoding=\"UTF-8\" standalone=\"yes\"?><response><header><resultcode>0000</resultcode><resultmsg>OK</resultmsg></header><body><items><item><addr1>온라인개최</addr1><areacode>1</areacode><cat1>A02</cat1><cat2>A0207</cat2><cat3>A02070200</cat3><contentid>2676393</contentid><contenttypeid>15</contenttypeid><createdtime>20201014165040</createdtime><eventenddate>20201017</eventenddate><eventstartdate>20201017</eventstartdate><firstimage>http://tong.visitkorea.or.kr/cms/resource/92/2676392_image2_1.jpg</firstimage><firstimage2>http://tong.visitkorea.or.kr/cms/resource/92/2676392_image2_1.jpg</firstimage2><modifiedtime>20201014165040</modifiedtime><readcount>0</readcount><sigungucode>2</sigungucode><title>강동구 청소년 민주주의 축제 \"놀면 뭐하니? 한 번 더 민주!\" 2020</title></item><item><addr1>온라인개최</addr1><addr2>(상일동)</addr2><areacode>1</areacode><cat1>A02</cat1><cat2>A0207</cat2><cat3>A02070200</cat3><contentid>1806376</contentid><contenttypeid>15</contenttypeid><createdtime>20130422102127</createdtime><eventenddate>20200927</eventenddate><eventstartdate>20200921</eventstartdate><firstimage>http://tong.visitkorea.or.kr/cms/resource/69/2670569_image2_1.png</firstimage><firstimage2>http://tong.visitkorea.or.kr/cms/resource/69/2670569_image2_1.png</firstimage2><mapx>127.1573829418</mapx><mapy>37.5512675743</mapy><mlevel>6</mlevel><modifiedtime>20201005171130</modifiedtime><readcount>21828</readcount><sigungucode>2</sigungucode><tel>강일 427-4004, 성내 471-0044, 해공 478-9656, 암사 429-0476, 천호 488-7223</tel><title>강동북페스티벌2020</title></item><item><addr1>온라인개최</addr1><areacode>1</areacode><cat1>A02</cat1><cat2>A0207</cat2><cat3>A02070200</cat3><contentid>1307813</contentid><contenttypeid>15</contenttypeid><createdtime>20110614164707</createdtime><eventenddate>20201011</eventenddate><eventstartdate>20201005</eventstartdate><firstimage>http://tong.visitkorea.or.kr/cms/resource/34/2674234_image2_1.jpg</firstimage><firstimage2>http://tong.visitkorea.or.kr/cms/resource/34/2674234_image2_1.jpg</firstimage2><modifiedtime>20201006161346</modifiedtime><readcount>66461</readcount><sigungucode>2</sigungucode><tel>02-3425-5245</tel><title>강동선사문화축제 2020</title></item><item><addr1>서울특별시 종로구 인왕산로 22</addr1><areacode>1</areacode><cat1>A02</cat1><cat2>A0207</cat2><cat3>A02070200</cat3><contentid>1372085</contentid><contenttypeid>15</contenttypeid><createdtime>20110825151910</createdtime><eventenddate>20201117</eventenddate><eventstartdate>20201117</eventstartdate><firstimage>http://tong.visitkorea.or.kr/cms/resource/44/2621144_image2_1.JPG</firstimage><firstimage2>http://tong.visitkorea.or.kr/cms/resource/44/2621144_image2_1.JPG</firstimage2><mapx>126.9657719166</mapx><mapy>37.5758807095</mapy><mlevel>6</mlevel><modifiedtime>20201207135647</modifiedtime><readcount>12866</readcount><sigungucode>23</sigungucode><tel>02-736-6375</tel><title>개천절 대제전 2020</title></item><item><addr1>온라인개최</addr1><areacode>1</areacode><cat1>A02</cat1><cat2>A0207</cat2><cat3>A02070200</cat3><contentid>2613900</contentid><contenttypeid>15</contenttypeid><createdtime>20190801153406</createdtime><eventenddate>20201120</eventenddate><eventstartdate>20201114</eventstartdate><firstimage>http://tong.visitkorea.or.kr/cms/resource/20/2680820_image2_1.png</firstimage><firstimage2>http://tong.visitkorea.or.kr/cms/resource/20/2680820_image2_1.png</firstimage2><mapx>127.0053765000</mapx><mapy>37.4826644710</mapy><mlevel>6</mlevel><modifiedtime>20201111160054</modifiedtime><readcount>0</readcount><sigungucode>15</sigungucode><tel>070-7575-2351~2</tel><title>건강서울페스티벌 2020</title></item><item><addr1>서울특별시 종로구 사직로 161</addr1><areacode>1</areacode><cat1>A02</cat1><cat2>A0207</cat2><cat3>A02070200</cat3><contentid>2648460</contentid><contenttypeid>15</contenttypeid><createdtime>20200224102834</createdtime><eventenddate>20210527</eventenddate><eventstartdate>20210506</eventstartdate><firstimage>http://tong.visitkorea.or.kr/cms/resource/58/2648458_image2_1.PNG</firstimage><firstimage2>http://tong.visitkorea.or.kr/cms/resource/58/2648458_image2_1.PNG</firstimage2><mapx>126.9770319156</mapx><mapy>37.5788944508</mapy><mlevel>6</mlevel><modifiedtime>20210513154207</modifiedtime><readcount>0</readcount><sigungucode>23</sigungucode><tel>02-3210-4806</tel><title>경복궁 별빛야행</title></item><item><addr1>서울특별시 종로구 사직로 161 경복궁</addr1><areacode>1</areacode><cat1>A02</cat1><cat2>A0207</cat2><cat3>A02070200</cat3><contentid>2615461</contentid><contenttypeid>15</contenttypeid><createdtime>20190816134954</createdtime><eventenddate>20210630</eventenddate><eventstartdate>20210415</eventstartdate><firstimage>http://tong.visitkorea.or.kr/cms/resource/48/2713648_image2_1.jpg</firstimage><firstimage2>http://tong.visitkorea.or.kr/cms/resource/48/2713648_image2_1.jpg</firstimage2><mapx>126.9770319156</mapx><mapy>37.5788944508</mapy><mlevel>6</mlevel><modifiedtime>20210413134125</modifiedtime><readcount>0</readcount><sigungucode>23</sigungucode><tel>02-3210-4807, 02-3210-3506</tel><title>경복궁 생과방</title></item><item><addr1>서울특별시 종로구 사직로 161</addr1><areacode>1</areacode><cat1>A02</cat1><cat2>A0207</cat2><cat3>A02070200</cat3><contentid>2601364</contentid><contenttypeid>15</contenttypeid><createdtime>20190510174353</createdtime><eventenddate>20210529</eventenddate><eventstartdate>20210501</eventstartdate><firstimage>http://tong.visitkorea.or.kr/cms/resource/91/2714691_image2_1.jpg</firstimage><firstimage2>http://tong.visitkorea.or.kr/cms/resource/91/2714691_image2_1.jpg</firstimage2><mapx>126.9748959222</mapx><mapy>37.5816246501</mapy><mlevel>6</mlevel><modifiedtime>20210427160617</modifiedtime><readcount>40</readcount><sigungucode>23</sigungucode><tel>02-3210-4806</tel><title>경복궁 시식공감</title></item><item><addr1>서울특별시 종로구 사직로 161</addr1><addr2>(세종로)</addr2><areacode>1</areacode><cat1>A02</cat1><cat2>A0208</cat2><cat3>A02081300</cat3><contentid>2597569</contentid><contenttypeid>15</contenttypeid><createdtime>20190417150900</createdtime><eventenddate>20210530</eventenddate><eventstartdate>20210401</eventstartdate><firstimage>http://tong.visitkorea.or.kr/cms/resource/44/2597544_image2_1.jpg</firstimage><firstimage2>http://tong.visitkorea.or.kr/cms/resource/44/2597544_image3_1.jpg</firstimage2><mapx>126.9748959222</mapx><mapy>37.5816246501</mapy><mlevel>6</mlevel><modifiedtime>20210514101652</modifiedtime><readcount>42</readcount><sigungucode>23</sigungucode><tel>02-3700-3900~1</tel><title>경복궁 야간 특별관람</title></item><item><addr1>서울특별시 종로구 창경궁로 185</addr1><areacode>1</areacode><cat1>A02</cat1><cat2>A0208</cat2><cat3>A02081300</cat3><contentid>2433581</contentid><contenttypeid>15</contenttypeid><createdtime>20161007152205</createdtime><eventenddate>20210627</eventenddate><eventstartdate>20210612</eventstartdate><firstimage>http://tong.visitkorea.or.kr/cms/resource/03/1965903_image2_1.jpg</firstimage><firstimage2>http://tong.visitkorea.or.kr/cms/resource/03/1965903_image3_1.jpg</firstimage2><mapx>126.9938137563</mapx><mapy>37.5776087901</mapy><mlevel>6</mlevel><modifiedtime>20210617153745</modifiedtime><readcount>4544</readcount><sigungucode>23</sigungucode><tel>02-2270-1132</tel><title>고궁음악회「고궁의 숲, 무용을 만나다」</title></item><item><addr1>온라인개최</addr1><areacode>1</areacode><cat1>A02</cat1><cat2>A0208</cat2><cat3>A02081300</cat3><contentid>2676927</contentid><contenttypeid>15</contenttypeid><createdtime>20201016145744</createdtime><eventenddate>20201109</eventenddate><eventstartdate>20201019</eventstartdate><firstimage>http://tong.visitkorea.or.kr/cms/resource/26/2676926_image2_1.jpg</firstimage><firstimage2>http://tong.visitkorea.or.kr/cms/resource/26/2676926_image2_1.jpg</firstimage2><modifiedtime>20201016145744</modifiedtime><readcount>0</readcount><tel>070-4367-0559</tel><title>공연관광 온라인 쇼케이스 &lt; K-Performance On Air &gt; 2020</title></item><item><addr1>온라인개최</addr1><areacode>1</areacode><cat1>A02</cat1><cat2>A0208</cat2><cat3>A02080600</cat3><contentid>1948920</contentid><contenttypeid>15</contenttypeid><createdtime>20140918150952</createdtime><eventenddate>20201120</eventenddate><eventstartdate>20201019</eventstartdate><firstimage>http://tong.visitkorea.or.kr/cms/resource/72/2696872_image2_1.png</firstimage><firstimage2>http://tong.visitkorea.or.kr/cms/resource/72/2696872_image2_1.png</firstimage2><mapx>127.0594429796</mapx><mapy>37.5117148467</mapy><mlevel>6</mlevel><modifiedtime>20201210163145</modifiedtime><readcount>8280</readcount><sigungucode>1</sigungucode><tel>02-2486-9295~6</tel><title>관광산업 일자리박람회 2020</title></item><item><addr1>서울특별시 관악구</addr1><addr2>(봉천동)</addr2><areacode>1</areacode><cat1>A02</cat1><cat2>A0207</cat2><cat3>A02070200</cat3><contentid>2612274</contentid><contenttypeid>15</contenttypeid><createdtime>20190722094803</createdtime><eventenddate>20211017</eventenddate><eventstartdate>20211014</eventstartdate><mapx>126.9514981970</mapx><mapy>37.4782084678</mapy><mlevel>6</mlevel><modifiedtime>20210520154201</modifiedtime><readcount>0</readcount><sigungucode>5</sigungucode><tel>02) 828-5763</tel><title>관악강감찬축제</title></item><item><addr1>서울특별시 구로구 가마산로 245</addr1><addr2>(구로동)</addr2><areacode>1</areacode><cat1>A02</cat1><cat2>A0207</cat2><cat3>A02070200</cat3><contentid>2039869</contentid><contenttypeid>15</contenttypeid><createdtime>20151109152951</createdtime><eventenddate>20200927</eventenddate><eventstartdate>20200901</eventstartdate><firstimage>http://tong.visitkorea.or.kr/cms/resource/25/2665525_image2_1.jpg</firstimage><firstimage2>http://tong.visitkorea.or.kr/cms/resource/25/2665525_image2_1.jpg</firstimage2><mapx>126.8875507563</mapx><mapy>37.4955247594</mapy><mlevel>6</mlevel><modifiedtime>20200828154619</modifiedtime><readcount>16692</readcount><sigungucode>7</sigungucode><tel>02-860-2282</tel><title>구로G페스티벌 2020</title></item><item><addr1>온라인개최</addr1><areacode>1</areacode><cat1>A02</cat1><cat2>A0207</cat2><cat3>A02070200</cat3><contentid>2618971</contentid><contenttypeid>15</contenttypeid><createdtime>20190917133340</createdtime><eventenddate>20210127</eventenddate><eventstartdate>20201230</eventstartdate><firstimage>http://tong.visitkorea.or.kr/cms/resource/78/2703678_image2_1.png</firstimage><firstimage2>http://tong.visitkorea.or.kr/cms/resource/78/2703678_image2_1.png</firstimage2><mapx>126.8875507563</mapx><mapy>37.4955247594</mapy><mlevel>6</mlevel><modifiedtime>20210517162137</modifiedtime><readcount>0</readcount><sigungucode>7</sigungucode><tel>02-860-2140</tel><title>구로청소년축제 2021</title></item><item><addr1>서울특별시 종로구 삼청로 37</addr1><addr2>(세종로)</addr2><areacode>1</areacode><cat1>A02</cat1><cat2>A0208</cat2><cat3>A02080100</cat3><contentid>140660</contentid><contenttypeid>15</contenttypeid><createdtime>20040311000000</createdtime><eventenddate>20211231</eventenddate><eventstartdate>20210101</eventstartdate><mapx>126.9788705506</mapx><mapy>37.5819663482</mapy><mlevel>6</mlevel><modifiedtime>20210125131301</modifiedtime><readcount>22182</readcount><sigungucode>23</sigungucode><tel>02-3704-3114</tel><title>국립민속박물관 우리민속한마당 2021</title></item><item><addr1>서울특별시 종로구 삼청로 37</addr1><addr2>(세종로)</addr2><areacode>1</areacode><cat1>A02</cat1><cat2>A0207</cat2><cat3>A02070200</cat3><contentid>1204941</contentid><contenttypeid>15</contenttypeid><createdtime>20110215150050</createdtime><eventenddate>20210303</eventenddate><eventstartdate>20210201</eventstartdate><firstimage>http://tong.visitkorea.or.kr/cms/resource/50/495150_image2_1.jpg</firstimage><firstimage2>http://tong.visitkorea.or.kr/cms/resource/50/495150_image3_1.jpg</firstimage2><mapx>126.9788594400</mapx><mapy>37.5819774581</mapy><mlevel>6</mlevel><modifiedtime>20210209154621</modifiedtime><readcount>9540</readcount><sigungucode>23</sigungucode><tel>02-3704-3142, 3127</tel><title>국립민속박물관 정월대보름 한마당 2021</title></item><item><addr1>서울특별시 강남구 영동대로 513</addr1><addr2>(삼성동)</addr2><areacode>1</areacode><cat1>A02</cat1><cat2>A0207</cat2><cat3>A02070200</cat3><contentid>1276136</contentid><contenttypeid>15</contenttypeid><createdtime>20110512102643</createdtime><eventenddate>20210801</eventenddate><eventstartdate>20210729</eventstartdate><mapx>127.0594124394</mapx><mapy>37.5112648981</mapy><mlevel>6</mlevel><modifiedtime>20210701172123</modifiedtime><readcount>31761</readcount><sigungucode>1</sigungucode><tel>02-6000-8000</tel><title>국제차문화대전</title></item><item><areacode>1</areacode><cat1>A02</cat1><cat2>A0208</cat2><cat3>A02081300</cat3><contentid>2684198</contentid><contenttypeid>15</contenttypeid><createdtime>20201119164324</createdtime><eventenddate>20201231</eventenddate><eventstartdate>20201123</eventstartdate><firstimage>http://tong.visitkorea.or.kr/cms/resource/92/2684192_image2_1.jpg</firstimage><firstimage2>http://tong.visitkorea.or.kr/cms/resource/92/2684192_image2_1.jpg</firstimage2><modifiedtime>20210517163126</modifiedtime><readcount>0</readcount><tel>02-3210-4806~7</tel><title>궁궐활용 온라인 프로젝트 '궁온' 2020</title></item><item><addr1>서울특별시 서초구 강남대로 27</addr1><addr2>(양재동)</addr2><areacode>1</areacode><cat1>A02</cat1><cat2>A0208</cat2><cat3>A02080600</cat3><contentid>2659596</contentid><contenttypeid>15</contenttypeid><createdtime>20200612110502</createdtime><eventenddate>20210905</eventenddate><eventstartdate>20210903</eventstartdate><firstimage>http://tong.visitkorea.or.kr/cms/resource/39/2722939_image2_1.png</firstimage><firstimage2>http://tong.visitkorea.or.kr/cms/resource/39/2722939_image2_1.png</firstimage2><mapx>127.0390127336</mapx><mapy>37.4683111849</mapy><mlevel>6</mlevel><modifiedtime>20210623140108</modifiedtime><readcount>0</readcount><sigungucode>15</sigungucode><tel>070-8866-6668</tel><title>궁디팡팡 캣페스타</title></item><item><addr1>서울특별시 종로구 사직로 161</addr1><addr2>(세종로)</addr2><areacode>1</areacode><cat1>A02</cat1><cat2>A0208</cat2><cat3>A02081300</cat3><contentid>2676031</contentid><contenttypeid>15</contenttypeid><createdtime>20201012173436</createdtime><eventenddate>20201025</eventenddate><eventstartdate>20201019</eventstartdate><firstimage>http://tong.visitkorea.or.kr/cms/resource/30/2676030_image2_1.jpg</firstimage><firstimage2>http://tong.visitkorea.or.kr/cms/resource/30/2676030_image2_1.jpg</firstimage2><mapx>126.9770319156</mapx><mapy>37.5788944508</mapy><mlevel>6</mlevel><modifiedtime>20201012173436</modifiedtime><readcount>0</readcount><sigungucode>23</sigungucode><tel>02-3210-4806,4807,3506</tel><title>궁에서 즐기는 슬기로운 가을나기 2020</title></item><item><addr1>서울특별시 종로구 사직로 161</addr1><areacode>1</areacode><cat1>A02</cat1><cat2>A0207</cat2><cat3>A02070200</cat3><contentid>1998564</contentid><contenttypeid>15</contenttypeid><createdtime>20150421095827</createdtime><eventenddate>20211010</eventenddate><eventstartdate>20211002</eventstartdate><firstimage>http://tong.visitkorea.or.kr/cms/resource/07/2718907_image2_1.png</firstimage><firstimage2>http://tong.visitkorea.or.kr/cms/resource/07/2718907_image2_1.png</firstimage2><mapx>126.9769930325</mapx><mapy>37.5788222356</mapy><mlevel>6</mlevel><modifiedtime>20210531153419</modifiedtime><readcount>65553</readcount><sigungucode>23</sigungucode><tel>02-3210-4684</tel><title>궁중문화축전</title></item><item><addr1>서울특별시 중구 명동길 26</addr1><addr2>(명동2가)</addr2><areacode>1</areacode><cat1>A02</cat1><cat2>A0208</cat2><cat3>A02080300</cat3><contentid>406745</contentid><contenttypeid>15</contenttypeid><createdtime>20080118180330</createdtime><eventenddate>20211231</eventenddate><eventstartdate>20210101</eventstartdate><firstimage>http://tong.visitkorea.or.kr/cms/resource/86/2034286_image2_1.jpg</firstimage><firstimage2>http://tong.visitkorea.or.kr/cms/resource/86/2034286_image3_1.jpg</firstimage2><mapx>126.9837456304</mapx><mapy>37.5634463660</mapy><mlevel>6</mlevel><modifiedtime>20210125132029</modifiedtime><readcount>44442</readcount><sigungucode>24</sigungucode><tel>02-739-8288</tel><title>난타 (명동)</title></item><item><addr1>온라인개최</addr1><addr2>(필동2가)</addr2><areacode>1</areacode><cat1>A02</cat1><cat2>A0207</cat2><cat3>A02070200</cat3><contentid>1796637</contentid><contenttypeid>15</contenttypeid><createdtime>20130220143544</createdtime><eventenddate>20210226</eventenddate><eventstartdate>20210211</eventstartdate><firstimage>http://tong.visitkorea.or.kr/cms/resource/71/2706671_image2_1.jpg</firstimage><firstimage2>http://tong.visitkorea.or.kr/cms/resource/71/2706671_image2_1.jpg</firstimage2><mapx>126.9935365470</mapx><mapy>37.5584387906</mapy><mlevel>6</mlevel><modifiedtime>20210219151346</modifiedtime><readcount>13629</readcount><sigungucode>24</sigungucode><tel>02-2261-0517</tel><title>남산골 세시절기 축제 정월대보름 2021</title></item><item><addr1>서울특별시 성동구 왕십리로 63</addr1><addr2>(성수동1가)</addr2><areacode>1</areacode><cat1>A02</cat1><cat2>A0207</cat2><cat3>A02070200</cat3><contentid>2716833</contentid><contenttypeid>15</contenttypeid><createdtime>20210512165803</createdtime><eventenddate>20210606</eventenddate><eventstartdate>20210603</eventstartdate><firstimage>http://tong.visitkorea.or.kr/cms/resource/24/2716824_image2_1.jpg</firstimage><firstimage2>http://tong.visitkorea.or.kr/cms/resource/24/2716824_image2_1.jpg</firstimage2><mapx>127.0435962960</mapx><mapy>37.5436136344</mapy><mlevel>6</mlevel><modifiedtime>20210528131519</modifiedtime><readcount>0</readcount><sigungucode>16</sigungucode><tel>010-4667-0417</tel><title>노 모어 플라스틱(2021 NO MORE PLASTIC)</title></item><item><addr1>서울특별시 종로구 대학로12길 64</addr1><addr2>(동숭동)</addr2><areacode>1</areacode><cat1>A02</cat1><cat2>A0208</cat2><cat3>A02080200</cat3><contentid>1204763</contentid><contenttypeid>15</contenttypeid><createdtime>20110215141024</createdtime><eventenddate>20211231</eventenddate><eventstartdate>20210101</eventstartdate><mapx>127.0036933107</mapx><mapy>37.5811613326</mapy><mlevel>6</mlevel><modifiedtime>20210217101450</modifiedtime><readcount>33949</readcount><sigungucode>23</sigungucode><tel>02-3672-0900</tel><title>늘근도둑 이야기</title></item><item><addr1>서울특별시 종로구 대학로8길 1</addr1><addr2>(동숭동)</addr2><areacode>1</areacode><cat1>A02</cat1><cat2>A0207</cat2><cat3>A02070200</cat3><contentid>1717921</contentid><contenttypeid>15</contenttypeid><createdtime>20120913100408</createdtime><eventenddate>20210530</eventenddate><eventstartdate>20210528</eventstartdate><firstimage>http://tong.visitkorea.or.kr/cms/resource/20/2718320_image2_1.jpg</firstimage><firstimage2>http://tong.visitkorea.or.kr/cms/resource/20/2718320_image2_1.jpg</firstimage2><mapx>127.0023906561</mapx><mapy>37.5809974394</mapy><mlevel>6</mlevel><modifiedtime>20210526102051</modifiedtime><readcount>37956</readcount><sigungucode>23</sigungucode><tel>02-741-4188</tel><title>대학로 거리공연축제</title></item><item><addr1>서울특별시 서초구 강남대로 27 AT Center 제 2전시장</addr1><addr2>(양재동)</addr2><areacode>1</areacode><cat1>A02</cat1><cat2>A0208</cat2><cat3>A02081300</cat3><contentid>2373224</contentid><contenttypeid>15</contenttypeid><createdtime>20160316172145</createdtime><eventenddate>20210606</eventenddate><eventstartdate>20210603</eventstartdate><firstimage>http://tong.visitkorea.or.kr/cms/resource/33/2713633_image2_1.jpg</firstimage><firstimage2>http://tong.visitkorea.or.kr/cms/resource/33/2713633_image2_1.jpg</firstimage2><mapx>127.0396016001</mapx><mapy>37.4672141004</mapy><mlevel>6</mlevel><modifiedtime>20210412171238</modifiedtime><readcount>46743</readcount><sigungucode>15</sigungucode><tel>02-802-7666, 7669</tel><title>대한민국 국제요리&amp;제과경연대회</title></item><item><addr1>서울특별시 강남구 영동대로 513</addr1><addr2>(삼성동)</addr2><areacode>1</areacode><cat1>A02</cat1><cat2>A0207</cat2><cat3>A02070200</cat3><contentid>2730685</contentid><contenttypeid>15</contenttypeid><createdtime>20210804091401</createdtime><eventenddate>20211023</eventenddate><eventstartdate>20211020</eventstartdate><firstimage>http://tong.visitkorea.or.kr/cms/resource/43/2730843_image2_1.jpg</firstimage><firstimage2>http://tong.visitkorea.or.kr/cms/resource/43/2730843_image2_1.jpg</firstimage2><mapx>127.0594429796</mapx><mapy>37.5117148467</mapy><mlevel>6</mlevel><modifiedtime>20210804130827</modifiedtime><readcount>0</readcount><sigungucode>1</sigungucode><tel>02-6404-0166</tel><title>대한민국 목재산업 박람회(WOOD FAIR 2021)</title></item><item><addr1>온라인개최</addr1><areacode>1</areacode><cat1>A02</cat1><cat2>A0207</cat2><cat3>A02070200</cat3><contentid>2563687</contentid><contenttypeid>15</contenttypeid><createdtime>20181022094031</createdtime><eventenddate>20201218</eventenddate><eventstartdate>20201216</eventstartdate><firstimage>http://tong.visitkorea.or.kr/cms/resource/84/2563684_image2_1.JPG</firstimage><firstimage2>http://tong.visitkorea.or.kr/cms/resource/84/2563684_image2_1.JPG</firstimage2><mapx>127.0591318945</mapx><mapy>37.5118092746</mapy><mlevel>6</mlevel><modifiedtime>20201109170931</modifiedtime><readcount>176</readcount><sigungucode>1</sigungucode><tel>042-712-9231</tel><title>대한민국 산업기술 R&amp;D대전 2020</title></item><item><addr1>서울특별시 서초구 남부순환로 2364</addr1><addr2>(서초동)</addr2><areacode>1</areacode><cat1>A02</cat1><cat2>A0207</cat2><cat3>A02070200</cat3><contentid>607348</contentid><contenttypeid>15</contenttypeid><createdtime>20080811133450</createdtime><eventenddate>20210502</eventenddate><eventstartdate>20210428</eventstartdate><firstimage>http://tong.visitkorea.or.kr/cms/resource/56/2597356_image2_1.jpg</firstimage><firstimage2>http://tong.visitkorea.or.kr/cms/resource/56/2597356_image2_1.jpg</firstimage2><mapx>127.0088957592</mapx><mapy>37.4778984208</mapy><mlevel>6</mlevel><modifiedtime>20210407170656</modifiedtime><readcount>4819</readcount><sigungucode>15</sigungucode><tel>02-580-3274</tel><title>대한민국 전통연희축제</title></item><item><addr1>서울특별시 송파구 백제고분로 270</addr1><addr2>(삼전동)</addr2><areacode>1</areacode><cat1>A02</cat1><cat2>A0207</cat2><cat3>A02070200</cat3><contentid>2657111</contentid><contenttypeid>15</contenttypeid><createdtime>20200522145425</createdtime><eventenddate>20210730</eventenddate><eventstartdate>20210716</eventstartdate><firstimage>http://tong.visitkorea.or.kr/cms/resource/46/2726046_image2_1.png</firstimage><firstimage2>http://tong.visitkorea.or.kr/cms/resource/46/2726046_image2_1.png</firstimage2><mapx>127.0963010045</mapx><mapy>37.5022777168</mapy><mlevel>6</mlevel><modifiedtime>20210716132522</modifiedtime><readcount>0</readcount><sigungucode>18</sigungucode><tel>070-7938-5480</tel><title>대한민국 청년미술축제</title></item><item><addr1>서울특별시 양천구 목동서로 225</addr1><addr2>(목동)</addr2><areacode>1</areacode><cat1>A02</cat1><cat2>A0207</cat2><cat3>A02070200</cat3><contentid>2558683</contentid><contenttypeid>15</contenttypeid><createdtime>20180823143207</createdtime><eventenddate>20210821</eventenddate><eventstartdate>20210821</eventstartdate><firstimage>http://tong.visitkorea.or.kr/cms/resource/35/2724135_image2_1.jpg</firstimage><firstimage2>http://tong.visitkorea.or.kr/cms/resource/35/2724135_image2_1.jpg</firstimage2><mapx>126.8707958384</mapx><mapy>37.5271541181</mapy><mlevel>6</mlevel><modifiedtime>20210705095305</modifiedtime><readcount>759</readcount><sigungucode>19</sigungucode><tel>02-744-8066</tel><title>대한민국무용대상</title></item><item><addr1>서울특별시 서초구 강남대로 27</addr1><areacode>1</areacode><cat1>A02</cat1><cat2>A0208</cat2><cat3>A02081300</cat3><contentid>2479634</contentid><contenttypeid>15</contenttypeid><createdtime>20170207140641</createdtime><eventenddate>20211114</eventenddate><eventstartdate>20211112</eventstartdate><firstimage>http://tong.visitkorea.or.kr/cms/resource/53/2723753_image2_1.jpg</firstimage><firstimage2>http://tong.visitkorea.or.kr/cms/resource/53/2723753_image2_1.jpg</firstimage2><mapx>127.0396016001</mapx><mapy>37.4672141004</mapy><mlevel>6</mlevel><modifiedtime>20210629135155</modifiedtime><readcount>9778</readcount><sigungucode>15</sigungucode><tel>02-511-1540</tel><title>대한민국향토식문화대전(&amp;남북음식문화축제)</title></item><item><addr1>서울특별시 영등포구 여의대로 108</addr1><addr2>(여의도동)</addr2><areacode>1</areacode><cat1>A02</cat1><cat2>A0208</cat2><cat3>A02081300</cat3><contentid>2714690</contentid><contenttypeid>15</contenttypeid><createdtime>20210427154724</createdtime><eventenddate>20210613</eventenddate><eventstartdate>20210522</eventstartdate><firstimage>http://tong.visitkorea.or.kr/cms/resource/89/2714689_image2_1.png</firstimage><firstimage2>http://tong.visitkorea.or.kr/cms/resource/89/2714689_image2_1.png</firstimage2><mapx>126.9283267400</mapx><mapy>37.5259691729</mapy><mlevel>6</mlevel><modifiedtime>20210518170502</modifiedtime><readcount>0</readcount><sigungucode>20</sigungucode><tel>070-7575-2351</tel><title>더현대 플로깅</title></item><item><addr1>서울특별시 중구 세종대로 99</addr1><addr2>(정동)</addr2><areacode>1</areacode><cat1>A02</cat1><cat2>A0208</cat2><cat3>A02080100</cat3><contentid>292961</contentid><contenttypeid>15</contenttypeid><createdtime>20060126100026</createdtime><eventenddate>20211231</eventenddate><eventstartdate>20210101</eventstartdate><firstimage>http://tong.visitkorea.or.kr/cms/resource/24/495224_image2_1.jpg</firstimage><firstimage2>http://tong.visitkorea.or.kr/cms/resource/24/495224_image3_1.jpg</firstimage2><mapx>126.9761046145</mapx><mapy>37.5650460435</mapy><mlevel>6</mlevel><modifiedtime>20210106160853</modifiedtime><readcount>35451</readcount><sigungucode>24</sigungucode><tel>다산콜센터 02-120</tel><title>덕수궁 왕궁수문장교대의식</title></item><item><addr1>서울특별시 중구 세종대로 99</addr1><addr2>(정동)</addr2><areacode>1</areacode><cat1>A02</cat1><cat2>A0208</cat2><cat3>A02080100</cat3><contentid>1301487</contentid><contenttypeid>15</contenttypeid><createdtime>20110603142942</createdtime><eventenddate>20210509</eventenddate><eventstartdate>20210501</eventstartdate><firstimage>http://tong.visitkorea.or.kr/cms/resource/08/1965908_image2_1.jpg</firstimage><firstimage2>http://tong.visitkorea.or.kr/cms/resource/08/1965908_image3_1.jpg</firstimage2><mapx>126.9749158128</mapx><mapy>37.5658042673</mapy><mlevel>6</mlevel><modifiedtime>20210609132748</modifiedtime><readcount>40043</readcount><sigungucode>24</sigungucode><tel>02-2270-1244</tel><title>덕수궁 풍류</title></item><item><addr1>온라인개최</addr1><addr2>(창동)</addr2><areacode>1</areacode><cat1>A02</cat1><cat2>A0207</cat2><cat3>A02070200</cat3><contentid>1104496</contentid><contenttypeid>15</contenttypeid><createdtime>20101006170222</createdtime><eventenddate>20201115</eventenddate><eventstartdate>20201012</eventstartdate><firstimage>http://tong.visitkorea.or.kr/cms/resource/33/2678233_image2_1.jpg</firstimage><firstimage2>http://tong.visitkorea.or.kr/cms/resource/33/2678233_image2_1.jpg</firstimage2><mapx>127.0439570482</mapx><mapy>37.6527648428</mapy><mlevel>6</mlevel><modifiedtime>20201022174510</modifiedtime><readcount>4640</readcount><sigungucode>10</sigungucode><tel>070-4153-6392</tel><title>도봉산 페스티벌 2020</title></item><item><addr1>서울특별시 도봉구 도봉로 552</addr1><addr2>(창동)</addr2><areacode>1</areacode><cat1>A02</cat1><cat2>A0207</cat2><cat3>A02070200</cat3><contentid>2725188</contentid><contenttypeid>15</contenttypeid><createdtime>20210712101001</createdtime><eventenddate>20211002</eventenddate><eventstartdate>20211002</eventstartdate><firstimage>http://tong.visitkorea.or.kr/cms/resource/86/2725186_image2_1.jpg</firstimage><firstimage2>http://tong.visitkorea.or.kr/cms/resource/86/2725186_image2_1.jpg</firstimage2><mapx>127.0384686195</mapx><mapy>37.6541590259</mapy><mlevel>6</mlevel><modifiedtime>20210712101001</modifiedtime><readcount>0</readcount><sigungucode>10</sigungucode><tel>02-905-4026</tel><title>도봉옛길 문화제</title></item><item><addr1>서울특별시 도봉구 도봉로 552</addr1><addr2>(창동)</addr2><areacode>1</areacode><cat1>A02</cat1><cat2>A0207</cat2><cat3>A02070200</cat3><contentid>2601242</contentid><contenttypeid>15</contenttypeid><createdtime>20190509132339</createdtime><eventenddate>20211009</eventenddate><eventstartdate>20211009</eventstartdate><firstimage>http://tong.visitkorea.or.kr/cms/resource/81/2725681_image2_1.jpg</firstimage><firstimage2>http://tong.visitkorea.or.kr/cms/resource/81/2725681_image2_1.jpg</firstimage2><mapx>127.0384686195</mapx><mapy>37.6541590259</mapy><mlevel>6</mlevel><modifiedtime>20210714092434</modifiedtime><readcount>4</readcount><sigungucode>10</sigungucode><tel>02-905-4026</tel><title>도봉한글잔치</title></item><item><addr1>서울특별시 송파구 올림픽로 240</addr1><addr2>(잠실동)</addr2><areacode>1</areacode><cat1>A02</cat1><cat2>A0207</cat2><cat3>A02070200</cat3><contentid>808590</contentid><contenttypeid>15</contenttypeid><createdtime>20090923142021</createdtime><eventenddate>20201115</eventenddate><eventstartdate>20200905</eventstartdate><firstimage>http://tong.visitkorea.or.kr/cms/resource/56/2505256_image2_1.JPG</firstimage><firstimage2>http://tong.visitkorea.or.kr/cms/resource/56/2505256_image2_1.JPG</firstimage2><mapx>127.0983644514</mapx><mapy>37.5112350469</mapy><mlevel>6</mlevel><modifiedtime>20201013140122</modifiedtime><readcount>140463</readcount><sigungucode>18</sigungucode><tel>1661-2000</tel><title>롯데월드 호러 할로윈 : The Invitation 2020</title></item><item><addr1>서울특별시 송파구 올림픽로 240</addr1><areacode>1</areacode><cat1>A02</cat1><cat2>A0207</cat2><cat3>A02070200</cat3><contentid>650452</contentid><contenttypeid>15</contenttypeid><createdtime>20081111162346</createdtime><eventenddate>20201231</eventenddate><eventstartdate>20201121</eventstartdate><firstimage>http://tong.visitkorea.or.kr/cms/resource/04/2565704_image2_1.JPG</firstimage><firstimage2>http://tong.visitkorea.or.kr/cms/resource/04/2565704_image2_1.JPG</firstimage2><mapx>127.0981394766</mapx><mapy>37.5110683960</mapy><mlevel>6</mlevel><modifiedtime>20201215145848</modifiedtime><readcount>64624</readcount><sigungucode>18</sigungucode><tel>1661-2000</tel><title>롯데월드 Lights Up 2020</title></item><item><addr1>서울특별시 마포구 양화로 161</addr1><addr2>(동교동)</addr2><areacode>1</areacode><cat1>A02</cat1><cat2>A0208</cat2><cat3>A02081300</cat3><contentid>2709586</contentid><contenttypeid>15</contenttypeid><createdtime>20210311110225</createdtime><eventenddate>20210529</eventenddate><eventstartdate>20210501</eventstartdate><firstimage>http://tong.visitkorea.or.kr/cms/resource/40/2717640_image2_1.png</firstimage><firstimage2>http://tong.visitkorea.or.kr/cms/resource/40/2717640_image2_1.png</firstimage2><mapx>126.9233374302</mapx><mapy>37.5569904785</mapy><modifiedtime>20210520101754</modifiedtime><readcount>0</readcount><sigungucode>13</sigungucode><tel>02-324-9137</tel><title>리얼리티 러브 홀림픽</title></item><item><addr1>서울특별시 중구 장충단로13길 20</addr1><areacode>1</areacode><cat1>A02</cat1><cat2>A0207</cat2><cat3>A02070200</cat3><contentid>2602756</contentid><contenttypeid>15</contenttypeid><createdtime>20190521172228</createdtime><eventenddate>20200621</eventenddate><eventstartdate>20200619</eventstartdate><firstimage>http://tong.visitkorea.or.kr/cms/resource/10/2622610_image2_1.jpg</firstimage><firstimage2>http://tong.visitkorea.or.kr/cms/resource/10/2622610_image2_1.jpg</firstimage2><mapx>127.0076821872</mapx><mapy>37.5687878415</mapy><mlevel>6</mlevel><modifiedtime>20210527142047</modifiedtime><readcount>2</readcount><sigungucode>24</sigungucode><tel>02-1661-6925</tel><title>마켓을 여행하다</title></item><item><addr1>서울특별시 강남구 남부순환로 3104</addr1><addr2>(대치동)</addr2><areacode>1</areacode><cat1>A02</cat1><cat2>A0208</cat2><cat3>A02080600</cat3><contentid>2659594</contentid><contenttypeid>15</contenttypeid><createdtime>20200612104639</createdtime><eventenddate>20200830</eventenddate><eventstartdate>20200827</eventstartdate><firstimage>http://tong.visitkorea.or.kr/cms/resource/54/2661054_image2_1.jpg</firstimage><firstimage2>http://tong.visitkorea.or.kr/cms/resource/54/2661054_image2_1.jpg</firstimage2><mapx>127.0719811806</mapx><mapy>37.4957363721</mapy><mlevel>6</mlevel><modifiedtime>20200624171608</modifiedtime><readcount>0</readcount><sigungucode>1</sigungucode><tel>02-6677-3477</tel><title>메가쇼 시즌2 2020</title></item><item><addr1>서울특별시 구로구 구로동 3-33</addr1><areacode>1</areacode><cat1>A02</cat1><cat2>A0208</cat2><cat3>A02080500</cat3><contentid>2601692</contentid><contenttypeid>15</contenttypeid><createdtime>20190514165328</createdtime><eventenddate>20200906</eventenddate><eventstartdate>20200811</eventstartdate><firstimage>http://tong.visitkorea.or.kr/cms/resource/91/2601691_image2_1.jpg</firstimage><firstimage2>http://tong.visitkorea.or.kr/cms/resource/91/2601691_image2_1.jpg</firstimage2><mapx>126.8888363208</mapx><mapy>37.5107924524</mapy><mlevel>6</mlevel><modifiedtime>20201005110743</modifiedtime><readcount>4</readcount><sigungucode>7</sigungucode><tel>02-867--2202</tel><title>모두의 전람회 &lt;그럼에도 변하지 않은 것들展&gt; 2020</title></item><item><addr1>서울특별시 강남구 영동대로 513</addr1><areacode>1</areacode><cat1>A02</cat1><cat2>A0207</cat2><cat3>A02070200</cat3><contentid>2045414</contentid><contenttypeid>15</contenttypeid><createdtime>20151203141943</createdtime><eventenddate>20201231</eventenddate><eventstartdate>20201217</eventstartdate><firstimage>http://tong.visitkorea.or.kr/cms/resource/72/2639672_image2_1.jpg</firstimage><firstimage2>http://tong.visitkorea.or.kr/cms/resource/72/2639672_image2_1.jpg</firstimage2><mapx>127.0591874466</mapx><mapy>37.5117592813</mapy><mlevel>6</mlevel><modifiedtime>20201111153635</modifiedtime><readcount>23271</readcount><sigungucode>1</sigungucode><tel>02-6000-0114</tel><title>무역센터 겨울축제 '코엑스 윈터페스티벌' 2020</title></item><item><addr1>온라인개최</addr1><areacode>1</areacode><cat1>A02</cat1><cat2>A0208</cat2><cat3>A02081300</cat3><contentid>2556687</contentid><contenttypeid>15</contenttypeid><createdtime>20180807162040</createdtime><eventenddate>20201130</eventenddate><eventstartdate>20200926</eventstartdate><firstimage>http://tong.visitkorea.or.kr/cms/resource/84/2556684_image2_1.png</firstimage><firstimage2>http://tong.visitkorea.or.kr/cms/resource/84/2556684_image2_1.png</firstimage2><modifiedtime>20201006093724</modifiedtime><readcount>940</readcount><sigungucode>23</sigungucode><tel>061-900-2328~9</tel><title>문학주간 '문학은 더 가깝게' 2020</title></item><item><addr1>온라인개최</addr1><addr2>(서교동)</addr2><areacode>1</areacode><cat1>A02</cat1><cat2>A0208</cat2><cat3>A02081300</cat3><contentid>2666774</contentid><contenttypeid>15</contenttypeid><createdtime>20200810165701</createdtime><eventenddate>20210505</eventenddate><eventstartdate>20210425</eventstartdate><firstimage>http://tong.visitkorea.or.kr/cms/resource/78/2715178_image2_1.jpg</firstimage><firstimage2>http://tong.visitkorea.or.kr/cms/resource/78/2715178_image2_1.jpg</firstimage2><mapx>126.9167298722</mapx><mapy>37.5508549625</mapy><mlevel>6</mlevel><modifiedtime>20210503141920</modifiedtime><readcount>0</readcount><sigungucode>13</sigungucode><tel>찾아가는공연 운영사무국 (02-3443-2695)</tel><title>문화로 토닥토닥 \"찾아가는 공연\"</title></item><item><addr1>서울특별시 종로구 이화장길 26</addr1><addr2>(이화동)</addr2><areacode>1</areacode><cat1>A02</cat1><cat2>A0208</cat2><cat3>A02080300</cat3><contentid>1394326</contentid><contenttypeid>15</contenttypeid><createdtime>20110930145126</createdtime><eventenddate>20211231</eventenddate><eventstartdate>20210101</eventstartdate><firstimage>http://tong.visitkorea.or.kr/cms/resource/72/2489672_image2_1.jpg</firstimage><firstimage2>http://tong.visitkorea.or.kr/cms/resource/72/2489672_image2_1.jpg</firstimage2><mapx>127.0039128630</mapx><mapy>37.5766424167</mapy><mlevel>6</mlevel><modifiedtime>20210520170535</modifiedtime><readcount>23319</readcount><sigungucode>23</sigungucode><tel>070-8245-2602</tel><title>뮤직드라마 당신만이</title></item></items><numofrows>50</numofrows><pageno>1</pageno><totalcount>190</totalcount></body></response>"
      ]
     },
     "execution_count": 24,
     "metadata": {},
     "output_type": "execute_result"
    }
   ],
   "source": [
    "bs_obj"
   ]
  },
  {
   "cell_type": "code",
   "execution_count": 26,
   "id": "35dc9bd7",
   "metadata": {},
   "outputs": [
    {
     "data": {
      "text/plain": [
       "[<tel>강일 427-4004, 성내 471-0044, 해공 478-9656, 암사 429-0476, 천호 488-7223</tel>,\n",
       " <tel>02-3425-5245</tel>,\n",
       " <tel>02-736-6375</tel>,\n",
       " <tel>070-7575-2351~2</tel>,\n",
       " <tel>02-3210-4806</tel>,\n",
       " <tel>02-3210-4807, 02-3210-3506</tel>,\n",
       " <tel>02-3210-4806</tel>,\n",
       " <tel>02-3700-3900~1</tel>,\n",
       " <tel>02-2270-1132</tel>,\n",
       " <tel>070-4367-0559</tel>,\n",
       " <tel>02-2486-9295~6</tel>,\n",
       " <tel>02) 828-5763</tel>,\n",
       " <tel>02-860-2282</tel>,\n",
       " <tel>02-860-2140</tel>,\n",
       " <tel>02-3704-3114</tel>,\n",
       " <tel>02-3704-3142, 3127</tel>,\n",
       " <tel>02-6000-8000</tel>,\n",
       " <tel>02-3210-4806~7</tel>,\n",
       " <tel>070-8866-6668</tel>,\n",
       " <tel>02-3210-4806,4807,3506</tel>,\n",
       " <tel>02-3210-4684</tel>,\n",
       " <tel>02-739-8288</tel>,\n",
       " <tel>02-2261-0517</tel>,\n",
       " <tel>010-4667-0417</tel>,\n",
       " <tel>02-3672-0900</tel>,\n",
       " <tel>02-741-4188</tel>,\n",
       " <tel>02-802-7666, 7669</tel>,\n",
       " <tel>02-6404-0166</tel>,\n",
       " <tel>042-712-9231</tel>,\n",
       " <tel>02-580-3274</tel>,\n",
       " <tel>070-7938-5480</tel>,\n",
       " <tel>02-744-8066</tel>,\n",
       " <tel>02-511-1540</tel>,\n",
       " <tel>070-7575-2351</tel>,\n",
       " <tel>다산콜센터 02-120</tel>,\n",
       " <tel>02-2270-1244</tel>,\n",
       " <tel>070-4153-6392</tel>,\n",
       " <tel>02-905-4026</tel>,\n",
       " <tel>02-905-4026</tel>,\n",
       " <tel>1661-2000</tel>,\n",
       " <tel>1661-2000</tel>,\n",
       " <tel>02-324-9137</tel>,\n",
       " <tel>02-1661-6925</tel>,\n",
       " <tel>02-6677-3477</tel>,\n",
       " <tel>02-867--2202</tel>,\n",
       " <tel>02-6000-0114</tel>,\n",
       " <tel>061-900-2328~9</tel>,\n",
       " <tel>찾아가는공연 운영사무국 (02-3443-2695)</tel>,\n",
       " <tel>070-8245-2602</tel>]"
      ]
     },
     "execution_count": 26,
     "metadata": {},
     "output_type": "execute_result"
    }
   ],
   "source": [
    "bs_obj.findAll('title')\n",
    "bs_obj.findAll('addr1')\n",
    "bs_obj.findAll('tel')"
   ]
  },
  {
   "cell_type": "code",
   "execution_count": 34,
   "id": "ad9496d1",
   "metadata": {},
   "outputs": [
    {
     "name": "stdout",
     "output_type": "stream",
     "text": [
      "50\n",
      "49\n"
     ]
    },
    {
     "data": {
      "text/plain": [
       "49"
      ]
     },
     "execution_count": 34,
     "metadata": {},
     "output_type": "execute_result"
    }
   ],
   "source": [
    "print(len(bs_obj.findAll('title')))\n",
    "print(len(bs_obj.findAll('addr1')))\n",
    "len(bs_obj.findAll('tel'))"
   ]
  },
  {
   "cell_type": "code",
   "execution_count": 37,
   "id": "a36cfe23",
   "metadata": {},
   "outputs": [
    {
     "name": "stdout",
     "output_type": "stream",
     "text": [
      "강동구 청소년 민주주의 축제 \"놀면 뭐하니? 한 번 더 민주!\" 2020,온라인개최,No Data\n",
      "강동북페스티벌2020,온라인개최,강일 427-4004, 성내 471-0044, 해공 478-9656, 암사 429-0476, 천호 488-7223\n",
      "강동선사문화축제 2020,온라인개최,02-3425-5245\n",
      "개천절 대제전 2020,서울특별시 종로구 인왕산로 22,02-736-6375\n",
      "건강서울페스티벌 2020,온라인개최,070-7575-2351~2\n",
      "경복궁 별빛야행,서울특별시 종로구 사직로 161,02-3210-4806\n",
      "경복궁 생과방,서울특별시 종로구 사직로 161 경복궁,02-3210-4807, 02-3210-3506\n",
      "경복궁 시식공감,서울특별시 종로구 사직로 161,02-3210-4806\n",
      "경복궁 야간 특별관람,서울특별시 종로구 사직로 161,02-3700-3900~1\n",
      "고궁음악회「고궁의 숲, 무용을 만나다」,서울특별시 종로구 창경궁로 185,02-2270-1132\n",
      "공연관광 온라인 쇼케이스 < K-Performance On Air > 2020,온라인개최,070-4367-0559\n",
      "관광산업 일자리박람회 2020,온라인개최,02-2486-9295~6\n",
      "관악강감찬축제,서울특별시 관악구,02) 828-5763\n",
      "구로G페스티벌 2020,서울특별시 구로구 가마산로 245,02-860-2282\n",
      "구로청소년축제 2021,온라인개최,02-860-2140\n",
      "국립민속박물관 우리민속한마당 2021,서울특별시 종로구 삼청로 37,02-3704-3114\n",
      "국립민속박물관 정월대보름 한마당 2021,서울특별시 종로구 삼청로 37,02-3704-3142, 3127\n",
      "국제차문화대전,서울특별시 강남구 영동대로 513,02-6000-8000\n",
      "궁궐활용 온라인 프로젝트 '궁온' 2020,No Data\n",
      "궁디팡팡 캣페스타,서울특별시 서초구 강남대로 27,070-8866-6668\n",
      "궁에서 즐기는 슬기로운 가을나기 2020,서울특별시 종로구 사직로 161,02-3210-4806,4807,3506\n",
      "궁중문화축전,서울특별시 종로구 사직로 161,02-3210-4684\n",
      "난타 (명동),서울특별시 중구 명동길 26,02-739-8288\n",
      "남산골 세시절기 축제 정월대보름 2021,온라인개최,02-2261-0517\n",
      "노 모어 플라스틱(2021 NO MORE PLASTIC),서울특별시 성동구 왕십리로 63,010-4667-0417\n",
      "늘근도둑 이야기,서울특별시 종로구 대학로12길 64,02-3672-0900\n",
      "대학로 거리공연축제,서울특별시 종로구 대학로8길 1,02-741-4188\n",
      "대한민국 국제요리&제과경연대회,서울특별시 서초구 강남대로 27 AT Center 제 2전시장,02-802-7666, 7669\n",
      "대한민국 목재산업 박람회(WOOD FAIR 2021),서울특별시 강남구 영동대로 513,02-6404-0166\n",
      "대한민국 산업기술 R&D대전 2020,온라인개최,042-712-9231\n",
      "대한민국 전통연희축제,서울특별시 서초구 남부순환로 2364,02-580-3274\n",
      "대한민국 청년미술축제,서울특별시 송파구 백제고분로 270,070-7938-5480\n",
      "대한민국무용대상,서울특별시 양천구 목동서로 225,02-744-8066\n",
      "대한민국향토식문화대전(&남북음식문화축제),서울특별시 서초구 강남대로 27,02-511-1540\n",
      "더현대 플로깅,서울특별시 영등포구 여의대로 108,070-7575-2351\n",
      "덕수궁 왕궁수문장교대의식,서울특별시 중구 세종대로 99,다산콜센터 02-120\n",
      "덕수궁 풍류,서울특별시 중구 세종대로 99,02-2270-1244\n",
      "도봉산 페스티벌 2020,온라인개최,070-4153-6392\n",
      "도봉옛길 문화제,서울특별시 도봉구 도봉로 552,02-905-4026\n",
      "도봉한글잔치,서울특별시 도봉구 도봉로 552,02-905-4026\n",
      "롯데월드 호러 할로윈 : The Invitation 2020,서울특별시 송파구 올림픽로 240,1661-2000\n",
      "롯데월드 Lights Up 2020,서울특별시 송파구 올림픽로 240,1661-2000\n",
      "리얼리티 러브 홀림픽,서울특별시 마포구 양화로 161,02-324-9137\n",
      "마켓을 여행하다,서울특별시 중구 장충단로13길 20,02-1661-6925\n",
      "메가쇼 시즌2 2020,서울특별시 강남구 남부순환로 3104,02-6677-3477\n",
      "모두의 전람회 <그럼에도 변하지 않은 것들展> 2020,서울특별시 구로구 구로동 3-33,02-867--2202\n",
      "무역센터 겨울축제 '코엑스 윈터페스티벌' 2020,서울특별시 강남구 영동대로 513,02-6000-0114\n",
      "문학주간 '문학은 더 가깝게' 2020,온라인개최,061-900-2328~9\n",
      "문화로 토닥토닥 \"찾아가는 공연\",온라인개최,찾아가는공연 운영사무국 (02-3443-2695)\n",
      "뮤직드라마 당신만이,서울특별시 종로구 이화장길 26,070-8245-2602\n"
     ]
    }
   ],
   "source": [
    "items = bs_obj.findAll('item')\n",
    "\n",
    "# for item in items :\n",
    "#     print(item.find('title').text, end=',')\n",
    "#     print(item.find('addr1').text, end=',')\n",
    "#     print(item.find('tel').text)  # tel 이없는 경우도 있기때문에 nontype에 오류가 뜸\n",
    "\n",
    "# tel이 없는경우일때 예외처리를 해줘야함\n",
    "for item in items :\n",
    "    try:\n",
    "        print(item.find('title').text, end=',')\n",
    "        print(item.find('addr1').text, end=',')\n",
    "        print(item.find('tel').text) \n",
    "    except:\n",
    "        print('No Data')"
   ]
  },
  {
   "cell_type": "markdown",
   "id": "7fb33fdb",
   "metadata": {},
   "source": [
    "#### 제주도 숙박시설"
   ]
  },
  {
   "cell_type": "code",
   "execution_count": 38,
   "id": "37e6eac5",
   "metadata": {},
   "outputs": [],
   "source": [
    "endpoint='http://api.visitkorea.or.kr/openapi/service/rest/KorService/areaBasedList?'"
   ]
  },
  {
   "cell_type": "code",
   "execution_count": 39,
   "id": "f203424b",
   "metadata": {},
   "outputs": [],
   "source": [
    "#  paramset  구성\n",
    "numOfRows = \"225\"\n",
    "pageNo = \"1\"\n",
    "MobileOS = \"ETC\"\n",
    "MobileApp = \"AppTest\"\n",
    "arrange = \"A\"\n",
    "listYN = \"Y\"\n",
    "areaCode =\"39\"\n",
    "sigunguCode =\"4\"\n",
    "# contentTypeId = \"15\" #32 번 숙박코드\n",
    "contentTypeId = \"32\""
   ]
  },
  {
   "cell_type": "code",
   "execution_count": 40,
   "id": "8d716ca6",
   "metadata": {},
   "outputs": [],
   "source": [
    "paramset = \"serviceKey=\" + serviceKey +\"&\" \\\n",
    "            + \"numOfRows=\" + numOfRows +\"&\" \\\n",
    "            + \"pageNo=\" + pageNo +\"&\"  \\\n",
    "            + \"MobileOS=\" + MobileOS +\"&\"  \\\n",
    "            + \"MobileApp=\" + MobileApp + \"&\" \\\n",
    "            + \"arrange=\"+ arrange + \"&\" \\\n",
    "            + \"areaCode=\" + areaCode + \"&\"\\\n",
    "            + \"listYN=\" + listYN + \"&\"  \\\n",
    "            + \"contentTypeId=\" + contentTypeId\n"
   ]
  },
  {
   "cell_type": "code",
   "execution_count": 41,
   "id": "14c5751c",
   "metadata": {},
   "outputs": [],
   "source": [
    "url =endpoint + paramset"
   ]
  },
  {
   "cell_type": "code",
   "execution_count": 44,
   "id": "4b5c1536",
   "metadata": {},
   "outputs": [
    {
     "data": {
      "text/plain": [
       "'http://api.visitkorea.or.kr/openapi/service/rest/KorService/areaBasedList?serviceKey=E2A4f5crRw2SR0z5JzLrlHr27RitLzVG98%2FDRvMoS1W65JvqyH3y77UsAoVdD8XvpFX6FtR1kdnts3Sc%2BERmpw%3D%3D&numOfRows=225&pageNo=1&MobileOS=ETC&MobileApp=AppTest&arrange=A&areaCode=39&listYN=Y&contentTypeId=32'"
      ]
     },
     "execution_count": 44,
     "metadata": {},
     "output_type": "execute_result"
    }
   ],
   "source": [
    "url"
   ]
  },
  {
   "cell_type": "code",
   "execution_count": 45,
   "id": "b2dcb543",
   "metadata": {},
   "outputs": [],
   "source": [
    "result = requests.get(url)\n",
    "bs_obj = BeautifulSoup(result.content, \"html.parser\")"
   ]
  },
  {
   "cell_type": "code",
   "execution_count": 46,
   "id": "fa1ecc4a",
   "metadata": {},
   "outputs": [],
   "source": [
    "#bs_obj"
   ]
  },
  {
   "cell_type": "code",
   "execution_count": 47,
   "id": "07f72237",
   "metadata": {},
   "outputs": [
    {
     "data": {
      "text/plain": [
       "220"
      ]
     },
     "execution_count": 47,
     "metadata": {},
     "output_type": "execute_result"
    }
   ],
   "source": [
    "items = bs_obj.findAll('item')\n",
    "len(items)"
   ]
  },
  {
   "cell_type": "code",
   "execution_count": 48,
   "id": "8499378b",
   "metadata": {},
   "outputs": [
    {
     "name": "stdout",
     "output_type": "stream",
     "text": [
      "가름게스트하우스,제주특별자치도 서귀포시 법환하로9번길 10,064-739-4499\n",
      "고망난돌민박,제주특별자치도 서귀포시 성산읍 일주동로 5464,064-787-1060\n",
      "고추잠자리,제주특별자치도 제주시 도령로 190,064-782-2434<br />010-6283-2434\n",
      "관음사가는길펜션,제주특별자치도 제주시 산록북로 819,064-724-9931\n",
      "귤익는마을,제주특별자치도 서귀포시 성산읍 신천서로 11,064-787-0543\n",
      "그린사이드,제주특별자치도 서귀포시 천제연로 51,064-738-0074\n",
      "그림리조트,제주특별자치도 제주시 서해안로 620-1,064-742-2080\n",
      "금호리조트 제주,제주특별자치도 서귀포시 남원읍 태위로 522-12,064-766-8000\n",
      "까델아스 리조트,제주특별자치도 제주시 애월읍 신엄9길 50,064-799-7996\n",
      "까사 데 비발디,제주특별자치도 서귀포시 안덕면 향교로 214,No Data\n",
      "꼬뜨도르 호텔,제주특별자치도 제주시 구좌읍 일주동로 1724,064-782-0800\n",
      "꿈꾸는 노마드 [한국관광 품질인증/Korea Quality],제주특별자치도 서귀포시 선반로 54,010-4574-4459\n",
      "끄라비 펜션,제주특별자치도 서귀포시 토평로148번길 28,064-733-3399\n",
      "나.미.송,제주특별자치도 제주시 애월읍 평화로 2476,010-8307-0531\n",
      "나이스호텔,제주특별자치도 제주시 논세길 96-38,No Data\n",
      "나인브릿지콘도,제주특별자치도 서귀포시 안덕면 광평로 34-156,064-793-9999\n",
      "나인스파빌,제주특별자치도 제주시 애월읍 하광로 518,064-727-1000\n",
      "남극노인성(남극노인성 전통한옥 휴양펜션),제주특별자치도 서귀포시 하신상로 216,064-733-8869\n",
      "노을담은뜨락,제주특별자치도 서귀포시 대정읍 노을해안로 416,010-5258-4993\n",
      "노인과바다 펜션,제주특별자치도 서귀포시 남원읍 남태해안로 11-12,064-764-9966\n",
      "뉴아일랜드 관광호텔,제주특별자치도 제주시 연동6길 17,064-712-1300\n",
      "담앤루리조트,제주특별자치도 서귀포시 이어도로343번길 63,064-739-6617\n",
      "더 세리 호스텔 [한국관광 품질인증/Korea Quality],제주특별자치도 서귀포시 법환상로2번길 97-17,064-739-9966\n",
      "더럭펜션,제주특별자치도 제주시 애월읍 상가북2길 14-3,010-2667-4735\n",
      "도라미 휴양펜션(도라미 관광 휴양펜션),제주특별자치도 서귀포시 일주동로 8215,010-7565-3309\n",
      "돈내코힐 리조트,제주특별자치도 서귀포시 돈내코로 180,010-7277-1439\n",
      "동박생이,제주특별자치도 제주시 구좌읍 월정1길 89,010-3697-4191\n",
      "동원호스텔(서귀포 동원호텔),제주특별자치도 서귀포시 솔동산로10번길 45,010-3199-6189\n",
      "드림캐슬,제주특별자치도 서귀포시 남원읍 남태해안로 364,064-764-0871\n",
      "라마다프라자 제주호텔,제주특별자치도 제주시 탑동로 66,064-729-8100\n",
      "라사니아캐슬,제주특별자치도 서귀포시 성산읍 일주동로 5199,064-784-6027\n",
      "라오체리조트,제주특별자치도 서귀포시 선반로65번길 69,064-738-7575\n",
      "라온호텔 앤 리조트,제주특별자치도 제주시 한림읍 금능남로 127,064-795-3333, 3000\n",
      "라운지하우스 제주다,제주특별자치도 서귀포시 안덕면 사계남로50번길 60,064-792-5670\n",
      "라헨느리조트,제주특별자치도 제주시 명림로 384,064-754-9000\n",
      "랜딩관 제주신화월드 호텔 앤 리조트,제주특별자치도 서귀포시 안덕면 신화역사로304번길 38,1670-8800\n",
      "레이크힐스 제주리조트,제주특별자치도 서귀포시 존제로 24,064-738-8778\n",
      "롯데시티호텔 제주,제주특별자치도 제주시 도령로 83,064-730-1000\n",
      "롯데호텔 제주,제주특별자치도 서귀포시 중문관광로72번길 35,064-731-1000\n",
      "롱비치펜션,제주특별자치도 서귀포시 남원읍 남태해안로 11-16,064-764-9944\n",
      "루체빌리조트,제주특별자치도 서귀포시 안덕면 산록남로 786,064-805-0114\n",
      "마레보 비치호텔,제주특별자치도 제주시 애월읍 곽지1길 23,064-799-2345\n",
      "먼나머루휴양펜션(제주편백한옥펜션 먼나머루),제주특별자치도 제주시 조천읍 남조로 2528,010-9300-3363\n",
      "메리어트관 제주신화월드 호텔 앤 리조트,제주특별자치도 서귀포시 안덕면 신화역사로304번길 38,1670-8800\n",
      "메모리 인 제주,제주특별자치도 서귀포시 염돈로 95,064-738-8933\n",
      "메종글래드 제주,제주특별자치도 제주시 노연로 80,No Data\n",
      "물고기나무 게스트하우스,제주특별자치도 서귀포시 성산읍 중산간동로 4204-14,010-8566-1037\n",
      "미도모텔,제주특별자치도 서귀포시 성산읍 성산등용로 1,064-782-0820\n",
      "민박하얀집,제주특별자치도 제주시 한림읍 협재1길 9,064-796-3640\n",
      "밀라노모텔,제주특별자치도 서귀포시 솔동산로10번길 2,064-733-5421\n",
      "밀레니엄빌,제주특별자치도 서귀포시 보목로64번길 196,064-751-9980\n",
      "바다에누워 펜션,제주특별자치도 서귀포시 남원읍 위미해안로 60,064-764-6800\n",
      "바다하우스,제주특별자치도 제주시 애월읍 애월해안로 218,064-799-6192\n",
      "바다해호텔,제주특별자치도 서귀포시 천지연로 3-1,064-762-5530\n",
      "백패커스홈,제주특별자치도 서귀포시 중정로 24-7,010-7552-4002\n",
      "베니키아 중문호텔,제주특별자치도 서귀포시 천제연로 166,064-802-8889\n",
      "베니키아 호텔 제주,제주특별자치도 제주시 애월읍 애월해안로 554-10,064-799-3544\n",
      "베니키아 홈 더 제주리조트,제주특별자치도 제주시 한림읍 협재로 226,064-796-2908\n",
      "벤티모,제주특별자치도 제주시 연삼로 14,No Data\n",
      "볕들이펜션,제주특별자치도 서귀포시 성산읍 일출로 284-4,010-3408-6767\n",
      "보물섬펜션,제주특별자치도 서귀포시 성산읍 한도로242번길 10-11,064-784-0039\n",
      "뷰티풀하우스,제주특별자치도 서귀포시 이어도로253번길 2,1833-9306\n",
      "브릭216,제주특별자치도 서귀포시 이어도로 216,010-4382-0216\n",
      "블루스카이 펜션,제주특별자치도 서귀포시 색달로 60,064-738-5958\n",
      "블루펄리조트,제주특별자치도 서귀포시 태평로92번길 35,064-739-4002\n",
      "비울채울,제주특별자치도 서귀포시 검은여로130번길 73,064-732-0388\n",
      "비치스토리호텔 [한국관광 품질인증/Korea Quality],제주특별자치도 제주시 조천읍 조함해안로 492-5,010-3639-4011\n",
      "빌레리조트,제주특별자치도 제주시 애월읍 고내로13길 79,064-799-2002\n",
      "사조리조트 제주,제주특별자치도 제주시 조천읍 일주동로 1616-7,064-782-8600\n",
      "산들애풀하우스,제주특별자치도 서귀포시 성산읍 서성일로 689-8,064-784-1988\n",
      "샘모루펜션,제주특별자치도 서귀포시 염돈로28번길 11,064-739-9756\n",
      "샤뜰레 펜션,제주특별자치도 서귀포시 서호호근로46번길 68,064-738-9852\n",
      "샤론의집,제주특별자치도 서귀포시 성산읍 금백조로131번길 177-1,010-8676-5948\n",
      "샤이니호텔,제주특별자치도 제주시 구좌읍 송당4길 7,064-783-5089\n",
      "서귀포 귤림성,제주특별자치도 서귀포시 일주동로 8941,064-739-3331\n",
      "서귀포KAL호텔,제주특별자치도 서귀포시 칠십리로 242,064-733-2001\n",
      "서머셋 제주신화월드,제주특별자치도 서귀포시 안덕면 신화역사로304번길 89,1670-8800\n",
      "서툰가족,제주특별자치도 서귀포시 안덕면 사계중앙로 41-15,No Data\n",
      "소노벨 제주,제주특별자치도 제주시 조천읍 신북로 577,1588-4888\n",
      "소노캄 제주(구 샤인빌 리조트),제주특별자치도 서귀포시 표선면 일주동로 6347-17,02-1588-4888\n",
      "소랑호젠,제주특별자치도 서귀포시 남원읍 태위로 545,064-764-8016\n",
      "솔바람풍경소리,제주특별자치도 서귀포시 남원읍 태수로143번길 132-37,064-764-6002\n",
      "솔트,제주특별자치도 제주시 애월읍 애월해안로 226,No Data\n",
      "송악리조트,제주특별자치도 서귀포시 대정읍 형제해안로 260,064-794-6307\n",
      "숨 게스트하우스 제주공항점,제주특별자치도 제주시 서광로5길 2-2,070-8810-0106\n",
      "숲속의궁전,제주특별자치도 서귀포시 염돈로28번길 46,064-739-1915\n",
      "쉴띠 휴양펜션,제주특별자치도 서귀포시 안덕면 한창로 104,010-3697-6695, 010-4692-1104\n",
      "스타즈 호텔 제주 로베로(구 로베로호텔),제주특별자치도 제주시 관덕로 26,064-757-7111\n",
      "스프링힐 리조트,제주특별자치도 서귀포시 천제연로 292,064-738-3077\n",
      "시드니호텔,제주특별자치도 제주시 애월읍 애월해안로 943,010-3892-9924\n",
      "신라스테이 제주,제주특별자치도 제주시 노연로 100,064-717-9000\n",
      "신성리조트,제주특별자치도 서귀포시 이어도로 989,064-739-0114\n",
      "신세계호텔,제주특별자치도 서귀포시 중앙로 2-2,064-732-5800\n",
      "썬랜드 호텔,제주특별자치도 제주시 신광로 92,064-744-1601~2\n",
      "씨에나펜션,제주특별자치도 서귀포시 예래로 267,064-739-6623\n",
      "씨에스 호텔&리조트,제주특별자치도 서귀포시 중문관광로 198,064-735-3000\n",
      "아망뜨펜션(제주),제주특별자치도 서귀포시 표선면 민속해안로 11,064-787-0300\n",
      "아인스 호스텔,제주특별자치도 서귀포시 태평로 432,No Data\n",
      "아침의향기,제주특별자치도 서귀포시 색달중앙로 122,064-738-4679\n",
      "아트스테이 서귀포 하버[한국관광 품질인증/Korea Quality],제주특별자치도 서귀포시 태평로 436,064-801-9888\n",
      "앙끄리에펜션,제주특별자치도 서귀포시 색달로61번길 59-8,064-739-2727\n",
      "애월해안누리(구 하얀둥지),제주특별자치도 제주시 애월읍 애월해안로 298,064-799-1600\n",
      "에덴호스텔,제주특별자치도 제주시 서해안로 456-12,No Data\n",
      "에코그린리조트,제주특별자치도 제주시 한림읍 귀덕6길 94,064-796-8333\n",
      "엘린호텔 [한국관광 품질인증/Korea Quality],제주특별자치도 제주시 은남1길 4,064-743-5600\n",
      "엠버리조트,제주특별자치도 제주시 1100로 2671-51,No Data\n",
      "엠제이호텔,제주특별자치도 제주시 신광로4길 16,No Data\n",
      "예래펜션,제주특별자치도 서귀포시 예래해안로 527,010-9744-7768\n",
      "예이츠 산장,제주특별자치도 서귀포시 남원읍 516로 918,064-767-3746\n",
      "오션그랜드호텔제주,제주특별자치도 제주시 조천읍 조함해안로 490,064-783-0007\n",
      "오션스위츠 제주호텔,제주특별자치도 제주시 탑동해안로 74,1577-9766, 064-720-6000\n",
      "오션하우스,제주특별자치도 서귀포시 안덕면 사계남로216번길 42,010-3693-4541\n",
      "오션힐스테이,제주특별자치도 서귀포시 안덕면 사계북로 208,No Data\n",
      "와이리조트 제주(Y RESORT JJ),제주특별자치도 서귀포시 안덕면 화순중앙로124번길 75,064-794-7007\n",
      "용산 제주유스호스텔,제주특별자치도 서귀포시 이어도로 297,064-738-9502~4\n",
      "월드와이드 유스호스텔,제주특별자치도 제주시 애월읍 광령평화2길 116-12,064-799-7759\n",
      "이어도성 펜션,제주특별자치도 서귀포시 천제연로 113,064-738-0452\n",
      "제이뷰호텔,제주특별자치도 서귀포시 중산간서로 935,064-739-5200\n",
      "제주 그랑빌펜션,제주특별자치도 서귀포시 중문관광로 17,064-739-9994\n",
      "제주 금강산콘도,제주특별자치도 제주시 한림읍 협재로 210-18,064-795-7800\n",
      "제주 나폴리펜션,제주특별자치도 서귀포시 이어도로 139,064-738-4820\n",
      "제주 뉴오션리조트,제주특별자치도 제주시 애월읍 고내로13길 59,064-799-0797\n",
      "제주 라임오렌지빌,제주특별자치도 서귀포시 칠십리로 332,064-767-3888\n",
      "제주 마리나,제주특별자치도 제주시 신대로 45 (연동),064-746-6161\n",
      "제주 메이플호텔 [한국관광 품질인증/Korea Quality],제주특별자치도 제주시 원노형3길 41,064-745-6775\n",
      "제주 명도암유스호스텔,제주특별자치도 제주시 명림로 393,064-759-9596\n",
      "제주 블랙스톤 호텔,제주특별자치도 제주시 한림읍 한창로 925-122,064-796-9988\n",
      "제주 선샤인호텔,제주특별자치도 제주시 조천읍 신북로 481-9,064-780-4100\n",
      "제주 스위트호텔,제주특별자치도 서귀포시 중문관광로72번길 67,064-738-3800\n",
      "제주 스카브로호텔,제주특별자치도 서귀포시 예래해안로 15,064-738-1551\n",
      "제주 신신휴양펜션,제주특별자치도 서귀포시 안덕면 평화로319번길 133,010-9894-6411\n",
      "제주 써니데이,제주특별자치도 서귀포시 대포로 131,010-3808-5204\n",
      "제주 씨에코비치,제주특별자치도 제주시 조천읍 신흥관전길 89-5,064-782-4888~9\n",
      "제주 오리엔탈호텔,제주특별자치도 제주시 탑동로 47,064-752-8222\n",
      "제주 지삿개풍경,제주특별자치도 서귀포시 이어도로 150,064-738-5353\n",
      "제주 추억여행,제주특별자치도 서귀포시 태평로92번길 21,064-739-7999\n",
      "제주 칼 호텔,제주특별자치도 제주시 중앙로 151,064-724-2001\n",
      "제주 캐슬렉스 골프텔,제주특별자치도 서귀포시 안덕면 평화로 1241,064-793-6630\n",
      "제주 퍼시픽 호텔,제주특별자치도 제주시 서사로 20,064-758-2500\n",
      "제주 펄 관광호텔,제주특별자치도 제주시 신대로20길 49,064-742-8871\n",
      "제주 펜션 포시즌(Fourseason),제주특별자치도 서귀포시 칠십리로285번길 3,064-732-5222\n",
      "제주 하이랜드 펜션,제주특별자치도 서귀포시 이어도로 244,064-738-1944\n",
      "제주 휴펜션,제주특별자치도 서귀포시 구산봉로21번길 62,064-900-3336\n",
      "제주로얄호텔,제주특별자치도 제주시 신대로12길 45,064-743-2222\n",
      "제주마린리조트 햇살이든,제주특별자치도 서귀포시 성산읍 성산등용로 112-7,064-784-6161\n",
      "제주마중,제주특별자치도 제주시 한림읍 금능9길 10-1,010-8326-9116\n",
      "제주메이더호텔,제주특별자치도 제주시 구좌읍 일주동로 1626,064-766-8888\n",
      "제주목화휴양펜션,제주특별자치도 서귀포시 남원읍 태위로 485,064-702-4334\n",
      "제주바다산책,제주특별자치도 서귀포시 남원읍 남태해안로 11-14,064-764-9955\n",
      "제주바닷가하우스,제주특별자치도 서귀포시 대정읍 형제해안로 254,064-794-0977\n",
      "제주브릭스,제주특별자치도 서귀포시 태평로 121,No Data\n",
      "제주성산 아일랜드 펜션,제주특별자치도 서귀포시 성산읍 금백조로131번길 176,010-4750-7732<br />010-3789-1645\n",
      "제주스웨덴펜션,제주특별자치도 제주시 한림읍 명재로 100-45,064-796-3721\n",
      "제주스카이휴양펜션,제주특별자치도 서귀포시 표선면 세성로 352-32,010-5346-3039\n",
      "제주신라호텔,제주특별자치도 서귀포시 중문관광로72번길 75,064-735-5114\n",
      "제주썬레이크빌,제주특별자치도 서귀포시 성산읍 한도로 49,064-782-2277\n",
      "제주알(R)호텔 [한국관광 품질인증/Korea Quality],제주특별자치도 제주시 서광로14길 5,064-757-7734\n",
      "제주애 펜션,제주특별자치도 서귀포시 성산읍 일주동로 5047,010-3668-3045\n",
      "제주에코스위츠[한국관광 품질인증/Korea Quality],제주특별자치도 서귀포시 중문상로 207-13,064-738-9975\n",
      "제주오션팰리스호텔,제주특별자치도 서귀포시 중앙로 14,No Data\n",
      "제주올레하우스,제주특별자치도 제주시 구좌읍 덕행로 450-23,064-783-1152\n",
      "제주올리브,제주특별자치도 서귀포시 남원읍 태위로 604-13,064-764-0505\n",
      "제주이도펜션(구 제주펜트하우스),제주특별자치도 서귀포시 일주서로 166-61,064-738-4450<br />064-738-4460\n",
      "제주카사블랑카,제주특별자치도 서귀포시 학수암로 111,064-739-7739\n",
      "제주캐슬펜션,제주특별자치도 서귀포시 태평로92번길 36,064-739-6780\n",
      "제주태흥리조트,제주특별자치도 서귀포시 남원읍 태위로 984-7,064-764-8118\n",
      "제주팔레스호텔,제주특별자치도 제주시 탑동로 9,064-753-8811\n",
      "제주펜션 향림원,제주특별자치도 서귀포시 칠십리로394번길 8-3,064-733-5799\n",
      "제주해안휴양펜션,제주특별자치도 서귀포시 안덕면 사계남로 89,064-794-1886\n",
      "제주향,제주특별자치도 서귀포시 색달로61번길 57,064-739-5665\n",
      "조은리조트,제주특별자치도 서귀포시 이어도로 721,064-739-0640\n",
      "중문훼미리리조트,제주특별자치도 서귀포시 소보리당로164번길 83,064-738-7871\n",
      "지중해리조트,제주특별자치도 서귀포시 남원읍 남태해안로 445,064-764-0110\n",
      "천지연크리스탈호텔,제주특별자치도 서귀포시 천지연로 39,No Data\n",
      "청재설헌,제주특별자치도 서귀포시 인정오름로 135-18,064-732-2020\n",
      "취다선리조트(취다선 리조트 Tea&Meditation),제주특별자치도 서귀포시 성산읍 해맞이해안로 2688,010-5117-7552\n",
      "칠십리호텔,제주특별자치도 서귀포시 태평로353번길 22-3,No Data\n",
      "카이 호스텔,제주특별자치도 제주시 한림읍 협재2길 10,No Data\n",
      "카이 호스텔,제주특별자치도 제주시 한림읍 협재2길 10,064-796-2428\n",
      "카이로스,제주특별자치도 제주시 애월읍 장유길 49-43,010-7478-5707\n",
      "켄싱턴리조트 서귀포,제주특별자치도 서귀포시 이어도로 684,064-739-9001\n",
      "켄싱턴리조트 제주한림,제주특별자치도 제주시 한림읍 한림해안로 530,064-796-9600\n",
      "코델리아리조트,제주특별자치도 서귀포시 성산읍 일주동로4120번길 23-20,070-4548-2200\n",
      "클럽다인리조트,제주특별자치도 제주시 애월읍 애월해안로 400-9,064-799-2600\n",
      "킴스캐빈,제주특별자치도 서귀포시 성산읍 시흥상동로53번길 88-54,064-783-5026\n",
      "타미우스골프&빌리지,제주특별자치도 제주시 애월읍 화전길 201,064-793-0707\n",
      "테디 밸리 골프&리조트 호텔,제주특별자치도 서귀포시 안덕면 한창로 365,064-793-1000\n",
      "토비스콘도 제주,제주특별자치도 제주시 애월읍 애월로1길 8,064-799-4400\n",
      "티파니에서 아침을,제주특별자치도 서귀포시 남원읍 서의로154번길 12,064-764-9669\n",
      "틸다하우스,제주특별자치도 제주시 한경면 중산간서로 3367-1,010-9013-9064\n",
      "파밀리아,제주특별자치도 서귀포시 대포동서로 63-20,No Data\n",
      "팜밸리리조트,제주특별자치도 서귀포시 중산간서로 193,064-738-0002, 064-738-7705\n",
      "펜션연리,제주특별자치도 서귀포시 논짓물로 50,064-739-2564\n",
      "펠리스타운,제주특별자치도 서귀포시 성산읍 시흥하동로50번길 23,064-782-4003\n",
      "포도호텔,제주특별자치도 서귀포시 안덕면 산록남로 863,대표 064-792-5200<br />예약 064-792-8000\n",
      "포에마,제주특별자치도 제주시 한림읍 명월로 13,010-8827-4101\n",
      "푸른제주 펜션,제주특별자치도 서귀포시 성산읍 한도로 256,064-783-4830\n",
      "프레리아펜션,제주특별자치도 제주시 애월읍 유수암평화5길 34-29,010-9282-7042\n",
      "하니크라운호텔,제주특별자치도 제주시 삼성로 10,064-758-4200\n",
      "하얀언덕,제주특별자치도 서귀포시 표선면 민속해안로 351,010-3665-8201\n",
      "하와이관광호텔,제주특별자치도 제주시 사장3길 32,064-742-0061\n",
      "한화리조트 제주,제주특별자치도 제주시 명림로 575-107,064-725-9000\n",
      "해뜨는집 펜션,제주특별자치도 서귀포시 성산읍 한도로 137,064-784-8812\n",
      "해비치리조트,제주특별자치도 서귀포시 표선면 민속해안로 537,No Data\n",
      "해비치호텔,제주특별자치도 서귀포시 표선면 민속해안로 537,No Data\n",
      "해성파크텔,제주특별자치도 서귀포시 천제연로 158-4,No Data\n",
      "호텔 뉴크라운,제주특별자치도 제주시 신광로 87,064-742-1001\n",
      "호텔 리젠트마린,제주특별자치도 제주시 서부두2길 20,064-717-5000\n",
      "호텔 서귀피안,제주특별자치도 서귀포시 보목로64번길 178,No Data\n",
      "호텔 하나,제주특별자치도 서귀포시 중문관광로72번길 53,064-738-7001~11\n",
      "호텔레오,제주특별자치도 제주시 삼무로 14,064-754-7000\n",
      "호텔제이엠(HotelJM),제주특별자치도 제주시 삼무로1길 10-7,064-747-6767\n",
      "화인호텔,제주특별자치도 서귀포시 칠십리로 87,064-801-8888\n",
      "후아힌제주 풀빌라,제주특별자치도 제주시 애월읍 부룡수길 38-24,064-799-1240/1241\n",
      "휘닉스 제주 섭지코지,제주특별자치도 서귀포시 성산읍 섭지코지로 107,064-731-7000~5\n",
      "C&P리조트,제주특별자치도 서귀포시 성산읍 중산간동로 4328-63,064-784-7701\n",
      "IGH펜션,제주특별자치도 제주시 한경면 금등3길 25,010-8664-3340\n",
      "JJ하우스,제주특별자치도 서귀포시 중산간서로 241,064-739-7891\n",
      "THE BAY 제주리조트 (더베이 제주리조트),제주특별자치도 서귀포시 문필로35번길 46,064-732-8500\n",
      "WE호텔,제주특별자치도 서귀포시 1100로 453-95,064-730-1200\n"
     ]
    }
   ],
   "source": [
    "for item in items :\n",
    "    try:\n",
    "        print(item.find('title').text, end=',')\n",
    "        print(item.find('addr1').text, end=',')\n",
    "        print(item.find('tel').text) \n",
    "    except:\n",
    "        print('No Data')\n",
    "        "
   ]
  },
  {
   "cell_type": "code",
   "execution_count": 49,
   "id": "d7898cc4",
   "metadata": {},
   "outputs": [],
   "source": [
    "## 연습문제"
   ]
  },
  {
   "cell_type": "code",
   "execution_count": 50,
   "id": "221194f1",
   "metadata": {},
   "outputs": [],
   "source": [
    "## 위에서 추출한 데이터를 df로 작성"
   ]
  },
  {
   "cell_type": "code",
   "execution_count": null,
   "id": "489c27f5",
   "metadata": {},
   "outputs": [],
   "source": [
    "#### 연습문제 : 특정 지역을 선택해서 관광정보에서 제공하는 데이터를 수집해주세요\n"
   ]
  },
  {
   "cell_type": "code",
   "execution_count": null,
   "id": "26626667",
   "metadata": {},
   "outputs": [],
   "source": []
  },
  {
   "cell_type": "code",
   "execution_count": null,
   "id": "c5e7c25b",
   "metadata": {},
   "outputs": [],
   "source": []
  }
 ],
 "metadata": {
  "kernelspec": {
   "display_name": "Python 3",
   "language": "python",
   "name": "python3"
  },
  "language_info": {
   "codemirror_mode": {
    "name": "ipython",
    "version": 3
   },
   "file_extension": ".py",
   "mimetype": "text/x-python",
   "name": "python",
   "nbconvert_exporter": "python",
   "pygments_lexer": "ipython3",
   "version": "3.8.8"
  }
 },
 "nbformat": 4,
 "nbformat_minor": 5
}
