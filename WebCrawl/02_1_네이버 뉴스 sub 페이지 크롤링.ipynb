{
 "cells": [
  {
   "cell_type": "markdown",
   "id": "af267452",
   "metadata": {},
   "source": [
    "#### 네이버 뉴스 SUB 페이지 크롤링\n",
    "    - 한개의 SUB페이지 크롤링 한 후 함수로 재구성\n",
    "    - 02_1 번에서 수집된 데이터를 이용해서 여러 SUB 페이지 크롤링"
   ]
  },
  {
   "cell_type": "code",
   "execution_count": 26,
   "id": "57090e41",
   "metadata": {},
   "outputs": [],
   "source": [
    "import requests\n",
    "from bs4 import BeautifulSoup\n",
    "from urllib.request import urlopen\n"
   ]
  },
  {
   "cell_type": "code",
   "execution_count": 27,
   "id": "ccb790c1",
   "metadata": {},
   "outputs": [],
   "source": [
    "#뉴스 SUB페이지 문서 코드 받아오기\n",
    "url = \"https://news.naver.com/main/read.naver?mode=LSD&mid=sec&sid1=101&oid=001&aid=0012576808\"\n",
    "\n",
    "headers = {\"User-Agent\":\n",
    "          \"Mozilla/5.0 (Windows NT 10.0; Win64; x64) AppleWebKit/537.36 (KHTML, like Gecko) Chrome/92.0.4515.131 Safari/537.36\"}\n",
    "\n",
    "result = requests.get(url,headers=headers)"
   ]
  },
  {
   "cell_type": "code",
   "execution_count": 28,
   "id": "410a3b92",
   "metadata": {},
   "outputs": [
    {
     "data": {
      "text/plain": [
       "<Response [200]>"
      ]
     },
     "execution_count": 28,
     "metadata": {},
     "output_type": "execute_result"
    }
   ],
   "source": [
    "result"
   ]
  },
  {
   "cell_type": "code",
   "execution_count": 29,
   "id": "17af5bf1",
   "metadata": {},
   "outputs": [],
   "source": [
    "#result.text  전송된 소스코드를 문자열로 반환\n",
    "#result.content 전송된소스코드를 row text 형식으로 반환 , 앞에 b코드가 붙어있음"
   ]
  },
  {
   "cell_type": "code",
   "execution_count": 30,
   "id": "c4fbeb9f",
   "metadata": {},
   "outputs": [],
   "source": [
    "bs_obj = BeautifulSoup(result.content,'html.parser')\n",
    "#기사 제목 추출\n",
    "\n",
    "title = bs_obj.find(id='articleTitle')\n",
    "#title.text\n",
    "date_time = bs_obj.find('span',{\"class\":'t11'})\n",
    "#date_time.text\n",
    "\n"
   ]
  },
  {
   "cell_type": "markdown",
   "id": "c7c95700",
   "metadata": {},
   "source": [
    "### 개발자 도구의 copy selector 사용 방법\n",
    "- 크롤링 하려는 컨텐츠에서 검사 - 해당소스에서 단축메뉴 -copy - copy selector\n",
    "    - 붙여넣기하면 선택자를 반환해주는데, 선택된 내용이 없는 경우가 있음\n",
    "        - 잘못된 선택자를 생성했을 경우 -> 선택자 재구성\n",
    "        - 동적으로 생성되는 태그인 경우에는 선택자가 만들어지지만 정적으로 크롤링은 불가능\n",
    "        - 네이버 뉴스의 서브페이지 좋아요 수와 기사 댓글 수는 동적 생성해서 정적으로 크롤링이 불가능함\n",
    "\n",
    "bs_obj.select(\"#main_content > div.article_header > div.article_info > div > div.article_btns > div.article_btns_left > div > a > span.u_likeit_text._count.num\")"
   ]
  },
  {
   "cell_type": "code",
   "execution_count": 38,
   "id": "d686f86c",
   "metadata": {},
   "outputs": [],
   "source": [
    "#sub 페이지에서 수집된 데이터 반환하는 함수 작성(서브 페이지 url을 파라미터로 전달)\n",
    "\n",
    "def get_news_sub_info(url) :\n",
    "    #1. 전달된 url에 접속 후 응답객체 반환\n",
    "    \n",
    "    headers = {\"User-Agent\":\n",
    "              \"Mozilla/5.0 (Windows NT 10.0; Win64; x64) AppleWebKit/537.36 (KHTML, like Gecko) Chrome/92.0.4515.131 Safari/537.36\"}\n",
    "\n",
    "    result = requests.get(url, headers=headers)\n",
    "    \n",
    "    #2.bs4 객체 생성\n",
    "    bs_obj=BeautifulSoup(result.content, \"html.parser\")\n",
    "    \n",
    "    #3.필요 데이터 추출\n",
    "    # 기사 제목 추출(태그 객체)\n",
    "    title = bs_obj.find(id='articleTitle')\n",
    "    #기사 작성 시간 추출(태그 객체)\n",
    "    date_time = bs_obj.find('span',{\"class\":'t11'})\n",
    "    \n",
    "    #4. 수집데이터 dict로 구성 후 반환\n",
    "    dict_sub = {}\n",
    "    dict_sub['기사제목'] = title.text\n",
    "    dict_sub['기사 입력 시간'] = date_time.text\n",
    "    \n",
    "    return dict_sub"
   ]
  },
  {
   "cell_type": "code",
   "execution_count": 45,
   "id": "fc136d4b",
   "metadata": {},
   "outputs": [
    {
     "name": "stdout",
     "output_type": "stream",
     "text": [
      "{'기사제목': '1725명 신규확진,  \"비수도권 600명대 넘어가며 확산세\"', '기사 입력 시간': '2021.08.04. 오전 9:50'}\n",
      "{'기사제목': '박범계 “변협, 로톡 가입 변호사 징계 않길 바란다”', '기사 입력 시간': '2021.08.04. 오전 10:55'}\n",
      "{'기사제목': '文 \\'숨은 태양광 찾아라\\' 지시에…산업부 \"태양광, 피크 기여도 11.1%\"', '기사 입력 시간': '2021.08.04. 오전 11:19'}\n",
      "{'기사제목': '힘 실리는 8월 기준금리 인상... 국내외 금융기관 임박 전망', '기사 입력 시간': '2021.08.04. 오후 12:05'}\n",
      "{'기사제목': '맥도날드, 폐기 대상 식자재 사용 논란에 \"재발 방지 총력\"', '기사 입력 시간': '2021.08.04. 오전 9:38'}\n"
     ]
    }
   ],
   "source": [
    "## main: 함수호출 코드\n",
    "headers= {\"User-Agent\":\n",
    "         \"Mozilla/5.0(Window NT 10.0;Win64;x64) AppleWebKit/537.36 (KHTML,likeGecko) Chrome/87.0.4280.88 Safari/537.36\"}\n",
    "\n",
    "url = \"https://news.naver.com/\"\n",
    "res = requests.get(url,headers=headers)\n",
    "html = res.text\n",
    "bs_obj = BeautifulSoup(html,\"html.parser\")\n",
    "\n",
    "# 헤드라인 뉴스의 구성 ul, class : hdline_article_list\n",
    "news_list = bs_obj.find(\"ul\", {\"class\": \"hdline_article_list\"})\n",
    "# news_list\n",
    "\n",
    "# 모든 li 추출\n",
    "lis = news_list.findAll(\"li\")\n",
    "\n",
    "\n",
    "link_list=[]\n",
    "for li in lis :\n",
    "    a_tag = li.find(\"a\")\n",
    "    link_list.append(\"https://news.naver.com\"+a_tag[\"href\"])\n",
    "\n",
    "\n",
    "#link_list\n",
    "for url in (link_list):\n",
    "    res = get_news_sub_info(url)\n",
    "    print(res)\n",
    "    \n",
    "    "
   ]
  },
  {
   "cell_type": "code",
   "execution_count": 46,
   "id": "010fde5a",
   "metadata": {},
   "outputs": [],
   "source": [
    "##연습 문제\n",
    "\n",
    "##get_news_sub_info 함수의 반환값에 기사 내용까지 포함되게 코드 수정\n",
    "## 반환되는 결과값을 df로 구성하시오.\n",
    "\n"
   ]
  },
  {
   "cell_type": "code",
   "execution_count": null,
   "id": "9c092fb6",
   "metadata": {},
   "outputs": [],
   "source": []
  },
  {
   "cell_type": "code",
   "execution_count": null,
   "id": "c8ebac19",
   "metadata": {},
   "outputs": [],
   "source": []
  },
  {
   "cell_type": "code",
   "execution_count": null,
   "id": "34dec83b",
   "metadata": {},
   "outputs": [],
   "source": []
  }
 ],
 "metadata": {
  "kernelspec": {
   "display_name": "Python 3",
   "language": "python",
   "name": "python3"
  },
  "language_info": {
   "codemirror_mode": {
    "name": "ipython",
    "version": 3
   },
   "file_extension": ".py",
   "mimetype": "text/x-python",
   "name": "python",
   "nbconvert_exporter": "python",
   "pygments_lexer": "ipython3",
   "version": "3.8.8"
  }
 },
 "nbformat": 4,
 "nbformat_minor": 5
}
