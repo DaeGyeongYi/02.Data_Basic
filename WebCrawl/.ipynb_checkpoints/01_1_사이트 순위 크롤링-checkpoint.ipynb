{
 "cells": [
  {
   "cell_type": "markdown",
   "id": "960a0134",
   "metadata": {},
   "source": [
    "### 이용 빈도가 높은 웹 사이트 순위를 제공하는 사이트 크롤링\n",
    "- 크롤링 사이트\n",
    "    - https://www.alexa.com/topsites/countries/KR\n"
   ]
  },
  {
   "cell_type": "code",
   "execution_count": 2,
   "id": "85be1aa2",
   "metadata": {},
   "outputs": [],
   "source": [
    "import requests\n",
    "from bs4 import BeautifulSoup"
   ]
  },
  {
   "cell_type": "code",
   "execution_count": 3,
   "id": "2b031a0f",
   "metadata": {},
   "outputs": [],
   "source": [
    "url = 'https://www.alexa.com/topsites/countries/KR'\n",
    "\n",
    "html_website_rank = requests.get(url).text\n",
    "\n",
    "#html_website_rank[:2000]\n",
    "\n",
    "soup_website_rank = BeautifulSoup(html_website_rank,'html.parser') #파서를 Lxml로 사용해도 됨\n",
    "\n"
   ]
  },
  {
   "cell_type": "code",
   "execution_count": 4,
   "id": "8f85c55e",
   "metadata": {},
   "outputs": [
    {
     "data": {
      "text/plain": [
       "[<a href=\"https://support.alexa.com/hc/en-us/articles/200444340\" target=\"_blank\">this explanation</a>,\n",
       " <a href=\"/siteinfo/google.com\">Google.com</a>,\n",
       " <a href=\"/siteinfo/naver.com\">Naver.com</a>,\n",
       " <a href=\"/siteinfo/youtube.com\">Youtube.com</a>,\n",
       " <a href=\"/siteinfo/daum.net\">Daum.net</a>]"
      ]
     },
     "execution_count": 4,
     "metadata": {},
     "output_type": "execute_result"
    }
   ],
   "source": [
    "# p 태그의 요소 안에서 a태그의 요소를 찾음\n",
    "website_rank = soup_website_rank.select('p a')\n",
    "\n",
    "website_rank[:5]  # 첫번째 a태그에 순위와 상관없는 자료가 들어있음"
   ]
  },
  {
   "cell_type": "code",
   "execution_count": 5,
   "id": "46ac7780",
   "metadata": {},
   "outputs": [
    {
     "name": "stdout",
     "output_type": "stream",
     "text": [
      "<class 'bs4.element.Tag'>\n",
      "this explanation\n",
      "this explanation\n"
     ]
    }
   ],
   "source": [
    "print(type(website_rank[0]))\n",
    "print(website_rank[0].text) #태그 내부의 text를 저장하고 있는 속성\n",
    "print(website_rank[0].get_text())#태그 내부의 text를 반환하는 함수\n"
   ]
  },
  {
   "cell_type": "code",
   "execution_count": 6,
   "id": "4f721ed9",
   "metadata": {},
   "outputs": [
    {
     "name": "stdout",
     "output_type": "stream",
     "text": [
      "['this explanation', 'Google.com', 'Naver.com', 'Youtube.com', 'Daum.net', 'Tistory.com']\n",
      "51\n"
     ]
    }
   ],
   "source": [
    "# 모든 랭킹을 가져와서 리스트에 담기\n",
    "website_rank_domain = [website_rank_element.get_text() for website_rank_element in website_rank ]\n",
    "print(website_rank_domain[0:6])\n",
    "\n",
    "print(len(website_rank_domain))\n"
   ]
  },
  {
   "cell_type": "code",
   "execution_count": 7,
   "id": "8536bbf4",
   "metadata": {
    "scrolled": true
   },
   "outputs": [
    {
     "name": "stdout",
     "output_type": "stream",
     "text": [
      "['this explanation', 'Google.com', 'Naver.com', 'Youtube.com', 'Daum.net', 'Tistory.com', 'Kakao.com', 'Tmall.com', 'Google.co.kr', 'Amazon.com', 'Coupang.com', 'Netflix.com', 'Facebook.com', 'Sohu.com', 'Namu.wiki', 'Qq.com', 'Wikipedia.org', 'Taobao.com', '360.cn', 'Jd.com', 'Microsoft.com', 'Baidu.com', 'Instagram.com', 'Dcinside.com', 'Yahoo.com', 'Adobe.com', 'Zoom.us', 'Twitch.tv', 'Nate.com', '11st.co.kr', 'Donga.com', 'Office.com', 'Danawa.com', 'Gmarket.co.kr', 'Fmkorea.com', 'Apple.com', 'Weibo.com', 'Chosun.com', 'Sina.com.cn', 'Ebay.com', 'Saramin.co.kr', 'Inven.co.kr', 'Afreecatv.com', 'Dropbox.com', 'Aliexpress.com', 'Auction.co.kr', 'Bing.com', 'Jobkorea.co.kr', 'Nicovideo.jp', 'Stackoverflow.com', 'Yahoo.co.jp']\n",
      "51\n"
     ]
    }
   ],
   "source": [
    "# 순위와 상관없는 첫번째 요소 제거\n",
    "#website_rank_domain.pop(0)\n",
    "print(website_rank_domain)\n",
    "print(len(website_rank_domain))"
   ]
  },
  {
   "cell_type": "code",
   "execution_count": 8,
   "id": "196525ec",
   "metadata": {
    "scrolled": true
   },
   "outputs": [
    {
     "name": "stdout",
     "output_type": "stream",
     "text": [
      "[Top site in south korea]\n",
      "1: this explanation\n",
      "2: Google.com\n",
      "3: Naver.com\n",
      "4: Youtube.com\n",
      "5: Daum.net\n",
      "6: Tistory.com\n",
      "7: Kakao.com\n",
      "8: Tmall.com\n",
      "9: Google.co.kr\n",
      "10: Amazon.com\n",
      "11: Coupang.com\n",
      "12: Netflix.com\n",
      "13: Facebook.com\n",
      "14: Sohu.com\n",
      "15: Namu.wiki\n",
      "16: Qq.com\n",
      "17: Wikipedia.org\n",
      "18: Taobao.com\n",
      "19: 360.cn\n",
      "20: Jd.com\n",
      "21: Microsoft.com\n",
      "22: Baidu.com\n",
      "23: Instagram.com\n",
      "24: Dcinside.com\n",
      "25: Yahoo.com\n",
      "26: Adobe.com\n",
      "27: Zoom.us\n",
      "28: Twitch.tv\n",
      "29: Nate.com\n",
      "30: 11st.co.kr\n",
      "31: Donga.com\n",
      "32: Office.com\n",
      "33: Danawa.com\n",
      "34: Gmarket.co.kr\n",
      "35: Fmkorea.com\n",
      "36: Apple.com\n",
      "37: Weibo.com\n",
      "38: Chosun.com\n",
      "39: Sina.com.cn\n",
      "40: Ebay.com\n",
      "41: Saramin.co.kr\n",
      "42: Inven.co.kr\n",
      "43: Afreecatv.com\n",
      "44: Dropbox.com\n",
      "45: Aliexpress.com\n",
      "46: Auction.co.kr\n",
      "47: Bing.com\n",
      "48: Jobkorea.co.kr\n",
      "49: Nicovideo.jp\n",
      "50: Stackoverflow.com\n",
      "51: Yahoo.co.jp\n"
     ]
    }
   ],
   "source": [
    "# 전체 data 출력 후 확인\n",
    "\n",
    "print(\"[Top site in south korea]\")\n",
    "\n",
    "for k in range(len(website_rank_domain)):\n",
    "    print(\"{0}: {1}\".format(k+1,website_rank_domain[k]))"
   ]
  },
  {
   "cell_type": "code",
   "execution_count": 9,
   "id": "63c067e3",
   "metadata": {
    "scrolled": true
   },
   "outputs": [
    {
     "data": {
      "text/html": [
       "<div>\n",
       "<style scoped>\n",
       "    .dataframe tbody tr th:only-of-type {\n",
       "        vertical-align: middle;\n",
       "    }\n",
       "\n",
       "    .dataframe tbody tr th {\n",
       "        vertical-align: top;\n",
       "    }\n",
       "\n",
       "    .dataframe thead th {\n",
       "        text-align: right;\n",
       "    }\n",
       "</style>\n",
       "<table border=\"1\" class=\"dataframe\">\n",
       "  <thead>\n",
       "    <tr style=\"text-align: right;\">\n",
       "      <th></th>\n",
       "      <th>Website</th>\n",
       "    </tr>\n",
       "  </thead>\n",
       "  <tbody>\n",
       "    <tr>\n",
       "      <th>1</th>\n",
       "      <td>this explanation</td>\n",
       "    </tr>\n",
       "    <tr>\n",
       "      <th>2</th>\n",
       "      <td>Google.com</td>\n",
       "    </tr>\n",
       "    <tr>\n",
       "      <th>3</th>\n",
       "      <td>Naver.com</td>\n",
       "    </tr>\n",
       "    <tr>\n",
       "      <th>4</th>\n",
       "      <td>Youtube.com</td>\n",
       "    </tr>\n",
       "    <tr>\n",
       "      <th>5</th>\n",
       "      <td>Daum.net</td>\n",
       "    </tr>\n",
       "    <tr>\n",
       "      <th>6</th>\n",
       "      <td>Tistory.com</td>\n",
       "    </tr>\n",
       "    <tr>\n",
       "      <th>7</th>\n",
       "      <td>Kakao.com</td>\n",
       "    </tr>\n",
       "    <tr>\n",
       "      <th>8</th>\n",
       "      <td>Tmall.com</td>\n",
       "    </tr>\n",
       "    <tr>\n",
       "      <th>9</th>\n",
       "      <td>Google.co.kr</td>\n",
       "    </tr>\n",
       "    <tr>\n",
       "      <th>10</th>\n",
       "      <td>Amazon.com</td>\n",
       "    </tr>\n",
       "    <tr>\n",
       "      <th>11</th>\n",
       "      <td>Coupang.com</td>\n",
       "    </tr>\n",
       "    <tr>\n",
       "      <th>12</th>\n",
       "      <td>Netflix.com</td>\n",
       "    </tr>\n",
       "    <tr>\n",
       "      <th>13</th>\n",
       "      <td>Facebook.com</td>\n",
       "    </tr>\n",
       "    <tr>\n",
       "      <th>14</th>\n",
       "      <td>Sohu.com</td>\n",
       "    </tr>\n",
       "    <tr>\n",
       "      <th>15</th>\n",
       "      <td>Namu.wiki</td>\n",
       "    </tr>\n",
       "    <tr>\n",
       "      <th>16</th>\n",
       "      <td>Qq.com</td>\n",
       "    </tr>\n",
       "    <tr>\n",
       "      <th>17</th>\n",
       "      <td>Wikipedia.org</td>\n",
       "    </tr>\n",
       "    <tr>\n",
       "      <th>18</th>\n",
       "      <td>Taobao.com</td>\n",
       "    </tr>\n",
       "    <tr>\n",
       "      <th>19</th>\n",
       "      <td>360.cn</td>\n",
       "    </tr>\n",
       "    <tr>\n",
       "      <th>20</th>\n",
       "      <td>Jd.com</td>\n",
       "    </tr>\n",
       "    <tr>\n",
       "      <th>21</th>\n",
       "      <td>Microsoft.com</td>\n",
       "    </tr>\n",
       "    <tr>\n",
       "      <th>22</th>\n",
       "      <td>Baidu.com</td>\n",
       "    </tr>\n",
       "    <tr>\n",
       "      <th>23</th>\n",
       "      <td>Instagram.com</td>\n",
       "    </tr>\n",
       "    <tr>\n",
       "      <th>24</th>\n",
       "      <td>Dcinside.com</td>\n",
       "    </tr>\n",
       "    <tr>\n",
       "      <th>25</th>\n",
       "      <td>Yahoo.com</td>\n",
       "    </tr>\n",
       "    <tr>\n",
       "      <th>26</th>\n",
       "      <td>Adobe.com</td>\n",
       "    </tr>\n",
       "    <tr>\n",
       "      <th>27</th>\n",
       "      <td>Zoom.us</td>\n",
       "    </tr>\n",
       "    <tr>\n",
       "      <th>28</th>\n",
       "      <td>Twitch.tv</td>\n",
       "    </tr>\n",
       "    <tr>\n",
       "      <th>29</th>\n",
       "      <td>Nate.com</td>\n",
       "    </tr>\n",
       "    <tr>\n",
       "      <th>30</th>\n",
       "      <td>11st.co.kr</td>\n",
       "    </tr>\n",
       "    <tr>\n",
       "      <th>31</th>\n",
       "      <td>Donga.com</td>\n",
       "    </tr>\n",
       "    <tr>\n",
       "      <th>32</th>\n",
       "      <td>Office.com</td>\n",
       "    </tr>\n",
       "    <tr>\n",
       "      <th>33</th>\n",
       "      <td>Danawa.com</td>\n",
       "    </tr>\n",
       "    <tr>\n",
       "      <th>34</th>\n",
       "      <td>Gmarket.co.kr</td>\n",
       "    </tr>\n",
       "    <tr>\n",
       "      <th>35</th>\n",
       "      <td>Fmkorea.com</td>\n",
       "    </tr>\n",
       "    <tr>\n",
       "      <th>36</th>\n",
       "      <td>Apple.com</td>\n",
       "    </tr>\n",
       "    <tr>\n",
       "      <th>37</th>\n",
       "      <td>Weibo.com</td>\n",
       "    </tr>\n",
       "    <tr>\n",
       "      <th>38</th>\n",
       "      <td>Chosun.com</td>\n",
       "    </tr>\n",
       "    <tr>\n",
       "      <th>39</th>\n",
       "      <td>Sina.com.cn</td>\n",
       "    </tr>\n",
       "    <tr>\n",
       "      <th>40</th>\n",
       "      <td>Ebay.com</td>\n",
       "    </tr>\n",
       "    <tr>\n",
       "      <th>41</th>\n",
       "      <td>Saramin.co.kr</td>\n",
       "    </tr>\n",
       "    <tr>\n",
       "      <th>42</th>\n",
       "      <td>Inven.co.kr</td>\n",
       "    </tr>\n",
       "    <tr>\n",
       "      <th>43</th>\n",
       "      <td>Afreecatv.com</td>\n",
       "    </tr>\n",
       "    <tr>\n",
       "      <th>44</th>\n",
       "      <td>Dropbox.com</td>\n",
       "    </tr>\n",
       "    <tr>\n",
       "      <th>45</th>\n",
       "      <td>Aliexpress.com</td>\n",
       "    </tr>\n",
       "    <tr>\n",
       "      <th>46</th>\n",
       "      <td>Auction.co.kr</td>\n",
       "    </tr>\n",
       "    <tr>\n",
       "      <th>47</th>\n",
       "      <td>Bing.com</td>\n",
       "    </tr>\n",
       "    <tr>\n",
       "      <th>48</th>\n",
       "      <td>Jobkorea.co.kr</td>\n",
       "    </tr>\n",
       "    <tr>\n",
       "      <th>49</th>\n",
       "      <td>Nicovideo.jp</td>\n",
       "    </tr>\n",
       "    <tr>\n",
       "      <th>50</th>\n",
       "      <td>Stackoverflow.com</td>\n",
       "    </tr>\n",
       "    <tr>\n",
       "      <th>51</th>\n",
       "      <td>Yahoo.co.jp</td>\n",
       "    </tr>\n",
       "  </tbody>\n",
       "</table>\n",
       "</div>"
      ],
      "text/plain": [
       "              Website\n",
       "1    this explanation\n",
       "2          Google.com\n",
       "3           Naver.com\n",
       "4         Youtube.com\n",
       "5            Daum.net\n",
       "6         Tistory.com\n",
       "7           Kakao.com\n",
       "8           Tmall.com\n",
       "9        Google.co.kr\n",
       "10         Amazon.com\n",
       "11        Coupang.com\n",
       "12        Netflix.com\n",
       "13       Facebook.com\n",
       "14           Sohu.com\n",
       "15          Namu.wiki\n",
       "16             Qq.com\n",
       "17      Wikipedia.org\n",
       "18         Taobao.com\n",
       "19             360.cn\n",
       "20             Jd.com\n",
       "21      Microsoft.com\n",
       "22          Baidu.com\n",
       "23      Instagram.com\n",
       "24       Dcinside.com\n",
       "25          Yahoo.com\n",
       "26          Adobe.com\n",
       "27            Zoom.us\n",
       "28          Twitch.tv\n",
       "29           Nate.com\n",
       "30         11st.co.kr\n",
       "31          Donga.com\n",
       "32         Office.com\n",
       "33         Danawa.com\n",
       "34      Gmarket.co.kr\n",
       "35        Fmkorea.com\n",
       "36          Apple.com\n",
       "37          Weibo.com\n",
       "38         Chosun.com\n",
       "39        Sina.com.cn\n",
       "40           Ebay.com\n",
       "41      Saramin.co.kr\n",
       "42        Inven.co.kr\n",
       "43      Afreecatv.com\n",
       "44        Dropbox.com\n",
       "45     Aliexpress.com\n",
       "46      Auction.co.kr\n",
       "47           Bing.com\n",
       "48     Jobkorea.co.kr\n",
       "49       Nicovideo.jp\n",
       "50  Stackoverflow.com\n",
       "51        Yahoo.co.jp"
      ]
     },
     "execution_count": 9,
     "metadata": {},
     "output_type": "execute_result"
    }
   ],
   "source": [
    "import pandas as pd\n",
    "\n",
    "website_rank_dict = {'Website':website_rank_domain}\n",
    "\n",
    "df = pd.DataFrame(website_rank_dict, columns = ['Website'], \n",
    "                  index=range(1,len(website_rank_domain)+1))\n",
    "\n",
    "df"
   ]
  },
  {
   "cell_type": "code",
   "execution_count": 10,
   "id": "1a14be63",
   "metadata": {
    "scrolled": true
   },
   "outputs": [
    {
     "data": {
      "text/plain": [
       "['https://www.alexa.com/siteinfo/google.com',\n",
       " 'https://www.alexa.com/siteinfo/naver.com',\n",
       " 'https://www.alexa.com/siteinfo/youtube.com',\n",
       " 'https://www.alexa.com/siteinfo/daum.net',\n",
       " 'https://www.alexa.com/siteinfo/tistory.com',\n",
       " 'https://www.alexa.com/siteinfo/kakao.com',\n",
       " 'https://www.alexa.com/siteinfo/tmall.com',\n",
       " 'https://www.alexa.com/siteinfo/google.co.kr',\n",
       " 'https://www.alexa.com/siteinfo/amazon.com',\n",
       " 'https://www.alexa.com/siteinfo/coupang.com',\n",
       " 'https://www.alexa.com/siteinfo/netflix.com',\n",
       " 'https://www.alexa.com/siteinfo/facebook.com',\n",
       " 'https://www.alexa.com/siteinfo/sohu.com',\n",
       " 'https://www.alexa.com/siteinfo/namu.wiki',\n",
       " 'https://www.alexa.com/siteinfo/qq.com',\n",
       " 'https://www.alexa.com/siteinfo/wikipedia.org',\n",
       " 'https://www.alexa.com/siteinfo/taobao.com',\n",
       " 'https://www.alexa.com/siteinfo/360.cn',\n",
       " 'https://www.alexa.com/siteinfo/jd.com',\n",
       " 'https://www.alexa.com/siteinfo/microsoft.com',\n",
       " 'https://www.alexa.com/siteinfo/baidu.com',\n",
       " 'https://www.alexa.com/siteinfo/instagram.com',\n",
       " 'https://www.alexa.com/siteinfo/dcinside.com',\n",
       " 'https://www.alexa.com/siteinfo/yahoo.com',\n",
       " 'https://www.alexa.com/siteinfo/adobe.com',\n",
       " 'https://www.alexa.com/siteinfo/zoom.us',\n",
       " 'https://www.alexa.com/siteinfo/twitch.tv',\n",
       " 'https://www.alexa.com/siteinfo/nate.com',\n",
       " 'https://www.alexa.com/siteinfo/11st.co.kr',\n",
       " 'https://www.alexa.com/siteinfo/donga.com',\n",
       " 'https://www.alexa.com/siteinfo/office.com',\n",
       " 'https://www.alexa.com/siteinfo/danawa.com',\n",
       " 'https://www.alexa.com/siteinfo/gmarket.co.kr',\n",
       " 'https://www.alexa.com/siteinfo/fmkorea.com',\n",
       " 'https://www.alexa.com/siteinfo/apple.com',\n",
       " 'https://www.alexa.com/siteinfo/weibo.com',\n",
       " 'https://www.alexa.com/siteinfo/chosun.com',\n",
       " 'https://www.alexa.com/siteinfo/sina.com.cn',\n",
       " 'https://www.alexa.com/siteinfo/ebay.com',\n",
       " 'https://www.alexa.com/siteinfo/saramin.co.kr',\n",
       " 'https://www.alexa.com/siteinfo/inven.co.kr',\n",
       " 'https://www.alexa.com/siteinfo/afreecatv.com',\n",
       " 'https://www.alexa.com/siteinfo/dropbox.com',\n",
       " 'https://www.alexa.com/siteinfo/aliexpress.com',\n",
       " 'https://www.alexa.com/siteinfo/auction.co.kr',\n",
       " 'https://www.alexa.com/siteinfo/bing.com',\n",
       " 'https://www.alexa.com/siteinfo/jobkorea.co.kr',\n",
       " 'https://www.alexa.com/siteinfo/nicovideo.jp',\n",
       " 'https://www.alexa.com/siteinfo/stackoverflow.com',\n",
       " 'https://www.alexa.com/siteinfo/yahoo.co.jp']"
      ]
     },
     "execution_count": 10,
     "metadata": {},
     "output_type": "execute_result"
    }
   ],
   "source": [
    "# 연습문제 : 위 df에 각 사이트의 정보를 제공하는 url까지 추출해서 컬럼으로 추가하시오\n",
    "\n",
    "a_t = soup_website_rank.select('p a')\n",
    "lis = []\n",
    "\n",
    "for a in a_t:\n",
    "    lis.append(\"https://www.alexa.com\"+a['href'])\n",
    "lis.pop(0)\n",
    "lis"
   ]
  },
  {
   "cell_type": "code",
   "execution_count": 11,
   "id": "def9b24b",
   "metadata": {
    "scrolled": true
   },
   "outputs": [
    {
     "ename": "ValueError",
     "evalue": "Length of values (50) does not match length of index (51)",
     "output_type": "error",
     "traceback": [
      "\u001b[1;31m---------------------------------------------------------------------------\u001b[0m",
      "\u001b[1;31mValueError\u001b[0m                                Traceback (most recent call last)",
      "\u001b[1;32m<ipython-input-11-6ac120fb4bfb>\u001b[0m in \u001b[0;36m<module>\u001b[1;34m\u001b[0m\n\u001b[1;32m----> 1\u001b[1;33m \u001b[0mdf\u001b[0m\u001b[1;33m[\u001b[0m\u001b[1;34m'site info'\u001b[0m\u001b[1;33m]\u001b[0m \u001b[1;33m=\u001b[0m \u001b[0mlis\u001b[0m\u001b[1;33m\u001b[0m\u001b[1;33m\u001b[0m\u001b[0m\n\u001b[0m\u001b[0;32m      2\u001b[0m \u001b[0mdf\u001b[0m\u001b[1;33m\u001b[0m\u001b[1;33m\u001b[0m\u001b[0m\n",
      "\u001b[1;32m~\\anaconda3\\lib\\site-packages\\pandas\\core\\frame.py\u001b[0m in \u001b[0;36m__setitem__\u001b[1;34m(self, key, value)\u001b[0m\n\u001b[0;32m   3161\u001b[0m         \u001b[1;32melse\u001b[0m\u001b[1;33m:\u001b[0m\u001b[1;33m\u001b[0m\u001b[1;33m\u001b[0m\u001b[0m\n\u001b[0;32m   3162\u001b[0m             \u001b[1;31m# set column\u001b[0m\u001b[1;33m\u001b[0m\u001b[1;33m\u001b[0m\u001b[1;33m\u001b[0m\u001b[0m\n\u001b[1;32m-> 3163\u001b[1;33m             \u001b[0mself\u001b[0m\u001b[1;33m.\u001b[0m\u001b[0m_set_item\u001b[0m\u001b[1;33m(\u001b[0m\u001b[0mkey\u001b[0m\u001b[1;33m,\u001b[0m \u001b[0mvalue\u001b[0m\u001b[1;33m)\u001b[0m\u001b[1;33m\u001b[0m\u001b[1;33m\u001b[0m\u001b[0m\n\u001b[0m\u001b[0;32m   3164\u001b[0m \u001b[1;33m\u001b[0m\u001b[0m\n\u001b[0;32m   3165\u001b[0m     \u001b[1;32mdef\u001b[0m \u001b[0m_setitem_slice\u001b[0m\u001b[1;33m(\u001b[0m\u001b[0mself\u001b[0m\u001b[1;33m,\u001b[0m \u001b[0mkey\u001b[0m\u001b[1;33m:\u001b[0m \u001b[0mslice\u001b[0m\u001b[1;33m,\u001b[0m \u001b[0mvalue\u001b[0m\u001b[1;33m)\u001b[0m\u001b[1;33m:\u001b[0m\u001b[1;33m\u001b[0m\u001b[1;33m\u001b[0m\u001b[0m\n",
      "\u001b[1;32m~\\anaconda3\\lib\\site-packages\\pandas\\core\\frame.py\u001b[0m in \u001b[0;36m_set_item\u001b[1;34m(self, key, value)\u001b[0m\n\u001b[0;32m   3240\u001b[0m         \"\"\"\n\u001b[0;32m   3241\u001b[0m         \u001b[0mself\u001b[0m\u001b[1;33m.\u001b[0m\u001b[0m_ensure_valid_index\u001b[0m\u001b[1;33m(\u001b[0m\u001b[0mvalue\u001b[0m\u001b[1;33m)\u001b[0m\u001b[1;33m\u001b[0m\u001b[1;33m\u001b[0m\u001b[0m\n\u001b[1;32m-> 3242\u001b[1;33m         \u001b[0mvalue\u001b[0m \u001b[1;33m=\u001b[0m \u001b[0mself\u001b[0m\u001b[1;33m.\u001b[0m\u001b[0m_sanitize_column\u001b[0m\u001b[1;33m(\u001b[0m\u001b[0mkey\u001b[0m\u001b[1;33m,\u001b[0m \u001b[0mvalue\u001b[0m\u001b[1;33m)\u001b[0m\u001b[1;33m\u001b[0m\u001b[1;33m\u001b[0m\u001b[0m\n\u001b[0m\u001b[0;32m   3243\u001b[0m         \u001b[0mNDFrame\u001b[0m\u001b[1;33m.\u001b[0m\u001b[0m_set_item\u001b[0m\u001b[1;33m(\u001b[0m\u001b[0mself\u001b[0m\u001b[1;33m,\u001b[0m \u001b[0mkey\u001b[0m\u001b[1;33m,\u001b[0m \u001b[0mvalue\u001b[0m\u001b[1;33m)\u001b[0m\u001b[1;33m\u001b[0m\u001b[1;33m\u001b[0m\u001b[0m\n\u001b[0;32m   3244\u001b[0m \u001b[1;33m\u001b[0m\u001b[0m\n",
      "\u001b[1;32m~\\anaconda3\\lib\\site-packages\\pandas\\core\\frame.py\u001b[0m in \u001b[0;36m_sanitize_column\u001b[1;34m(self, key, value, broadcast)\u001b[0m\n\u001b[0;32m   3897\u001b[0m \u001b[1;33m\u001b[0m\u001b[0m\n\u001b[0;32m   3898\u001b[0m             \u001b[1;31m# turn me into an ndarray\u001b[0m\u001b[1;33m\u001b[0m\u001b[1;33m\u001b[0m\u001b[1;33m\u001b[0m\u001b[0m\n\u001b[1;32m-> 3899\u001b[1;33m             \u001b[0mvalue\u001b[0m \u001b[1;33m=\u001b[0m \u001b[0msanitize_index\u001b[0m\u001b[1;33m(\u001b[0m\u001b[0mvalue\u001b[0m\u001b[1;33m,\u001b[0m \u001b[0mself\u001b[0m\u001b[1;33m.\u001b[0m\u001b[0mindex\u001b[0m\u001b[1;33m)\u001b[0m\u001b[1;33m\u001b[0m\u001b[1;33m\u001b[0m\u001b[0m\n\u001b[0m\u001b[0;32m   3900\u001b[0m             \u001b[1;32mif\u001b[0m \u001b[1;32mnot\u001b[0m \u001b[0misinstance\u001b[0m\u001b[1;33m(\u001b[0m\u001b[0mvalue\u001b[0m\u001b[1;33m,\u001b[0m \u001b[1;33m(\u001b[0m\u001b[0mnp\u001b[0m\u001b[1;33m.\u001b[0m\u001b[0mndarray\u001b[0m\u001b[1;33m,\u001b[0m \u001b[0mIndex\u001b[0m\u001b[1;33m)\u001b[0m\u001b[1;33m)\u001b[0m\u001b[1;33m:\u001b[0m\u001b[1;33m\u001b[0m\u001b[1;33m\u001b[0m\u001b[0m\n\u001b[0;32m   3901\u001b[0m                 \u001b[1;32mif\u001b[0m \u001b[0misinstance\u001b[0m\u001b[1;33m(\u001b[0m\u001b[0mvalue\u001b[0m\u001b[1;33m,\u001b[0m \u001b[0mlist\u001b[0m\u001b[1;33m)\u001b[0m \u001b[1;32mand\u001b[0m \u001b[0mlen\u001b[0m\u001b[1;33m(\u001b[0m\u001b[0mvalue\u001b[0m\u001b[1;33m)\u001b[0m \u001b[1;33m>\u001b[0m \u001b[1;36m0\u001b[0m\u001b[1;33m:\u001b[0m\u001b[1;33m\u001b[0m\u001b[1;33m\u001b[0m\u001b[0m\n",
      "\u001b[1;32m~\\anaconda3\\lib\\site-packages\\pandas\\core\\internals\\construction.py\u001b[0m in \u001b[0;36msanitize_index\u001b[1;34m(data, index)\u001b[0m\n\u001b[0;32m    749\u001b[0m     \"\"\"\n\u001b[0;32m    750\u001b[0m     \u001b[1;32mif\u001b[0m \u001b[0mlen\u001b[0m\u001b[1;33m(\u001b[0m\u001b[0mdata\u001b[0m\u001b[1;33m)\u001b[0m \u001b[1;33m!=\u001b[0m \u001b[0mlen\u001b[0m\u001b[1;33m(\u001b[0m\u001b[0mindex\u001b[0m\u001b[1;33m)\u001b[0m\u001b[1;33m:\u001b[0m\u001b[1;33m\u001b[0m\u001b[1;33m\u001b[0m\u001b[0m\n\u001b[1;32m--> 751\u001b[1;33m         raise ValueError(\n\u001b[0m\u001b[0;32m    752\u001b[0m             \u001b[1;34m\"Length of values \"\u001b[0m\u001b[1;33m\u001b[0m\u001b[1;33m\u001b[0m\u001b[0m\n\u001b[0;32m    753\u001b[0m             \u001b[1;34mf\"({len(data)}) \"\u001b[0m\u001b[1;33m\u001b[0m\u001b[1;33m\u001b[0m\u001b[0m\n",
      "\u001b[1;31mValueError\u001b[0m: Length of values (50) does not match length of index (51)"
     ]
    }
   ],
   "source": [
    "df['site info'] = lis\n",
    "df"
   ]
  },
  {
   "cell_type": "markdown",
   "id": "7c1bd263",
   "metadata": {},
   "source": [
    "### 강사님 풀이"
   ]
  },
  {
   "cell_type": "code",
   "execution_count": 13,
   "id": "00a9a594",
   "metadata": {},
   "outputs": [
    {
     "data": {
      "text/plain": [
       "<a href=\"https://support.alexa.com/hc/en-us/articles/200444340\" target=\"_blank\">this explanation</a>"
      ]
     },
     "execution_count": 13,
     "metadata": {},
     "output_type": "execute_result"
    }
   ],
   "source": [
    "website_rank_domain\n",
    "website_rank\n",
    "\n",
    "website_rank[0]"
   ]
  },
  {
   "cell_type": "code",
   "execution_count": null,
   "id": "0a2a3e50",
   "metadata": {},
   "outputs": [],
   "source": [
    "#모든 랭킹 사이트의 연결 url을 가져와서 리스트에 담기 (href)\n",
    "website_rank_url = [i for i in website_rank]\n"
   ]
  }
 ],
 "metadata": {
  "kernelspec": {
   "display_name": "Python 3",
   "language": "python",
   "name": "python3"
  },
  "language_info": {
   "codemirror_mode": {
    "name": "ipython",
    "version": 3
   },
   "file_extension": ".py",
   "mimetype": "text/x-python",
   "name": "python",
   "nbconvert_exporter": "python",
   "pygments_lexer": "ipython3",
   "version": "3.8.8"
  }
 },
 "nbformat": 4,
 "nbformat_minor": 5
}
