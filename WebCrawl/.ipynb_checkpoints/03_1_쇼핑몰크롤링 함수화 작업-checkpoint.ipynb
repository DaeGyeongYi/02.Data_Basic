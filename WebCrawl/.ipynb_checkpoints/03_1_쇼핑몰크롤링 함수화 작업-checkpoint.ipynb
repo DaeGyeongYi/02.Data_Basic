{
 "cells": [
  {
   "cell_type": "code",
   "execution_count": 1,
   "metadata": {},
   "outputs": [],
   "source": [
    "from urllib.request import urlopen\n",
    "from bs4 import BeautifulSoup\n",
    "import pandas as pd\n",
    "import numpy as np"
   ]
  },
  {
   "cell_type": "code",
   "execution_count": 2,
   "metadata": {},
   "outputs": [],
   "source": [
    "# 크롤링 문서 요청해서 응답객체 반환\n",
    "url=\"http://jolse.com/category/toners-mists/1019/\"\n",
    "html = urlopen(url)\n",
    "htmls = html.read()\n",
    "# print(htmls)\n",
    "bs_obj = BeautifulSoup(htmls,\"html.parser\")"
   ]
  },
  {
   "cell_type": "code",
   "execution_count": 5,
   "metadata": {},
   "outputs": [],
   "source": [
    "## 한 페이지에 모든 상품이 들어있는 ul 태그 추출\n",
    "# ul class:prdList grid4\n",
    "ul=bs_obj.find(\"ul\",{\"class\":\"prdList grid4\"})\n",
    "## 품목 1개를 담고 있는 div 태그 추출\n",
    "## div class:box\n",
    "prd_boxes = ul.findAll(\"div\", {\"class\":\"box\"})\n"
   ]
  },
  {
   "cell_type": "code",
   "execution_count": 6,
   "metadata": {},
   "outputs": [],
   "source": [
    "# box안에 들어 있는 1개의 상품에서 정보를 추출해서 dict형태로  반환하는 함수\n",
    "def get_product_info(box) :\n",
    "    p_tag = box.find(\"p\",{\"class\":\"name\"})\n",
    "    span = p_tag.find(\"span\")\n",
    "    # 가격 추출 코드\n",
    "    price_ul = box.find(\"ul\")\n",
    "    price_span = price_ul.findAll(\"span\")\n",
    "    # 최종 data 추출 후 출력\n",
    "    \n",
    "    return{\"prd_name\":span.text,\"price\":price_span[1].text,\"sale_price\":price_span[-1].text}\n"
   ]
  },
  {
   "cell_type": "code",
   "execution_count": 9,
   "metadata": {},
   "outputs": [],
   "source": [
    "# 전달된 url 페이지에 접근해서 해당페지의 전체 상품 데이터를 추출 한 후 각 상품마다 get_product_info()함수를 호출해서\n",
    "# 각 상품에대한 추출 정보를 받아옴 - 들어온 각 상품 정보를 리스트에 저장 한 수 해당 반환\n",
    "def get_page_products(url) :\n",
    "    url=url\n",
    "    html = urlopen(url)\n",
    "    htmls = html.read()\n",
    "    # print(htmls)\n",
    "    bs_obj = BeautifulSoup(htmls,\"html.parser\")\n",
    "\n",
    "    ## 한 페이지에 모든 상품이 들어있는 ul 태그 추출\n",
    "    # ul class:prdList grid4\n",
    "    ul=bs_obj.find(\"ul\",{\"class\":\"prdList grid4\"})\n",
    "    ## 품목 1개를 담고 있는 div 태그 추출\n",
    "    ## div class:box\n",
    "    prd_boxes = ul.findAll(\"div\", {\"class\":\"box\"}) #1개 페이지의 전체 상품\n",
    "    prod_info_list = [get_product_info(box) for box in prd_boxes] # 현재 함수를 통해 접속한 문서(url 인수)의 각 화장품 정보가 \n",
    "    # 저장되어 있는 리스트\n",
    "    return prod_info_list"
   ]
  },
  {
   "cell_type": "code",
   "execution_count": 20,
   "metadata": {
    "collapsed": true
   },
   "outputs": [
    {
     "data": {
      "text/html": [
       "<div>\n",
       "<style scoped>\n",
       "    .dataframe tbody tr th:only-of-type {\n",
       "        vertical-align: middle;\n",
       "    }\n",
       "\n",
       "    .dataframe tbody tr th {\n",
       "        vertical-align: top;\n",
       "    }\n",
       "\n",
       "    .dataframe thead th {\n",
       "        text-align: right;\n",
       "    }\n",
       "</style>\n",
       "<table border=\"1\" class=\"dataframe\">\n",
       "  <thead>\n",
       "    <tr style=\"text-align: right;\">\n",
       "      <th></th>\n",
       "      <th>prd_name</th>\n",
       "      <th>price</th>\n",
       "      <th>sale_price</th>\n",
       "    </tr>\n",
       "  </thead>\n",
       "  <tbody>\n",
       "    <tr>\n",
       "      <th>0</th>\n",
       "      <td>Isntree Hyaluronic Acid Toner 200ml (Renewal)</td>\n",
       "      <td>USD 19.00</td>\n",
       "      <td>USD 13.99</td>\n",
       "    </tr>\n",
       "    <tr>\n",
       "      <th>1</th>\n",
       "      <td>SON&amp;PARK; BEAUTY WATER 340ml</td>\n",
       "      <td>USD 29.40</td>\n",
       "      <td>USD 24.99</td>\n",
       "    </tr>\n",
       "    <tr>\n",
       "      <th>2</th>\n",
       "      <td>SOME BY MI AHA BHA PHA 30 Days Miracle Toner 1...</td>\n",
       "      <td>USD 24.00</td>\n",
       "      <td>USD 13.99</td>\n",
       "    </tr>\n",
       "    <tr>\n",
       "      <th>3</th>\n",
       "      <td>SOME BY MI Galactomyces Pure Vitamin C Glow To...</td>\n",
       "      <td>USD 34.00</td>\n",
       "      <td>USD 17.99</td>\n",
       "    </tr>\n",
       "    <tr>\n",
       "      <th>4</th>\n",
       "      <td>PURITO Centella Green Level Calming Toner 200ml</td>\n",
       "      <td>USD 25.20</td>\n",
       "      <td>USD 21.42</td>\n",
       "    </tr>\n",
       "    <tr>\n",
       "      <th>...</th>\n",
       "      <td>...</td>\n",
       "      <td>...</td>\n",
       "      <td>...</td>\n",
       "    </tr>\n",
       "    <tr>\n",
       "      <th>235</th>\n",
       "      <td>innisfree Truecare PHA Toner Pad 70ea</td>\n",
       "      <td>USD 23.32</td>\n",
       "      <td>USD 19.82</td>\n",
       "    </tr>\n",
       "    <tr>\n",
       "      <th>236</th>\n",
       "      <td>innisfree Truecare Panthenol 10 Moisture Skin ...</td>\n",
       "      <td>USD 22.56</td>\n",
       "      <td>USD 19.18</td>\n",
       "    </tr>\n",
       "    <tr>\n",
       "      <th>237</th>\n",
       "      <td>VELY VELY Pink Peeling Pad 60ea</td>\n",
       "      <td>USD 27.06</td>\n",
       "      <td>USD 23.00</td>\n",
       "    </tr>\n",
       "    <tr>\n",
       "      <th>238</th>\n",
       "      <td>VELY VELY Madecassoside Repair Toner 150ml</td>\n",
       "      <td>USD 34.12</td>\n",
       "      <td>USD 29.00</td>\n",
       "    </tr>\n",
       "    <tr>\n",
       "      <th>239</th>\n",
       "      <td>VELY VELY Yuja C-Tamin Toner 150ml</td>\n",
       "      <td>USD 31.76</td>\n",
       "      <td>USD 27.00</td>\n",
       "    </tr>\n",
       "  </tbody>\n",
       "</table>\n",
       "<p>240 rows × 3 columns</p>\n",
       "</div>"
      ],
      "text/plain": [
       "                                              prd_name      price sale_price\n",
       "0        Isntree Hyaluronic Acid Toner 200ml (Renewal)  USD 19.00  USD 13.99\n",
       "1                         SON&PARK; BEAUTY WATER 340ml  USD 29.40  USD 24.99\n",
       "2    SOME BY MI AHA BHA PHA 30 Days Miracle Toner 1...  USD 24.00  USD 13.99\n",
       "3    SOME BY MI Galactomyces Pure Vitamin C Glow To...  USD 34.00  USD 17.99\n",
       "4      PURITO Centella Green Level Calming Toner 200ml  USD 25.20  USD 21.42\n",
       "..                                                 ...        ...        ...\n",
       "235              innisfree Truecare PHA Toner Pad 70ea  USD 23.32  USD 19.82\n",
       "236  innisfree Truecare Panthenol 10 Moisture Skin ...  USD 22.56  USD 19.18\n",
       "237                    VELY VELY Pink Peeling Pad 60ea  USD 27.06  USD 23.00\n",
       "238         VELY VELY Madecassoside Repair Toner 150ml  USD 34.12  USD 29.00\n",
       "239                 VELY VELY Yuja C-Tamin Toner 150ml  USD 31.76  USD 27.00\n",
       "\n",
       "[240 rows x 3 columns]"
      ]
     },
     "execution_count": 20,
     "metadata": {},
     "output_type": "execute_result"
    }
   ],
   "source": [
    "#여러 페이지의 화장품 정보를 추출해서 df 에 저장 후 csv에 저장하는 코드\n",
    "url = \"http://jolse.com/category/toners-mists/1019/?page=\" #페이지 번호를 제외한 공통 url 문자열\n",
    "\n",
    "df_fin = pd.DataFrame()\n",
    "for i in range(1,6) :\n",
    "    # url 완성 :page번호를 추가 i 변수 값을 활용\n",
    "    urlfin =url + str(i)\n",
    "    page_product = get_page_products(urlfin)\n",
    "    df = pd.DataFrame(page_product) #현재 url로 접속한 페이지의 대해 수집된 제품정보를 df로 생성(한개 페이지 제품)\n",
    "    df_fin = pd.concat([df_fin,df],axis=0,ignore_index=True) \n",
    "    \n",
    "df_fin"
   ]
  },
  {
   "cell_type": "code",
   "execution_count": 21,
   "metadata": {},
   "outputs": [],
   "source": [
    "df_fin.to_csv('./crawl_data/prod0805All.csv')"
   ]
  },
  {
   "cell_type": "markdown",
   "metadata": {},
   "source": [
    "#### 연습문제\n",
    "1. --- 품목 상세보기 링크도 추가해서 크롤링\n",
    "2. --- 사이트내에서 전체페이지를 확인할 수 있는 태그가 있는지 검사하고 해당 태그에서 총 페이지를 추출한 후\n",
    "- 전체 페이지를 크롤링 할 수 있는 프로그램으로 변경"
   ]
  }
 ],
 "metadata": {
  "kernelspec": {
   "display_name": "Python 3",
   "language": "python",
   "name": "python3"
  },
  "language_info": {
   "codemirror_mode": {
    "name": "ipython",
    "version": 3
   },
   "file_extension": ".py",
   "mimetype": "text/x-python",
   "name": "python",
   "nbconvert_exporter": "python",
   "pygments_lexer": "ipython3",
   "version": "3.8.8"
  }
 },
 "nbformat": 4,
 "nbformat_minor": 4
}
