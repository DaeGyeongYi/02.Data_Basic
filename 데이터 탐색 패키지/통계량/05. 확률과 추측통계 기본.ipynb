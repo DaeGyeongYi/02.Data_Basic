{
 "cells": [
  {
   "cell_type": "markdown",
   "id": "5b47bd79",
   "metadata": {},
   "source": [
    "# 추측 통계의 기본\n",
    "\n",
    "- 추측통계 : 일부 데이터로 전체의 통계적 성질을 추측하는 것"
   ]
  },
  {
   "cell_type": "markdown",
   "id": "5dc8b94f",
   "metadata": {},
   "source": [
    "![](추측통계예시.png)"
   ]
  },
  {
   "cell_type": "markdown",
   "id": "29d344ef",
   "metadata": {},
   "source": [
    "## 모집단과 표본\n",
    "\n",
    "\n",
    "- 모집단(population) \n",
    "    - 조사 대상이 되는 관측 가능한 개체로 된 집단 전체(관심있는 집단)\n",
    "    \n",
    "    \n",
    "- 표본(sample)\n",
    "    - 모집단에서 선택된 모집단 구성단위의 일부\n"
   ]
  },
  {
   "cell_type": "markdown",
   "id": "2190595b",
   "metadata": {},
   "source": [
    "<img src='모집단과표본.jpg' width=500 height=500>"
   ]
  },
  {
   "cell_type": "markdown",
   "id": "99b41d7f",
   "metadata": {},
   "source": [
    "### 표본 추출 방법\n",
    "- 무작위 추출(임의 추출) : 임의로 표본을 추출하는 방법\n",
    "- 복원 추출 : 여러차례 동일한 표본이 선택될수 있는 방법\n",
    "- 비복원 추출: 동일한 표본은 한번만 선택되는 방법"
   ]
  },
  {
   "cell_type": "code",
   "execution_count": 2,
   "id": "82211bd3",
   "metadata": {},
   "outputs": [],
   "source": [
    "import numpy as np\n",
    "import pandas as pd\n",
    "import matplotlib.pyplot as plt\n",
    "\n",
    "%precision 3\n",
    "%matplotlib inline\n"
   ]
  },
  {
   "cell_type": "code",
   "execution_count": 9,
   "id": "1e060e1f",
   "metadata": {},
   "outputs": [
    {
     "data": {
      "text/plain": [
       "array([76, 55, 80, 80, 74, 61, 81, 76, 23, 80], dtype=int64)"
      ]
     },
     "execution_count": 9,
     "metadata": {},
     "output_type": "execute_result"
    }
   ],
   "source": [
    "df = pd.read_csv('../data/data/ch4_scores400.csv')\n",
    "scores = np.array(df['score'])\n",
    "scores[:10]\n"
   ]
  },
  {
   "cell_type": "code",
   "execution_count": 10,
   "id": "2ad8d127",
   "metadata": {},
   "outputs": [
    {
     "data": {
      "text/plain": [
       "array([1, 2, 1])"
      ]
     },
     "execution_count": 10,
     "metadata": {},
     "output_type": "execute_result"
    }
   ],
   "source": [
    "# 복원추출 : 동일한 숫자가 추출 될 수 있음\n",
    "\n",
    "np.random.seed(0)\n",
    "np.random.choice([1,2,3],3)"
   ]
  },
  {
   "cell_type": "code",
   "execution_count": 11,
   "id": "acd210e7",
   "metadata": {},
   "outputs": [
    {
     "data": {
      "text/plain": [
       "array([3, 2, 1])"
      ]
     },
     "execution_count": 11,
     "metadata": {},
     "output_type": "execute_result"
    }
   ],
   "source": [
    "# 비복원 추출 : 동일한 숫자가 추출 되지 않는다\n",
    "np.random.seed(0)\n",
    "np.random.choice([1,2,3],3,replace=False)"
   ]
  },
  {
   "cell_type": "code",
   "execution_count": 12,
   "id": "631c6ef2",
   "metadata": {},
   "outputs": [
    {
     "data": {
      "text/plain": [
       "70.4"
      ]
     },
     "execution_count": 12,
     "metadata": {},
     "output_type": "execute_result"
    }
   ],
   "source": [
    "# scores 데이터에서 sample 추출\n",
    "\n",
    "np.random.seed(0)\n",
    "sample = np.random.choice(scores, 20)\n",
    "\n",
    "# 표본 평균\n",
    "sample.mean()\n"
   ]
  },
  {
   "cell_type": "code",
   "execution_count": 13,
   "id": "04a8ca4d",
   "metadata": {},
   "outputs": [
    {
     "data": {
      "text/plain": [
       "69.53"
      ]
     },
     "execution_count": 13,
     "metadata": {},
     "output_type": "execute_result"
    }
   ],
   "source": [
    "#전체 데이터의 평균\n",
    "scores.mean()\n",
    "\n",
    "\n",
    "#표본 평균과 모평균이 크게 차이나지 않는다!"
   ]
  },
  {
   "cell_type": "code",
   "execution_count": 16,
   "id": "07348585",
   "metadata": {},
   "outputs": [
    {
     "name": "stdout",
     "output_type": "stream",
     "text": [
      "1번째 무작위 추출로 얻은 표본평균 69.15\n",
      "2번째 무작위 추출로 얻은 표본평균 69.5\n",
      "3번째 무작위 추출로 얻은 표본평균 71.35\n",
      "4번째 무작위 추출로 얻은 표본평균 69.4\n",
      "5번째 무작위 추출로 얻은 표본평균 71.5\n"
     ]
    }
   ],
   "source": [
    "for i in range(5):\n",
    "    sample = np.random.choice(scores, 20)\n",
    "    print(f'{i+1}번째 무작위 추출로 얻은 표본평균', sample.mean())"
   ]
  },
  {
   "cell_type": "markdown",
   "id": "5fdd8ec0",
   "metadata": {},
   "source": [
    "### 확률 모델 (모형)"
   ]
  },
  {
   "cell_type": "markdown",
   "id": "fcc71b62",
   "metadata": {},
   "source": [
    "### 확률의 기본\n",
    "\n",
    "- 확률(probability)\n",
    "    - 어떤 사건(event)이 일어날 가능성\n",
    "    - 예. \n",
    "        - 동전 던지기에서 앞면이 나올 가능성\n",
    "        - 주사위 던지기에서 특정 눈금이 나올 확률\n",
    "        - 주식투자에서 이득을 볼 가능성\n",
    "        \n",
    "        \n",
    "\n",
    "- 의사결정\n",
    "    - 확실성(certainty) 보다는 불확실한 상황에서 이루어지는 경우가 많음\n",
    "    - 미래에 대한 불확실성의 정도가 더욱 심하다고 할 수 있음 \n",
    "    - 불확실성 하에서 의사결정의 오류를 줄이기 위해 확률에 대한 연구 필요\n"
   ]
  },
  {
   "cell_type": "markdown",
   "id": "faf327f1",
   "metadata": {},
   "source": [
    "### 확률변수 : 취하는 값과 그 값이 나올 확률이 결정되어 있는 것\n",
    "   - 일정한 확률로 나타나는(발생하는) 사건에 대해 숫자를 부여한 변수\n",
    "   - ex. 주사위를 굴리면 1-6사이의 숫자가 약 1/6 확률로 발생\n",
    "\n",
    "- 시행\n",
    "    - 확률 변수의 결과를 관측하는 것\n",
    "    - 주사위를 굴리면 어떤 숫자가 나올지 모르지만 숫자는 하나씩 확정\n",
    "- 실현값\n",
    "    - 시행에 의해 관측되는 값\n",
    "    - 주사위를 굴려서 나온 값\n",
    "- 사건\n",
    "    - 시행 결과로 나타날 수 있는 일\n",
    "    - 눈은 1 또는 눈은 홀수 등\n",
    "    - 주사위의 눈은 확률 변수 X\n",
    "    - 눈이 1이 되는 사건의 확률 P(x=1)=1/6\n",
    "    - 눈이 홀수인 사건의 확률 P((X=1)U(X=3)U(X=5) = 1/6+1/6+1/6 = 1/2\n",
    "\n",
    "    - 근원사건\n",
    "        - 세부적으로 더 분해할 수 없는 사건\n",
    "        \n",
    "        \n",
    "- 상호배반 : 동시에 일어날 수 없는 사건\n",
    "    - 눈이 1 또는 2 또는 3’이라는 사건과 ’눈이 6’이라는 사건\n"
   ]
  },
  {
   "cell_type": "markdown",
   "id": "a57e4d8c",
   "metadata": {},
   "source": [
    "## 확률분포\n",
    "\n",
    "- 확률변수가 어떻게 움직이는지를 나타낸 것\n",
    "\n",
    "![](확률분포.png)\n",
    "\n",
    "![](확률분포2.png)"
   ]
  },
  {
   "cell_type": "markdown",
   "id": "9f45923b",
   "metadata": {},
   "source": [
    "#### 주사위 예제"
   ]
  },
  {
   "cell_type": "markdown",
   "id": "2af3e8a6",
   "metadata": {},
   "source": [
    "- 공정한 주사위\n",
    "    - 주사위의 무게중심이 정확하게 중심에 있는 주사위\n",
    "![](표4-1.jpg)"
   ]
  },
  {
   "cell_type": "markdown",
   "id": "5ca2b70e",
   "metadata": {},
   "source": [
    "- 불공정한 주사위\n",
    "    - 주사위의 무게중심이 중심에 있지 않아 특정한 눈이 더 잘나오는 편향된 주사위\n",
    "    - 그런 주사위가 있어도, 불공정하다는 것은 알지만 각 눈의 확률을 알 수 없다.\n",
    "        - 주사위를 몇번굴려서 그 눈의 비율을 확률 분포로 추출하는 것이 일반적\n",
    "        - 이 주사위는 아래 표의 확률 분포를 따르고, 특정한 눈이 나오기 쉬운 주사위 라고 가정\n",
    "        \n",
    "![](표4-2.jpg)"
   ]
  },
  {
   "cell_type": "code",
   "execution_count": 17,
   "id": "c27eeaf6",
   "metadata": {},
   "outputs": [],
   "source": [
    "# 불공정한 주사위의 확률 분포를 구하는 실험\n",
    "\n",
    "# 확률 변수에 필요한 변수가 취할 수 있는 값\n",
    "dice = [1,2,3,4,5,6]\n",
    "\n",
    "# 상태 공간의 각 값이 나올 수 있는 확률\n",
    "prob = [1/21,2/21,3/21,4/21,5/21,6/21,]"
   ]
  },
  {
   "cell_type": "markdown",
   "id": "40feea7d",
   "metadata": {},
   "source": [
    "- np.random.choice(a, size=None, replace=True, p=None)\n",
    "\n",
    "    - a : 배열이면 배열 자체, 정수이면 arange(a)명령으로 배열 생성\n",
    "    - size : 정수, 샘플 숫자\n",
    "    - replace : boolean. True이면 복원추출, False면 비복원추출\n",
    "    - p : 배열, 각 데이터가 선택될 수 있는 확률\n"
   ]
  },
  {
   "cell_type": "code",
   "execution_count": 18,
   "id": "2ce05e57",
   "metadata": {},
   "outputs": [
    {
     "data": {
      "text/plain": [
       "5"
      ]
     },
     "execution_count": 18,
     "metadata": {},
     "output_type": "execute_result"
    }
   ],
   "source": [
    "np.random.choice(dice, p = prob)"
   ]
  },
  {
   "cell_type": "code",
   "execution_count": 19,
   "id": "88c81b44",
   "metadata": {},
   "outputs": [
    {
     "data": {
      "text/plain": [
       "array([3, 3, 2, 4, 4, 5, 4, 3, 1, 2, 5, 4, 5, 6, 6, 3, 5, 3, 1, 6, 4, 4,\n",
       "       5, 6, 5, 6, 3, 6, 3, 6, 5, 3, 6, 6, 3, 3, 5, 1, 3, 4, 4, 4, 3, 5,\n",
       "       6, 2, 5, 2, 6, 4, 5, 3, 3, 5, 4, 6, 6, 6, 6, 2, 5, 5, 6, 4, 3, 2,\n",
       "       1, 6, 5, 6, 3, 5, 2, 5, 6, 6, 4, 6, 3, 6, 6, 6, 5, 6, 4, 6, 5, 1,\n",
       "       4, 3, 6, 5, 5, 5, 4, 2, 6, 3, 5, 3])"
      ]
     },
     "execution_count": 19,
     "metadata": {},
     "output_type": "execute_result"
    }
   ],
   "source": [
    "### 불공정한 주사위로 표본 선택\n",
    "\n",
    "num_trial = 100\n",
    "sample = np.random.choice(dice, num_trial, p =prob)\n",
    "sample"
   ]
  },
  {
   "cell_type": "code",
   "execution_count": 20,
   "id": "8dbe72c1",
   "metadata": {},
   "outputs": [
    {
     "data": {
      "text/plain": [
       "array([ 5,  8, 20, 16, 23, 28], dtype=int64)"
      ]
     },
     "execution_count": 20,
     "metadata": {},
     "output_type": "execute_result"
    }
   ],
   "source": [
    "freq,_ = np.histogram(sample, bins=6,range=(1,7))\n",
    "freq"
   ]
  },
  {
   "cell_type": "code",
   "execution_count": 21,
   "id": "3ae5034c",
   "metadata": {},
   "outputs": [
    {
     "data": {
      "text/html": [
       "<div>\n",
       "<style scoped>\n",
       "    .dataframe tbody tr th:only-of-type {\n",
       "        vertical-align: middle;\n",
       "    }\n",
       "\n",
       "    .dataframe tbody tr th {\n",
       "        vertical-align: top;\n",
       "    }\n",
       "\n",
       "    .dataframe thead th {\n",
       "        text-align: right;\n",
       "    }\n",
       "</style>\n",
       "<table border=\"1\" class=\"dataframe\">\n",
       "  <thead>\n",
       "    <tr style=\"text-align: right;\">\n",
       "      <th></th>\n",
       "      <th>frequency</th>\n",
       "      <th>relative frequency</th>\n",
       "    </tr>\n",
       "    <tr>\n",
       "      <th>dice</th>\n",
       "      <th></th>\n",
       "      <th></th>\n",
       "    </tr>\n",
       "  </thead>\n",
       "  <tbody>\n",
       "    <tr>\n",
       "      <th>1</th>\n",
       "      <td>5</td>\n",
       "      <td>0.05</td>\n",
       "    </tr>\n",
       "    <tr>\n",
       "      <th>2</th>\n",
       "      <td>8</td>\n",
       "      <td>0.08</td>\n",
       "    </tr>\n",
       "    <tr>\n",
       "      <th>3</th>\n",
       "      <td>20</td>\n",
       "      <td>0.20</td>\n",
       "    </tr>\n",
       "    <tr>\n",
       "      <th>4</th>\n",
       "      <td>16</td>\n",
       "      <td>0.16</td>\n",
       "    </tr>\n",
       "    <tr>\n",
       "      <th>5</th>\n",
       "      <td>23</td>\n",
       "      <td>0.23</td>\n",
       "    </tr>\n",
       "    <tr>\n",
       "      <th>6</th>\n",
       "      <td>28</td>\n",
       "      <td>0.28</td>\n",
       "    </tr>\n",
       "  </tbody>\n",
       "</table>\n",
       "</div>"
      ],
      "text/plain": [
       "      frequency  relative frequency\n",
       "dice                               \n",
       "1             5                0.05\n",
       "2             8                0.08\n",
       "3            20                0.20\n",
       "4            16                0.16\n",
       "5            23                0.23\n",
       "6            28                0.28"
      ]
     },
     "execution_count": 21,
     "metadata": {},
     "output_type": "execute_result"
    }
   ],
   "source": [
    "pd.DataFrame({'frequency':freq,\n",
    "              'relative frequency':freq / num_trial},\n",
    "              index = pd.Index(np.arange(1, 7), name='dice'))\n"
   ]
  },
  {
   "cell_type": "code",
   "execution_count": 30,
   "id": "46f556f0",
   "metadata": {},
   "outputs": [
    {
     "data": {
      "image/png": "[encoded data removed]",
      "text/plain": [
       "<Figure size 720x432 with 1 Axes>"
      ]
     },
     "metadata": {
      "needs_background": "light"
     },
     "output_type": "display_data"
    }
   ],
   "source": [
    "# 100번의 시도는 정해져 있는 확률과는 차이가 있다\n",
    "\n",
    "fig = plt.figure(figsize=(10, 6))\n",
    "ax = fig.add_subplot(111)\n",
    "\n",
    "#sample을 히스토그램으로 표현\n",
    "ax.hist(sample, bins=6, range=(1, 7), density=True, rwidth=0.8)\n",
    "\n",
    "# 실제의 확률분포를 가로선으로 표시\n",
    "ax.hlines(prob, np.arange(1, 7), np.arange(2, 8), colors='gray')\n",
    "\n",
    "# 막대 그래프의 [1.5, 2.5, ..., 6.5]에 눈금을 표시\n",
    "ax.set_xticks(np.linspace(1.5, 6.5, 6))\n",
    "\n",
    "# 주사위 눈의 값은 [1, 2, 3, 4, 5, 6]\n",
    "ax.set_xticklabels(np.arange(1, 7))\n",
    "ax.set_xlabel('dice')\n",
    "ax.set_ylabel('relative frequency')\n",
    "plt.show()\n"
   ]
  },
  {
   "cell_type": "markdown",
   "id": "ebafbf50",
   "metadata": {},
   "source": [
    "#### 10000번 시도"
   ]
  },
  {
   "cell_type": "code",
   "execution_count": 34,
   "id": "b7e5356c",
   "metadata": {},
   "outputs": [
    {
     "data": {
      "image/png": "[encoded data removed]",
      "text/plain": [
       "<Figure size 720x432 with 1 Axes>"
      ]
     },
     "metadata": {
      "needs_background": "light"
     },
     "output_type": "display_data"
    }
   ],
   "source": [
    "num_trial = 10000\n",
    "sample = np.random.choice(dice, size=num_trial, p=prob)\n",
    "\n",
    "\n",
    "fig = plt.figure(figsize=(10, 6))\n",
    "ax = fig.add_subplot(111)\n",
    "\n",
    "#sample을 히스토그램으로 표현\n",
    "ax.hist(sample, bins=6, range=(1, 7), density=True, rwidth=0.8)\n",
    "\n",
    "# 실제의 확률분포를 가로선으로 표시\n",
    "ax.hlines(prob, np.arange(1, 7), np.arange(2, 8), colors='gray')\n",
    "\n",
    "# 막대 그래프의 [1.5, 2.5, ..., 6.5]에 눈금을 표시\n",
    "ax.set_xticks(np.linspace(1.5, 6.5, 6))\n",
    "\n",
    "# 주사위 눈의 값은 [1, 2, 3, 4, 5, 6]\n",
    "ax.set_xticklabels(np.arange(1, 7))\n",
    "ax.set_xlabel('dice')\n",
    "ax.set_ylabel('relative frequency')\n",
    "plt.show()\n"
   ]
  },
  {
   "cell_type": "markdown",
   "id": "d36a96ce",
   "metadata": {},
   "source": [
    "### 추측통계와 확률\n",
    "#### 전교생의 시험 점수 분포를 확인하기 위해 게급폭을 1점으로 하여 히스토그램 작성"
   ]
  },
  {
   "cell_type": "code",
   "execution_count": 39,
   "id": "34bcffbc",
   "metadata": {},
   "outputs": [
    {
     "data": {
      "image/png": "[encoded data removed]",
      "text/plain": [
       "<Figure size 720x432 with 1 Axes>"
      ]
     },
     "metadata": {
      "needs_background": "light"
     },
     "output_type": "display_data"
    }
   ],
   "source": [
    "fig = plt.figure(figsize=(10, 6))\n",
    "ax = fig.add_subplot(111)\n",
    "ax.hist(scores, bins=100, range=(0, 100), density=True)\n",
    "ax.set_xlim(20, 100)\n",
    "ax.set_ylim(0, 0.042)\n",
    "ax.set_xlabel('score')\n",
    "ax.set_ylabel('relative frequency')\n",
    "plt.show()\n"
   ]
  },
  {
   "cell_type": "code",
   "execution_count": 22,
   "id": "2753aa26",
   "metadata": {},
   "outputs": [
    {
     "name": "stdout",
     "output_type": "stream",
     "text": [
      "400\n",
      "16\n"
     ]
    },
    {
     "data": {
      "text/plain": [
       "4.000"
      ]
     },
     "execution_count": 22,
     "metadata": {},
     "output_type": "execute_result"
    }
   ],
   "source": [
    "# 점수 68점은 4%\n",
    "count = 0\n",
    "\n",
    "for i in scores :\n",
    "    if i == 68 :\n",
    "        count += 1\n",
    "        \n",
    "print(len(scores))\n",
    "\n",
    "print(count)\n",
    "\n",
    "count/len(scores) * 100\n"
   ]
  },
  {
   "cell_type": "code",
   "execution_count": 25,
   "id": "6d5f8156",
   "metadata": {},
   "outputs": [
    {
     "data": {
      "text/plain": [
       "67"
      ]
     },
     "execution_count": 25,
     "metadata": {},
     "output_type": "execute_result"
    }
   ],
   "source": [
    "np.random.choice(scores)\n"
   ]
  },
  {
   "cell_type": "code",
   "execution_count": 27,
   "id": "783fe554",
   "metadata": {},
   "outputs": [
    {
     "data": {
      "image/png": "[encoded data removed]",
      "text/plain": [
       "<Figure size 720x432 with 1 Axes>"
      ]
     },
     "metadata": {
      "needs_background": "light"
     },
     "output_type": "display_data"
    }
   ],
   "source": [
    "# 무작위 추출을 했을때 68점의 확률을 확인\n",
    "sample = np.random.choice(scores,10000)\n",
    "\n",
    "fig = plt.figure(figsize=(10, 6))\n",
    "ax = fig.add_subplot(111)\n",
    "ax.hist(sample, bins=100, range=(0, 100), density=True)\n",
    "ax.set_xlim(20, 100)\n",
    "ax.set_ylim(0, 0.042)\n",
    "ax.set_xlabel('score')\n",
    "ax.set_ylabel('relative frequency')\n",
    "plt.show()\n"
   ]
  },
  {
   "cell_type": "code",
   "execution_count": 28,
   "id": "fa9fc752",
   "metadata": {},
   "outputs": [
    {
     "name": "stdout",
     "output_type": "stream",
     "text": [
      "10000\n",
      "[56 59 94 ... 75 78 68]\n"
     ]
    },
    {
     "data": {
      "text/plain": [
       "4.260"
      ]
     },
     "execution_count": 28,
     "metadata": {},
     "output_type": "execute_result"
    }
   ],
   "source": [
    "#sample 데이터에서 점수 68점은\n",
    "count = 0\n",
    "\n",
    "for i in sample :\n",
    "    if i == 68 :\n",
    "        count += 1\n",
    "        \n",
    "print(len(sample))\n",
    "\n",
    "print(sample)\n",
    "\n",
    "count/len(sample) * 100\n"
   ]
  },
  {
   "cell_type": "markdown",
   "id": "c62914af",
   "metadata": {},
   "source": [
    "### 표본 평균\n",
    "- 표본 하나하나가 확률 변수이므로 표본들의 평균으로 계산되는 표본 평균도 확률변수"
   ]
  },
  {
   "cell_type": "code",
   "execution_count": 37,
   "id": "de3799d7",
   "metadata": {},
   "outputs": [],
   "source": [
    "# 무작위 추출로 표본 크기가 20인 표본을 추출하여 표본평균을 계산하는 작업을 10000번 수행 후 그 결과를 히스토그램으로 표현\n",
    "sample_means = [np.random.choice(scores,20).mean()\n",
    "               for _ in range(10000)]"
   ]
  },
  {
   "cell_type": "code",
   "execution_count": 38,
   "id": "0d56ce07",
   "metadata": {},
   "outputs": [
    {
     "data": {
      "image/png": "[encoded data removed]",
      "text/plain": [
       "<Figure size 720x432 with 1 Axes>"
      ]
     },
     "metadata": {
      "needs_background": "light"
     },
     "output_type": "display_data"
    }
   ],
   "source": [
    "fig = plt.figure(figsize=(10, 6))\n",
    "ax = fig.add_subplot(111)\n",
    "ax.hist(sample_means, bins=100, range=(0, 100), density=True)\n",
    "# 모평균을 세로선으로 표시\n",
    "ax.vlines(np.mean(scores), 0, 1, 'gray')\n",
    "ax.set_xlim(50, 90)\n",
    "ax.set_ylim(0, 0.13)\n",
    "ax.set_xlabel('score')\n",
    "ax.set_ylabel('relative frequency')\n",
    "plt.show()\n"
   ]
  },
  {
   "cell_type": "markdown",
   "id": "929b0bcf",
   "metadata": {},
   "source": [
    "- 가운데의 세로선이 모 평균\n",
    "- 표본 평균은 모평균을 중심으로 분류되는 것을 확인\n",
    "    - 무작위 추출에 의한 표본 평균으로 모평균을 추측할 수 있다는 근거가 됨"
   ]
  },
  {
   "cell_type": "code",
   "execution_count": null,
   "id": "d64f0ba1",
   "metadata": {},
   "outputs": [],
   "source": []
  }
 ],
 "metadata": {
  "kernelspec": {
   "display_name": "Python 3",
   "language": "python",
   "name": "python3"
  },
  "language_info": {
   "codemirror_mode": {
    "name": "ipython",
    "version": 3
   },
   "file_extension": ".py",
   "mimetype": "text/x-python",
   "name": "python",
   "nbconvert_exporter": "python",
   "pygments_lexer": "ipython3",
   "version": "3.8.8"
  }
 },
 "nbformat": 4,
 "nbformat_minor": 5
}
