{
 "cells": [
  {
   "cell_type": "code",
   "execution_count": 60,
   "id": "64069224",
   "metadata": {},
   "outputs": [],
   "source": [
    "import numpy as np\n",
    "from scipy.stats import *\n",
    "import pandas as pd\n",
    "from IPython.core.interactiveshell import InteractiveShell\n",
    "InteractiveShell.ast_node_interactivity=\"all\"\n"
   ]
  },
  {
   "cell_type": "markdown",
   "id": "257dee2a",
   "metadata": {},
   "source": [
    "## 데이터가 얼마나 퍼져있는가? : 변이통계량이라고도함\n",
    "\n",
    "- 데이터들이 얼마나 흩어져 있는가를 나타내는 것(산포도)\n",
    "- 하나의 수치로 데이터가 흩어진 정도를 계산해서 표현\n",
    "- 예) 평균이 같은 a집단과 b집단의 성적 : 두 집단이 동일한가?\n",
    "\n",
    "\n",
    "\n",
    "![](성적분포비교.png)\n",
    "\n",
    "\n",
    "- 어느 대학에서 같은 과목을 두 교수가 가르친다고 하자.두 교수 모두 평균 C학점을 학생들에게 준다면 그 과목을 배우려는 학생들은 어떤 교수를 선택해도 마찬가지라고 생각할 것이다.\n",
    "- 그러나 한 교수는 대부분의 학생들이 평범하다고 생각하여 C만 주고 다른 교수는 학생들이 반은 우수하고 반은 공부를 안 한다고 생각하여 A를 주거나 D-만 준다.\n",
    "- 그러므로 이러한 흩어짐의 정보 없이 학생들이 평균 성적 C라는 사실만 가지고 교수를 선택한다면 학점 때문에 어려움에 처할 수도 있게 된다.\n"
   ]
  },
  {
   "cell_type": "markdown",
   "id": "c44d1911",
   "metadata": {},
   "source": [
    "#### 범위(range)\n",
    "\n",
    "- 데이터의 최대값과 최소값의 차이\n",
    "- 데이터가 퍼져 있는 정도를 나타내는 가장 간단한 방법\n",
    "- 범위가 클수록 산포가 크다고 말할 수 있지만\n",
    "- 평균과 마찬가지로 극단적인 값에 영향을 받음\n",
    "- 데이터 중 2개의 정보(최대값, 최소값)만을 이용하므로 적절한 척도로 사용하기 어려움\n",
    "\n",
    "**범위(R)=최댓값 - 최솟값**\n"
   ]
  },
  {
   "cell_type": "markdown",
   "id": "84ba2fe0",
   "metadata": {},
   "source": [
    "#### 중간범위\n",
    "- 최대값과 최소값의 평균"
   ]
  },
  {
   "cell_type": "markdown",
   "id": "61d9f2d3",
   "metadata": {},
   "source": [
    "#### 사분위간 범위 (interquartile range: IQR)\n",
    "\n",
    "- 데이터를 크기순서로 나열한 다음, 개수로 4등분할 때 첫 번째 사분위수(Q1:1사분위수, 25%지점)와 세 번째 사분위수(Q3:3사분위수, 75%지점)의 차이\n",
    "\n",
    "\n",
    "#### 사분위수 편차(quartile deviation)\n",
    "\n",
    "- 범위의 문제점을 보완한 척도\n",
    "- 사분위간 범위의 값을 2로 나눈 값으로 사분위 범위의 평균 값\n",
    "\n",
    "![](사분위수편차.png)"
   ]
  },
  {
   "cell_type": "markdown",
   "id": "601cc72d",
   "metadata": {},
   "source": [
    "### 분산(variance)\n",
    "\n",
    "- 산포도의 척도로 가장 널리 사용되는 방법\n",
    "- 데이터가 퍼져있는 정도의 기준으로 평균을 사용\n",
    "\n",
    "- 계산 방법\n",
    "    - 각 데이터와 평균의 차이를 제곱하여 합한 값의 평균\n",
    "![](분산식.png)\n",
    "\n",
    "    - 데이터가 모집단 전체일 경우에는 데이터의 개수(n)으로 나누어줌\n",
    "    - 표본일 경우 (n-1)로 나누어 줌\n",
    "    - 표본의 경우 n으로 나누어 주는 것보다 (n-1)로 나누어 주는 것이 더 좋은 척도가 되기 때문인데 표본의 크기가 큰 경우에는 별 차이가 없음\n"
   ]
  },
  {
   "cell_type": "markdown",
   "id": "9a92c782",
   "metadata": {},
   "source": [
    "- 분산계산 : var(data, ddof=0|1) 함수 사용 :ddof 생략하면 0"
   ]
  },
  {
   "cell_type": "code",
   "execution_count": 61,
   "id": "b73354a9",
   "metadata": {},
   "outputs": [
    {
     "data": {
      "text/plain": [
       "2.5"
      ]
     },
     "execution_count": 61,
     "metadata": {},
     "output_type": "execute_result"
    },
    {
     "data": {
      "text/plain": [
       "2.0"
      ]
     },
     "execution_count": 61,
     "metadata": {},
     "output_type": "execute_result"
    },
    {
     "data": {
      "text/plain": [
       "2.0"
      ]
     },
     "execution_count": 61,
     "metadata": {},
     "output_type": "execute_result"
    },
    {
     "data": {
      "text/plain": [
       "2.0"
      ]
     },
     "execution_count": 61,
     "metadata": {},
     "output_type": "execute_result"
    }
   ],
   "source": [
    "## ddof인수 :  (자유도-모수집단냐 표본이냐)는 값을 1로 두고 사용한다고 생각하면 편함\n",
    "## 특별한 경우 제외하고는 모두 sample 데이터이므로 분모를 n-1로 둠\n",
    "## 즉 , ddof는 1로 둔다 보통은 표본을가지고 하니까.\n",
    "\n",
    "x =[1,2,3,4,5]\n",
    "\n",
    "np.var(x, ddof=1) #표본을 기준으로 분모 n-1로 나누겠다\n",
    "np.var(x) #모집단 전체를 대상으로 사용, 분모 n으로 나누겠다\n",
    "np.array(x).var()\n",
    "pd.Series(x).var(ddof=0)\n",
    "\n",
    "#값의 스케일에 크게 영향을 받으므로, 변수를 스케일링한 후 분산계산\n",
    "# 혹은 표준편차를 활용"
   ]
  },
  {
   "cell_type": "markdown",
   "id": "c3cff08a",
   "metadata": {},
   "source": [
    "### 표준편차(standard deviation)\n",
    "- 계산된 분산의 제곱근으로 계산\n",
    "- 평균을 중심으로 일정한 거리에 포함된 데이터의 비율이 얼마인가를 게산\n",
    "- 모든 데이터를 고려한 척도\n",
    "\n",
    "- 특징\n",
    "    - 모든 데이터가 동일한 값을 갖는다면 분산과 표준편차는 0으로 계산\n",
    "    - 모든 데이터에 동일한 값을 더해 주거나 빼도 변하지 않음\n",
    "    - 모든 데이터에 동일한 값(C)을 곱하면 분산은 $분산×C^2$으로 표준편차는 $표준편차×C$ 만큼 커짐\n",
    "\n",
    "\n",
    "![](분산표준편차예시.png)"
   ]
  },
  {
   "cell_type": "markdown",
   "id": "46256e7f",
   "metadata": {},
   "source": [
    "#### 표준 편차 계산: std() 함수 사용\n",
    "\n",
    "- 분산에서 제곱의 영향을 없앤 지표\n",
    "- 분산과 표준편차가 크면 클수록 산포도가 높다"
   ]
  },
  {
   "cell_type": "code",
   "execution_count": 62,
   "id": "73075ee3",
   "metadata": {},
   "outputs": [
    {
     "data": {
      "text/plain": [
       "1.5811388300841898"
      ]
     },
     "execution_count": 62,
     "metadata": {},
     "output_type": "execute_result"
    },
    {
     "data": {
      "text/plain": [
       "1.4142135623730951"
      ]
     },
     "execution_count": 62,
     "metadata": {},
     "output_type": "execute_result"
    },
    {
     "data": {
      "text/plain": [
       "1.5811388300841898"
      ]
     },
     "execution_count": 62,
     "metadata": {},
     "output_type": "execute_result"
    }
   ],
   "source": [
    "x = [1,2,3,4,5]\n",
    "np.std(x, ddof = 1)\n",
    "np.array(x).std(ddof =0)\n",
    "pd.Series(x).std(ddof=1)"
   ]
  },
  {
   "cell_type": "markdown",
   "id": "9be7bd2a",
   "metadata": {},
   "source": [
    "#### 변동계수(CV: Coefficient of Variable)\n",
    "\n",
    "- 표본 표준 편차를 표본 평균으로 나눈 값 또는 그 값에 100을 곱한값\n",
    "- 상대 표준 편차\n",
    "- 서로 다른 평균과 표준 편차를 갖는 여러 데이터의 흩어진 정도를 비교할 때 사용\n",
    "\n",
    "- 변동계수 값이 크다는 것은 데이터가 산포된 정도가 상대적으로 크다는 의미\n",
    "- 표본 변동계수 $ 𝐶𝑉=\\frac{S}{\\overline{x}}$,  모변동계수  $𝐶𝑉= \\frac{𝜎}{𝜇}$\n",
    "![](변동계수.png)\n",
    "- 여자의 몸무게 표본이 남자의 몸무게 표본보다 더 산포되어있다는 뜻\n",
    "- 표준편차/평균"
   ]
  },
  {
   "cell_type": "markdown",
   "id": "e4d37dff",
   "metadata": {},
   "source": [
    "#### 변동계수 계산 함수: variation(data)\n",
    "- 모든 계수가 양수가 아니면 잘 쓰지 않음\n",
    "- 자유도는 0으로 셋팅 되어있음"
   ]
  },
  {
   "cell_type": "markdown",
   "id": "5d159a39",
   "metadata": {},
   "source": [
    "#### 변동계수의 필요성\n",
    "- 표준편차를 구할때 스케일에 영향을 받지 않기 위해서 변수 스케일링을 한 후 편차를 구함\n",
    "    - 데이터가 보두 양수인 경우에는 변동계수를 사용함\n",
    "    "
   ]
  },
  {
   "cell_type": "code",
   "execution_count": 63,
   "id": "f6cc950b",
   "metadata": {},
   "outputs": [
    {
     "data": {
      "text/plain": [
       "array([10, 20, 30, 40, 50])"
      ]
     },
     "execution_count": 63,
     "metadata": {},
     "output_type": "execute_result"
    }
   ],
   "source": [
    "\n",
    "x1 = np.array([1,2,3,4,5])\n",
    "x2 = x1*10\n",
    "x2\n"
   ]
  },
  {
   "cell_type": "code",
   "execution_count": 64,
   "id": "4a4150c4",
   "metadata": {},
   "outputs": [
    {
     "data": {
      "text/plain": [
       "1.5811388300841898"
      ]
     },
     "execution_count": 64,
     "metadata": {},
     "output_type": "execute_result"
    },
    {
     "data": {
      "text/plain": [
       "15.811388300841896"
      ]
     },
     "execution_count": 64,
     "metadata": {},
     "output_type": "execute_result"
    }
   ],
   "source": [
    "np.std(x1, ddof=1)\n",
    "np.std(x2, ddof=1) #표준편차는 *10만큼의 차이가 날것 (x1에 10씩 곱해진거니까)"
   ]
  },
  {
   "cell_type": "code",
   "execution_count": 65,
   "id": "dfde65b9",
   "metadata": {},
   "outputs": [
    {
     "data": {
      "text/plain": [
       "0.47140452079103173"
      ]
     },
     "execution_count": 65,
     "metadata": {},
     "output_type": "execute_result"
    },
    {
     "data": {
      "text/plain": [
       "0.47140452079103173"
      ]
     },
     "execution_count": 65,
     "metadata": {},
     "output_type": "execute_result"
    }
   ],
   "source": [
    "variation(x1)\n",
    "variation(x1)"
   ]
  },
  {
   "cell_type": "code",
   "execution_count": 66,
   "id": "4c66a9f3",
   "metadata": {},
   "outputs": [
    {
     "data": {
      "text/plain": [
       "0.5270462766947299"
      ]
     },
     "execution_count": 66,
     "metadata": {},
     "output_type": "execute_result"
    },
    {
     "data": {
      "text/plain": [
       "0.5270462766947299"
      ]
     },
     "execution_count": 66,
     "metadata": {},
     "output_type": "execute_result"
    }
   ],
   "source": [
    "# 변동계수 수식\n",
    "np.std(x1, ddof=1)/np.mean(x1)\n",
    "np.std(x2, ddof=1)/np.mean(x2)"
   ]
  },
  {
   "cell_type": "markdown",
   "id": "41d296c1",
   "metadata": {},
   "source": [
    "#### 스케일링(표준화)\n",
    "\n",
    "- 평균은 0으로 표준편차는 1이됨\n",
    "- 각 값들을 상대적인 값으로 변화시키는 기법\n",
    "- 평균이 95점(국어), 30점(수학) 인 반에서\n",
    "    - 길동이가 받은 점수 90(국어), 80점(수학) 이라면 길동이는 어떤 과목을 더 잘한 것일까?\n",
    "    \n",
    "- 상대적으로 단위를 일정하게 맞춰서 비교할 수 있게해준다\n",
    "\n",
    "- 표준화된 데이터는 점수와 같은 단위를 사용하지 않음"
   ]
  },
  {
   "cell_type": "code",
   "execution_count": 67,
   "id": "f481ca56",
   "metadata": {},
   "outputs": [
    {
     "data": {
      "text/plain": [
       "array([1, 2, 3, 4, 5])"
      ]
     },
     "execution_count": 67,
     "metadata": {},
     "output_type": "execute_result"
    },
    {
     "data": {
      "text/plain": [
       "array([10, 20, 30, 40, 50])"
      ]
     },
     "execution_count": 67,
     "metadata": {},
     "output_type": "execute_result"
    }
   ],
   "source": [
    "x1\n",
    "x2"
   ]
  },
  {
   "cell_type": "markdown",
   "id": "e979088b",
   "metadata": {},
   "source": [
    "- standard scaling - 평균이 0, 표준편차가 1으로 바꾸는 표준화\n",
    "- (변량 - 평균) / 표준편차"
   ]
  },
  {
   "cell_type": "code",
   "execution_count": 68,
   "id": "de0b1f50",
   "metadata": {},
   "outputs": [
    {
     "data": {
      "text/plain": [
       "array([-1.414, -0.707, 0.000, 0.707, 1.414])"
      ]
     },
     "execution_count": 68,
     "metadata": {},
     "output_type": "execute_result"
    },
    {
     "data": {
      "text/plain": [
       "array([-1.414, -0.707, 0.000, 0.707, 1.414])"
      ]
     },
     "execution_count": 68,
     "metadata": {},
     "output_type": "execute_result"
    }
   ],
   "source": [
    "z1 = (x1 - x1.mean())/x1.std()\n",
    "\n",
    "z2 = (x2 - x2.mean())/x2.std()\n",
    "\n",
    "z1\n",
    "z2\n",
    "\n",
    "#보통 -3 ~ +3 까지 분포됨"
   ]
  },
  {
   "cell_type": "code",
   "execution_count": 69,
   "id": "bec0de61",
   "metadata": {},
   "outputs": [
    {
     "data": {
      "text/plain": [
       "0.0"
      ]
     },
     "execution_count": 69,
     "metadata": {},
     "output_type": "execute_result"
    },
    {
     "data": {
      "text/plain": [
       "0.0"
      ]
     },
     "execution_count": 69,
     "metadata": {},
     "output_type": "execute_result"
    },
    {
     "data": {
      "text/plain": [
       "0.9999999999999999"
      ]
     },
     "execution_count": 69,
     "metadata": {},
     "output_type": "execute_result"
    }
   ],
   "source": [
    "z1.mean()\n",
    "z2.mean()\n",
    "z1.std(ddof=0)\n",
    "\n",
    "#평균은 0이 되었고, 표준편차는 1이 되었습니당"
   ]
  },
  {
   "cell_type": "markdown",
   "id": "ac7b34e0",
   "metadata": {},
   "source": [
    "#### MinMax 스케일링"
   ]
  },
  {
   "cell_type": "code",
   "execution_count": 70,
   "id": "c45b77f2",
   "metadata": {},
   "outputs": [
    {
     "data": {
      "text/plain": [
       "array([1, 2, 3, 4, 5])"
      ]
     },
     "execution_count": 70,
     "metadata": {},
     "output_type": "execute_result"
    },
    {
     "data": {
      "text/plain": [
       "array([10, 20, 30, 40, 50])"
      ]
     },
     "execution_count": 70,
     "metadata": {},
     "output_type": "execute_result"
    },
    {
     "name": "stdout",
     "output_type": "stream",
     "text": [
      "[0.000 0.250 0.500 0.750 1.000]\n",
      "[0.000 0.250 0.500 0.750 1.000]\n"
     ]
    }
   ],
   "source": [
    "z1 = (x1 - x1.min()) / (x1.max() - x1.min())\n",
    "z2 = (x2 - x2.min()) / (x2.max() - x2.min())\n",
    "\n",
    "x1\n",
    "x2\n",
    "\n",
    "print(z1)\n",
    "print(z2)\n"
   ]
  },
  {
   "cell_type": "markdown",
   "id": "dc9890bb",
   "metadata": {},
   "source": [
    "### 표준화예제"
   ]
  },
  {
   "cell_type": "code",
   "execution_count": 71,
   "id": "4b65efe0",
   "metadata": {},
   "outputs": [
    {
     "data": {
      "text/html": [
       "<div>\n",
       "<style scoped>\n",
       "    .dataframe tbody tr th:only-of-type {\n",
       "        vertical-align: middle;\n",
       "    }\n",
       "\n",
       "    .dataframe tbody tr th {\n",
       "        vertical-align: top;\n",
       "    }\n",
       "\n",
       "    .dataframe thead th {\n",
       "        text-align: right;\n",
       "    }\n",
       "</style>\n",
       "<table border=\"1\" class=\"dataframe\">\n",
       "  <thead>\n",
       "    <tr style=\"text-align: right;\">\n",
       "      <th></th>\n",
       "      <th>english</th>\n",
       "      <th>mathematics</th>\n",
       "    </tr>\n",
       "    <tr>\n",
       "      <th>student number</th>\n",
       "      <th></th>\n",
       "      <th></th>\n",
       "    </tr>\n",
       "  </thead>\n",
       "  <tbody>\n",
       "    <tr>\n",
       "      <th>1</th>\n",
       "      <td>42</td>\n",
       "      <td>65</td>\n",
       "    </tr>\n",
       "    <tr>\n",
       "      <th>2</th>\n",
       "      <td>69</td>\n",
       "      <td>80</td>\n",
       "    </tr>\n",
       "    <tr>\n",
       "      <th>3</th>\n",
       "      <td>56</td>\n",
       "      <td>63</td>\n",
       "    </tr>\n",
       "    <tr>\n",
       "      <th>4</th>\n",
       "      <td>41</td>\n",
       "      <td>63</td>\n",
       "    </tr>\n",
       "    <tr>\n",
       "      <th>5</th>\n",
       "      <td>57</td>\n",
       "      <td>76</td>\n",
       "    </tr>\n",
       "  </tbody>\n",
       "</table>\n",
       "</div>"
      ],
      "text/plain": [
       "                english  mathematics\n",
       "student number                      \n",
       "1                    42           65\n",
       "2                    69           80\n",
       "3                    56           63\n",
       "4                    41           63\n",
       "5                    57           76"
      ]
     },
     "execution_count": 71,
     "metadata": {},
     "output_type": "execute_result"
    }
   ],
   "source": [
    "df = pd.read_csv('../data/data/ch2_scores_em.csv',\n",
    "                 index_col='student number')\n",
    "# df의 처음 5행을 표시\n",
    "df.head()\n",
    "\n",
    "scores=df.head(10)"
   ]
  },
  {
   "cell_type": "code",
   "execution_count": 72,
   "id": "9b682f01",
   "metadata": {},
   "outputs": [],
   "source": [
    "scores.index=['A', 'B', 'C', 'D', 'E','F', 'G', 'H', 'I', 'J']\n",
    "scores.index.name='students'\n"
   ]
  },
  {
   "cell_type": "code",
   "execution_count": 73,
   "id": "941431a4",
   "metadata": {},
   "outputs": [],
   "source": [
    "# np.set_printoptions(precision=20, suppress=True)\n",
    "# pd.options.display.float_format = '{:.2f}'.format\n",
    "# import numpy as np\n",
    "# # numpy float 출력옵션 변경\n",
    "# np.set_printoptions(precision=3)\n",
    "\n",
    "import numpy as np\n",
    "# numpy float 출력옵션 변경\n",
    "np.set_printoptions(formatter={'float_kind': lambda x: \"{0:0.3f}\".format(x)})\n"
   ]
  },
  {
   "cell_type": "code",
   "execution_count": 74,
   "id": "4a05e18c",
   "metadata": {},
   "outputs": [
    {
     "data": {
      "text/plain": [
       "students\n",
       "A   -1.329889\n",
       "B    1.432188\n",
       "C    0.102299\n",
       "D   -1.432188\n",
       "E    0.204598\n",
       "F   -0.716094\n",
       "G    1.022992\n",
       "H   -0.613795\n",
       "I    1.022992\n",
       "J    0.306897\n",
       "Name: english, dtype: float64"
      ]
     },
     "execution_count": 74,
     "metadata": {},
     "output_type": "execute_result"
    },
    {
     "data": {
      "text/plain": [
       "students\n",
       "A   -0.733916\n",
       "B    0.986199\n",
       "C   -0.963264\n",
       "D   -0.963264\n",
       "E    0.527502\n",
       "F   -1.307287\n",
       "G    1.100874\n",
       "H   -0.619241\n",
       "I    0.756851\n",
       "J    1.215548\n",
       "Name: mathematics, dtype: float64"
      ]
     },
     "execution_count": 74,
     "metadata": {},
     "output_type": "execute_result"
    }
   ],
   "source": [
    "em_z = (scores['english'] - scores['english'].mean())/scores['english'].std()\n",
    "mt_z = (scores['mathematics'] - scores['mathematics'].mean())/scores['mathematics'].std()\n",
    "\n",
    "em_z\n",
    "mt_z"
   ]
  },
  {
   "cell_type": "code",
   "execution_count": 75,
   "id": "36547060",
   "metadata": {},
   "outputs": [
    {
     "data": {
      "text/plain": [
       "2.7755575615628914e-17"
      ]
     },
     "execution_count": 75,
     "metadata": {},
     "output_type": "execute_result"
    },
    {
     "data": {
      "text/plain": [
       "-6.883382752675971e-16"
      ]
     },
     "execution_count": 75,
     "metadata": {},
     "output_type": "execute_result"
    },
    {
     "data": {
      "text/plain": [
       "1.0"
      ]
     },
     "execution_count": 75,
     "metadata": {},
     "output_type": "execute_result"
    },
    {
     "data": {
      "text/plain": [
       "1.0"
      ]
     },
     "execution_count": 75,
     "metadata": {},
     "output_type": "execute_result"
    }
   ],
   "source": [
    "em_z.mean()\n",
    "mt_z.mean()\n",
    "em_z.std()\n",
    "mt_z.std()"
   ]
  },
  {
   "cell_type": "markdown",
   "id": "942c9c99",
   "metadata": {},
   "source": [
    "### sklearn을 이용한 스케일링 - 머신러닝을위해 쓰는 경우가 대부분\n",
    "- df의 각 열에 대해서 스케일링하는데 적합함\n"
   ]
  },
  {
   "cell_type": "code",
   "execution_count": 76,
   "id": "86f5a3c0",
   "metadata": {},
   "outputs": [
    {
     "data": {
      "text/html": [
       "<div>\n",
       "<style scoped>\n",
       "    .dataframe tbody tr th:only-of-type {\n",
       "        vertical-align: middle;\n",
       "    }\n",
       "\n",
       "    .dataframe tbody tr th {\n",
       "        vertical-align: top;\n",
       "    }\n",
       "\n",
       "    .dataframe thead th {\n",
       "        text-align: right;\n",
       "    }\n",
       "</style>\n",
       "<table border=\"1\" class=\"dataframe\">\n",
       "  <thead>\n",
       "    <tr style=\"text-align: right;\">\n",
       "      <th></th>\n",
       "      <th>X1</th>\n",
       "      <th>X2</th>\n",
       "    </tr>\n",
       "  </thead>\n",
       "  <tbody>\n",
       "    <tr>\n",
       "      <th>0</th>\n",
       "      <td>1</td>\n",
       "      <td>10</td>\n",
       "    </tr>\n",
       "    <tr>\n",
       "      <th>1</th>\n",
       "      <td>2</td>\n",
       "      <td>20</td>\n",
       "    </tr>\n",
       "    <tr>\n",
       "      <th>2</th>\n",
       "      <td>3</td>\n",
       "      <td>30</td>\n",
       "    </tr>\n",
       "    <tr>\n",
       "      <th>3</th>\n",
       "      <td>4</td>\n",
       "      <td>40</td>\n",
       "    </tr>\n",
       "    <tr>\n",
       "      <th>4</th>\n",
       "      <td>5</td>\n",
       "      <td>50</td>\n",
       "    </tr>\n",
       "  </tbody>\n",
       "</table>\n",
       "</div>"
      ],
      "text/plain": [
       "   X1  X2\n",
       "0   1  10\n",
       "1   2  20\n",
       "2   3  30\n",
       "3   4  40\n",
       "4   5  50"
      ]
     },
     "execution_count": 76,
     "metadata": {},
     "output_type": "execute_result"
    }
   ],
   "source": [
    "X = pd.DataFrame({\"X1\":[1, 2, 3, 4, 5],\n",
    "    \"X2\": [10, 20, 30, 40, 50]})\n",
    "\n",
    "X\n"
   ]
  },
  {
   "cell_type": "code",
   "execution_count": 77,
   "id": "0e9b2291",
   "metadata": {},
   "outputs": [
    {
     "data": {
      "text/html": [
       "<div>\n",
       "<style scoped>\n",
       "    .dataframe tbody tr th:only-of-type {\n",
       "        vertical-align: middle;\n",
       "    }\n",
       "\n",
       "    .dataframe tbody tr th {\n",
       "        vertical-align: top;\n",
       "    }\n",
       "\n",
       "    .dataframe thead th {\n",
       "        text-align: right;\n",
       "    }\n",
       "</style>\n",
       "<table border=\"1\" class=\"dataframe\">\n",
       "  <thead>\n",
       "    <tr style=\"text-align: right;\">\n",
       "      <th></th>\n",
       "      <th>0</th>\n",
       "      <th>1</th>\n",
       "    </tr>\n",
       "  </thead>\n",
       "  <tbody>\n",
       "    <tr>\n",
       "      <th>0</th>\n",
       "      <td>0.00</td>\n",
       "      <td>0.00</td>\n",
       "    </tr>\n",
       "    <tr>\n",
       "      <th>1</th>\n",
       "      <td>0.25</td>\n",
       "      <td>0.25</td>\n",
       "    </tr>\n",
       "    <tr>\n",
       "      <th>2</th>\n",
       "      <td>0.50</td>\n",
       "      <td>0.50</td>\n",
       "    </tr>\n",
       "    <tr>\n",
       "      <th>3</th>\n",
       "      <td>0.75</td>\n",
       "      <td>0.75</td>\n",
       "    </tr>\n",
       "    <tr>\n",
       "      <th>4</th>\n",
       "      <td>1.00</td>\n",
       "      <td>1.00</td>\n",
       "    </tr>\n",
       "  </tbody>\n",
       "</table>\n",
       "</div>"
      ],
      "text/plain": [
       "      0     1\n",
       "0  0.00  0.00\n",
       "1  0.25  0.25\n",
       "2  0.50  0.50\n",
       "3  0.75  0.75\n",
       "4  1.00  1.00"
      ]
     },
     "execution_count": 77,
     "metadata": {},
     "output_type": "execute_result"
    }
   ],
   "source": [
    "from sklearn.preprocessing import MinMaxScaler\n",
    "scaler = MinMaxScaler() #생성자 함수를 통해 객체 인스턴스 생성\n",
    "Z=scaler.fit_transform(X)\n",
    "\n",
    "pd.DataFrame(Z)"
   ]
  },
  {
   "cell_type": "markdown",
   "id": "0e0ce7a7",
   "metadata": {},
   "source": [
    "### 편찻값\n",
    "\n",
    "- 학력 등의 검사 결과가 집단의 평균값에서 어느 정도 떨어져 있는가를 수치로 나타낸 것. \n",
    "- 편차를 표준 편차로 나눠 10배를 한 뒤 50을 더한 것임. \n",
    "- 편차: 특정 변량에서 평균의 값을 뺀 수치\n",
    "\n",
    "\n",
    "- 평균을 50, 표준편차가 10이 되도록 정규화한 값"
   ]
  },
  {
   "cell_type": "code",
   "execution_count": 85,
   "id": "b56c595d",
   "metadata": {},
   "outputs": [
    {
     "data": {
      "text/html": [
       "<div>\n",
       "<style scoped>\n",
       "    .dataframe tbody tr th:only-of-type {\n",
       "        vertical-align: middle;\n",
       "    }\n",
       "\n",
       "    .dataframe tbody tr th {\n",
       "        vertical-align: top;\n",
       "    }\n",
       "\n",
       "    .dataframe thead th {\n",
       "        text-align: right;\n",
       "    }\n",
       "</style>\n",
       "<table border=\"1\" class=\"dataframe\">\n",
       "  <thead>\n",
       "    <tr style=\"text-align: right;\">\n",
       "      <th></th>\n",
       "      <th>english</th>\n",
       "      <th>mathematics</th>\n",
       "    </tr>\n",
       "    <tr>\n",
       "      <th>students</th>\n",
       "      <th></th>\n",
       "      <th></th>\n",
       "    </tr>\n",
       "  </thead>\n",
       "  <tbody>\n",
       "    <tr>\n",
       "      <th>A</th>\n",
       "      <td>42</td>\n",
       "      <td>65</td>\n",
       "    </tr>\n",
       "    <tr>\n",
       "      <th>B</th>\n",
       "      <td>69</td>\n",
       "      <td>80</td>\n",
       "    </tr>\n",
       "    <tr>\n",
       "      <th>C</th>\n",
       "      <td>56</td>\n",
       "      <td>63</td>\n",
       "    </tr>\n",
       "    <tr>\n",
       "      <th>D</th>\n",
       "      <td>41</td>\n",
       "      <td>63</td>\n",
       "    </tr>\n",
       "    <tr>\n",
       "      <th>E</th>\n",
       "      <td>57</td>\n",
       "      <td>76</td>\n",
       "    </tr>\n",
       "    <tr>\n",
       "      <th>F</th>\n",
       "      <td>48</td>\n",
       "      <td>60</td>\n",
       "    </tr>\n",
       "    <tr>\n",
       "      <th>G</th>\n",
       "      <td>65</td>\n",
       "      <td>81</td>\n",
       "    </tr>\n",
       "    <tr>\n",
       "      <th>H</th>\n",
       "      <td>49</td>\n",
       "      <td>66</td>\n",
       "    </tr>\n",
       "    <tr>\n",
       "      <th>I</th>\n",
       "      <td>65</td>\n",
       "      <td>78</td>\n",
       "    </tr>\n",
       "    <tr>\n",
       "      <th>J</th>\n",
       "      <td>58</td>\n",
       "      <td>82</td>\n",
       "    </tr>\n",
       "  </tbody>\n",
       "</table>\n",
       "</div>"
      ],
      "text/plain": [
       "          english  mathematics\n",
       "students                      \n",
       "A              42           65\n",
       "B              69           80\n",
       "C              56           63\n",
       "D              41           63\n",
       "E              57           76\n",
       "F              48           60\n",
       "G              65           81\n",
       "H              49           66\n",
       "I              65           78\n",
       "J              58           82"
      ]
     },
     "execution_count": 85,
     "metadata": {},
     "output_type": "execute_result"
    }
   ],
   "source": [
    "scores"
   ]
  },
  {
   "cell_type": "code",
   "execution_count": 93,
   "id": "b3e61e4b",
   "metadata": {},
   "outputs": [
    {
     "data": {
      "text/html": [
       "<div>\n",
       "<style scoped>\n",
       "    .dataframe tbody tr th:only-of-type {\n",
       "        vertical-align: middle;\n",
       "    }\n",
       "\n",
       "    .dataframe tbody tr th {\n",
       "        vertical-align: top;\n",
       "    }\n",
       "\n",
       "    .dataframe thead th {\n",
       "        text-align: right;\n",
       "    }\n",
       "</style>\n",
       "<table border=\"1\" class=\"dataframe\">\n",
       "  <thead>\n",
       "    <tr style=\"text-align: right;\">\n",
       "      <th></th>\n",
       "      <th>english</th>\n",
       "      <th>mathematics</th>\n",
       "    </tr>\n",
       "    <tr>\n",
       "      <th>students</th>\n",
       "      <th></th>\n",
       "      <th></th>\n",
       "    </tr>\n",
       "  </thead>\n",
       "  <tbody>\n",
       "    <tr>\n",
       "      <th>A</th>\n",
       "      <td>35.981739</td>\n",
       "      <td>42.263848</td>\n",
       "    </tr>\n",
       "    <tr>\n",
       "      <th>B</th>\n",
       "      <td>65.096588</td>\n",
       "      <td>60.395454</td>\n",
       "    </tr>\n",
       "    <tr>\n",
       "      <th>C</th>\n",
       "      <td>51.078328</td>\n",
       "      <td>39.846301</td>\n",
       "    </tr>\n",
       "    <tr>\n",
       "      <th>D</th>\n",
       "      <td>34.903412</td>\n",
       "      <td>39.846301</td>\n",
       "    </tr>\n",
       "    <tr>\n",
       "      <th>E</th>\n",
       "      <td>52.156655</td>\n",
       "      <td>55.560359</td>\n",
       "    </tr>\n",
       "    <tr>\n",
       "      <th>F</th>\n",
       "      <td>42.451706</td>\n",
       "      <td>36.219980</td>\n",
       "    </tr>\n",
       "    <tr>\n",
       "      <th>G</th>\n",
       "      <td>60.783277</td>\n",
       "      <td>61.604227</td>\n",
       "    </tr>\n",
       "    <tr>\n",
       "      <th>H</th>\n",
       "      <td>43.530034</td>\n",
       "      <td>43.472622</td>\n",
       "    </tr>\n",
       "    <tr>\n",
       "      <th>I</th>\n",
       "      <td>60.783277</td>\n",
       "      <td>57.977906</td>\n",
       "    </tr>\n",
       "    <tr>\n",
       "      <th>J</th>\n",
       "      <td>53.234983</td>\n",
       "      <td>62.813001</td>\n",
       "    </tr>\n",
       "  </tbody>\n",
       "</table>\n",
       "</div>"
      ],
      "text/plain": [
       "            english  mathematics\n",
       "students                        \n",
       "A         35.981739    42.263848\n",
       "B         65.096588    60.395454\n",
       "C         51.078328    39.846301\n",
       "D         34.903412    39.846301\n",
       "E         52.156655    55.560359\n",
       "F         42.451706    36.219980\n",
       "G         60.783277    61.604227\n",
       "H         43.530034    43.472622\n",
       "I         60.783277    57.977906\n",
       "J         53.234983    62.813001"
      ]
     },
     "execution_count": 93,
     "metadata": {},
     "output_type": "execute_result"
    },
    {
     "data": {
      "text/plain": [
       "english        50.0\n",
       "mathematics    50.0\n",
       "dtype: float64"
      ]
     },
     "execution_count": 93,
     "metadata": {},
     "output_type": "execute_result"
    },
    {
     "data": {
      "text/plain": [
       "english        10.540926\n",
       "mathematics    10.540926\n",
       "dtype: float64"
      ]
     },
     "execution_count": 93,
     "metadata": {},
     "output_type": "execute_result"
    }
   ],
   "source": [
    "z= 50+10* ((scores-np.mean(scores)) /  (np.std(scores)))\n",
    "z\n",
    "z.mean()\n",
    "z.std()"
   ]
  },
  {
   "cell_type": "code",
   "execution_count": 94,
   "id": "23746866",
   "metadata": {},
   "outputs": [
    {
     "data": {
      "text/html": [
       "<div>\n",
       "<style scoped>\n",
       "    .dataframe tbody tr th:only-of-type {\n",
       "        vertical-align: middle;\n",
       "    }\n",
       "\n",
       "    .dataframe tbody tr th {\n",
       "        vertical-align: top;\n",
       "    }\n",
       "\n",
       "    .dataframe thead th {\n",
       "        text-align: right;\n",
       "    }\n",
       "</style>\n",
       "<table border=\"1\" class=\"dataframe\">\n",
       "  <thead>\n",
       "    <tr style=\"text-align: right;\">\n",
       "      <th></th>\n",
       "      <th>영어</th>\n",
       "      <th>영어편찻값</th>\n",
       "      <th>수학</th>\n",
       "      <th>수학편찻값</th>\n",
       "    </tr>\n",
       "    <tr>\n",
       "      <th>students</th>\n",
       "      <th></th>\n",
       "      <th></th>\n",
       "      <th></th>\n",
       "      <th></th>\n",
       "    </tr>\n",
       "  </thead>\n",
       "  <tbody>\n",
       "    <tr>\n",
       "      <th>A</th>\n",
       "      <td>42</td>\n",
       "      <td>35.981739</td>\n",
       "      <td>65</td>\n",
       "      <td>42.263848</td>\n",
       "    </tr>\n",
       "    <tr>\n",
       "      <th>B</th>\n",
       "      <td>69</td>\n",
       "      <td>65.096588</td>\n",
       "      <td>80</td>\n",
       "      <td>60.395454</td>\n",
       "    </tr>\n",
       "    <tr>\n",
       "      <th>C</th>\n",
       "      <td>56</td>\n",
       "      <td>51.078328</td>\n",
       "      <td>63</td>\n",
       "      <td>39.846301</td>\n",
       "    </tr>\n",
       "    <tr>\n",
       "      <th>D</th>\n",
       "      <td>41</td>\n",
       "      <td>34.903412</td>\n",
       "      <td>63</td>\n",
       "      <td>39.846301</td>\n",
       "    </tr>\n",
       "    <tr>\n",
       "      <th>E</th>\n",
       "      <td>57</td>\n",
       "      <td>52.156655</td>\n",
       "      <td>76</td>\n",
       "      <td>55.560359</td>\n",
       "    </tr>\n",
       "    <tr>\n",
       "      <th>F</th>\n",
       "      <td>48</td>\n",
       "      <td>42.451706</td>\n",
       "      <td>60</td>\n",
       "      <td>36.219980</td>\n",
       "    </tr>\n",
       "    <tr>\n",
       "      <th>G</th>\n",
       "      <td>65</td>\n",
       "      <td>60.783277</td>\n",
       "      <td>81</td>\n",
       "      <td>61.604227</td>\n",
       "    </tr>\n",
       "    <tr>\n",
       "      <th>H</th>\n",
       "      <td>49</td>\n",
       "      <td>43.530034</td>\n",
       "      <td>66</td>\n",
       "      <td>43.472622</td>\n",
       "    </tr>\n",
       "    <tr>\n",
       "      <th>I</th>\n",
       "      <td>65</td>\n",
       "      <td>60.783277</td>\n",
       "      <td>78</td>\n",
       "      <td>57.977906</td>\n",
       "    </tr>\n",
       "    <tr>\n",
       "      <th>J</th>\n",
       "      <td>58</td>\n",
       "      <td>53.234983</td>\n",
       "      <td>82</td>\n",
       "      <td>62.813001</td>\n",
       "    </tr>\n",
       "  </tbody>\n",
       "</table>\n",
       "</div>"
      ],
      "text/plain": [
       "          영어      영어편찻값  수학      수학편찻값\n",
       "students                              \n",
       "A         42  35.981739  65  42.263848\n",
       "B         69  65.096588  80  60.395454\n",
       "C         56  51.078328  63  39.846301\n",
       "D         41  34.903412  63  39.846301\n",
       "E         57  52.156655  76  55.560359\n",
       "F         48  42.451706  60  36.219980\n",
       "G         65  60.783277  81  61.604227\n",
       "H         49  43.530034  66  43.472622\n",
       "I         65  60.783277  78  57.977906\n",
       "J         58  53.234983  82  62.813001"
      ]
     },
     "execution_count": 94,
     "metadata": {},
     "output_type": "execute_result"
    }
   ],
   "source": [
    "result=pd.concat([scores,z], axis=1)\n",
    "result.columns=['영어','수학','영어편찻값','수학편찻값']\n",
    "result[['영어','영어편찻값','수학','수학편찻값']]\n"
   ]
  },
  {
   "cell_type": "code",
   "execution_count": null,
   "id": "335454ff",
   "metadata": {},
   "outputs": [],
   "source": []
  }
 ],
 "metadata": {
  "kernelspec": {
   "display_name": "Python 3",
   "language": "python",
   "name": "python3"
  },
  "language_info": {
   "codemirror_mode": {
    "name": "ipython",
    "version": 3
   },
   "file_extension": ".py",
   "mimetype": "text/x-python",
   "name": "python",
   "nbconvert_exporter": "python",
   "pygments_lexer": "ipython3",
   "version": "3.8.8"
  }
 },
 "nbformat": 4,
 "nbformat_minor": 5
}
