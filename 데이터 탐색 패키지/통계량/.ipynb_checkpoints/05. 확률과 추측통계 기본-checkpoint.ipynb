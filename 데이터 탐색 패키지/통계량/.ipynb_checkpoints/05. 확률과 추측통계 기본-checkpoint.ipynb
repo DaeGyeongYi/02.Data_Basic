{
 "cells": [
  {
   "cell_type": "markdown",
   "id": "5b47bd79",
   "metadata": {},
   "source": [
    "# 추측 통계의 기본\n",
    "\n",
    "- 추측통계 : 일부 데이터로 전체의 통계적 성질을 추측하는 것"
   ]
  },
  {
   "cell_type": "markdown",
   "id": "5dc8b94f",
   "metadata": {},
   "source": [
    "![](추측통계예시.png)"
   ]
  },
  {
   "cell_type": "markdown",
   "id": "29d344ef",
   "metadata": {},
   "source": [
    "## 모집단과 표본\n",
    "\n",
    "\n",
    "- 모집단(population) \n",
    "    - 조사 대상이 되는 관측 가능한 개체로 된 집단 전체(관심있는 집단)\n",
    "    \n",
    "    \n",
    "- 표본(sample)\n",
    "    - 모집단에서 선택된 모집단 구성단위의 일부\n"
   ]
  },
  {
   "cell_type": "markdown",
   "id": "2190595b",
   "metadata": {},
   "source": [
    "<img src='모집단과표본.jpg' width=500 height=500>"
   ]
  },
  {
   "cell_type": "markdown",
   "id": "99b41d7f",
   "metadata": {},
   "source": [
    "### 표본 추출 방법\n",
    "- 무작위 추출(임의 추출) : 임의로 표본을 추출하는 방법\n",
    "- 복원 추출 : 여러차례 동일한 표본이 선택될수 있는 방법\n",
    "- 비복원 추출: 동일한 표본은 한번만 선택되는 방법"
   ]
  },
  {
   "cell_type": "code",
   "execution_count": 1,
   "id": "82211bd3",
   "metadata": {},
   "outputs": [],
   "source": [
    "import numpy as np\n",
    "import pandas as pd\n",
    "import matplotlib.pyplot as plt\n",
    "\n",
    "%precision 3\n",
    "%matplotlib inline\n"
   ]
  },
  {
   "cell_type": "code",
   "execution_count": 4,
   "id": "1e060e1f",
   "metadata": {},
   "outputs": [
    {
     "data": {
      "text/plain": [
       "array([76, 55, 80, 80, 74, 61, 81, 76, 23, 80], dtype=int64)"
      ]
     },
     "execution_count": 4,
     "metadata": {},
     "output_type": "execute_result"
    }
   ],
   "source": [
    "df = pd.read_csv('../data/data/ch4_scores400.csv')\n",
    "scores = np.array(df['score'])\n",
    "scores[:10]\n"
   ]
  },
  {
   "cell_type": "code",
   "execution_count": 19,
   "id": "2ad8d127",
   "metadata": {},
   "outputs": [
    {
     "data": {
      "text/plain": [
       "array([1, 2, 1])"
      ]
     },
     "execution_count": 19,
     "metadata": {},
     "output_type": "execute_result"
    }
   ],
   "source": [
    "#복원 추출\n",
    "np.random.seed(0)\n",
    "np.random.choice([1,2,3],3)"
   ]
  },
  {
   "cell_type": "code",
   "execution_count": 20,
   "id": "acd210e7",
   "metadata": {},
   "outputs": [
    {
     "data": {
      "text/plain": [
       "array([3, 2, 1])"
      ]
     },
     "execution_count": 20,
     "metadata": {},
     "output_type": "execute_result"
    }
   ],
   "source": [
    "#비복원추출\n",
    "np.random.seed(0)\n",
    "np.random.choice([1,2,3],3,replace=False)"
   ]
  },
  {
   "cell_type": "code",
   "execution_count": 21,
   "id": "631c6ef2",
   "metadata": {},
   "outputs": [
    {
     "data": {
      "text/plain": [
       "70.4"
      ]
     },
     "execution_count": 21,
     "metadata": {},
     "output_type": "execute_result"
    }
   ],
   "source": [
    "np.random.seed(0)\n",
    "sample = np.random.choice(scores, 20)\n",
    "\n",
    "# 표본 평균\n",
    "sample.mean()\n"
   ]
  },
  {
   "cell_type": "markdown",
   "id": "67dfb6c9",
   "metadata": {},
   "source": [
    "#전체 데이터의 평균\n",
    "scores.mean()\n"
   ]
  },
  {
   "cell_type": "code",
   "execution_count": 24,
   "id": "07348585",
   "metadata": {},
   "outputs": [
    {
     "name": "stdout",
     "output_type": "stream",
     "text": [
      "1번째 무작위 추출로 얻은 표본평균 70.7\n",
      "2번째 무작위 추출로 얻은 표본평균 71.9\n",
      "3번째 무작위 추출로 얻은 표본평균 71.25\n",
      "4번째 무작위 추출로 얻은 표본평균 67.4\n",
      "5번째 무작위 추출로 얻은 표본평균 67.7\n"
     ]
    }
   ],
   "source": [
    "for i in range(5):\n",
    "    sample = np.random.choice(scores, 20)\n",
    "    print(f'{i+1}번째 무작위 추출로 얻은 표본평균', sample.mean())\n",
    "\n",
    "#표본 평균은 70점 전후 이지만 나름대로 산포도도 나타내고 있음"
   ]
  },
  {
   "cell_type": "code",
   "execution_count": null,
   "id": "9212ca71",
   "metadata": {},
   "outputs": [],
   "source": []
  },
  {
   "cell_type": "code",
   "execution_count": null,
   "id": "cfd9e08b",
   "metadata": {},
   "outputs": [],
   "source": []
  }
 ],
 "metadata": {
  "kernelspec": {
   "display_name": "Python 3",
   "language": "python",
   "name": "python3"
  },
  "language_info": {
   "codemirror_mode": {
    "name": "ipython",
    "version": 3
   },
   "file_extension": ".py",
   "mimetype": "text/x-python",
   "name": "python",
   "nbconvert_exporter": "python",
   "pygments_lexer": "ipython3",
   "version": "3.8.8"
  }
 },
 "nbformat": 4,
 "nbformat_minor": 5
}
