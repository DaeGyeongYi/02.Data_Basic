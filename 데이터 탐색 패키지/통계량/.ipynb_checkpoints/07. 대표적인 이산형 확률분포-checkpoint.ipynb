{
 "cells": [
  {
   "cell_type": "markdown",
   "id": "7d24cba2",
   "metadata": {},
   "source": [
    "## 대표적인 이산형 확률분포\n",
    "\n",
    "- 베르누이 분포 => 이항분포"
   ]
  },
  {
   "cell_type": "code",
   "execution_count": 64,
   "id": "f2aa4f7f",
   "metadata": {},
   "outputs": [
    {
     "data": {
      "text/plain": [
       "'%.3f'"
      ]
     },
     "execution_count": 64,
     "metadata": {},
     "output_type": "execute_result"
    }
   ],
   "source": [
    "import numpy as np\n",
    "import matplotlib.pyplot as plt\n",
    "from scipy import stats\n",
    "\n",
    "get_ipython().run_line_magic('precision', '3')\n",
    "get_ipython().run_line_magic('matplotlib', 'inline')\n",
    "\n",
    "from IPython.core.interactiveshell import InteractiveShell\n",
    "InteractiveShell.ast_node_interactivity=\"all\"\n",
    "\n",
    "# 한글 문제\n",
    "# matplotlit의 기본 폰트에서 한글 지원되지 않기 때문에\n",
    "# matplotlib의 폰트 변경 필요\n",
    "import platform\n",
    "\n",
    "from matplotlib import font_manager, rc\n",
    "plt.rcParams['axes.unicode_minus'] = False\n",
    "\n",
    "if platform.system() == 'Darwin':  # 맥OS \n",
    "    rc('font', family='AppleGothic')\n",
    "elif platform.system() == 'Windows':  # 윈도우\n",
    "    path = \"c:/Windows/Fonts/malgun.ttf\"\n",
    "    font_name = font_manager.FontProperties(fname=path).get_name()\n",
    "    rc('font', family=font_name)\n",
    "else:\n",
    "    print('Unknown system...  sorry~~~')"
   ]
  },
  {
   "cell_type": "code",
   "execution_count": 65,
   "id": "7f315710",
   "metadata": {},
   "outputs": [],
   "source": [
    "# 그래프 선의 종류\n",
    "linestyles = ['-', '--', ':']\n",
    "\n",
    "def E(X, g=lambda x: x):\n",
    "    x_set, f = X\n",
    "    return np.sum([g(x_k) * f(x_k) for x_k in x_set])\n",
    "\n",
    "def V(X, g=lambda x: x):\n",
    "    x_set, f = X\n",
    "    mean = E(X, g)\n",
    "    return np.sum([(g(x_k)-mean)**2 * f(x_k) for x_k in x_set])\n",
    "\n",
    "# 기댓값과 분산 계산 함수\n",
    "\n",
    "# X가 이산형 확률 변수 인지 확인\n",
    "def check_prob(X):\n",
    "    x_set, f = X\n",
    "    prob = np.array([f(x_k) for x_k in x_set])\n",
    "    assert np.all(prob >= 0), 'minus probability'\n",
    "    prob_sum = np.round(np.sum(prob), 6)\n",
    "    assert prob_sum == 1, f'sum of probability{prob_sum}'\n",
    "    print(f'expected value {E(X):.4}')\n",
    "    print(f'variance {(V(X)):.4}')\n",
    "\n",
    "# 그래프 작성 함수\n",
    "\n",
    "def plot_prob(X):\n",
    "    x_set, f = X\n",
    "    prob = np.array([f(x_k) for x_k in x_set])\n",
    "\n",
    "    fig = plt.figure(figsize=(10, 6))\n",
    "    ax = fig.add_subplot(111)\n",
    "    ax.bar(x_set, prob, label='prob')\n",
    "    ax.vlines(E(X), 0, 1, label='mean', color='black')\n",
    "    ax.set_xticks(np.append(x_set, E(X)))\n",
    "    ax.set_ylim(0, prob.max()*1.2)\n",
    "    ax.legend()\n",
    "\n",
    "    plt.show()"
   ]
  },
  {
   "cell_type": "markdown",
   "id": "409062a6",
   "metadata": {},
   "source": [
    "### 베르누이 분포\n",
    "\n",
    "- 확률 변수가 취할 수 있는 값이 0과 1밖에 없는 분포\n",
    "    - 베르누이 분포를 따르는 확률 변수의 시행이 베르누이 시행\n",
    "    - 1은 성공, 0은 실패\n",
    "    - 1이 나오는 확률 p, 0이 나오는 확률 1-p\n",
    "    - 파라미터 p인 베르누이 분포는 Bern(p)\n",
    "    \n",
    "   ![](베르누이함수.png)"
   ]
  },
  {
   "cell_type": "markdown",
   "id": "35432810",
   "metadata": {},
   "source": [
    "- 동전을 던져서 앞면이 나올 확률\n",
    "![](동전확률.png)\n",
    "- 주사위를 한번 굴려 2가 나오지 않을 확률\n",
    "![](주사위확률.png)"
   ]
  },
  {
   "cell_type": "markdown",
   "id": "5281bed3",
   "metadata": {},
   "source": [
    "#### 베르누이 분포를 함수로 구성"
   ]
  },
  {
   "cell_type": "code",
   "execution_count": 66,
   "id": "10ffeeff",
   "metadata": {},
   "outputs": [],
   "source": [
    "def Bern(p) :\n",
    "    x_set = np.array([0,1])\n",
    "    def f(x) :\n",
    "        if x in x_set :\n",
    "            return p ** x * (1-p)**(1-x)\n",
    "        else :\n",
    "            return 0\n",
    "\n",
    "    return x_set, f"
   ]
  },
  {
   "cell_type": "code",
   "execution_count": 67,
   "id": "79ab04f4",
   "metadata": {},
   "outputs": [],
   "source": [
    "p = 0.3 #1이 나올 확률\n",
    "\n",
    "X  = Bern(p)"
   ]
  },
  {
   "cell_type": "code",
   "execution_count": 68,
   "id": "15e06b58",
   "metadata": {},
   "outputs": [
    {
     "name": "stdout",
     "output_type": "stream",
     "text": [
      "(array([0, 1]), <function Bern.<locals>.f at 0x00000266E00D19D0>)\n"
     ]
    }
   ],
   "source": [
    "print(X)"
   ]
  },
  {
   "cell_type": "markdown",
   "id": "63b9693f",
   "metadata": {},
   "source": [
    "![](베르누이기대값분산.png)"
   ]
  },
  {
   "cell_type": "code",
   "execution_count": 69,
   "id": "e76d8e13",
   "metadata": {},
   "outputs": [
    {
     "name": "stdout",
     "output_type": "stream",
     "text": [
      "expected value 0.3\n",
      "variance 0.21\n"
     ]
    }
   ],
   "source": [
    "# 기대값과 분산\n",
    "check_prob(X)\n"
   ]
  },
  {
   "cell_type": "code",
   "execution_count": 70,
   "id": "ac6201f8",
   "metadata": {},
   "outputs": [
    {
     "data": {
      "image/png": "[encoded data removed]",
      "text/plain": [
       "<Figure size 720x432 with 1 Axes>"
      ]
     },
     "metadata": {
      "needs_background": "light"
     },
     "output_type": "display_data"
    }
   ],
   "source": [
    "# 기대값과 확률의 관계\n",
    "plot_prob(X)"
   ]
  },
  {
   "cell_type": "markdown",
   "id": "f8fcac31",
   "metadata": {},
   "source": [
    " # scipy.stats 모듈\n",
    " \n",
    " - SciPy는 각종 수치 해석 기능을 제공하는 파이썬 패키지\n",
    " \n",
    "     - SciPy는 여러개의 서브 패키지로 구성되어 있는데 그 중 scipy.stats 서브패키지는 여러가지 확률 분포 분석을 위한 기능을 제공\n",
    "     ![](stats.png)"
   ]
  },
  {
   "cell_type": "code",
   "execution_count": 71,
   "id": "c1ceb118",
   "metadata": {},
   "outputs": [],
   "source": [
    "p=0.3\n",
    "# 인수로 확률 파라미터를 취하고 베르누이 분포를 따르는 object를 반환함\n",
    "# 반환 objcet가 저장된 변수 rv는 확률변수에 해당 함\n",
    "rv = stats.bernoulli(p)"
   ]
  },
  {
   "cell_type": "code",
   "execution_count": 72,
   "id": "f894c289",
   "metadata": {},
   "outputs": [
    {
     "data": {
      "text/plain": [
       "0.7000000000000001"
      ]
     },
     "execution_count": 72,
     "metadata": {},
     "output_type": "execute_result"
    },
    {
     "data": {
      "text/plain": [
       "0.3"
      ]
     },
     "execution_count": 72,
     "metadata": {},
     "output_type": "execute_result"
    },
    {
     "data": {
      "text/plain": [
       "array([0.7, 0.3])"
      ]
     },
     "execution_count": 72,
     "metadata": {},
     "output_type": "execute_result"
    }
   ],
   "source": [
    "# pmf 메서드 : 확률 질량 함수\n",
    "rv.pmf(0)\n",
    "rv.pmf(1)\n",
    "\n",
    "# 인수를 리스트로 넘길 수 있음\n",
    "rv.pmf([0,1])"
   ]
  },
  {
   "cell_type": "code",
   "execution_count": 73,
   "id": "c3b14113",
   "metadata": {},
   "outputs": [
    {
     "data": {
      "text/plain": [
       "array([0.7, 1. ])"
      ]
     },
     "execution_count": 73,
     "metadata": {},
     "output_type": "execute_result"
    }
   ],
   "source": [
    "# cdf 누적 밀도 함수\n",
    "rv.cdf([0,1])"
   ]
  },
  {
   "cell_type": "code",
   "execution_count": 74,
   "id": "e0a26c13",
   "metadata": {},
   "outputs": [
    {
     "data": {
      "text/plain": [
       "0.3"
      ]
     },
     "execution_count": 74,
     "metadata": {},
     "output_type": "execute_result"
    },
    {
     "data": {
      "text/plain": [
       "0.21"
      ]
     },
     "execution_count": 74,
     "metadata": {},
     "output_type": "execute_result"
    }
   ],
   "source": [
    "# 기대값과 분산 계산\n",
    "rv.mean()\n",
    "rv.var()"
   ]
  },
  {
   "cell_type": "markdown",
   "id": "930b0df8",
   "metadata": {},
   "source": [
    "![](베르누이정리.png)"
   ]
  },
  {
   "cell_type": "markdown",
   "id": "9daea0be",
   "metadata": {},
   "source": [
    " ### 이항분포\n",
    " - 성공 확률이 μ인 베르누이 시행을 N 번 반복하는 경우\n",
    "     - 가장 운이 좋을 때는 N번 모두 성공할 것이고, 운이 나쁜경우에는 한번도 성공하지 못할 것\n",
    "     \n",
    "     - N번 시행 중 성공한 횟수를 확률변수 X 라고 한다면 X의 값은 0부터 N까지의 정수 중 하나가 됨\n",
    " ![](이항분포.png)"
   ]
  },
  {
   "cell_type": "markdown",
   "id": "87c3a887",
   "metadata": {},
   "source": [
    " ### 위 연산을 실행하는 함수 : comb "
   ]
  },
  {
   "cell_type": "code",
   "execution_count": 75,
   "id": "f0afb620",
   "metadata": {},
   "outputs": [
    {
     "data": {
      "text/plain": [
       "10.0"
      ]
     },
     "execution_count": 75,
     "metadata": {},
     "output_type": "execute_result"
    },
    {
     "data": {
      "text/plain": [
       "10.000"
      ]
     },
     "execution_count": 75,
     "metadata": {},
     "output_type": "execute_result"
    }
   ],
   "source": [
    "from scipy.special import comb\n",
    "com = comb(5,2)  #nCx를 수행하는 함수 5C2를 수행하게됨\n",
    "com\n",
    "(5*4*3*2*1)/(2*1*(3*2*1)) # 5번 던져서 2번 성공하는 경우의 수"
   ]
  },
  {
   "cell_type": "markdown",
   "id": "d159480b",
   "metadata": {},
   "source": [
    "![](이항연산.png)\n",
    "\n",
    "![](comb.png)"
   ]
  },
  {
   "cell_type": "code",
   "execution_count": 76,
   "id": "8ca83114",
   "metadata": {},
   "outputs": [],
   "source": [
    "## 이항 분포를 따르는 확률변수를 반환하는 함수\n",
    "from scipy.special import comb\n",
    "\n",
    "def Bin(n, p) :\n",
    "    x_set = np.arange(n+1)\n",
    "    def f(x) : \n",
    "        if x in x_set : \n",
    "            return comb(n,x) * p**x* (1-p)**(n-x)\n",
    "        else : \n",
    "            return 0\n",
    "    return x_set, f\n",
    "    "
   ]
  },
  {
   "cell_type": "code",
   "execution_count": 77,
   "id": "ea47cbce",
   "metadata": {},
   "outputs": [
    {
     "data": {
      "text/plain": [
       "(array([ 0,  1,  2,  3,  4,  5,  6,  7,  8,  9, 10]),\n",
       " <function __main__.Bin.<locals>.f(x)>)"
      ]
     },
     "execution_count": 77,
     "metadata": {},
     "output_type": "execute_result"
    }
   ],
   "source": [
    "n=10\n",
    "p=0.3\n",
    "\n",
    "X=Bin(n,p)\n",
    "X\n",
    "\n",
    "\n",
    "\n",
    "\n",
    "\n",
    "\n"
   ]
  },
  {
   "cell_type": "code",
   "execution_count": 78,
   "id": "552ff38a",
   "metadata": {},
   "outputs": [
    {
     "name": "stdout",
     "output_type": "stream",
     "text": [
      "expected value 3.0\n",
      "variance 2.1\n"
     ]
    }
   ],
   "source": [
    "check_prob(X)\n",
    "\n"
   ]
  },
  {
   "cell_type": "code",
   "execution_count": 79,
   "id": "0ac214d5",
   "metadata": {},
   "outputs": [
    {
     "data": {
      "image/png": "[encoded data removed]",
      "text/plain": [
       "<Figure size 720x432 with 1 Axes>"
      ]
     },
     "metadata": {
      "needs_background": "light"
     },
     "output_type": "display_data"
    }
   ],
   "source": [
    "plot_prob(X)\n"
   ]
  },
  {
   "cell_type": "markdown",
   "id": "ef41b8fd",
   "metadata": {},
   "source": [
    " ### 성공할 확률(p)를 변경해 그래프를 그린 후 비교"
   ]
  },
  {
   "cell_type": "code",
   "execution_count": 80,
   "id": "c86c1301",
   "metadata": {},
   "outputs": [
    {
     "data": {
      "text/plain": [
       "[<matplotlib.lines.Line2D at 0x266e01a5550>]"
      ]
     },
     "execution_count": 80,
     "metadata": {},
     "output_type": "execute_result"
    },
    {
     "data": {
      "text/plain": [
       "[<matplotlib.lines.Line2D at 0x266e0190970>]"
      ]
     },
     "execution_count": 80,
     "metadata": {},
     "output_type": "execute_result"
    },
    {
     "data": {
      "text/plain": [
       "[<matplotlib.lines.Line2D at 0x266e0190760>]"
      ]
     },
     "execution_count": 80,
     "metadata": {},
     "output_type": "execute_result"
    },
    {
     "data": {
      "text/plain": [
       "[<matplotlib.axis.XTick at 0x266e00661c0>,\n",
       " <matplotlib.axis.XTick at 0x266e0066ac0>,\n",
       " <matplotlib.axis.XTick at 0x266dfea70d0>,\n",
       " <matplotlib.axis.XTick at 0x266e0190250>,\n",
       " <matplotlib.axis.XTick at 0x266e008ce20>,\n",
       " <matplotlib.axis.XTick at 0x266e008c730>,\n",
       " <matplotlib.axis.XTick at 0x266e008c880>,\n",
       " <matplotlib.axis.XTick at 0x266e0043b80>,\n",
       " <matplotlib.axis.XTick at 0x266e0043220>,\n",
       " <matplotlib.axis.XTick at 0x266e0043250>,\n",
       " <matplotlib.axis.XTick at 0x266e0060f40>]"
      ]
     },
     "execution_count": 80,
     "metadata": {},
     "output_type": "execute_result"
    },
    {
     "data": {
      "text/plain": [
       "<matplotlib.legend.Legend at 0x266dff2d2e0>"
      ]
     },
     "execution_count": 80,
     "metadata": {},
     "output_type": "execute_result"
    },
    {
     "data": {
      "image/png": "[encoded data removed]",
      "text/plain": [
       "<Figure size 720x432 with 1 Axes>"
      ]
     },
     "metadata": {
      "needs_background": "light"
     },
     "output_type": "display_data"
    }
   ],
   "source": [
    "n=10\n",
    "linestyles = ['-', '--', ':']\n",
    "fig = plt.figure(figsize=(10, 6))\n",
    "ax = fig.add_subplot(111)\n",
    "\n",
    "x_set=np.arange(n+1)\n",
    "\n",
    "# 성공확률 0.3, 0.5, 0.7일때 그래프 비교\n",
    "for p, ls in zip([0.3,0.5, 0.7], linestyles) : \n",
    "    rv = stats.binom(n,p)\n",
    "    ax.plot(x_set, rv.pmf(x_set), label=f'p:{p}', ls = ls, color='gray')\n",
    "    \n",
    "    \n",
    "ax.set_xticks(x_set)\n",
    "ax.legend()\n",
    "\n",
    "plt.show()\n",
    "    "
   ]
  },
  {
   "cell_type": "code",
   "execution_count": 81,
   "id": "8eaf82ad",
   "metadata": {},
   "outputs": [
    {
     "data": {
      "text/plain": [
       "[(0.300, '-'), (0.500, '--'), (0.700, ':')]"
      ]
     },
     "execution_count": 81,
     "metadata": {},
     "output_type": "execute_result"
    }
   ],
   "source": [
    "list(zip([0.3,0.5, 0.7], linestyles))"
   ]
  },
  {
   "cell_type": "markdown",
   "id": "bdfa5350",
   "metadata": {},
   "source": [
    " ### 파이썬 scipy 모듈의 stats.binom 함수 사용하여 이항확률변수 생성\n",
    " \n",
    " - stats.binom(시행횟수, 성공확률)"
   ]
  },
  {
   "cell_type": "code",
   "execution_count": 82,
   "id": "2128a66f",
   "metadata": {},
   "outputs": [],
   "source": [
    "# 성공확률이 0.6인 베르누이 시행을 10번 반복했을때의 확률변수 rv 생성하시오\n",
    "N=10\n",
    "mu=0.6\n",
    "rv = stats.binom(N,mu)"
   ]
  },
  {
   "cell_type": "code",
   "execution_count": 89,
   "id": "d6914547",
   "metadata": {},
   "outputs": [
    {
     "name": "stdout",
     "output_type": "stream",
     "text": [
      "[ 0  1  2  3  4  5  6  7  8  9 10]\n"
     ]
    },
    {
     "data": {
      "text/plain": [
       "array([1.049e-04, 1.573e-03, 1.062e-02, 4.247e-02, 1.115e-01, 2.007e-01,\n",
       "       2.508e-01, 2.150e-01, 1.209e-01, 4.031e-02, 6.047e-03])"
      ]
     },
     "execution_count": 89,
     "metadata": {},
     "output_type": "execute_result"
    }
   ],
   "source": [
    "xx=np.arange(N+1)\n",
    "print(xx)\n",
    "rv.pmf(xx)"
   ]
  },
  {
   "cell_type": "code",
   "execution_count": 84,
   "id": "f6e9b639",
   "metadata": {},
   "outputs": [
    {
     "data": {
      "text/plain": [
       "<BarContainer object of 11 artists>"
      ]
     },
     "execution_count": 84,
     "metadata": {},
     "output_type": "execute_result"
    },
    {
     "data": {
      "text/plain": [
       "Text(0.5, 0, '표본값')"
      ]
     },
     "execution_count": 84,
     "metadata": {},
     "output_type": "execute_result"
    },
    {
     "data": {
      "text/plain": [
       "Text(0, 0.5, '$P(x)$')"
      ]
     },
     "execution_count": 84,
     "metadata": {},
     "output_type": "execute_result"
    },
    {
     "data": {
      "text/plain": [
       "Text(0.5, 1.0, '이항분포의 확률질량함수')"
      ]
     },
     "execution_count": 84,
     "metadata": {},
     "output_type": "execute_result"
    },
    {
     "data": {
      "image/png": "[encoded data removed]",
      "text/plain": [
       "<Figure size 432x288 with 1 Axes>"
      ]
     },
     "metadata": {
      "needs_background": "light"
     },
     "output_type": "display_data"
    }
   ],
   "source": [
    "xx=np.arange(N+1)\n",
    "plt.bar(xx,rv.pmf(xx),align='center')\n",
    "\n",
    "plt.xlabel(\"표본값\")\n",
    "plt.ylabel(\"$P(x)$\")\n",
    "plt.title(\"이항분포의 확률질량함수\")\n",
    "plt.show()\n"
   ]
  },
  {
   "cell_type": "markdown",
   "id": "6bf255b2",
   "metadata": {},
   "source": [
    " ### rvs함수\n",
    " \n",
    " - binom.rvs 함수는 이항분포를 따르는 난수를 생성시킴\n",
    " \n",
    " - 인자: n, p, size, random_state\n",
    "\n"
   ]
  },
  {
   "cell_type": "code",
   "execution_count": 90,
   "id": "7c9eead9",
   "metadata": {},
   "outputs": [
    {
     "data": {
      "text/plain": [
       "array([24, 19, 31])"
      ]
     },
     "execution_count": 90,
     "metadata": {},
     "output_type": "execute_result"
    },
    {
     "data": {
      "text/plain": [
       "array([22, 22, 22])"
      ]
     },
     "execution_count": 90,
     "metadata": {},
     "output_type": "execute_result"
    }
   ],
   "source": [
    "from scipy.stats import binom\n",
    "\n",
    "binom.rvs(n=50, p=0.5, size=3)\n",
    "binom.rvs(n=50, p=0.5, size=3)\n"
   ]
  },
  {
   "cell_type": "code",
   "execution_count": 91,
   "id": "a9b326bd",
   "metadata": {},
   "outputs": [
    {
     "data": {
      "text/plain": [
       "array([25, 27, 23])"
      ]
     },
     "execution_count": 91,
     "metadata": {},
     "output_type": "execute_result"
    },
    {
     "data": {
      "text/plain": [
       "array([25, 27, 23])"
      ]
     },
     "execution_count": 91,
     "metadata": {},
     "output_type": "execute_result"
    }
   ],
   "source": [
    "binom.rvs(n=50, p=0.5, size=3,random_state=3) #random_state => seed같은역할\n",
    "binom.rvs(n=50, p=0.5, size=3,random_state=3)"
   ]
  },
  {
   "cell_type": "code",
   "execution_count": 100,
   "id": "cdd222ad",
   "metadata": {},
   "outputs": [
    {
     "data": {
      "text/plain": [
       "100"
      ]
     },
     "execution_count": 100,
     "metadata": {},
     "output_type": "execute_result"
    },
    {
     "data": {
      "text/plain": [
       "array([ 6,  5,  6,  6,  6,  5,  6,  4,  3,  6,  5,  6,  6,  4,  8,  8,  9,\n",
       "        5,  5,  4,  3,  5,  6,  5,  8,  5,  8,  4,  6,  6,  7,  5,  6,  6,\n",
       "        9,  6,  6,  6,  4,  5,  7,  6,  5,  8,  5,  5,  7,  8,  7,  7,  6,\n",
       "        6,  2,  8,  7,  8,  5,  7,  6,  7,  8,  8,  5,  8,  7,  7,  5,  8,\n",
       "        4,  8,  3,  6,  3,  6,  5,  9,  7,  8,  7,  8,  7,  6,  8,  5,  6,\n",
       "        7,  6,  8,  6,  4,  7,  5,  8,  5,  7,  7,  6,  9,  5, 10])"
      ]
     },
     "execution_count": 100,
     "metadata": {},
     "output_type": "execute_result"
    }
   ],
   "source": [
    "# rvs 메서드로 무작위 표본을 뽑아내는 시뮬레이션을 한 결과 생성되는 난수는 이항 분포를 따르게 된다\n",
    "np.random.seed(0)\n",
    "x = rv.rvs(100)\n",
    "len(x)\n",
    "x"
   ]
  },
  {
   "cell_type": "code",
   "execution_count": 101,
   "id": "926167b5",
   "metadata": {},
   "outputs": [
    {
     "name": "stderr",
     "output_type": "stream",
     "text": [
      "C:\\Users\\DAEGYEONGLEE\\anaconda3\\lib\\site-packages\\seaborn\\_decorators.py:36: FutureWarning: Pass the following variable as a keyword arg: x. From version 0.12, the only valid positional argument will be `data`, and passing other arguments without an explicit keyword will result in an error or misinterpretation.\n",
      "  warnings.warn(\n"
     ]
    },
    {
     "data": {
      "text/plain": [
       "<AxesSubplot:ylabel='count'>"
      ]
     },
     "execution_count": 101,
     "metadata": {},
     "output_type": "execute_result"
    },
    {
     "data": {
      "text/plain": [
       "Text(0.5, 1.0, '이항분포의 시뮬레이션 결과')"
      ]
     },
     "execution_count": 101,
     "metadata": {},
     "output_type": "execute_result"
    },
    {
     "data": {
      "text/plain": [
       "Text(0.5, 0, '표본값')"
      ]
     },
     "execution_count": 101,
     "metadata": {},
     "output_type": "execute_result"
    },
    {
     "data": {
      "image/png": "[encoded data removed]",
      "text/plain": [
       "<Figure size 432x288 with 1 Axes>"
      ]
     },
     "metadata": {
      "needs_background": "light"
     },
     "output_type": "display_data"
    }
   ],
   "source": [
    "import seaborn as sns\n",
    "sns.countplot(x)\n",
    "plt.title(\"이항분포의 시뮬레이션 결과\")\n",
    "plt.xlabel(\"표본값\")\n",
    "plt.show()\n"
   ]
  },
  {
   "cell_type": "markdown",
   "id": "afcd5b7e",
   "metadata": {},
   "source": [
    " #### 포아송 분포\n",
    " \n",
    " - 단위 시간 안에 어떤 사건이 몇 번 발생할 것인지를 표현하는 이산 확률 분포이다.\n",
    " -  예.\n",
    "     - 119 구조대에 걸려오는 시간 당 전화 횟수\n",
    "     - 1년 동안 발생하는 진도 4 이상의 지진 횟수\n",
    "     - 프러시아 기병 중에서 매년 말에 차여 사망하는 병사의 수\n",
    "     - 한 야구경기에서 실책의 수\n",
    "     - 서울지역의 5월 중 부도를 낸 중소기업 수\n",
    "     \n",
    " ![image.png](포아송.png)\n",
    "\n",
    " - 하루에 평균 2건의 교통사고가 발생하는(Poi(2))하는 지역에서 하루에 사고가 한건도 일어나지 않을 확률\n",
    " ![image.png](교통사고.png)"
   ]
  },
  {
   "cell_type": "code",
   "execution_count": 103,
   "id": "604eac02",
   "metadata": {},
   "outputs": [],
   "source": [
    "# 편의상 x_set을 0~19이하인 정수로 가정\n",
    "from scipy.special import factorial\n",
    "\n",
    "def Poi(lam) :\n",
    "    x_set = np.arange(20)\n",
    "    def f(x) :\n",
    "        if x in x_set :\n",
    "            return np.power(lam,x)/factorial(x)*np.exp(-lam) \n",
    "        else : \n",
    "            return 0\n",
    "    return x_set, f"
   ]
  },
  {
   "cell_type": "code",
   "execution_count": 108,
   "id": "dc16f64f",
   "metadata": {},
   "outputs": [
    {
     "data": {
      "text/plain": [
       "(array([ 0,  1,  2,  3,  4,  5,  6,  7,  8,  9, 10, 11, 12, 13, 14, 15, 16,\n",
       "        17, 18, 19]),\n",
       " <function __main__.Poi.<locals>.f(x)>)"
      ]
     },
     "execution_count": 108,
     "metadata": {},
     "output_type": "execute_result"
    }
   ],
   "source": [
    "X=Poi(10) # 단위시간당 평균 10번정도 일어나는 사건입니다\n",
    "X"
   ]
  },
  {
   "cell_type": "code",
   "execution_count": 105,
   "id": "1bf274c5",
   "metadata": {},
   "outputs": [],
   "source": [
    "x_set, f = X\n",
    "prob = np.array([f(x_k) for x_k in x_set])"
   ]
  },
  {
   "cell_type": "code",
   "execution_count": 106,
   "id": "c2da310f",
   "metadata": {},
   "outputs": [
    {
     "data": {
      "text/plain": [
       "array([ 0,  1,  2,  3,  4,  5,  6,  7,  8,  9, 10, 11, 12, 13, 14, 15, 16,\n",
       "       17, 18, 19])"
      ]
     },
     "execution_count": 106,
     "metadata": {},
     "output_type": "execute_result"
    },
    {
     "data": {
      "text/plain": [
       "array([ 4.540e-05,  4.540e-04,  2.270e-03,  7.567e-03,  1.892e-02,\n",
       "        3.783e-02,  6.306e-02,  9.008e-02,  1.126e-01,  1.251e-01,\n",
       "        1.764e-02,  1.383e-03, -6.894e-05,  9.596e-06,  1.440e-07,\n",
       "       -5.314e-08,  4.068e-09,  2.003e-10, -1.054e-11, -7.394e-13])"
      ]
     },
     "execution_count": 106,
     "metadata": {},
     "output_type": "execute_result"
    }
   ],
   "source": [
    "x_set\n",
    "prob"
   ]
  },
  {
   "cell_type": "code",
   "execution_count": null,
   "id": "bc655b79",
   "metadata": {},
   "outputs": [],
   "source": []
  }
 ],
 "metadata": {
  "kernelspec": {
   "display_name": "Python 3",
   "language": "python",
   "name": "python3"
  },
  "language_info": {
   "codemirror_mode": {
    "name": "ipython",
    "version": 3
   },
   "file_extension": ".py",
   "mimetype": "text/x-python",
   "name": "python",
   "nbconvert_exporter": "python",
   "pygments_lexer": "ipython3",
   "version": "3.8.8"
  }
 },
 "nbformat": 4,
 "nbformat_minor": 5
}
