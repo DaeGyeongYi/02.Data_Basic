{
 "cells": [
  {
   "cell_type": "markdown",
   "id": "083b5724",
   "metadata": {},
   "source": [
    "### 확률 분포\n",
    "- 확률 변수가 어떻게 움직이는 지를 나타낸 것"
   ]
  },
  {
   "cell_type": "markdown",
   "id": "57c0dd82",
   "metadata": {},
   "source": [
    "### 확률 변수의 구분\n",
    "- 이산 확률 변수: 변수가 취할 수 있는 값의 개수가 유한\n",
    "- 연속 확률 변수: 변수가 취할 수 있는 값의 개수가 무한\n",
    "\n",
    "![](이산연속확률변수.png)"
   ]
  },
  {
   "cell_type": "markdown",
   "id": "784afeaa",
   "metadata": {},
   "source": [
    "### 확률함수\n",
    "- 확률변수 X가 특정 실수 값 x를 취할 확률을 X의 함수(f)로 나타낸 것\n",
    "    - 확률질량함수(probability mass function: pmf)\n",
    "        - 확률변수가 이산형인 경우\n",
    "    - 확률밀도함수(probability density function: pdf)\n",
    "        - 확률변수가 연속형인 경우\n"
   ]
  },
  {
   "cell_type": "markdown",
   "id": "4bfe0dbd",
   "metadata": {},
   "source": [
    "### 확률분포의 평균(mean) - 기대값\n",
    "-  확률 변수의 기대값({E})은 각 사건이 벌어졌을 때의 이득과 그 사건이 벌어질 확률을 곱한 것을 전체 사건에 대해 합한 값이다. \n",
    "    - 어떤 확률적 사건에 대한 평균의 의미로 생각할 수 있다.\n",
    "\n",
    "    - E(X) 또는 μX 로 표시\n",
    "    - 이산확률분포의 기대값 : 확률을 가중값으로 사용한 가중평균\n",
    "    - 연속확률분포의 기대값 : 적분개념의 면적\n",
    "   ![](기대값.png)\n",
    "\n",
    "- 모평균\n",
    "    - 모 평균(population mean) μ는 모 집단의 평균이다. 모두 더한 후 전체 데이터 수 n으로 나눈다.\n"
   ]
  },
  {
   "cell_type": "markdown",
   "id": "39f2a39f",
   "metadata": {},
   "source": [
    "### 이산형 확률 분포\n",
    "- 1차원 이산형 확률분포"
   ]
  },
  {
   "cell_type": "code",
   "execution_count": 2,
   "id": "8f1a89a8",
   "metadata": {},
   "outputs": [],
   "source": [
    "import numpy as np\n",
    "import matplotlib.pyplot as plt\n",
    "\n",
    "%precision 3\n",
    "%matplotlib inline\n"
   ]
  },
  {
   "cell_type": "code",
   "execution_count": 3,
   "id": "43ebd88d",
   "metadata": {},
   "outputs": [],
   "source": [
    "from IPython.core.interactiveshell import InteractiveShell\n",
    "InteractiveShell.ast_node_interactivity=\"all\"\n"
   ]
  },
  {
   "cell_type": "markdown",
   "id": "f730db5f",
   "metadata": {},
   "source": [
    "#### 이산형 확률\n",
    "- 확률변수 X가 취할 수 있는 값의 집합 {x_1,x_2,....,x_k}\n",
    "- x가 x_k라는 값을 취하는 확률\n",
    "- 확률 질량함수(확률함수)-pmf\n",
    "![](이산확률.png)\n",
    "![](pmf.png)"
   ]
  },
  {
   "cell_type": "markdown",
   "id": "83414881",
   "metadata": {},
   "source": [
    "### 불공정한 주사위\n",
    "![](표4-2.jpg)"
   ]
  },
  {
   "cell_type": "markdown",
   "id": "d6b63481",
   "metadata": {},
   "source": [
    "- 위 불공정한 주사위 확률분포의 확률 변수 확인"
   ]
  },
  {
   "cell_type": "markdown",
   "id": "02a5a11e",
   "metadata": {},
   "source": [
    "![](불공정한주사위확률변수.png)"
   ]
  },
  {
   "cell_type": "code",
   "execution_count": 4,
   "id": "82ded979",
   "metadata": {},
   "outputs": [],
   "source": [
    "# 위의 확률분포를 함수로 구현\n",
    "\n",
    "def f(x):\n",
    "    if x in x_set:\n",
    "        return x/21\n",
    "    else :\n",
    "        return 0"
   ]
  },
  {
   "cell_type": "code",
   "execution_count": 5,
   "id": "0583f63e",
   "metadata": {},
   "outputs": [],
   "source": [
    "#확률 변수가 취할 수 있는 값의 set\n",
    "x_set = np.array([1,2,3,4,5,6])"
   ]
  },
  {
   "cell_type": "code",
   "execution_count": 30,
   "id": "79ab29d4",
   "metadata": {},
   "outputs": [],
   "source": [
    "#확률 변수 x\n",
    "X=[x_set,f] # 확률분포[x_set,f]에 의해 확률변수 x의 동작이 결정됨\n",
    "\n"
   ]
  },
  {
   "cell_type": "code",
   "execution_count": 36,
   "id": "694ad0e8",
   "metadata": {},
   "outputs": [
    {
     "data": {
      "text/plain": [
       "array([1, 2, 3, 4, 5, 6])"
      ]
     },
     "execution_count": 36,
     "metadata": {},
     "output_type": "execute_result"
    },
    {
     "data": {
      "text/plain": [
       "array([0.048, 0.095, 0.143, 0.19 , 0.238, 0.286])"
      ]
     },
     "execution_count": 36,
     "metadata": {},
     "output_type": "execute_result"
    },
    {
     "data": {
      "text/plain": [
       "{1: 0.047619047619047616,\n",
       " 2: 0.09523809523809523,\n",
       " 3: 0.14285714285714285,\n",
       " 4: 0.19047619047619047,\n",
       " 5: 0.23809523809523808,\n",
       " 6: 0.2857142857142857}"
      ]
     },
     "execution_count": 36,
     "metadata": {},
     "output_type": "execute_result"
    }
   ],
   "source": [
    "#확률 p_k를 구한다\n",
    "prob = np.array([f(x_k) for x_k in x_set])\n",
    "\n",
    "x_set\n",
    "prob\n",
    "\n",
    "#x_k와 p_k의 대응을 사전식으로 표시\n",
    "dict(zip(x_set,prob))\n"
   ]
  },
  {
   "cell_type": "markdown",
   "id": "e73bb330",
   "metadata": {},
   "source": [
    "![](표4-2.jpg)"
   ]
  },
  {
   "cell_type": "code",
   "execution_count": 8,
   "id": "75631879",
   "metadata": {},
   "outputs": [
    {
     "data": {
      "text/plain": [
       "<BarContainer object of 6 artists>"
      ]
     },
     "execution_count": 8,
     "metadata": {},
     "output_type": "execute_result"
    },
    {
     "data": {
      "text/plain": [
       "Text(0.5, 0, 'value')"
      ]
     },
     "execution_count": 8,
     "metadata": {},
     "output_type": "execute_result"
    },
    {
     "data": {
      "text/plain": [
       "Text(0, 0.5, 'probability')"
      ]
     },
     "execution_count": 8,
     "metadata": {},
     "output_type": "execute_result"
    },
    {
     "data": {
      "image/png": "[encoded data removed]",
      "text/plain": [
       "<Figure size 720x432 with 1 Axes>"
      ]
     },
     "metadata": {
      "needs_background": "light"
     },
     "output_type": "display_data"
    }
   ],
   "source": [
    "#이산형 확률분포 그래프\n",
    "fig = plt.figure(figsize=(10,6))\n",
    "ax =fig.add_subplot(111)\n",
    "ax.bar(x_set, prob)\n",
    "\n",
    "ax.set_xlabel('value')\n",
    "ax.set_ylabel('probability')\n",
    "\n",
    "plt.show()\n"
   ]
  },
  {
   "cell_type": "markdown",
   "id": "a62f8847",
   "metadata": {},
   "source": [
    "#### 이산형 확률분포 성질\n",
    "- 모든 확률은 0보다 크거나 같아야하고\n",
    "- 확률의 합은 1이다\n",
    "![](이산확률성질.png)"
   ]
  },
  {
   "cell_type": "code",
   "execution_count": 9,
   "id": "8c1c67bc",
   "metadata": {},
   "outputs": [
    {
     "data": {
      "text/plain": [
       "array([0.048, 0.095, 0.143, 0.19 , 0.238, 0.286])"
      ]
     },
     "execution_count": 9,
     "metadata": {},
     "output_type": "execute_result"
    }
   ],
   "source": [
    "prob"
   ]
  },
  {
   "cell_type": "code",
   "execution_count": 10,
   "id": "c0236c6d",
   "metadata": {},
   "outputs": [
    {
     "data": {
      "text/plain": [
       "0.9999999999999999"
      ]
     },
     "execution_count": 10,
     "metadata": {},
     "output_type": "execute_result"
    },
    {
     "data": {
      "text/plain": [
       "True"
      ]
     },
     "execution_count": 10,
     "metadata": {},
     "output_type": "execute_result"
    }
   ],
   "source": [
    "np.sum(prob)\n",
    "np.all(prob>=0)"
   ]
  },
  {
   "cell_type": "markdown",
   "id": "865600c5",
   "metadata": {},
   "source": [
    "### 누적 분포 함수(분포함수) f(x)\n",
    "- x가 x이하가 될때의 확률을 반환하는 함수\n",
    "- 누적분포함수(cdf)\n",
    "![](이산누적.png)"
   ]
  },
  {
   "cell_type": "code",
   "execution_count": 11,
   "id": "9f922b79",
   "metadata": {},
   "outputs": [],
   "source": [
    "#작거나 같은 이므로 주어진 x보다 작거나 같은 동안의 확률을 모두 더함 - f(x)확률함수\n",
    "def F(x):\n",
    "    return np.sum([f(x_k) for x_k in x_set if x_k <= x])"
   ]
  },
  {
   "cell_type": "code",
   "execution_count": 12,
   "id": "3d410394",
   "metadata": {},
   "outputs": [
    {
     "data": {
      "text/plain": [
       "0.2857142857142857"
      ]
     },
     "execution_count": 12,
     "metadata": {},
     "output_type": "execute_result"
    },
    {
     "data": {
      "text/plain": [
       "0.143"
      ]
     },
     "execution_count": 12,
     "metadata": {},
     "output_type": "execute_result"
    }
   ],
   "source": [
    "#주사위의 눈이 3이하가 될 확률\n",
    "F(3) #x_set의 원소값이 3보다 작거나 같을때까지의 확률의 합계 \n",
    "f(3) #x_set의 원소 값이 3일때 확률"
   ]
  },
  {
   "cell_type": "markdown",
   "id": "84b29c92",
   "metadata": {},
   "source": [
    "### 확률 변수의 변환\n",
    "- 확률변수에 연산을 적용시켜 변화시킨다고 가정 -> 새로운 데이터 집합\n",
    "\n",
    "- 확률 변수의 변환 연산 : 2x+3\n",
    "- 위 연산을 적용시켜 변환된 확률 변수를 y라고 한다면"
   ]
  },
  {
   "cell_type": "code",
   "execution_count": 13,
   "id": "a876e105",
   "metadata": {},
   "outputs": [
    {
     "data": {
      "text/plain": [
       "{5: 0.047619047619047616,\n",
       " 7: 0.09523809523809523,\n",
       " 9: 0.14285714285714285,\n",
       " 11: 0.19047619047619047,\n",
       " 13: 0.23809523809523808,\n",
       " 15: 0.2857142857142857}"
      ]
     },
     "execution_count": 13,
     "metadata": {},
     "output_type": "execute_result"
    }
   ],
   "source": [
    "y_set = np.array([2*x_k+3 for x_k in x_set])\n",
    "prob = np.array([f(x_k) for x_k in x_set])\n",
    "\n",
    "dict(zip(y_set , prob))"
   ]
  },
  {
   "cell_type": "markdown",
   "id": "2b4c6da6",
   "metadata": {},
   "source": [
    "### 1차원 이산형 확률 변수의 지표"
   ]
  },
  {
   "cell_type": "markdown",
   "id": "5596786c",
   "metadata": {},
   "source": [
    "- 확률변수의 평균: 기댓값\n",
    "    - 확률변수를 무제한 시행하여 얻은 실험값의 합산\n",
    "   ![](기대값1.png)"
   ]
  },
  {
   "cell_type": "markdown",
   "id": "5a6bf818",
   "metadata": {},
   "source": [
    "- 수식을 함수로 구현\n",
    "![](기대값함수구현.png)\n",
    "\n",
    "- 인수 g가 확률 변수에 대한 연산을 구현한 함수\n",
    "    - g에 아무것도 지정하지 않으면 확률 변수 x의 기대값이 구해짐"
   ]
  },
  {
   "cell_type": "markdown",
   "id": "1dd3f1dd",
   "metadata": {},
   "source": [
    "#### 불공정 주사위 확률에 대한 기대값"
   ]
  },
  {
   "cell_type": "code",
   "execution_count": 37,
   "id": "89e4b043",
   "metadata": {},
   "outputs": [],
   "source": [
    "# 불공정 주사위에 대한 확률 변수\n",
    "\n",
    "X =[x_set, f]"
   ]
  },
  {
   "cell_type": "code",
   "execution_count": 41,
   "id": "1823500d",
   "metadata": {},
   "outputs": [],
   "source": [
    "# 위 식을 함수로 구현\n",
    "def f(x):\n",
    "    if x in x_set:\n",
    "        return x/21\n",
    "    else:\n",
    "        return 0\n",
    "    \n",
    "x_set = np.array([1,2,3,4,5,6])\n"
   ]
  },
  {
   "cell_type": "code",
   "execution_count": 42,
   "id": "5ccff536",
   "metadata": {},
   "outputs": [
    {
     "data": {
      "text/plain": [
       "[0.047619047619047616,\n",
       " 0.19047619047619047,\n",
       " 0.42857142857142855,\n",
       " 0.7619047619047619,\n",
       " 1.1904761904761905,\n",
       " 1.7142857142857142]"
      ]
     },
     "execution_count": 42,
     "metadata": {},
     "output_type": "execute_result"
    }
   ],
   "source": [
    "[x_k* f(x_k) for x_k in x_set]"
   ]
  },
  {
   "cell_type": "code",
   "execution_count": 43,
   "id": "2b277ad2",
   "metadata": {},
   "outputs": [
    {
     "data": {
      "text/plain": [
       "4.333333333333333"
      ]
     },
     "execution_count": 43,
     "metadata": {},
     "output_type": "execute_result"
    }
   ],
   "source": [
    "np.sum([x_k* f(x_k) for x_k in x_set])"
   ]
  },
  {
   "cell_type": "code",
   "execution_count": 17,
   "id": "17a31aef",
   "metadata": {},
   "outputs": [
    {
     "data": {
      "text/plain": [
       "array([0.048, 0.095, 0.143, 0.19 , 0.238, 0.286])"
      ]
     },
     "execution_count": 17,
     "metadata": {},
     "output_type": "execute_result"
    }
   ],
   "source": [
    "prob"
   ]
  },
  {
   "cell_type": "code",
   "execution_count": 18,
   "id": "942e01f9",
   "metadata": {},
   "outputs": [
    {
     "data": {
      "text/plain": [
       "4.333"
      ]
     },
     "execution_count": 18,
     "metadata": {},
     "output_type": "execute_result"
    }
   ],
   "source": [
    "# 기대값 확인\n",
    "1*0.048 + 2*0.095 + 3*0.143 + 4*0.19 + 5*0.238 + 6* 0.286"
   ]
  },
  {
   "cell_type": "code",
   "execution_count": 44,
   "id": "29bd2d70",
   "metadata": {},
   "outputs": [
    {
     "data": {
      "text/plain": [
       "4.332194"
      ]
     },
     "execution_count": 44,
     "metadata": {},
     "output_type": "execute_result"
    }
   ],
   "source": [
    "sample = np.random.choice(x_set, int(1e6), p=prob)\n",
    "np.mean(sample)\n"
   ]
  },
  {
   "cell_type": "code",
   "execution_count": 51,
   "id": "93486de9",
   "metadata": {},
   "outputs": [],
   "source": [
    "# 기대값 함수 구현\n",
    "def E(X, g=lambda x:x) :\n",
    "    x_set, f = X\n",
    "    return np.sum([g(x_k) * f(x_k) for x_k in x_set])"
   ]
  },
  {
   "cell_type": "code",
   "execution_count": 52,
   "id": "4d662409",
   "metadata": {},
   "outputs": [
    {
     "data": {
      "text/plain": [
       "4.333333333333333"
      ]
     },
     "execution_count": 52,
     "metadata": {},
     "output_type": "execute_result"
    }
   ],
   "source": [
    "E(X)"
   ]
  },
  {
   "cell_type": "code",
   "execution_count": 53,
   "id": "af1c5f34",
   "metadata": {},
   "outputs": [
    {
     "data": {
      "text/plain": [
       "11.666666666666664"
      ]
     },
     "execution_count": 53,
     "metadata": {},
     "output_type": "execute_result"
    }
   ],
   "source": [
    "E(X, g=lambda x : 2*x+3)"
   ]
  },
  {
   "cell_type": "code",
   "execution_count": 54,
   "id": "57bc6ab1",
   "metadata": {},
   "outputs": [
    {
     "data": {
      "text/plain": [
       "11.666666666666666"
      ]
     },
     "execution_count": 54,
     "metadata": {},
     "output_type": "execute_result"
    }
   ],
   "source": [
    "2 * E(X) + 3"
   ]
  },
  {
   "cell_type": "markdown",
   "id": "1f524ba5",
   "metadata": {},
   "source": [
    "### 분산\n",
    "- 확률 변수의 각 값에서 기대값을 뺀 편차의 제곱을 게산한 후 기대값으로 계산\n",
    "\n",
    "![](이산분산.png)"
   ]
  },
  {
   "cell_type": "markdown",
   "id": "2ed33172",
   "metadata": {},
   "source": [
    "### 불공정한 주사위의 분산"
   ]
  },
  {
   "cell_type": "code",
   "execution_count": null,
   "id": "b8071cea",
   "metadata": {},
   "outputs": [],
   "source": [
    "### 불공정한 주사위의 기대값 함수 => E(X)\n",
    "\n",
    "mean = E(X)\n",
    "np.sum([(x_k-mean)**2*f(x_k) for x_k in x_set])"
   ]
  },
  {
   "cell_type": "code",
   "execution_count": 55,
   "id": "6da39eaf",
   "metadata": {},
   "outputs": [],
   "source": [
    "def V(X, g=lambda x: x) :\n",
    "    x_set, f = X\n",
    "    mean = E(X,g)\n",
    "    return np.sum([(g(x_k)-mean)**2 * f(x_k) for x_k in x_set])"
   ]
  },
  {
   "cell_type": "code",
   "execution_count": 56,
   "id": "f6a35c77",
   "metadata": {},
   "outputs": [
    {
     "data": {
      "text/plain": [
       "2.2222222222222223"
      ]
     },
     "execution_count": 56,
     "metadata": {},
     "output_type": "execute_result"
    }
   ],
   "source": [
    "V(X)"
   ]
  },
  {
   "cell_type": "code",
   "execution_count": 57,
   "id": "4e4f5703",
   "metadata": {},
   "outputs": [
    {
     "data": {
      "text/plain": [
       "8.88888888888889"
      ]
     },
     "execution_count": 57,
     "metadata": {},
     "output_type": "execute_result"
    }
   ],
   "source": [
    "V(X, lambda x:2*x+3)"
   ]
  },
  {
   "cell_type": "markdown",
   "id": "76b48775",
   "metadata": {},
   "source": [
    "![](분산의공식.png)"
   ]
  },
  {
   "cell_type": "code",
   "execution_count": 58,
   "id": "294c7b49",
   "metadata": {},
   "outputs": [
    {
     "data": {
      "text/plain": [
       "8.88888888888889"
      ]
     },
     "execution_count": 58,
     "metadata": {},
     "output_type": "execute_result"
    }
   ],
   "source": [
    "2**2 * V(X)"
   ]
  },
  {
   "cell_type": "code",
   "execution_count": null,
   "id": "05fb0256",
   "metadata": {},
   "outputs": [],
   "source": []
  },
  {
   "cell_type": "code",
   "execution_count": null,
   "id": "30852b03",
   "metadata": {},
   "outputs": [],
   "source": []
  },
  {
   "cell_type": "code",
   "execution_count": null,
   "id": "0a01a820",
   "metadata": {},
   "outputs": [],
   "source": []
  },
  {
   "cell_type": "code",
   "execution_count": null,
   "id": "e1519b50",
   "metadata": {},
   "outputs": [],
   "source": []
  }
 ],
 "metadata": {
  "kernelspec": {
   "display_name": "Python 3",
   "language": "python",
   "name": "python3"
  },
  "language_info": {
   "codemirror_mode": {
    "name": "ipython",
    "version": 3
   },
   "file_extension": ".py",
   "mimetype": "text/x-python",
   "name": "python",
   "nbconvert_exporter": "python",
   "pygments_lexer": "ipython3",
   "version": "3.8.8"
  }
 },
 "nbformat": 4,
 "nbformat_minor": 5
}
