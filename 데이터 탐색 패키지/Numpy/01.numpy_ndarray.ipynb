{
 "cells": [
  {
   "cell_type": "code",
   "execution_count": 148,
   "id": "5aa0378c",
   "metadata": {},
   "outputs": [],
   "source": [
    "import numpy as np\n",
    "import matplotlib.pyplot as plt"
   ]
  },
  {
   "cell_type": "code",
   "execution_count": 149,
   "id": "775233ac",
   "metadata": {},
   "outputs": [],
   "source": [
    "from IPython.core.interactiveshell import InteractiveShell\n",
    "InteractiveShell.ast_node_interactivity=\"all\""
   ]
  },
  {
   "cell_type": "markdown",
   "id": "df9b0b16",
   "metadata": {},
   "source": [
    "### array\n",
    "- 많은 숫자 데이터를 하나의 변수에 넣고 관리 할 때 리스트는 속도가 느리고 메모리를 많이 차지하는 단점이 있다. \n",
    "- 배열(array)을 사용하면 적은 메모리로 많은 데이터를 빠르게 처리할 수 있다. \n",
    "- 배열은 리스트와 비슷하지만 다음과 같은 점에서 다르다.\n",
    "\n",
    "- 모든 원소가 같은 자료형이어야 한다.\n",
    "\n",
    "- 원소의 갯수를 바꿀 수 없다.\n",
    "\n",
    "- 넘파이의 array 함수에 리스트를 넣으면 ndarray 클래스 객체 즉, 배열로 변환해 준다. \n",
    "- np.array([값1, 값2, ...])\n"
   ]
  },
  {
   "cell_type": "code",
   "execution_count": 150,
   "id": "982b3e19",
   "metadata": {},
   "outputs": [
    {
     "name": "stdout",
     "output_type": "stream",
     "text": [
      "[1 2 3] <class 'numpy.ndarray'>\n",
      "[4 5 6] <class 'numpy.ndarray'>\n"
     ]
    }
   ],
   "source": [
    "x=np.array([1,2,3])\n",
    "y=np.array([4,5,6])\n",
    "\n",
    "print(x,type(x))\n",
    "print(y,type(y))"
   ]
  },
  {
   "cell_type": "code",
   "execution_count": 151,
   "id": "e131db5f",
   "metadata": {},
   "outputs": [
    {
     "data": {
      "text/plain": [
       "[<matplotlib.lines.Line2D at 0x2b230446e80>]"
      ]
     },
     "execution_count": 151,
     "metadata": {},
     "output_type": "execute_result"
    },
    {
     "data": {
      "image/png": "[encoded data removed]",
      "text/plain": [
       "<Figure size 432x288 with 1 Axes>"
      ]
     },
     "metadata": {
      "needs_background": "light"
     },
     "output_type": "display_data"
    }
   ],
   "source": [
    "plt.plot(x,y)"
   ]
  },
  {
   "cell_type": "markdown",
   "id": "dba5b0c6",
   "metadata": {},
   "source": [
    "### 다양한 방법으로 ndarray 생성하기"
   ]
  },
  {
   "cell_type": "markdown",
   "id": "8515ce1f",
   "metadata": {},
   "source": [
    "1. np.array()로 생성하기 "
   ]
  },
  {
   "cell_type": "code",
   "execution_count": 152,
   "id": "0b709a23",
   "metadata": {},
   "outputs": [
    {
     "name": "stdout",
     "output_type": "stream",
     "text": [
      "[1 2 3 4]\n"
     ]
    }
   ],
   "source": [
    "x = np.array([1,2,3,4])\n",
    "print(x)\n"
   ]
  },
  {
   "cell_type": "code",
   "execution_count": 153,
   "id": "85c16a13",
   "metadata": {},
   "outputs": [
    {
     "name": "stdout",
     "output_type": "stream",
     "text": [
      "[[1 2 3 4]\n",
      " [5 6 7 8]]\n",
      "<class 'numpy.ndarray'>\n"
     ]
    }
   ],
   "source": [
    "y=np.array([[1,2,3,4],[5,6,7,8]])\n",
    "print(y)\n",
    "print(type(y))"
   ]
  },
  {
   "cell_type": "markdown",
   "id": "d02ec72f",
   "metadata": {},
   "source": [
    "2. np.arange() 함수로 생성하기"
   ]
  },
  {
   "cell_type": "code",
   "execution_count": 154,
   "id": "c6f0fd00",
   "metadata": {},
   "outputs": [
    {
     "data": {
      "text/plain": [
       "array([0, 1, 2, 3, 4, 5, 6, 7, 8, 9])"
      ]
     },
     "execution_count": 154,
     "metadata": {},
     "output_type": "execute_result"
    }
   ],
   "source": [
    "np.arange(10)"
   ]
  },
  {
   "cell_type": "code",
   "execution_count": 155,
   "id": "ec2b61a8",
   "metadata": {},
   "outputs": [
    {
     "data": {
      "text/plain": [
       "array([1, 2, 3, 4, 5, 6, 7, 8, 9])"
      ]
     },
     "execution_count": 155,
     "metadata": {},
     "output_type": "execute_result"
    }
   ],
   "source": [
    "np.arange(1,10)"
   ]
  },
  {
   "cell_type": "code",
   "execution_count": 156,
   "id": "3103e4cd",
   "metadata": {},
   "outputs": [
    {
     "data": {
      "text/plain": [
       "array([1, 3, 5, 7, 9])"
      ]
     },
     "execution_count": 156,
     "metadata": {},
     "output_type": "execute_result"
    }
   ],
   "source": [
    "np.arange(1,10,2)"
   ]
  },
  {
   "cell_type": "code",
   "execution_count": 157,
   "id": "9fc0064e",
   "metadata": {},
   "outputs": [
    {
     "data": {
      "text/plain": [
       "array([  5,  10,  15,  20,  25,  30,  35,  40,  45,  50,  55,  60,  65,\n",
       "        70,  75,  80,  85,  90,  95, 100])"
      ]
     },
     "execution_count": 157,
     "metadata": {},
     "output_type": "execute_result"
    }
   ],
   "source": [
    "np.arange(5,101,5)"
   ]
  },
  {
   "cell_type": "markdown",
   "id": "3ce9024d",
   "metadata": {},
   "source": [
    "3. np.ones(), np.zeros() 로 생성하기"
   ]
  },
  {
   "cell_type": "code",
   "execution_count": 158,
   "id": "0900ed5b",
   "metadata": {},
   "outputs": [
    {
     "data": {
      "text/plain": [
       "array([1., 1., 1., 1.])"
      ]
     },
     "execution_count": 158,
     "metadata": {},
     "output_type": "execute_result"
    },
    {
     "data": {
      "text/plain": [
       "array([0., 0., 0., 0.])"
      ]
     },
     "execution_count": 158,
     "metadata": {},
     "output_type": "execute_result"
    }
   ],
   "source": [
    "np.ones(4) #array의 원소값을 1로 초기화\n",
    "np.zeros(4) #array의 원소값을 0으로 초기화"
   ]
  },
  {
   "cell_type": "code",
   "execution_count": 159,
   "id": "288bdad6",
   "metadata": {},
   "outputs": [
    {
     "data": {
      "text/plain": [
       "array([[1., 1., 1., 1.],\n",
       "       [1., 1., 1., 1.],\n",
       "       [1., 1., 1., 1.]])"
      ]
     },
     "execution_count": 159,
     "metadata": {},
     "output_type": "execute_result"
    },
    {
     "data": {
      "text/plain": [
       "array([[0., 0., 0.],\n",
       "       [0., 0., 0.]])"
      ]
     },
     "execution_count": 159,
     "metadata": {},
     "output_type": "execute_result"
    }
   ],
   "source": [
    "np.ones((3,4))\n",
    "np.zeros((2,3))"
   ]
  },
  {
   "cell_type": "markdown",
   "id": "8d9afcf8",
   "metadata": {},
   "source": [
    "4. np.empty([행,렬],dtype=배열타입), np.full() 로 생성하기\n",
    "- numpy.empty 함수는 '값의 초기화를 수행하지 않고' 주어진 형태와 타입을 갖는 새로운 array를 반환\n",
    "    - 초기화 되지 않으므로 수행속도가 빠름\n",
    "    \n",
    "- np.full((행,렬),초기화 값)\n",
    "    - 정해진 수치로 초기화 됨"
   ]
  },
  {
   "cell_type": "code",
   "execution_count": 160,
   "id": "86fdf318",
   "metadata": {},
   "outputs": [
    {
     "data": {
      "text/plain": [
       "array([[1., 1.],\n",
       "       [1., 1.]])"
      ]
     },
     "execution_count": 160,
     "metadata": {},
     "output_type": "execute_result"
    },
    {
     "data": {
      "text/plain": [
       "array([[         0, 2146435072],\n",
       "       [         0, 2146435072]])"
      ]
     },
     "execution_count": 160,
     "metadata": {},
     "output_type": "execute_result"
    }
   ],
   "source": [
    "a = np.empty([2,2])\n",
    "b = np.empty([2,2],dtype=int)\n",
    "a\n",
    "b"
   ]
  },
  {
   "cell_type": "code",
   "execution_count": 161,
   "id": "5922db7b",
   "metadata": {},
   "outputs": [
    {
     "data": {
      "text/plain": [
       "array([[7, 7, 7, 7],\n",
       "       [7, 7, 7, 7],\n",
       "       [7, 7, 7, 7]])"
      ]
     },
     "execution_count": 161,
     "metadata": {},
     "output_type": "execute_result"
    }
   ],
   "source": [
    "np.full((3,4),7)"
   ]
  },
  {
   "cell_type": "markdown",
   "id": "189ab968",
   "metadata": {},
   "source": [
    "5. np.eye(n,k=m) 로 생성하기\n",
    "- 단위 행렬 생성: 대각선이 1, 나머지는 0으로 채워지는 행렬\n",
    "- n: 행,열 / k=1|0|-1 세가지 옵션을 사용할 수 있음"
   ]
  },
  {
   "cell_type": "code",
   "execution_count": 175,
   "id": "b05c5cfc",
   "metadata": {},
   "outputs": [
    {
     "data": {
      "text/plain": [
       "array([[1., 0., 0.],\n",
       "       [0., 1., 0.],\n",
       "       [0., 0., 1.]])"
      ]
     },
     "execution_count": 175,
     "metadata": {},
     "output_type": "execute_result"
    },
    {
     "data": {
      "text/plain": [
       "array([[0., 1., 0.],\n",
       "       [0., 0., 1.],\n",
       "       [0., 0., 0.]])"
      ]
     },
     "execution_count": 175,
     "metadata": {},
     "output_type": "execute_result"
    },
    {
     "data": {
      "text/plain": [
       "array([[0., 0., 0.],\n",
       "       [1., 0., 0.],\n",
       "       [0., 1., 0.]])"
      ]
     },
     "execution_count": 175,
     "metadata": {},
     "output_type": "execute_result"
    }
   ],
   "source": [
    "np.eye(3) #k=0\n",
    "np.eye(3, k=1)\n",
    "np.eye(3,k=-1)"
   ]
  },
  {
   "cell_type": "markdown",
   "id": "5350d210",
   "metadata": {},
   "source": [
    "6. np.linspace로 생성하기\n",
    "- numpy.linspace(start, stop, num=50)\n",
    "- 지정된 간격 동안 균일 한 간격의 숫자를 반환합니다.\n",
    "\n",
    "반환 num 구간 [위에 계산 균등 샘플 start , stop ].\n"
   ]
  },
  {
   "cell_type": "code",
   "execution_count": 163,
   "id": "1020a0d6",
   "metadata": {},
   "outputs": [
    {
     "data": {
      "text/plain": [
       "array([ 1. ,  5.5, 10. ])"
      ]
     },
     "execution_count": 163,
     "metadata": {},
     "output_type": "execute_result"
    },
    {
     "data": {
      "text/plain": [
       "array([ 1.,  4.,  7., 10.])"
      ]
     },
     "execution_count": 163,
     "metadata": {},
     "output_type": "execute_result"
    },
    {
     "data": {
      "text/plain": [
       "array([ 1.  ,  3.25,  5.5 ,  7.75, 10.  ])"
      ]
     },
     "execution_count": 163,
     "metadata": {},
     "output_type": "execute_result"
    }
   ],
   "source": [
    "np.linspace(1,10,3) #1 , 5.5 . 10\n",
    "np.linspace(1,10,4) # 1, 4, 7, 10\n",
    "np.linspace(1,10,5) # 1, 3.25, 5.5, 7.75, 10"
   ]
  },
  {
   "cell_type": "markdown",
   "id": "c0debd4f",
   "metadata": {},
   "source": [
    "#### reshape 함수 활용\n",
    " - ndarray의 형태, 차원을 바꾸기 위해 사용\n"
   ]
  },
  {
   "cell_type": "code",
   "execution_count": 176,
   "id": "6e8b3233",
   "metadata": {},
   "outputs": [
    {
     "data": {
      "text/plain": [
       "array([ 1,  2,  3,  4,  5,  6,  7,  8,  9, 10, 11, 12, 13, 14, 15])"
      ]
     },
     "execution_count": 176,
     "metadata": {},
     "output_type": "execute_result"
    },
    {
     "data": {
      "text/plain": [
       "(15,)"
      ]
     },
     "execution_count": 176,
     "metadata": {},
     "output_type": "execute_result"
    },
    {
     "data": {
      "text/plain": [
       "array([[ 1,  2,  3,  4,  5],\n",
       "       [ 6,  7,  8,  9, 10],\n",
       "       [11, 12, 13, 14, 15]])"
      ]
     },
     "execution_count": 176,
     "metadata": {},
     "output_type": "execute_result"
    }
   ],
   "source": [
    "x = np.arange(1,16)\n",
    "x\n",
    "x.shape\n",
    "\n",
    "x.reshape(3,5)\n"
   ]
  },
  {
   "cell_type": "markdown",
   "id": "26e4a2d0",
   "metadata": {},
   "source": [
    "### random 서브 모듈의 함수를통해 ndarray 생성하기"
   ]
  },
  {
   "cell_type": "markdown",
   "id": "e924956c",
   "metadata": {},
   "source": [
    "#### random 서브모듈\n",
    "- rand 함수\n",
    "    - 0,1사이의 분포로 random한 ndarray 생성"
   ]
  },
  {
   "cell_type": "code",
   "execution_count": 177,
   "id": "823c0505",
   "metadata": {},
   "outputs": [
    {
     "data": {
      "text/plain": [
       "array([0.87196207, 0.93619854, 0.73629339, 0.29202926])"
      ]
     },
     "execution_count": 177,
     "metadata": {},
     "output_type": "execute_result"
    },
    {
     "data": {
      "text/plain": [
       "array([[0.78179989, 0.31936008, 0.09996649, 0.55166783, 0.73800828],\n",
       "       [0.30560019, 0.49769312, 0.85117401, 0.75826885, 0.33062283],\n",
       "       [0.54606087, 0.66616536, 0.97966744, 0.46738034, 0.57536259],\n",
       "       [0.13227912, 0.26700741, 0.84584219, 0.24383679, 0.50106577]])"
      ]
     },
     "execution_count": 177,
     "metadata": {},
     "output_type": "execute_result"
    },
    {
     "data": {
      "text/plain": [
       "array([[[0.2055615 , 0.26984998, 0.70265487],\n",
       "        [0.59799173, 0.2062396 , 0.87622229],\n",
       "        [0.20532152, 0.21683762, 0.02467536],\n",
       "        [0.02803009, 0.49597332, 0.40653282],\n",
       "        [0.05737365, 0.82722404, 0.04223297]],\n",
       "\n",
       "       [[0.04517944, 0.36353096, 0.14121114],\n",
       "        [0.41357784, 0.69393325, 0.16342817],\n",
       "        [0.30512738, 0.10561266, 0.98913747],\n",
       "        [0.14630597, 0.10410655, 0.12740525],\n",
       "        [0.78355875, 0.16426461, 0.02129418]],\n",
       "\n",
       "       [[0.31223839, 0.00191367, 0.04578123],\n",
       "        [0.20200672, 0.54746146, 0.88851532],\n",
       "        [0.07552645, 0.79348024, 0.80416612],\n",
       "        [0.62630527, 0.76807927, 0.61444658],\n",
       "        [0.7701676 , 0.23481287, 0.69910541]],\n",
       "\n",
       "       [[0.67037806, 0.76692239, 0.49507617],\n",
       "        [0.29715639, 0.37050698, 0.51451577],\n",
       "        [0.90626771, 0.7858254 , 0.76459174],\n",
       "        [0.82117624, 0.71838506, 0.71126775],\n",
       "        [0.40948512, 0.69242557, 0.44164239]]])"
      ]
     },
     "execution_count": 177,
     "metadata": {},
     "output_type": "execute_result"
    },
    {
     "data": {
      "text/plain": [
       "array([[0.2055615 , 0.26984998, 0.70265487],\n",
       "       [0.59799173, 0.2062396 , 0.87622229],\n",
       "       [0.20532152, 0.21683762, 0.02467536],\n",
       "       [0.02803009, 0.49597332, 0.40653282],\n",
       "       [0.05737365, 0.82722404, 0.04223297]])"
      ]
     },
     "execution_count": 177,
     "metadata": {},
     "output_type": "execute_result"
    },
    {
     "data": {
      "text/plain": [
       "array([[0.04517944, 0.36353096, 0.14121114],\n",
       "       [0.41357784, 0.69393325, 0.16342817],\n",
       "       [0.30512738, 0.10561266, 0.98913747],\n",
       "       [0.14630597, 0.10410655, 0.12740525],\n",
       "       [0.78355875, 0.16426461, 0.02129418]])"
      ]
     },
     "execution_count": 177,
     "metadata": {},
     "output_type": "execute_result"
    }
   ],
   "source": [
    "np.random.rand(4)\n",
    "np.random.rand(4,5) # 4* 5 행렬\n",
    "a= np.random.rand(4,5,3) # 5*3 행렬 4개 표현\n",
    "a\n",
    "a[0]\n",
    "a[1]"
   ]
  },
  {
   "cell_type": "markdown",
   "id": "598d57e3",
   "metadata": {},
   "source": [
    "#### randn 함수\n",
    "- n: normal distribution (정규분포)\n",
    "- 정규분포로 샘플링된 랜덤 ndarray 생성"
   ]
  },
  {
   "cell_type": "code",
   "execution_count": 178,
   "id": "ac7b2788",
   "metadata": {},
   "outputs": [
    {
     "data": {
      "text/plain": [
       "array([-2.85861144,  1.60631391, -0.30711515, -0.58313893,  1.1736445 ])"
      ]
     },
     "execution_count": 178,
     "metadata": {},
     "output_type": "execute_result"
    },
    {
     "data": {
      "text/plain": [
       "array([[-1.37978985,  0.53929575,  0.23797916, -1.23372751],\n",
       "       [ 0.48431844, -0.5428534 ,  1.05995273,  0.08653039],\n",
       "       [-0.44462443, -0.03127019,  0.53716835, -0.42640698]])"
      ]
     },
     "execution_count": 178,
     "metadata": {},
     "output_type": "execute_result"
    },
    {
     "data": {
      "text/plain": [
       "array([[[ 0.4882004 , -0.0380979 , -1.19771198, -0.05107691],\n",
       "        [-0.45346803,  0.36068971, -0.08802185,  0.52008983],\n",
       "        [-0.48697332, -0.28653187,  1.21325869, -0.29849825]],\n",
       "\n",
       "       [[-0.50006437, -0.5567686 , -0.64389023, -0.05911165],\n",
       "        [ 1.24555768,  0.40239469, -0.92686509,  0.64197379],\n",
       "        [ 0.17663328, -0.54795094,  0.07252899, -0.04563525]]])"
      ]
     },
     "execution_count": 178,
     "metadata": {},
     "output_type": "execute_result"
    }
   ],
   "source": [
    "np.random.randn(5)\n",
    "np.random.randn(3,4)\n",
    "np.random.randn(2,3,4)"
   ]
  },
  {
   "cell_type": "markdown",
   "id": "b61e8b7b",
   "metadata": {},
   "source": [
    "#### randint()\n",
    "- 특정 정수 사이에서 랜덤하게 샘플링"
   ]
  },
  {
   "cell_type": "code",
   "execution_count": 179,
   "id": "313ce390",
   "metadata": {},
   "outputs": [
    {
     "data": {
      "text/plain": [
       "array([11, 40,  1, 17, 31])"
      ]
     },
     "execution_count": 179,
     "metadata": {},
     "output_type": "execute_result"
    },
    {
     "data": {
      "text/plain": [
       "array([[80, 82, 37],\n",
       "       [75, 68, 33],\n",
       "       [96, 46,  9],\n",
       "       [44, 34, 81],\n",
       "       [50, 36, 96]])"
      ]
     },
     "execution_count": 179,
     "metadata": {},
     "output_type": "execute_result"
    }
   ],
   "source": [
    "np.random.randint(1,100,size=(5,))\n",
    "np.random.randint(1,100,size=(5,3))\n",
    "\n",
    "#1~99에서 랜덤하게 샘플링, size=는 배열 형태지정"
   ]
  },
  {
   "cell_type": "markdown",
   "id": "c10b723d",
   "metadata": {},
   "source": [
    "#### seed 함수\n",
    "- 랜덤한 값을 동일하게 다시 생성하고자 할때 사용"
   ]
  },
  {
   "cell_type": "code",
   "execution_count": 168,
   "id": "f48ea738",
   "metadata": {},
   "outputs": [
    {
     "data": {
      "text/plain": [
       "array([[ 0.66698806,  0.02581308, -0.77761941,  0.94863382],\n",
       "       [ 0.70167179, -1.05108156, -0.36754812, -1.13745969],\n",
       "       [-1.32214752,  1.77225828, -0.34745899,  0.67014016]])"
      ]
     },
     "execution_count": 168,
     "metadata": {},
     "output_type": "execute_result"
    }
   ],
   "source": [
    "np.random.seed(23)\n",
    "np.random.randn(3, 4)\n"
   ]
  },
  {
   "cell_type": "code",
   "execution_count": 169,
   "id": "5e67301c",
   "metadata": {},
   "outputs": [
    {
     "data": {
      "text/plain": [
       "array([[ 0.32227152,  0.06034293, -1.04345   , -1.00994188],\n",
       "       [ 0.44173637,  1.12887685, -1.83806777, -0.93876863],\n",
       "       [-0.20184052,  1.04537128,  0.53816197,  0.81211867]])"
      ]
     },
     "execution_count": 169,
     "metadata": {},
     "output_type": "execute_result"
    }
   ],
   "source": [
    "np.random.randn(3, 4)\n"
   ]
  },
  {
   "cell_type": "markdown",
   "id": "48370455",
   "metadata": {},
   "source": [
    "#### 확률 분포에 따른 ndarray 생성 함수\n",
    "- uniform - 이산형 정규 분포\n",
    "- normal - 정규분포\n",
    "- 등등"
   ]
  },
  {
   "cell_type": "code",
   "execution_count": 182,
   "id": "8f3d6105",
   "metadata": {
    "scrolled": true
   },
   "outputs": [
    {
     "data": {
      "text/plain": [
       "array([[2.31172158, 1.4769809 , 2.32857468, 2.88900725, 2.14941655],\n",
       "       [1.51804451, 1.79412662, 2.06037004, 1.12192152, 1.96734758],\n",
       "       [2.58397351, 1.34671884, 1.26187895, 1.26122109, 1.80440458],\n",
       "       [1.75321764, 1.0693894 , 2.45248708, 2.50333207, 2.8227439 ]])"
      ]
     },
     "execution_count": 182,
     "metadata": {},
     "output_type": "execute_result"
    }
   ],
   "source": [
    "np.random.uniform(1.0,3.0,size=(4,5))"
   ]
  },
  {
   "cell_type": "code",
   "execution_count": 183,
   "id": "8d074b6d",
   "metadata": {},
   "outputs": [
    {
     "data": {
      "text/plain": [
       "array([[ 0.19683813, -0.22122136, -1.43637521, -0.81039499,  0.19174194],\n",
       "       [-1.00252751,  0.33178576,  1.64846871, -2.18391163, -1.3574682 ],\n",
       "       [-0.35063591,  0.79305588,  0.3439359 , -1.75477499,  0.96341392],\n",
       "       [ 0.70364772,  0.37126352, -0.87001277, -1.0133451 ,  1.03889293]])"
      ]
     },
     "execution_count": 183,
     "metadata": {},
     "output_type": "execute_result"
    },
    {
     "data": {
      "text/plain": [
       "array([[-0.17523927,  0.33953677, -0.01382905, -0.42028434],\n",
       "       [-0.46163822, -0.70812078, -0.87776065, -2.06046436],\n",
       "       [ 0.39337593,  0.36985483,  0.50935997,  0.21710806]])"
      ]
     },
     "execution_count": 183,
     "metadata": {},
     "output_type": "execute_result"
    }
   ],
   "source": [
    "np.random.normal(size=(4,5))\n",
    "np.random.randn(3,4)\n"
   ]
  },
  {
   "cell_type": "markdown",
   "id": "6a4574e1",
   "metadata": {},
   "source": [
    " #### np.random.choice(a, size, replace=True|False, p)\n",
    " - 1-D 배열로 부터 임의 표본 추출(random sampling)\n",
    " - replace = 복원추출(True)|비복원추출(False)\n",
    " - p : 모집단의 원소에 대해 발생 확률을 미리 알고 있으면 확률값을 넘겨줄 수 있음"
   ]
  },
  {
   "cell_type": "markdown",
   "id": "8b0f2c0f",
   "metadata": {},
   "source": [
    "![](choice.png)"
   ]
  },
  {
   "cell_type": "code",
   "execution_count": 171,
   "id": "8391c159",
   "metadata": {},
   "outputs": [
    {
     "data": {
      "text/plain": [
       "array([[95, 34,  0, 91],\n",
       "       [11, 62, 96, 88],\n",
       "       [54, 89, 78, 41]])"
      ]
     },
     "execution_count": 171,
     "metadata": {},
     "output_type": "execute_result"
    }
   ],
   "source": [
    "#정수가 주어진 경우, np.arange(해당숫자)로 간주\n",
    "np.random.choice(100,size=(3,4))"
   ]
  },
  {
   "cell_type": "code",
   "execution_count": 172,
   "id": "862ebb14",
   "metadata": {},
   "outputs": [],
   "source": [
    "x = np.array([1, 2, 3, 1.5, 2.6, 4.9])"
   ]
  },
  {
   "cell_type": "code",
   "execution_count": 211,
   "id": "1ed9b51d",
   "metadata": {},
   "outputs": [
    {
     "data": {
      "text/plain": [
       "array([[13, 15],\n",
       "       [13,  5]])"
      ]
     },
     "execution_count": 211,
     "metadata": {},
     "output_type": "execute_result"
    },
    {
     "data": {
      "text/plain": [
       "array([[11,  4],\n",
       "       [12,  9]])"
      ]
     },
     "execution_count": 211,
     "metadata": {},
     "output_type": "execute_result"
    }
   ],
   "source": [
    "np.random.choice(x, size=(2,2), replace=True) #복원추출, 여러번 뽑힐수있음\n",
    "np.random.choice(x, size=(2,2), replace=False) # 비복원추출, 딱 한번만 뽑힘"
   ]
  },
  {
   "cell_type": "code",
   "execution_count": 261,
   "id": "2e32ecec",
   "metadata": {},
   "outputs": [
    {
     "data": {
      "text/plain": [
       "array([2, 3, 2])"
      ]
     },
     "execution_count": 261,
     "metadata": {},
     "output_type": "execute_result"
    }
   ],
   "source": [
    "p = [0.1, 0, 0.3, 0.6, 0]\n",
    "np.random.choice(5,3,p=p)\n",
    "\n"
   ]
  },
  {
   "cell_type": "code",
   "execution_count": null,
   "id": "a553e31d",
   "metadata": {},
   "outputs": [],
   "source": []
  },
  {
   "cell_type": "code",
   "execution_count": null,
   "id": "cfab8818",
   "metadata": {},
   "outputs": [],
   "source": []
  },
  {
   "cell_type": "code",
   "execution_count": null,
   "id": "b156faae",
   "metadata": {},
   "outputs": [],
   "source": []
  }
 ],
 "metadata": {
  "kernelspec": {
   "display_name": "Python 3",
   "language": "python",
   "name": "python3"
  },
  "language_info": {
   "codemirror_mode": {
    "name": "ipython",
    "version": 3
   },
   "file_extension": ".py",
   "mimetype": "text/x-python",
   "name": "python",
   "nbconvert_exporter": "python",
   "pygments_lexer": "ipython3",
   "version": "3.8.8"
  }
 },
 "nbformat": 4,
 "nbformat_minor": 5
}
