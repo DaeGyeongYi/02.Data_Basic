{
 "cells": [
  {
   "cell_type": "markdown",
   "id": "2a947ad4",
   "metadata": {},
   "source": [
    "### numpy에서 자주 사용되는 함수들 정리\n",
    "\n"
   ]
  },
  {
   "cell_type": "code",
   "execution_count": 1,
   "id": "443626ec",
   "metadata": {},
   "outputs": [],
   "source": [
    "import numpy as np\n",
    "import matplotlib.pyplot as plt\n",
    "\n",
    "from IPython.core.interactiveshell import InteractiveShell\n",
    "InteractiveShell.ast_node_interactivity=\"all\""
   ]
  },
  {
   "cell_type": "markdown",
   "id": "c1f270ea",
   "metadata": {},
   "source": [
    "#### numpy documentation\n",
    "  - [numpy 공식 문서 링크](https://www.numpy.org/devdocs/reference/)\n",
    "  - numpy에서 제공되는 함수등에 대한 문서\n"
   ]
  },
  {
   "cell_type": "code",
   "execution_count": 2,
   "id": "a4489d73",
   "metadata": {},
   "outputs": [
    {
     "name": "stdout",
     "output_type": "stream",
     "text": [
      "[[ 0  1  2  3  4]\n",
      " [ 5  6  7  8  9]\n",
      " [10 11 12 13 14]]\n",
      "[[0.9409545  0.2388438  0.11049246 0.30226054 0.24639654]\n",
      " [0.53998199 0.81399131 0.5529769  0.65001811 0.63670484]\n",
      " [0.23639609 0.86894706 0.04280139 0.48584294 0.5621091 ]]\n"
     ]
    }
   ],
   "source": [
    "x = np.arange(15).reshape(3, 5)\n",
    "y = np.random.rand(15).reshape(3, 5)\n",
    "print(x)\n",
    "print(y)"
   ]
  },
  {
   "cell_type": "markdown",
   "id": "1512b2de",
   "metadata": {},
   "source": [
    " #### 연산 함수\n",
    "  - add, subtract, multiply, divide\n"
   ]
  },
  {
   "cell_type": "code",
   "execution_count": 3,
   "id": "743d8173",
   "metadata": {},
   "outputs": [
    {
     "data": {
      "text/plain": [
       "array([[ 0.9409545 ,  1.2388438 ,  2.11049246,  3.30226054,  4.24639654],\n",
       "       [ 5.53998199,  6.81399131,  7.5529769 ,  8.65001811,  9.63670484],\n",
       "       [10.23639609, 11.86894706, 12.04280139, 13.48584294, 14.5621091 ]])"
      ]
     },
     "execution_count": 3,
     "metadata": {},
     "output_type": "execute_result"
    },
    {
     "data": {
      "text/plain": [
       "array([[  0.        ,   4.18683675,  18.10078282,   9.92521233,\n",
       "         16.23399444],\n",
       "       [  9.25956811,   7.37108602,  12.65875666,  12.3073495 ,\n",
       "         14.13527811],\n",
       "       [ 42.30188372,  12.65899902, 280.36470916,  26.75761842,\n",
       "         24.90619696]])"
      ]
     },
     "execution_count": 3,
     "metadata": {},
     "output_type": "execute_result"
    },
    {
     "data": {
      "text/plain": [
       "array([[0.        , 0.2388438 , 0.22098492, 0.90678161, 0.98558615],\n",
       "       [2.69990994, 4.88394789, 3.87083829, 5.20014484, 5.73034357],\n",
       "       [2.36396092, 9.55841768, 0.51361671, 6.31595822, 7.86952743]])"
      ]
     },
     "execution_count": 3,
     "metadata": {},
     "output_type": "execute_result"
    },
    {
     "data": {
      "text/plain": [
       "array([[-0.9409545 ,  0.7611562 ,  1.88950754,  2.69773946,  3.75360346],\n",
       "       [ 4.46001801,  5.18600869,  6.4470231 ,  7.34998189,  8.36329516],\n",
       "       [ 9.76360391, 10.13105294, 11.95719861, 12.51415706, 13.4378909 ]])"
      ]
     },
     "execution_count": 3,
     "metadata": {},
     "output_type": "execute_result"
    }
   ],
   "source": [
    "np.add(x,y)\n",
    "np.divide(x,y)\n",
    "np.multiply(x,y)\n",
    "np.subtract(x,y)"
   ]
  },
  {
   "cell_type": "code",
   "execution_count": 4,
   "id": "836daaea",
   "metadata": {},
   "outputs": [
    {
     "data": {
      "text/plain": [
       "array([[ 0.9409545 ,  1.2388438 ,  2.11049246,  3.30226054,  4.24639654],\n",
       "       [ 5.53998199,  6.81399131,  7.5529769 ,  8.65001811,  9.63670484],\n",
       "       [10.23639609, 11.86894706, 12.04280139, 13.48584294, 14.5621091 ]])"
      ]
     },
     "execution_count": 4,
     "metadata": {},
     "output_type": "execute_result"
    }
   ],
   "source": [
    "x+y"
   ]
  },
  {
   "cell_type": "code",
   "execution_count": 5,
   "id": "6bd41352",
   "metadata": {},
   "outputs": [
    {
     "data": {
      "text/plain": [
       "array([[-0.9409545 ,  0.7611562 ,  1.88950754,  2.69773946,  3.75360346],\n",
       "       [ 4.46001801,  5.18600869,  6.4470231 ,  7.34998189,  8.36329516],\n",
       "       [ 9.76360391, 10.13105294, 11.95719861, 12.51415706, 13.4378909 ]])"
      ]
     },
     "execution_count": 5,
     "metadata": {},
     "output_type": "execute_result"
    }
   ],
   "source": [
    "x-y"
   ]
  },
  {
   "cell_type": "code",
   "execution_count": null,
   "id": "19470453",
   "metadata": {},
   "outputs": [],
   "source": []
  },
  {
   "cell_type": "code",
   "execution_count": null,
   "id": "0828d417",
   "metadata": {},
   "outputs": [],
   "source": []
  }
 ],
 "metadata": {
  "kernelspec": {
   "display_name": "Python 3",
   "language": "python",
   "name": "python3"
  },
  "language_info": {
   "codemirror_mode": {
    "name": "ipython",
    "version": 3
   },
   "file_extension": ".py",
   "mimetype": "text/x-python",
   "name": "python",
   "nbconvert_exporter": "python",
   "pygments_lexer": "ipython3",
   "version": "3.8.8"
  }
 },
 "nbformat": 4,
 "nbformat_minor": 5
}
