{
 "cells": [
  {
   "cell_type": "markdown",
   "id": "b399ba78",
   "metadata": {},
   "source": [
    " # 통계적 가설검정"
   ]
  },
  {
   "cell_type": "markdown",
   "id": "5e30516c",
   "metadata": {},
   "source": [
    "![](가설검정.png)"
   ]
  },
  {
   "cell_type": "code",
   "execution_count": 2,
   "id": "768f7142",
   "metadata": {},
   "outputs": [
    {
     "data": {
      "text/plain": [
       "array([122.02, 131.73, 130.6 , 131.82, 132.05, 126.12, 124.43, 132.89,\n",
       "       122.79, 129.95, 126.14, 134.45, 127.64, 125.68])"
      ]
     },
     "execution_count": 2,
     "metadata": {},
     "output_type": "execute_result"
    }
   ],
   "source": [
    "import numpy as np\n",
    "import pandas as pd\n",
    "from scipy import stats\n",
    "from IPython.core.interactiveshell import InteractiveShell\n",
    "InteractiveShell.ast_node_interactivity=\"all\"\n",
    "\n",
    "%precision 3\n",
    "np.random.seed(1111)\n",
    "df = pd.read_csv('../data/data/ch11_potato.csv')\n",
    "sample = np.array(df['무게'])\n",
    "sample"
   ]
  },
  {
   "cell_type": "code",
   "execution_count": 3,
   "id": "db112770",
   "metadata": {},
   "outputs": [
    {
     "data": {
      "text/plain": [
       "128.4507142857143"
      ]
     },
     "execution_count": 3,
     "metadata": {},
     "output_type": "execute_result"
    }
   ],
   "source": [
    "s_mean=np.mean(sample)\n",
    "s_mean #감튀 평균 무게"
   ]
  },
  {
   "cell_type": "markdown",
   "id": "b959d04c",
   "metadata": {},
   "source": [
    " ### 통계적 가설 검정이란?\n",
    " - 모집단의 모수에 관하여 두 가지 가설을 세우고, 표본으로부터 계산되는 통계량을 이용하여 어느 가설이 옳은지 판단하는 통계적 방법\n",
    " - A학생이 확인하고 싶은 것은 모평균이 130g보다 적은지 여부\n",
    "\n",
    " ### 통계적 가설검정의 흐름\n",
    " \n",
    " - A학생이 감자튀김에 관하여 확인하고 싶은 것은 모평균이 130g보다 적은지 여부 임\n",
    "     - 여기서는 감자튀김의 모집단이 정규분포를 따르고 있고, 모분산이 9임을 알고 있다고 전제\n",
    " \n",
    " - 가정은 ‘모평균이 130g’\n",
    " - 감자튀김 표본 14개는 독립성을 띄고 X1,X2,X3,...,X14 ~ N(130,9) 를 따르고 표본평균은 N(130,9/14)를 따른다\n",
    " \n",
    " \n",
    " - 표본평균 $\\overline{x}$ 가 P($\\overline{X}$ <= x) = 0.05를 만족하는 x를 생각"
   ]
  },
  {
   "cell_type": "code",
   "execution_count": 24,
   "id": "d18edae6",
   "metadata": {},
   "outputs": [
    {
     "data": {
      "text/plain": [
       "128.68118313069039"
      ]
     },
     "execution_count": 24,
     "metadata": {},
     "output_type": "execute_result"
    }
   ],
   "source": [
    "rv = stats.norm(130,np.sqrt(9/14))\n",
    "\n",
    "rv.isf(0.95)\n"
   ]
  },
  {
   "cell_type": "markdown",
   "id": "181eb912",
   "metadata": {},
   "source": [
    " ![](가설검정수식.png)\n",
    " \n",
    " - 표본평균이 128.681g 이하의 무게가 되는것은 5%의 확률로 발생하는 드문 사건\n",
    "\n",
    " ![](그림11-1.jpg)\n",
    "\n",
    " #### 가설검정에서 사용하는 모수에 관한 두가지 가설\n",
    " \n",
    " - 대립가설: 주장하고 싶은 가설 \n",
    "     - 예: “차이가 있다”, “효과가 있다”\n",
    " \n",
    " - 귀무가설: 대립가설과 반대 \n",
    "     - 예: “차이가 없다”, “효과가 없다”\n",
    " \n",
    " - 가설검정의 결론\n",
    "     - 귀무가설을 기각한다: 귀무가설은 옳지 않다\n",
    "     - 귀무가설을 채택한다: 귀무가설이 옳지 않다고 말할 수 없다\n"
   ]
  },
  {
   "cell_type": "markdown",
   "id": "64309767",
   "metadata": {},
   "source": [
    "![](가설.png)"
   ]
  },
  {
   "cell_type": "markdown",
   "id": "1c710bc9",
   "metadata": {},
   "source": [
    "- ‘귀무가설을 기각한다/채택한다’의 판단은 귀무가설의 가정을 바탕으로 했을 때 표본으로부터 계산되는 통계량이 드문 값인지 여부로 결정\n",
    "- 드문 값을 얻으면, 우연이 아니라 의미 있는 값이라고 생각하여 귀무가설을 기각\n",
    "     - 유의하다: 우연이 아니라 의미가 있다\n",
    "         \n",
    "         \n",
    " \n",
    " - 귀무가설 ‘모평균은 130g이다’라는 가정을 바탕으로 했을 때 표본평균이 128.451g이 되는 것은 유의하므로 귀무가설은 기각\n",
    "     - 표본평균이 128.681g보다 작다면 귀무가설은 기각되고, 128.681g보다 크다면 귀무가설을 채택"
   ]
  },
  {
   "cell_type": "markdown",
   "id": "94e137ea",
   "metadata": {},
   "source": [
    " - p값과 유의수준\n",
    " \n",
    " - p값이 유의수준보다 작으면 귀무가설을 기각\n"
   ]
  },
  {
   "cell_type": "markdown",
   "id": "14e77809",
   "metadata": {},
   "source": [
    "![](유의수준.png)"
   ]
  },
  {
   "cell_type": "markdown",
   "id": "df64c1b5",
   "metadata": {},
   "source": [
    "![](p값.png)\n",
    "![](p값1.png)"
   ]
  },
  {
   "cell_type": "markdown",
   "id": "7f93a96a",
   "metadata": {},
   "source": [
    "- p값은 누적분포함수로 구할 수 있음"
   ]
  },
  {
   "cell_type": "markdown",
   "id": "4747760f",
   "metadata": {},
   "source": [
    " ####  검정 통계량 Z는 아래와 같이 설정하자\n",
    "     - 유의 수준은 0.05(5%)로 설정"
   ]
  },
  {
   "cell_type": "code",
   "execution_count": 10,
   "id": "8f93ac1c",
   "metadata": {},
   "outputs": [
    {
     "data": {
      "text/plain": [
       "-1.932298779026813"
      ]
     },
     "execution_count": 10,
     "metadata": {},
     "output_type": "execute_result"
    }
   ],
   "source": [
    "# 검정 통계량\n",
    "s_mean = np.mean(sample) # 감자튀김 14개의 무게 data인 sample의 평균\n",
    "\n",
    "z= (s_mean-130) / np.sqrt(9/14)\n",
    "z\n",
    "\n",
    "# z= 표준화 진행함"
   ]
  },
  {
   "cell_type": "code",
   "execution_count": 13,
   "id": "5cf1ac00",
   "metadata": {},
   "outputs": [
    {
     "data": {
      "text/plain": [
       "-1.6448536269514722"
      ]
     },
     "execution_count": 13,
     "metadata": {},
     "output_type": "execute_result"
    }
   ],
   "source": [
    "rv = stats.norm()\n",
    "rv.isf(0.95)"
   ]
  },
  {
   "cell_type": "markdown",
   "id": "26af88a3",
   "metadata": {},
   "source": [
    "- p값을 기준으로 하는 가설 검정"
   ]
  },
  {
   "cell_type": "code",
   "execution_count": 15,
   "id": "3f86d118",
   "metadata": {},
   "outputs": [
    {
     "data": {
      "text/plain": [
       "0.026661319523126635"
      ]
     },
     "execution_count": 15,
     "metadata": {},
     "output_type": "execute_result"
    }
   ],
   "source": [
    "# 확률변수 rv 를 이용한 p값 계산\n",
    "rv.cdf(z)  ### 누적분포 함수, 14개의 데이터를 표준화했을때 나오는 p value를 확인함(z변수)\n",
    "\n",
    "\n",
    "#유의수준인 0.05보다 작으므로 귀무가설은 기각"
   ]
  },
  {
   "cell_type": "markdown",
   "id": "a1862ce6",
   "metadata": {},
   "source": [
    "![](그림11-3.jpg)"
   ]
  },
  {
   "cell_type": "markdown",
   "id": "df5a51fa",
   "metadata": {},
   "source": [
    " ### 단측검정과 양측검정\n",
    " \n",
    " - 모평균은 130보다 작다=>단측검정 라는 대립가설이 아닌 '모평균은 130g이 아니다'라는 대립가설로 가설 검정 수행    \n",
    " \n",
    " \n",
    "     - 모평균이 130g보다 작은 경우와 큰 경우도 고려하게 됨 => 양측 검정\n",
    "     \n",
    " - 동일한 유의수준 $\\alpha$ 의 검정이라도 단측 검정 쪽의 기각역이 넓어진다. \n",
    "     - 단측검정은 양측검정보다 귀무가설을 기각하기 쉽다"
   ]
  },
  {
   "cell_type": "markdown",
   "id": "13988501",
   "metadata": {},
   "source": [
    "![](단측검정양측검정.png)"
   ]
  },
  {
   "cell_type": "code",
   "execution_count": 16,
   "id": "35fbdab0",
   "metadata": {},
   "outputs": [
    {
     "data": {
      "text/plain": [
       "-1.932298779026813"
      ]
     },
     "execution_count": 16,
     "metadata": {},
     "output_type": "execute_result"
    }
   ],
   "source": [
    "# 검정통계량은 단측 검정과 동일하다\n",
    "s_mean = np.mean(sample) # 감자튀김 14개의 무게 data인 sample의 평균\n",
    "\n",
    "z= (s_mean-130) / np.sqrt(9/14)\n",
    "z"
   ]
  },
  {
   "cell_type": "code",
   "execution_count": 18,
   "id": "0c66047a",
   "metadata": {},
   "outputs": [
    {
     "data": {
      "text/plain": [
       "(-1.959963984540054, 1.959963984540054)"
      ]
     },
     "execution_count": 18,
     "metadata": {},
     "output_type": "execute_result"
    }
   ],
   "source": [
    "# 양측 검정이므로 임곗값은 표준 정규분포의 95% 구간에 따라 구할 수 있음\n",
    "rv = stats.norm()\n",
    "rv.interval(0.95)\n"
   ]
  },
  {
   "cell_type": "markdown",
   "id": "1259ec8d",
   "metadata": {},
   "source": [
    "- 임곗값과 검정 통계량을 비교해 보면 검정통계량이 채택역에 들어 있다. => 귀무가설이 기각되지 않는다"
   ]
  },
  {
   "cell_type": "code",
   "execution_count": 20,
   "id": "6f6e4c0c",
   "metadata": {},
   "outputs": [
    {
     "data": {
      "text/plain": [
       "0.05332263904625327"
      ]
     },
     "execution_count": 20,
     "metadata": {},
     "output_type": "execute_result"
    }
   ],
   "source": [
    "# 양측검정의 p값을 구할 때는 상단과 하단의 양쪽 면적을 고려할 필요가 있으므로 누적밀도함수의 값을 2배로 함\n",
    "rv.cdf(z) * 2\n",
    "\n",
    "\n",
    "#모양이 달라서 면적이 다를 수 있으므로, 한쪽 밀도함수의 값을 2배하는게 정확"
   ]
  },
  {
   "cell_type": "markdown",
   "id": "3d0e725e",
   "metadata": {},
   "source": [
    " - p값의 유의 수준이 0.05보다 큼 => 귀무가설은 기각되지 않는다\n",
    "\n",
    " ### 가설검정에서의 두 가지 오류\n",
    " ![](제12종오류.png)\n",
    " \n",
    " - 제1종 오류\n",
    "     - 실제로 ‘평균이 130g’인데도 ‘평균은 130g보다 작다’라는 결론을 내리는 상황\n",
    "     - 본래 검출하지 말아야 할 것을 검출한 것이므로 오탐(false negative)\n",
    "     - 위험률: 제1종 오류를 범하는 확률 $\\alpha$\n",
    " \n",
    " - 제2종 오류\n",
    "     - 실제로 ‘평균이 130g보다 작다’인데도 ‘평균은 130g보다 작다’라는 결론을 얻을 수 없는 상황\n",
    "     - 본래 검출해야 하는 것을 검출하지 못했으므로 미탐(false negative)"
   ]
  },
  {
   "cell_type": "code",
   "execution_count": null,
   "id": "45ad0239",
   "metadata": {},
   "outputs": [],
   "source": []
  },
  {
   "cell_type": "code",
   "execution_count": null,
   "id": "dd4b20d8",
   "metadata": {},
   "outputs": [],
   "source": []
  },
  {
   "cell_type": "code",
   "execution_count": null,
   "id": "3afbb802",
   "metadata": {},
   "outputs": [],
   "source": []
  },
  {
   "cell_type": "code",
   "execution_count": null,
   "id": "f299f4b7",
   "metadata": {},
   "outputs": [],
   "source": []
  },
  {
   "cell_type": "code",
   "execution_count": null,
   "id": "d12ba56b",
   "metadata": {},
   "outputs": [],
   "source": []
  },
  {
   "cell_type": "code",
   "execution_count": null,
   "id": "d55201d6",
   "metadata": {},
   "outputs": [],
   "source": []
  }
 ],
 "metadata": {
  "kernelspec": {
   "display_name": "Python 3",
   "language": "python",
   "name": "python3"
  },
  "language_info": {
   "codemirror_mode": {
    "name": "ipython",
    "version": 3
   },
   "file_extension": ".py",
   "mimetype": "text/x-python",
   "name": "python",
   "nbconvert_exporter": "python",
   "pygments_lexer": "ipython3",
   "version": "3.8.8"
  }
 },
 "nbformat": 4,
 "nbformat_minor": 5
}
