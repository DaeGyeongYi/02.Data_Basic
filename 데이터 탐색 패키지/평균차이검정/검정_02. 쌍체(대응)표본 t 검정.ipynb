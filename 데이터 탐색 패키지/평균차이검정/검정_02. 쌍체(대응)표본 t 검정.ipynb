{
 "cells": [
  {
   "cell_type": "markdown",
   "id": "129b1c78",
   "metadata": {},
   "source": [
    "#### 쌍체표본 t검정\n",
    "\n",
    "- x의 변화에 따라 y값이 결정\n",
    "- x에 변화를 가했을때 그 x가 변화되어서 추출된 값을 검정(효과가 있는지)\n",
    "- ex) A반 학생들이 보충수업 후 본 국어 시험점수를 볼때, 보충수업 효과가 있는가?\n"
   ]
  },
  {
   "cell_type": "markdown",
   "id": "d4523296",
   "metadata": {},
   "source": [
    "#### 선행조건\n",
    "\n",
    "- 실험 전(x)과 실험 후(y)의 데이터는 정규 분포를 따르지 않아도 됨\n",
    "- 측정 값의 차이는 정규성을 가지고 있어야 함"
   ]
  },
  {
   "cell_type": "markdown",
   "id": "60310ffa",
   "metadata": {},
   "source": [
    "![](대응t정리.png)"
   ]
  },
  {
   "cell_type": "markdown",
   "id": "195be140",
   "metadata": {},
   "source": [
    "![](대응t량.png)"
   ]
  },
  {
   "cell_type": "code",
   "execution_count": 3,
   "id": "6d3a6a33",
   "metadata": {},
   "outputs": [],
   "source": [
    "import pandas as pd\n",
    "from scipy.stats import *\n",
    "from IPython.core.interactiveshell import InteractiveShell\n",
    "InteractiveShell.ast_node_interactivity=\"all\"\n"
   ]
  },
  {
   "cell_type": "code",
   "execution_count": 39,
   "id": "ab1abcd9",
   "metadata": {},
   "outputs": [],
   "source": [
    "df = pd.read_csv(\"../data/data/다이어트약_효과검증.csv\")"
   ]
  },
  {
   "cell_type": "code",
   "execution_count": 40,
   "id": "c2c6b025",
   "metadata": {},
   "outputs": [
    {
     "data": {
      "text/html": [
       "<div>\n",
       "<style scoped>\n",
       "    .dataframe tbody tr th:only-of-type {\n",
       "        vertical-align: middle;\n",
       "    }\n",
       "\n",
       "    .dataframe tbody tr th {\n",
       "        vertical-align: top;\n",
       "    }\n",
       "\n",
       "    .dataframe thead th {\n",
       "        text-align: right;\n",
       "    }\n",
       "</style>\n",
       "<table border=\"1\" class=\"dataframe\">\n",
       "  <thead>\n",
       "    <tr style=\"text-align: right;\">\n",
       "      <th></th>\n",
       "      <th>다이어트전(kg)</th>\n",
       "      <th>다이어트후(kg)</th>\n",
       "    </tr>\n",
       "  </thead>\n",
       "  <tbody>\n",
       "    <tr>\n",
       "      <th>0</th>\n",
       "      <td>87.41</td>\n",
       "      <td>88.30</td>\n",
       "    </tr>\n",
       "    <tr>\n",
       "      <th>1</th>\n",
       "      <td>81.05</td>\n",
       "      <td>76.21</td>\n",
       "    </tr>\n",
       "    <tr>\n",
       "      <th>2</th>\n",
       "      <td>60.72</td>\n",
       "      <td>53.34</td>\n",
       "    </tr>\n",
       "    <tr>\n",
       "      <th>3</th>\n",
       "      <td>81.02</td>\n",
       "      <td>78.21</td>\n",
       "    </tr>\n",
       "    <tr>\n",
       "      <th>4</th>\n",
       "      <td>75.75</td>\n",
       "      <td>76.74</td>\n",
       "    </tr>\n",
       "  </tbody>\n",
       "</table>\n",
       "</div>"
      ],
      "text/plain": [
       "   다이어트전(kg)  다이어트후(kg)\n",
       "0      87.41      88.30\n",
       "1      81.05      76.21\n",
       "2      60.72      53.34\n",
       "3      81.02      78.21\n",
       "4      75.75      76.74"
      ]
     },
     "execution_count": 40,
     "metadata": {},
     "output_type": "execute_result"
    },
    {
     "data": {
      "text/plain": [
       "50"
      ]
     },
     "execution_count": 40,
     "metadata": {},
     "output_type": "execute_result"
    }
   ],
   "source": [
    "df.head()\n",
    "len(df)"
   ]
  },
  {
   "cell_type": "code",
   "execution_count": 41,
   "id": "d74968a4",
   "metadata": {},
   "outputs": [],
   "source": [
    "before = df['다이어트전(kg)']\n",
    "after = df['다이어트후(kg)']"
   ]
  },
  {
   "cell_type": "code",
   "execution_count": 42,
   "id": "30270324",
   "metadata": {},
   "outputs": [
    {
     "data": {
      "text/plain": [
       "KstestResult(statistic=0.7424620196514834, pvalue=7.04108433205159e-29)"
      ]
     },
     "execution_count": 42,
     "metadata": {},
     "output_type": "execute_result"
    }
   ],
   "source": [
    "#정규성 검정: 두 값의 차이가 정규분포를 따르는 지 확인\n",
    "kstest(after-before, 'norm')\n",
    "\n",
    "#pvalue가 0에 가까운 수치, 0.05 미만이므로 정규분포를 따른다"
   ]
  },
  {
   "cell_type": "code",
   "execution_count": 43,
   "id": "691fa04c",
   "metadata": {},
   "outputs": [
    {
     "data": {
      "text/plain": [
       "ShapiroResult(statistic=0.9724071621894836, pvalue=0.2892048954963684)"
      ]
     },
     "execution_count": 43,
     "metadata": {},
     "output_type": "execute_result"
    }
   ],
   "source": [
    "# from scipy.stats import shapiro # 정규성 검정 함수\n",
    "\n",
    "# 귀무가설 :데이터는 정규분포 이다.\n",
    "# 대립가설: 데이터는 정규분포가 아니다\n",
    "\n",
    "shapiro(after-before)\n",
    "\n",
    "\n",
    "#pvalue가 0.05보다 크므로 귀무가설 채택"
   ]
  },
  {
   "cell_type": "markdown",
   "id": "0d966efc",
   "metadata": {},
   "source": [
    "#### 대응(쌍체)표본  t 검정 함수\n",
    "\n",
    "- scipy.stats.ttest_rel(a, b, axis=0, nan_policy='propagate', alternative='two-sided')\n",
    "    - nan_policy {‘propagate’:nan을 반환, ‘raise’:오류발생, ‘omit’:무시} : NaN 처리 방법\n",
    "    - alternative='two-sided'|'less'|'greater' : 양측검정|왼쪽단측|오른쪽단측\n"
   ]
  },
  {
   "cell_type": "code",
   "execution_count": 13,
   "id": "7fa7312b",
   "metadata": {},
   "outputs": [
    {
     "data": {
      "text/plain": [
       "Ttest_relResult(statistic=9.70596986565785, pvalue=5.370404098342324e-13)"
      ]
     },
     "execution_count": 13,
     "metadata": {},
     "output_type": "execute_result"
    }
   ],
   "source": [
    "# 귀무가설: 대응 표본 두 집단의 평균은 같다 -다이어트약의 효과는 없다\n",
    "# 대립가설: 대응표본 두 집단의 평균은 다르다 - 다이어트약의 효과가 있다\n",
    "\n",
    "ttest_rel(before, after)\n",
    "\n",
    "\n",
    "# pvalue가 0에 가까우므로 귀무가설은 기각\n",
    "# 통계량은 확실한 양의 효과가 있다 - 다이어트약의 효과가 있다"
   ]
  },
  {
   "cell_type": "code",
   "execution_count": 22,
   "id": "a19999cf",
   "metadata": {},
   "outputs": [
    {
     "data": {
      "text/html": [
       "<div>\n",
       "<style scoped>\n",
       "    .dataframe tbody tr th:only-of-type {\n",
       "        vertical-align: middle;\n",
       "    }\n",
       "\n",
       "    .dataframe tbody tr th {\n",
       "        vertical-align: top;\n",
       "    }\n",
       "\n",
       "    .dataframe thead th {\n",
       "        text-align: right;\n",
       "    }\n",
       "</style>\n",
       "<table border=\"1\" class=\"dataframe\">\n",
       "  <thead>\n",
       "    <tr style=\"text-align: right;\">\n",
       "      <th></th>\n",
       "      <th>before</th>\n",
       "      <th>after</th>\n",
       "    </tr>\n",
       "  </thead>\n",
       "  <tbody>\n",
       "    <tr>\n",
       "      <th>0</th>\n",
       "      <td>20000</td>\n",
       "      <td>40000</td>\n",
       "    </tr>\n",
       "    <tr>\n",
       "      <th>1</th>\n",
       "      <td>1000</td>\n",
       "      <td>32000</td>\n",
       "    </tr>\n",
       "    <tr>\n",
       "      <th>2</th>\n",
       "      <td>30000</td>\n",
       "      <td>70000</td>\n",
       "    </tr>\n",
       "    <tr>\n",
       "      <th>3</th>\n",
       "      <td>4000</td>\n",
       "      <td>3000</td>\n",
       "    </tr>\n",
       "    <tr>\n",
       "      <th>4</th>\n",
       "      <td>8000</td>\n",
       "      <td>15000</td>\n",
       "    </tr>\n",
       "    <tr>\n",
       "      <th>5</th>\n",
       "      <td>7000</td>\n",
       "      <td>15000</td>\n",
       "    </tr>\n",
       "    <tr>\n",
       "      <th>6</th>\n",
       "      <td>2000</td>\n",
       "      <td>10000</td>\n",
       "    </tr>\n",
       "    <tr>\n",
       "      <th>7</th>\n",
       "      <td>6000</td>\n",
       "      <td>7000</td>\n",
       "    </tr>\n",
       "    <tr>\n",
       "      <th>8</th>\n",
       "      <td>12000</td>\n",
       "      <td>30000</td>\n",
       "    </tr>\n",
       "    <tr>\n",
       "      <th>9</th>\n",
       "      <td>15000</td>\n",
       "      <td>16000</td>\n",
       "    </tr>\n",
       "  </tbody>\n",
       "</table>\n",
       "</div>"
      ],
      "text/plain": [
       "   before  after\n",
       "0   20000  40000\n",
       "1    1000  32000\n",
       "2   30000  70000\n",
       "3    4000   3000\n",
       "4    8000  15000\n",
       "5    7000  15000\n",
       "6    2000  10000\n",
       "7    6000   7000\n",
       "8   12000  30000\n",
       "9   15000  16000"
      ]
     },
     "execution_count": 22,
     "metadata": {},
     "output_type": "execute_result"
    }
   ],
   "source": [
    "### -- 개별 실습(마케팅에 따른 판매액 차이: htest02d.csv)\n",
    "df = pd.read_csv(\"../data/data/htest02d.csv\")\n",
    "df\n",
    "before = df['before']\n",
    "after = df['after']"
   ]
  },
  {
   "cell_type": "code",
   "execution_count": 37,
   "id": "9694391d",
   "metadata": {},
   "outputs": [
    {
     "data": {
      "text/plain": [
       "ShapiroResult(statistic=0.8882634043693542, pvalue=0.1620953381061554)"
      ]
     },
     "execution_count": 37,
     "metadata": {},
     "output_type": "execute_result"
    }
   ],
   "source": [
    "# 데이터간의 차이의 정규성 검사 두가지 방법\n",
    "shapiro(before-after)\n",
    "#유의수준보다 높으므로 귀무가설 (데이터는 정규분포임) 채택"
   ]
  },
  {
   "cell_type": "code",
   "execution_count": 44,
   "id": "93753871",
   "metadata": {},
   "outputs": [
    {
     "data": {
      "text/plain": [
       "Ttest_relResult(statistic=9.70596986565785, pvalue=5.370404098342324e-13)"
      ]
     },
     "execution_count": 44,
     "metadata": {},
     "output_type": "execute_result"
    }
   ],
   "source": [
    "#귀무가설: 판매액에 변화 없음\n",
    "#대립가설: 판매액에 변화 있음\n",
    "\n",
    "ttest_rel(before, after)\n",
    "\n",
    "#pvalue가 유의수준 이하이므로 귀무가설 기각\n",
    "# 판매액 변화 있음"
   ]
  },
  {
   "cell_type": "markdown",
   "id": "330f82e0",
   "metadata": {},
   "source": [
    "![](대응t정리.png)"
   ]
  },
  {
   "cell_type": "code",
   "execution_count": null,
   "id": "0aebd2be",
   "metadata": {},
   "outputs": [],
   "source": []
  }
 ],
 "metadata": {
  "kernelspec": {
   "display_name": "Python 3",
   "language": "python",
   "name": "python3"
  },
  "language_info": {
   "codemirror_mode": {
    "name": "ipython",
    "version": 3
   },
   "file_extension": ".py",
   "mimetype": "text/x-python",
   "name": "python",
   "nbconvert_exporter": "python",
   "pygments_lexer": "ipython3",
   "version": "3.8.8"
  }
 },
 "nbformat": 4,
 "nbformat_minor": 5
}
