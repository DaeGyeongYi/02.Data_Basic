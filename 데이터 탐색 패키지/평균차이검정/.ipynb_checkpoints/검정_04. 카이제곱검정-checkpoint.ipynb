{
 "cells": [
  {
   "cell_type": "markdown",
   "id": "bb263cbc",
   "metadata": {},
   "source": [
    "## 카이제곱 검정개요\n",
    "\n",
    "- 목적: 두 범주형 변수가 서로 독립적인지 검정\n",
    "\n",
    "    - 귀무가설: 두 변수가 서로 독립이다\n",
    "    - 대립가설: 두 변수가 서로 종속된다\n",
    "- 교차테이블(분할표)로 시각화"
   ]
  },
  {
   "cell_type": "markdown",
   "id": "825758a5",
   "metadata": {},
   "source": [
    "### 교차테이블 (분할표)\n",
    "- 두 변수가 취할 수 있는 값의 조합의 출현 빈도를 나타냄\n",
    "\n",
    "![](분할표.png)"
   ]
  },
  {
   "cell_type": "markdown",
   "id": "ecf9cad9",
   "metadata": {},
   "source": [
    "![](분할표위치.png)"
   ]
  },
  {
   "cell_type": "markdown",
   "id": "84ba5e08",
   "metadata": {},
   "source": [
    "![](관측값.png)"
   ]
  },
  {
   "cell_type": "markdown",
   "id": "428c471a",
   "metadata": {},
   "source": [
    "![](n11기대값.png)"
   ]
  },
  {
   "cell_type": "markdown",
   "id": "61b82e77",
   "metadata": {},
   "source": [
    "![](카이기대값1.png)"
   ]
  },
  {
   "cell_type": "markdown",
   "id": "fb32ea8d",
   "metadata": {},
   "source": [
    "![](카이제곱통계량계산.png)"
   ]
  },
  {
   "cell_type": "markdown",
   "id": "c90a9bd4",
   "metadata": {},
   "source": [
    "![](카이수식.png)"
   ]
  },
  {
   "cell_type": "markdown",
   "id": "aa7e110c",
   "metadata": {},
   "source": [
    "![](카이제곱함수.png)"
   ]
  },
  {
   "cell_type": "markdown",
   "id": "3f04b33c",
   "metadata": {},
   "source": [
    "- 기대값과 실제값의 차이가 클수록 통계량이 커지게 됨 통계량이 커질수록 pvalue 감소\n",
    "- 귀무가설이 기각될 가능성이 높아진다\n",
    "\n"
   ]
  },
  {
   "cell_type": "code",
   "execution_count": 33,
   "id": "7cc673b1",
   "metadata": {},
   "outputs": [],
   "source": [
    "import pandas as pd\n",
    "import numpy as np\n",
    "from scipy.stats import *"
   ]
  },
  {
   "cell_type": "code",
   "execution_count": 34,
   "id": "cd005fc2",
   "metadata": {},
   "outputs": [
    {
     "data": {
      "text/html": [
       "<div>\n",
       "<style scoped>\n",
       "    .dataframe tbody tr th:only-of-type {\n",
       "        vertical-align: middle;\n",
       "    }\n",
       "\n",
       "    .dataframe tbody tr th {\n",
       "        vertical-align: top;\n",
       "    }\n",
       "\n",
       "    .dataframe thead th {\n",
       "        text-align: right;\n",
       "    }\n",
       "</style>\n",
       "<table border=\"1\" class=\"dataframe\">\n",
       "  <thead>\n",
       "    <tr style=\"text-align: right;\">\n",
       "      <th></th>\n",
       "      <th>smoke</th>\n",
       "      <th>disease</th>\n",
       "    </tr>\n",
       "  </thead>\n",
       "  <tbody>\n",
       "    <tr>\n",
       "      <th>30</th>\n",
       "      <td>1</td>\n",
       "      <td>0</td>\n",
       "    </tr>\n",
       "    <tr>\n",
       "      <th>31</th>\n",
       "      <td>1</td>\n",
       "      <td>1</td>\n",
       "    </tr>\n",
       "    <tr>\n",
       "      <th>32</th>\n",
       "      <td>1</td>\n",
       "      <td>1</td>\n",
       "    </tr>\n",
       "    <tr>\n",
       "      <th>33</th>\n",
       "      <td>1</td>\n",
       "      <td>1</td>\n",
       "    </tr>\n",
       "    <tr>\n",
       "      <th>34</th>\n",
       "      <td>1</td>\n",
       "      <td>1</td>\n",
       "    </tr>\n",
       "  </tbody>\n",
       "</table>\n",
       "</div>"
      ],
      "text/plain": [
       "    smoke  disease\n",
       "30      1        0\n",
       "31      1        1\n",
       "32      1        1\n",
       "33      1        1\n",
       "34      1        1"
      ]
     },
     "execution_count": 34,
     "metadata": {},
     "output_type": "execute_result"
    }
   ],
   "source": [
    "df = pd.read_csv(\"../data/data/htest05.csv\", engine = \"python\") #폐암과 흡연의 연관성 분석\n",
    "df.head()\n",
    "df.tail()"
   ]
  },
  {
   "cell_type": "markdown",
   "id": "2e03463c",
   "metadata": {},
   "source": [
    "### 분할표 작성\n",
    "- pd.crosstab()\n",
    "    - 범주형 변수로 되어있는 요인(factors)별로 교차분석(cross tabulations) 해서, 행, 열 요인 기준 별로 빈도를 세어서 도수분포표(frequency table), 교차표(contingency table) 를 만들어줌"
   ]
  },
  {
   "cell_type": "code",
   "execution_count": 35,
   "id": "f55a8781",
   "metadata": {},
   "outputs": [
    {
     "data": {
      "text/html": [
       "<div>\n",
       "<style scoped>\n",
       "    .dataframe tbody tr th:only-of-type {\n",
       "        vertical-align: middle;\n",
       "    }\n",
       "\n",
       "    .dataframe tbody tr th {\n",
       "        vertical-align: top;\n",
       "    }\n",
       "\n",
       "    .dataframe thead th {\n",
       "        text-align: right;\n",
       "    }\n",
       "</style>\n",
       "<table border=\"1\" class=\"dataframe\">\n",
       "  <thead>\n",
       "    <tr style=\"text-align: right;\">\n",
       "      <th>disease</th>\n",
       "      <th>0</th>\n",
       "      <th>1</th>\n",
       "    </tr>\n",
       "    <tr>\n",
       "      <th>smoke</th>\n",
       "      <th></th>\n",
       "      <th></th>\n",
       "    </tr>\n",
       "  </thead>\n",
       "  <tbody>\n",
       "    <tr>\n",
       "      <th>0</th>\n",
       "      <td>14</td>\n",
       "      <td>2</td>\n",
       "    </tr>\n",
       "    <tr>\n",
       "      <th>1</th>\n",
       "      <td>10</td>\n",
       "      <td>9</td>\n",
       "    </tr>\n",
       "  </tbody>\n",
       "</table>\n",
       "</div>"
      ],
      "text/plain": [
       "disease   0  1\n",
       "smoke         \n",
       "0        14  2\n",
       "1        10  9"
      ]
     },
     "execution_count": 35,
     "metadata": {},
     "output_type": "execute_result"
    }
   ],
   "source": [
    "# 교차 테이블 생성(분할표)\n",
    "cross_t = pd.crosstab(df['smoke'], df['disease'])\n",
    "cross_t\n"
   ]
  },
  {
   "cell_type": "code",
   "execution_count": 15,
   "id": "9c4667cf",
   "metadata": {},
   "outputs": [
    {
     "data": {
      "text/plain": [
       "array([[14,  2],\n",
       "       [10,  9]], dtype=int64)"
      ]
     },
     "execution_count": 15,
     "metadata": {},
     "output_type": "execute_result"
    }
   ],
   "source": [
    "obs = cross_t.values\n",
    "obs"
   ]
  },
  {
   "cell_type": "code",
   "execution_count": 22,
   "id": "3b82877d",
   "metadata": {},
   "outputs": [
    {
     "data": {
      "text/plain": [
       "0.026855610352114926"
      ]
     },
     "execution_count": 22,
     "metadata": {},
     "output_type": "execute_result"
    }
   ],
   "source": [
    "statistics, pvalue, dof, expected = chi2_contingency(obs,correction=False)\n",
    "\n",
    "# 통계량, pvalue, 자유도, 기대값\n",
    "# 기대도수 5를 초과하면 False\n",
    "\n",
    "\n",
    "pvalue  # 귀무가설이 기각됨 - 흡연 유무와 폐암 유무는 연관성이 있다"
   ]
  },
  {
   "cell_type": "code",
   "execution_count": 23,
   "id": "d089b051",
   "metadata": {},
   "outputs": [
    {
     "data": {
      "text/plain": [
       "array([[10.97142857,  5.02857143],\n",
       "       [13.02857143,  5.97142857]])"
      ]
     },
     "execution_count": 23,
     "metadata": {},
     "output_type": "execute_result"
    }
   ],
   "source": [
    "expected"
   ]
  },
  {
   "cell_type": "code",
   "execution_count": 24,
   "id": "cf0e07b0",
   "metadata": {},
   "outputs": [
    {
     "data": {
      "text/html": [
       "<div>\n",
       "<style scoped>\n",
       "    .dataframe tbody tr th:only-of-type {\n",
       "        vertical-align: middle;\n",
       "    }\n",
       "\n",
       "    .dataframe tbody tr th {\n",
       "        vertical-align: top;\n",
       "    }\n",
       "\n",
       "    .dataframe thead th {\n",
       "        text-align: right;\n",
       "    }\n",
       "</style>\n",
       "<table border=\"1\" class=\"dataframe\">\n",
       "  <thead>\n",
       "    <tr style=\"text-align: right;\">\n",
       "      <th>disease</th>\n",
       "      <th>0</th>\n",
       "      <th>1</th>\n",
       "    </tr>\n",
       "    <tr>\n",
       "      <th>smoke</th>\n",
       "      <th></th>\n",
       "      <th></th>\n",
       "    </tr>\n",
       "  </thead>\n",
       "  <tbody>\n",
       "    <tr>\n",
       "      <th>0</th>\n",
       "      <td>10.971429</td>\n",
       "      <td>5.028571</td>\n",
       "    </tr>\n",
       "    <tr>\n",
       "      <th>1</th>\n",
       "      <td>13.028571</td>\n",
       "      <td>5.971429</td>\n",
       "    </tr>\n",
       "  </tbody>\n",
       "</table>\n",
       "</div>"
      ],
      "text/plain": [
       "disease          0         1\n",
       "smoke                       \n",
       "0        10.971429  5.028571\n",
       "1        13.028571  5.971429"
      ]
     },
     "execution_count": 24,
     "metadata": {},
     "output_type": "execute_result"
    }
   ],
   "source": [
    "# 기대값\n",
    "pd.DataFrame(expected, columns=cross_t.columns, index=cross_t.index)"
   ]
  },
  {
   "cell_type": "code",
   "execution_count": 25,
   "id": "5781f4be",
   "metadata": {},
   "outputs": [
    {
     "data": {
      "text/plain": [
       "4.900069776714513"
      ]
     },
     "execution_count": 25,
     "metadata": {},
     "output_type": "execute_result"
    }
   ],
   "source": [
    "statistics"
   ]
  },
  {
   "cell_type": "code",
   "execution_count": 37,
   "id": "0a3eede2",
   "metadata": {},
   "outputs": [
    {
     "data": {
      "text/html": [
       "<div>\n",
       "<style scoped>\n",
       "    .dataframe tbody tr th:only-of-type {\n",
       "        vertical-align: middle;\n",
       "    }\n",
       "\n",
       "    .dataframe tbody tr th {\n",
       "        vertical-align: top;\n",
       "    }\n",
       "\n",
       "    .dataframe thead th {\n",
       "        text-align: right;\n",
       "    }\n",
       "</style>\n",
       "<table border=\"1\" class=\"dataframe\">\n",
       "  <thead>\n",
       "    <tr style=\"text-align: right;\">\n",
       "      <th></th>\n",
       "      <th>만족도</th>\n",
       "      <th>성별</th>\n",
       "    </tr>\n",
       "  </thead>\n",
       "  <tbody>\n",
       "    <tr>\n",
       "      <th>0</th>\n",
       "      <td>불만족</td>\n",
       "      <td>남성</td>\n",
       "    </tr>\n",
       "    <tr>\n",
       "      <th>1</th>\n",
       "      <td>보통</td>\n",
       "      <td>여성</td>\n",
       "    </tr>\n",
       "    <tr>\n",
       "      <th>2</th>\n",
       "      <td>불만족</td>\n",
       "      <td>여성</td>\n",
       "    </tr>\n",
       "    <tr>\n",
       "      <th>3</th>\n",
       "      <td>보통</td>\n",
       "      <td>남성</td>\n",
       "    </tr>\n",
       "    <tr>\n",
       "      <th>4</th>\n",
       "      <td>만족</td>\n",
       "      <td>여성</td>\n",
       "    </tr>\n",
       "  </tbody>\n",
       "</table>\n",
       "</div>"
      ],
      "text/plain": [
       "   만족도  성별\n",
       "0  불만족  남성\n",
       "1   보통  여성\n",
       "2  불만족  여성\n",
       "3   보통  남성\n",
       "4   만족  여성"
      ]
     },
     "execution_count": 37,
     "metadata": {},
     "output_type": "execute_result"
    }
   ],
   "source": [
    "df = pd.read_csv(\"../data/data/성별에따른만족도.csv\", engine = \"python\",encoding = 'euc-kr')\n",
    "df.head()\n"
   ]
  },
  {
   "cell_type": "markdown",
   "id": "a0bf18cd",
   "metadata": {},
   "source": [
    "## 성별에 따라 만족도가 달라지는지 - 성별과 만족도는 독립적인지 검정"
   ]
  },
  {
   "cell_type": "code",
   "execution_count": 47,
   "id": "2a71b42f",
   "metadata": {},
   "outputs": [
    {
     "data": {
      "text/html": [
       "<div>\n",
       "<style scoped>\n",
       "    .dataframe tbody tr th:only-of-type {\n",
       "        vertical-align: middle;\n",
       "    }\n",
       "\n",
       "    .dataframe tbody tr th {\n",
       "        vertical-align: top;\n",
       "    }\n",
       "\n",
       "    .dataframe thead th {\n",
       "        text-align: right;\n",
       "    }\n",
       "</style>\n",
       "<table border=\"1\" class=\"dataframe\">\n",
       "  <thead>\n",
       "    <tr style=\"text-align: right;\">\n",
       "      <th>성별</th>\n",
       "      <th>남성</th>\n",
       "      <th>여성</th>\n",
       "    </tr>\n",
       "    <tr>\n",
       "      <th>만족도</th>\n",
       "      <th></th>\n",
       "      <th></th>\n",
       "    </tr>\n",
       "  </thead>\n",
       "  <tbody>\n",
       "    <tr>\n",
       "      <th>만족</th>\n",
       "      <td>50</td>\n",
       "      <td>40</td>\n",
       "    </tr>\n",
       "    <tr>\n",
       "      <th>보통</th>\n",
       "      <td>40</td>\n",
       "      <td>30</td>\n",
       "    </tr>\n",
       "    <tr>\n",
       "      <th>불만족</th>\n",
       "      <td>10</td>\n",
       "      <td>30</td>\n",
       "    </tr>\n",
       "  </tbody>\n",
       "</table>\n",
       "</div>"
      ],
      "text/plain": [
       "성별   남성  여성\n",
       "만족도        \n",
       "만족   50  40\n",
       "보통   40  30\n",
       "불만족  10  30"
      ]
     },
     "execution_count": 47,
     "metadata": {},
     "output_type": "execute_result"
    }
   ],
   "source": [
    "cross_t1 = pd.crosstab(df['만족도'], df['성별'])\n",
    "cross_t1"
   ]
  },
  {
   "cell_type": "code",
   "execution_count": 40,
   "id": "95357cb1",
   "metadata": {},
   "outputs": [
    {
     "data": {
      "text/plain": [
       "array([[50, 40, 10],\n",
       "       [40, 30, 30]], dtype=int64)"
      ]
     },
     "execution_count": 40,
     "metadata": {},
     "output_type": "execute_result"
    }
   ],
   "source": [
    "obs2 = cross_t1.values\n",
    "obs2"
   ]
  },
  {
   "cell_type": "code",
   "execution_count": 48,
   "id": "1e919451",
   "metadata": {},
   "outputs": [
    {
     "data": {
      "text/plain": [
       "(12.53968253968254,\n",
       " 0.001892528960792166,\n",
       " 2,\n",
       " array([[45., 35., 20.],\n",
       "        [45., 35., 20.]]))"
      ]
     },
     "execution_count": 48,
     "metadata": {},
     "output_type": "execute_result"
    }
   ],
   "source": [
    "statistics, pvalue, dof, expected = chi2_contingency(obs2,correction=False)\n",
    "chi2_contingency(obs2,correction=False)"
   ]
  },
  {
   "cell_type": "code",
   "execution_count": 51,
   "id": "9367efc6",
   "metadata": {},
   "outputs": [
    {
     "data": {
      "text/plain": [
       "0.001892528960792166"
      ]
     },
     "execution_count": 51,
     "metadata": {},
     "output_type": "execute_result"
    }
   ],
   "source": [
    "pvalue #만족도와 성별은 독립적이지 않다 == 종속적이다 == 연관이 있따"
   ]
  },
  {
   "cell_type": "code",
   "execution_count": null,
   "id": "18f67056",
   "metadata": {},
   "outputs": [],
   "source": []
  },
  {
   "cell_type": "code",
   "execution_count": null,
   "id": "b95bd7bc",
   "metadata": {},
   "outputs": [],
   "source": []
  },
  {
   "cell_type": "code",
   "execution_count": null,
   "id": "f652bbde",
   "metadata": {},
   "outputs": [],
   "source": []
  },
  {
   "cell_type": "code",
   "execution_count": null,
   "id": "1370c1fc",
   "metadata": {},
   "outputs": [],
   "source": []
  },
  {
   "cell_type": "code",
   "execution_count": null,
   "id": "1b65e9cd",
   "metadata": {},
   "outputs": [],
   "source": []
  },
  {
   "cell_type": "code",
   "execution_count": null,
   "id": "629f6f2e",
   "metadata": {},
   "outputs": [],
   "source": []
  },
  {
   "cell_type": "code",
   "execution_count": null,
   "id": "fb727f06",
   "metadata": {},
   "outputs": [],
   "source": []
  }
 ],
 "metadata": {
  "kernelspec": {
   "display_name": "Python 3",
   "language": "python",
   "name": "python3"
  },
  "language_info": {
   "codemirror_mode": {
    "name": "ipython",
    "version": 3
   },
   "file_extension": ".py",
   "mimetype": "text/x-python",
   "name": "python",
   "nbconvert_exporter": "python",
   "pygments_lexer": "ipython3",
   "version": "3.8.8"
  }
 },
 "nbformat": 4,
 "nbformat_minor": 5
}
