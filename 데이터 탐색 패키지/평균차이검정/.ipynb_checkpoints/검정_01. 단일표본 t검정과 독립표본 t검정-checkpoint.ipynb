{
 "cells": [
  {
   "cell_type": "markdown",
   "id": "76248033",
   "metadata": {},
   "source": [
    "### 가설 검정 단계\n",
    "\n",
    "- 가설을 세운다 -> 두 집단의 평균은 같다(귀무가설), 두 집단의 평균은 다르다(대립가설)\n",
    "- 기준을 세운다 -> 검정통계량을 구한다 (유의수준 5%)\n",
    "- 결론을 내린다 -> p_value 참고\n",
    "    \n",
    "     - 기본 양측검정의 결과를 반환하므로 단측 검정으로 해석하려면 p-value/2를 해서 해석\n",
    "     - 통계량이 양수인지 음수인지에 따라서 해석이 달라진다\n",
    "    \n",
    "    \n",
    "    \n",
    "![](검정선택.png)"
   ]
  },
  {
   "cell_type": "markdown",
   "id": "1372e9c7",
   "metadata": {},
   "source": [
    "### p-value란?\n",
    "\n",
    "- 귀무 가설이 참이라고 했을 때 표본 데이터가 수집될 확률\n",
    "- P-value가 낮을 수록 대립가설 채택\n",
    "- 통상적으로 p-value < 0.05 면 대립가설 채택\n",
    "- 이때 0.05를 유의 수준이라고 하며 대게 0.05 또는 0.01 중 선택\n"
   ]
  },
  {
   "cell_type": "markdown",
   "id": "f2ac5e91",
   "metadata": {},
   "source": [
    "## T 검정"
   ]
  },
  {
   "cell_type": "markdown",
   "id": "25ca7866",
   "metadata": {},
   "source": [
    "![](검정종류.png)"
   ]
  },
  {
   "cell_type": "markdown",
   "id": "233456f2",
   "metadata": {},
   "source": [
    "#### 단일표본 t검정\n",
    "- 목적: 표본그룹의 평균이 기준값과 차이가 있는지를 확인\n",
    "- 귀무가설: 표본평균과 모집단의 평균(기준값이됨)은 같다\n",
    "- 대립가설: 표본평균과 모집단의 평균(기준값이됨)은 다르다\n",
    "\n",
    "- 예시) 편의점에서 판매하는 감자티김의 무게는 130g(기준값)인지 아닌지를 판단"
   ]
  },
  {
   "cell_type": "markdown",
   "id": "02bdebc9",
   "metadata": {},
   "source": [
    "#### 선행조건\n",
    "\n",
    "- 해당 변수(sample)는 정규분포를 따라야함 : 정규성 검정이 선행되어야 함\n",
    "    - 단 샘플 수가 많을수록 정규성을 띌 가능성이 높아지므로 샘플 수가 부족한 경우에만 정규성검정을 수행\n",
    "    - 만약, 정규성을 띄지 않으면 비모수적인 방법인 부호 검정을 진행"
   ]
  },
  {
   "cell_type": "markdown",
   "id": "f694c833",
   "metadata": {},
   "source": [
    "#### t 통계량\n",
    "\n",
    "![](t통계량.png)"
   ]
  },
  {
   "cell_type": "markdown",
   "id": "60205ec5",
   "metadata": {},
   "source": [
    "#### 정규성 검정 방법 : Kolmogorov-Smornov 검정\n",
    "\n",
    "- KS test라 함 \n",
    "- 관측한 샘플들이 특정 분포를 따르는지 확인 하기 위한 검정 방법\n",
    "- KS test는 특정 분포를 따른다면 나올 것이라 예상되는 값과 실제 값의 차이가 유의한지를 확인하는 방법\n",
    "    - 관측한 샘플들이 특정 분포를 따르는지 확인하기 위한 검정방법임\n",
    "        - 예상되는 값과 실제값의 차이가 클수록 분포를 따르지 않는다고 보며, \n",
    "        - 차이(pvalue)가 작을 수록 분포를 따른다고 봄\n",
    "    - 해당분포를 정규분포로 설정하여 정규성 검정에도 사용\n"
   ]
  },
  {
   "cell_type": "markdown",
   "id": "13e3c818",
   "metadata": {},
   "source": [
    "![](단일표본t검정표.png)"
   ]
  },
  {
   "cell_type": "code",
   "execution_count": 1,
   "id": "66468ab9",
   "metadata": {},
   "outputs": [],
   "source": [
    "import numpy as np\n",
    "import pandas as pd\n",
    "from scipy.stats import *\n",
    "\n",
    "%precision 3\n",
    "np.random.seed(1111)\n",
    "\n",
    "\n",
    "from IPython.core.interactiveshell import InteractiveShell\n",
    "InteractiveShell.ast_node_interactivity=\"all\"\n",
    "\n"
   ]
  },
  {
   "cell_type": "markdown",
   "id": "8aa0a2b5",
   "metadata": {},
   "source": [
    "- map은 리스트의 요소를 지정된 함수로 처리해주는 함수\n",
    "    - map은 원본 리스트를 변경하지 않고 새 리스트를 생성\n"
   ]
  },
  {
   "cell_type": "code",
   "execution_count": 2,
   "id": "96eb72a0",
   "metadata": {},
   "outputs": [
    {
     "data": {
      "text/plain": [
       "[1, 2, 3, 4]"
      ]
     },
     "execution_count": 2,
     "metadata": {},
     "output_type": "execute_result"
    }
   ],
   "source": [
    "a = [1.2, 2.5, 3.7, 4.6]\n",
    "a = list(map(int, a))\n",
    "a\n"
   ]
  },
  {
   "cell_type": "code",
   "execution_count": 10,
   "id": "3b7ef89c",
   "metadata": {},
   "outputs": [
    {
     "name": "stdout",
     "output_type": "stream",
     "text": [
      "<class 'str'>\n",
      "<class 'float'>\n"
     ]
    }
   ],
   "source": [
    "#data 불러오기\n",
    "\n",
    "import os\n",
    "\n",
    "with open('../data/data/성인여성_키_데이터.txt',\"r\") as f:\n",
    "    data = f.read().split('\\n')\n",
    "    print(type(data[0]))\n",
    "    data = list(map(float, data))\n",
    "    print(type(data[0]))"
   ]
  },
  {
   "cell_type": "code",
   "execution_count": 7,
   "id": "a55707f4",
   "metadata": {},
   "outputs": [
    {
     "data": {
      "text/plain": [
       "[150.270, 142.940, 160.990]"
      ]
     },
     "execution_count": 7,
     "metadata": {},
     "output_type": "execute_result"
    },
    {
     "data": {
      "text/plain": [
       "25"
      ]
     },
     "execution_count": 7,
     "metadata": {},
     "output_type": "execute_result"
    }
   ],
   "source": [
    "data[:3]\n",
    "len(data)"
   ]
  },
  {
   "cell_type": "code",
   "execution_count": 12,
   "id": "dad5efc2",
   "metadata": {},
   "outputs": [
    {
     "data": {
      "text/plain": [
       "[150.270,\n",
       " 142.940,\n",
       " 160.990,\n",
       " 157.480,\n",
       " 153.460,\n",
       " 137.500,\n",
       " 154.940,\n",
       " 159.510,\n",
       " 171.870,\n",
       " 143.690,\n",
       " 153.650,\n",
       " 160.250,\n",
       " 153.070,\n",
       " 154.420,\n",
       " 141.210,\n",
       " 154.170,\n",
       " 162.560,\n",
       " 164.440,\n",
       " 172.360,\n",
       " 141.510,\n",
       " 169.400,\n",
       " 167.970,\n",
       " 170.260,\n",
       " 157.800,\n",
       " 167.610]"
      ]
     },
     "execution_count": 12,
     "metadata": {},
     "output_type": "execute_result"
    }
   ],
   "source": [
    "data"
   ]
  },
  {
   "cell_type": "markdown",
   "id": "2c9927a9",
   "metadata": {},
   "source": [
    "### 수집한 데이터는 경기지역 성인 여성 25명의 키 데이터다. \n",
    "- 경기지역 성인여성 키의 평균은 163 이다 라는 가설을\n",
    "- 수집한 sample에 근거해서 성인 여성키의 평균이 163인지 검정 통해서 확인"
   ]
  },
  {
   "cell_type": "markdown",
   "id": "b5475fd6",
   "metadata": {},
   "source": [
    "#### 데이터가 25개이고 표본이 하나이므로, 단일표본 t검정을 수행\n",
    "- 정규성을 띄는지 확인\n",
    "- 1개 표본이므로 분산과는 상관이 없음\n",
    "- ttest_1samp(집단, popmean= 기준값)\n",
    "- 귀무가설: 집단의 평균은 모집단의 평균(기준값 163)과 같다"
   ]
  },
  {
   "cell_type": "code",
   "execution_count": 18,
   "id": "10a5bd37",
   "metadata": {},
   "outputs": [
    {
     "data": {
      "text/plain": [
       "KstestResult(statistic=1.0, pvalue=0.0)"
      ]
     },
     "execution_count": 18,
     "metadata": {},
     "output_type": "execute_result"
    }
   ],
   "source": [
    "# 정규성 검정\n",
    "# kstest(): 모든 분포에 대하여 검정할 수 있고, 정규분포는 'norm'인수로 검정\n",
    "# 통계량과 p-value를 반환\n",
    "\n",
    "kstest(data, 'norm') #p-value가 0.0< 0.05로 정규성을 띈다고 본다"
   ]
  },
  {
   "cell_type": "code",
   "execution_count": 19,
   "id": "224eb419",
   "metadata": {},
   "outputs": [
    {
     "data": {
      "text/plain": [
       "Ttest_1sampResult(statistic=-2.979804412662668, pvalue=0.006510445335847954)"
      ]
     },
     "execution_count": 19,
     "metadata": {},
     "output_type": "execute_result"
    }
   ],
   "source": [
    "ttest_1samp(data,163)\n",
    "\n",
    "# 통계량 statistic = -2.97....\n",
    "# pvalue = 0.0065.... #유의수준 0.05보다 작은 값이므로 귀무가설 기각\n",
    "# 통계량이 음수이므로 기준값 미만이다 라는 해석을 할 수 있다.\n",
    "#표본집단의 평균은 기준값으로 설정한 163보다 작은 것으로 추정할 수 있다"
   ]
  },
  {
   "cell_type": "markdown",
   "id": "45fd34b8",
   "metadata": {},
   "source": [
    "- alternative = 'two-sided|'less'|'greater'\n",
    "    - 기본값: 'two=sided'"
   ]
  },
  {
   "cell_type": "code",
   "execution_count": 24,
   "id": "f2fb5dcd",
   "metadata": {},
   "outputs": [
    {
     "data": {
      "text/plain": [
       "Ttest_1sampResult(statistic=-2.979804412662668, pvalue=0.006510445335847954)"
      ]
     },
     "execution_count": 24,
     "metadata": {},
     "output_type": "execute_result"
    },
    {
     "data": {
      "text/plain": [
       "Ttest_1sampResult(statistic=-2.979804412662668, pvalue=0.006510445335847954)"
      ]
     },
     "execution_count": 24,
     "metadata": {},
     "output_type": "execute_result"
    },
    {
     "data": {
      "text/plain": [
       "Ttest_1sampResult(statistic=-2.979804412662668, pvalue=0.003255222667923977)"
      ]
     },
     "execution_count": 24,
     "metadata": {},
     "output_type": "execute_result"
    },
    {
     "data": {
      "text/plain": [
       "Ttest_1sampResult(statistic=-2.979804412662668, pvalue=0.996744777332076)"
      ]
     },
     "execution_count": 24,
     "metadata": {},
     "output_type": "execute_result"
    }
   ],
   "source": [
    "ttest_1samp(data,163)#기본 양측 검정 진행\n",
    "ttest_1samp(data,163, alternative = 'two-sided') # => 양측 검정,data의 평균이 163과 다르다를 검정\n",
    "ttest_1samp(data,163, alternative = 'less') #단측 검정 , data의 평균이 163보다 작다를 검정\n",
    "ttest_1samp(data,163, alternative = 'greater') #단측검정 #data의 평균이 163보다 크다를 검정"
   ]
  },
  {
   "cell_type": "markdown",
   "id": "13314726",
   "metadata": {},
   "source": [
    "\n",
    "### 독립표본 t검정\n",
    "- 목적: 서로 다른 두 집단의 평균 비교\n",
    "- 귀무가설: 두집단의 평균은 같다\n",
    "- 대립가설: 두 집단의 평균은 차이가 있다\n",
    "    \n",
    "- 예시) 중간고사 국어점수 A반과 B반의 평균을 비교했을때, A반의 평균이 3점더 높았다. 두반의 국어점수의 차이가 있는지 확인해보자"
   ]
  },
  {
   "cell_type": "markdown",
   "id": "934adfee",
   "metadata": {},
   "source": [
    "### 선행조건\n",
    "\n",
    "- 독립성: 두 그룹은 독립적이어야 한다\n",
    "- 정규성: 데이터는 정규분포를 따라야한다\n",
    "    - 만약, 정규성을 띄지 않으면 비모수적인 방법인 부호검정을 진행\n",
    "- 등분산성: 두 그룹의 데이터에 대한 분산이 같아야 함\n",
    "    ### Levene의 등분산 검정 : p-value가 0.05 미만이면 분산이 다르다고 판단\n",
    "\n",
    "- 분산이 같은지 다른지에 따라 사용하는 통계량이 달라지므로 함수 내에서 설정을 달리 한다\n",
    "\n",
    "![](독립t등분산.png)\n",
    "![](독립표본t이분산.png)"
   ]
  },
  {
   "cell_type": "markdown",
   "id": "b8271146",
   "metadata": {},
   "source": [
    "![](검정종류.png)"
   ]
  },
  {
   "cell_type": "markdown",
   "id": "e7f02d9a",
   "metadata": {},
   "source": [
    "- 두 반의 국어 공통 평가 점수가 있을 때 유의미한 평균 차이가 있는지 확인해보자 (절대적인 평균점수 차이가 x)\n",
    "\n",
    "\n",
    "\n"
   ]
  },
  {
   "cell_type": "code",
   "execution_count": 27,
   "id": "dad42bf2",
   "metadata": {},
   "outputs": [
    {
     "data": {
      "text/html": [
       "<div>\n",
       "<style scoped>\n",
       "    .dataframe tbody tr th:only-of-type {\n",
       "        vertical-align: middle;\n",
       "    }\n",
       "\n",
       "    .dataframe tbody tr th {\n",
       "        vertical-align: top;\n",
       "    }\n",
       "\n",
       "    .dataframe thead th {\n",
       "        text-align: right;\n",
       "    }\n",
       "</style>\n",
       "<table border=\"1\" class=\"dataframe\">\n",
       "  <thead>\n",
       "    <tr style=\"text-align: right;\">\n",
       "      <th></th>\n",
       "      <th>반</th>\n",
       "      <th>점수</th>\n",
       "    </tr>\n",
       "  </thead>\n",
       "  <tbody>\n",
       "    <tr>\n",
       "      <th>0</th>\n",
       "      <td>A</td>\n",
       "      <td>73</td>\n",
       "    </tr>\n",
       "    <tr>\n",
       "      <th>1</th>\n",
       "      <td>A</td>\n",
       "      <td>69</td>\n",
       "    </tr>\n",
       "    <tr>\n",
       "      <th>2</th>\n",
       "      <td>A</td>\n",
       "      <td>71</td>\n",
       "    </tr>\n",
       "    <tr>\n",
       "      <th>3</th>\n",
       "      <td>A</td>\n",
       "      <td>71</td>\n",
       "    </tr>\n",
       "    <tr>\n",
       "      <th>4</th>\n",
       "      <td>A</td>\n",
       "      <td>73</td>\n",
       "    </tr>\n",
       "  </tbody>\n",
       "</table>\n",
       "</div>"
      ],
      "text/plain": [
       "   반  점수\n",
       "0  A  73\n",
       "1  A  69\n",
       "2  A  71\n",
       "3  A  71\n",
       "4  A  73"
      ]
     },
     "execution_count": 27,
     "metadata": {},
     "output_type": "execute_result"
    },
    {
     "data": {
      "text/html": [
       "<div>\n",
       "<style scoped>\n",
       "    .dataframe tbody tr th:only-of-type {\n",
       "        vertical-align: middle;\n",
       "    }\n",
       "\n",
       "    .dataframe tbody tr th {\n",
       "        vertical-align: top;\n",
       "    }\n",
       "\n",
       "    .dataframe thead th {\n",
       "        text-align: right;\n",
       "    }\n",
       "</style>\n",
       "<table border=\"1\" class=\"dataframe\">\n",
       "  <thead>\n",
       "    <tr style=\"text-align: right;\">\n",
       "      <th></th>\n",
       "      <th>반</th>\n",
       "      <th>점수</th>\n",
       "    </tr>\n",
       "  </thead>\n",
       "  <tbody>\n",
       "    <tr>\n",
       "      <th>25</th>\n",
       "      <td>B</td>\n",
       "      <td>77</td>\n",
       "    </tr>\n",
       "    <tr>\n",
       "      <th>26</th>\n",
       "      <td>B</td>\n",
       "      <td>75</td>\n",
       "    </tr>\n",
       "    <tr>\n",
       "      <th>27</th>\n",
       "      <td>B</td>\n",
       "      <td>65</td>\n",
       "    </tr>\n",
       "    <tr>\n",
       "      <th>28</th>\n",
       "      <td>B</td>\n",
       "      <td>61</td>\n",
       "    </tr>\n",
       "    <tr>\n",
       "      <th>29</th>\n",
       "      <td>B</td>\n",
       "      <td>55</td>\n",
       "    </tr>\n",
       "  </tbody>\n",
       "</table>\n",
       "</div>"
      ],
      "text/plain": [
       "    반  점수\n",
       "25  B  77\n",
       "26  B  75\n",
       "27  B  65\n",
       "28  B  61\n",
       "29  B  55"
      ]
     },
     "execution_count": 27,
     "metadata": {},
     "output_type": "execute_result"
    }
   ],
   "source": [
    "# df1 = pd.read_csv(\"../data/data/반별_점수_type1.csv\",encoding='utf-8')\n",
    "# 'utf-8' codec can't decode byte 0xb9 in position 0: invalid start byte\n",
    "df1 = pd.read_csv(\"../data/data/반별_점수_type1.csv\",encoding='euc-kr')\n",
    "\n",
    "df1.head()\n",
    "df1.tail()"
   ]
  },
  {
   "cell_type": "code",
   "execution_count": 30,
   "id": "a296c4fd",
   "metadata": {},
   "outputs": [
    {
     "data": {
      "text/plain": [
       "70.55"
      ]
     },
     "execution_count": 30,
     "metadata": {},
     "output_type": "execute_result"
    },
    {
     "data": {
      "text/plain": [
       "64.1"
      ]
     },
     "execution_count": 30,
     "metadata": {},
     "output_type": "execute_result"
    }
   ],
   "source": [
    "#df1을 A반과 B반으로 분리\n",
    "g_A = df1['점수'].loc[df1['반']=='A'].values #np.array 타입 반환\n",
    "g_B = df1['점수'].loc[df1['반']=='B'].values\n",
    "\n",
    "g_A.mean()\n",
    "\n",
    "g_B.mean()"
   ]
  },
  {
   "cell_type": "code",
   "execution_count": 33,
   "id": "24c2293f",
   "metadata": {},
   "outputs": [
    {
     "data": {
      "text/plain": [
       "KstestResult(statistic=1.0, pvalue=0.0)"
      ]
     },
     "execution_count": 33,
     "metadata": {},
     "output_type": "execute_result"
    },
    {
     "data": {
      "text/plain": [
       "KstestResult(statistic=1.0, pvalue=0.0)"
      ]
     },
     "execution_count": 33,
     "metadata": {},
     "output_type": "execute_result"
    }
   ],
   "source": [
    "#정규성 검정\n",
    "\n",
    "kstest(g_A,'norm')\n",
    "kstest(g_B,'norm')\n",
    "# pvalue가 0.05 이하이므로 정규성을 띈다"
   ]
  },
  {
   "cell_type": "code",
   "execution_count": 49,
   "id": "110a15e8",
   "metadata": {},
   "outputs": [
    {
     "data": {
      "text/plain": [
       "LeveneResult(statistic=2.033067087400979, pvalue=0.164964086222101)"
      ]
     },
     "execution_count": 49,
     "metadata": {},
     "output_type": "execute_result"
    }
   ],
   "source": [
    "#등분산성 검정\n",
    "levene(g_A,g_B)\n",
    "\n",
    "#귀무가설 : 두 집단은 등분산을 갖는다\n",
    "# pvalue 가 유의수준 0.05보다 크므로 등분산이다 라는 귀무가설을 채택한다"
   ]
  },
  {
   "cell_type": "markdown",
   "id": "299ccee4",
   "metadata": {},
   "source": [
    "- 두 집단의 분산확인 - 분산값이 다름"
   ]
  },
  {
   "cell_type": "code",
   "execution_count": 50,
   "id": "42ebf128",
   "metadata": {},
   "outputs": [
    {
     "data": {
      "text/plain": [
       "(32.26052631578948, 68.54444444444445)"
      ]
     },
     "execution_count": 50,
     "metadata": {},
     "output_type": "execute_result"
    }
   ],
   "source": [
    "np.var(g_A,ddof=1),np.var(g_B,ddof=1)"
   ]
  },
  {
   "cell_type": "code",
   "execution_count": 48,
   "id": "d37c2478",
   "metadata": {},
   "outputs": [
    {
     "data": {
      "text/plain": [
       "Ttest_indResult(statistic=2.5128526794964134, pvalue=0.01801095352893767)"
      ]
     },
     "execution_count": 48,
     "metadata": {},
     "output_type": "execute_result"
    }
   ],
   "source": [
    "# 두 집단의 분산 값이 같으므로 equal_var = True로 설정\n",
    "# pvalue가 유의수준 0.05보다 작으므로 두 집단의 평균은 차이가 있다\n",
    "# 통계량이 양수이므로 g_A의 평균이 더 높다.\n",
    "ttest_ind(g_A,g_B,equal_var=True)"
   ]
  },
  {
   "cell_type": "markdown",
   "id": "fb4cf26a",
   "metadata": {},
   "source": [
    "#### scipy.stats.mannwhitneyu(a,b): 정규성검정이 만족하지 않으면 수행\n"
   ]
  },
  {
   "cell_type": "code",
   "execution_count": 40,
   "id": "486150f8",
   "metadata": {},
   "outputs": [
    {
     "data": {
      "text/html": [
       "<div>\n",
       "<style scoped>\n",
       "    .dataframe tbody tr th:only-of-type {\n",
       "        vertical-align: middle;\n",
       "    }\n",
       "\n",
       "    .dataframe tbody tr th {\n",
       "        vertical-align: top;\n",
       "    }\n",
       "\n",
       "    .dataframe thead th {\n",
       "        text-align: right;\n",
       "    }\n",
       "</style>\n",
       "<table border=\"1\" class=\"dataframe\">\n",
       "  <thead>\n",
       "    <tr style=\"text-align: right;\">\n",
       "      <th></th>\n",
       "      <th>A반</th>\n",
       "      <th>B반</th>\n",
       "    </tr>\n",
       "  </thead>\n",
       "  <tbody>\n",
       "    <tr>\n",
       "      <th>0</th>\n",
       "      <td>73</td>\n",
       "      <td>63.0</td>\n",
       "    </tr>\n",
       "    <tr>\n",
       "      <th>1</th>\n",
       "      <td>69</td>\n",
       "      <td>56.0</td>\n",
       "    </tr>\n",
       "    <tr>\n",
       "      <th>2</th>\n",
       "      <td>71</td>\n",
       "      <td>73.0</td>\n",
       "    </tr>\n",
       "    <tr>\n",
       "      <th>3</th>\n",
       "      <td>71</td>\n",
       "      <td>61.0</td>\n",
       "    </tr>\n",
       "    <tr>\n",
       "      <th>4</th>\n",
       "      <td>73</td>\n",
       "      <td>55.0</td>\n",
       "    </tr>\n",
       "  </tbody>\n",
       "</table>\n",
       "</div>"
      ],
      "text/plain": [
       "   A반    B반\n",
       "0  73  63.0\n",
       "1  69  56.0\n",
       "2  71  73.0\n",
       "3  71  61.0\n",
       "4  73  55.0"
      ]
     },
     "execution_count": 40,
     "metadata": {},
     "output_type": "execute_result"
    }
   ],
   "source": [
    "df2 = pd.read_csv(\"../data/data/반별_점수_type2.csv\", engine = \"python\", encoding = 'euc=kr')\n",
    "df2.head()\n",
    "#B반의 데이터는 float이므로 nan값이들어있을 가능성이 있음\n"
   ]
  },
  {
   "cell_type": "code",
   "execution_count": 41,
   "id": "1d9dd13d",
   "metadata": {},
   "outputs": [
    {
     "data": {
      "text/html": [
       "<div>\n",
       "<style scoped>\n",
       "    .dataframe tbody tr th:only-of-type {\n",
       "        vertical-align: middle;\n",
       "    }\n",
       "\n",
       "    .dataframe tbody tr th {\n",
       "        vertical-align: top;\n",
       "    }\n",
       "\n",
       "    .dataframe thead th {\n",
       "        text-align: right;\n",
       "    }\n",
       "</style>\n",
       "<table border=\"1\" class=\"dataframe\">\n",
       "  <thead>\n",
       "    <tr style=\"text-align: right;\">\n",
       "      <th></th>\n",
       "      <th>A반</th>\n",
       "      <th>B반</th>\n",
       "    </tr>\n",
       "  </thead>\n",
       "  <tbody>\n",
       "    <tr>\n",
       "      <th>0</th>\n",
       "      <td>73</td>\n",
       "      <td>63.0</td>\n",
       "    </tr>\n",
       "    <tr>\n",
       "      <th>1</th>\n",
       "      <td>69</td>\n",
       "      <td>56.0</td>\n",
       "    </tr>\n",
       "    <tr>\n",
       "      <th>2</th>\n",
       "      <td>71</td>\n",
       "      <td>73.0</td>\n",
       "    </tr>\n",
       "    <tr>\n",
       "      <th>3</th>\n",
       "      <td>71</td>\n",
       "      <td>61.0</td>\n",
       "    </tr>\n",
       "    <tr>\n",
       "      <th>4</th>\n",
       "      <td>73</td>\n",
       "      <td>55.0</td>\n",
       "    </tr>\n",
       "    <tr>\n",
       "      <th>5</th>\n",
       "      <td>67</td>\n",
       "      <td>77.0</td>\n",
       "    </tr>\n",
       "    <tr>\n",
       "      <th>6</th>\n",
       "      <td>73</td>\n",
       "      <td>75.0</td>\n",
       "    </tr>\n",
       "    <tr>\n",
       "      <th>7</th>\n",
       "      <td>69</td>\n",
       "      <td>65.0</td>\n",
       "    </tr>\n",
       "    <tr>\n",
       "      <th>8</th>\n",
       "      <td>62</td>\n",
       "      <td>61.0</td>\n",
       "    </tr>\n",
       "    <tr>\n",
       "      <th>9</th>\n",
       "      <td>74</td>\n",
       "      <td>55.0</td>\n",
       "    </tr>\n",
       "    <tr>\n",
       "      <th>10</th>\n",
       "      <td>68</td>\n",
       "      <td>NaN</td>\n",
       "    </tr>\n",
       "    <tr>\n",
       "      <th>11</th>\n",
       "      <td>66</td>\n",
       "      <td>NaN</td>\n",
       "    </tr>\n",
       "    <tr>\n",
       "      <th>12</th>\n",
       "      <td>70</td>\n",
       "      <td>NaN</td>\n",
       "    </tr>\n",
       "    <tr>\n",
       "      <th>13</th>\n",
       "      <td>82</td>\n",
       "      <td>NaN</td>\n",
       "    </tr>\n",
       "    <tr>\n",
       "      <th>14</th>\n",
       "      <td>70</td>\n",
       "      <td>NaN</td>\n",
       "    </tr>\n",
       "    <tr>\n",
       "      <th>15</th>\n",
       "      <td>65</td>\n",
       "      <td>NaN</td>\n",
       "    </tr>\n",
       "    <tr>\n",
       "      <th>16</th>\n",
       "      <td>76</td>\n",
       "      <td>NaN</td>\n",
       "    </tr>\n",
       "    <tr>\n",
       "      <th>17</th>\n",
       "      <td>73</td>\n",
       "      <td>NaN</td>\n",
       "    </tr>\n",
       "    <tr>\n",
       "      <th>18</th>\n",
       "      <td>58</td>\n",
       "      <td>NaN</td>\n",
       "    </tr>\n",
       "    <tr>\n",
       "      <th>19</th>\n",
       "      <td>81</td>\n",
       "      <td>NaN</td>\n",
       "    </tr>\n",
       "  </tbody>\n",
       "</table>\n",
       "</div>"
      ],
      "text/plain": [
       "    A반    B반\n",
       "0   73  63.0\n",
       "1   69  56.0\n",
       "2   71  73.0\n",
       "3   71  61.0\n",
       "4   73  55.0\n",
       "5   67  77.0\n",
       "6   73  75.0\n",
       "7   69  65.0\n",
       "8   62  61.0\n",
       "9   74  55.0\n",
       "10  68   NaN\n",
       "11  66   NaN\n",
       "12  70   NaN\n",
       "13  82   NaN\n",
       "14  70   NaN\n",
       "15  65   NaN\n",
       "16  76   NaN\n",
       "17  73   NaN\n",
       "18  58   NaN\n",
       "19  81   NaN"
      ]
     },
     "execution_count": 41,
     "metadata": {},
     "output_type": "execute_result"
    }
   ],
   "source": [
    "df2"
   ]
  },
  {
   "cell_type": "code",
   "execution_count": 43,
   "id": "72ecae97",
   "metadata": {},
   "outputs": [],
   "source": [
    "# 수집 샘플의 길이가 달라서 NaN이 포함되게 만들어졌을 수 있으므로 처리를 해야함\n",
    "g_A=df2['A반'].dropna().values\n",
    "g_B=df2['B반'].dropna().values\n",
    "\n"
   ]
  },
  {
   "cell_type": "markdown",
   "id": "4caa8078",
   "metadata": {},
   "source": [
    "- 검정을 위한 데이터에 의도하지 않은 NaN은 제거해야 한다.\n",
    "- 0으로 처리하면 평균, 분산 등의 기준값이 달라지게 된다"
   ]
  },
  {
   "cell_type": "code",
   "execution_count": null,
   "id": "0f58f29b",
   "metadata": {},
   "outputs": [],
   "source": [
    "\n"
   ]
  },
  {
   "cell_type": "code",
   "execution_count": null,
   "id": "693a7820",
   "metadata": {},
   "outputs": [],
   "source": []
  }
 ],
 "metadata": {
  "kernelspec": {
   "display_name": "Python 3",
   "language": "python",
   "name": "python3"
  },
  "language_info": {
   "codemirror_mode": {
    "name": "ipython",
    "version": 3
   },
   "file_extension": ".py",
   "mimetype": "text/x-python",
   "name": "python",
   "nbconvert_exporter": "python",
   "pygments_lexer": "ipython3",
   "version": "3.8.8"
  }
 },
 "nbformat": 4,
 "nbformat_minor": 5
}
