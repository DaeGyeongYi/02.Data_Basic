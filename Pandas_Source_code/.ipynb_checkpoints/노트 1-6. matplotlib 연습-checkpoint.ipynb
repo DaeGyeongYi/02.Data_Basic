{
 "cells": [
  {
   "cell_type": "markdown",
   "id": "1146ab92",
   "metadata": {},
   "source": [
    "## Matplotlib :\n",
    "\n",
    "\n",
    "- 시각화 패키지\n",
    "- 파이썬 표준 시각화 도구로 불림\n",
    "- 2D 평면 그래프에 관한 다양한 포맷과 기능 지원\n",
    "- 데이터 분석 결과를 시각화 하는데 필요한 다양한 기능을 제공\n",
    "\n",
    "#### 패키지 사용 법\n",
    "1.matplotlib 주 패키지 사용시 \n",
    "\n",
    "    - import matplotlib as mpl\n",
    "    \n",
    "2.pylab 서브 패키지 사용시 : 주로 사용 한다.\n",
    "\n",
    "    - import matplotlib.pyplot as plt\n",
    "\n",
    "- 매직 명령어 %matplotlib inline \n",
    "    - 주피터 노트북 사용시 노트북 내부에 그림을 표시하도록 지정하는 명령어\n",
    "    \n",
    "\n",
    "- 지원 되는 플롯 유형\n",
    "\n",
    "\n",
    "    - 라인플롯(line plot) : plot()\n",
    "    - 바 차트(bar chart) : bar()\n",
    "    - 스캐터플롯(scatter plot) : scatter() \n",
    "    - 히스토그램(histogram) : hist()\n",
    "    - 박스플롯(box plot) : boxplot()\n",
    "    - 파이 차트(pie chart) : pie()\n",
    "    - 기타 다양한 유형의 차트/플롯을 지원 : 관련 홈페이지를 참고\n"
   ]
  },
  {
   "cell_type": "markdown",
   "id": "03fdf328",
   "metadata": {},
   "source": [
    "#### 그래프 용어정리"
   ]
  },
  {
   "cell_type": "markdown",
   "id": "4f10068b",
   "metadata": {},
   "source": [
    "<img src='matplotlib_용어.png' width=400 heigth=500>"
   ]
  },
  {
   "cell_type": "code",
   "execution_count": 2,
   "id": "bcb4278a",
   "metadata": {},
   "outputs": [],
   "source": [
    "# matplotlib 패키지\n",
    "import matplotlib.pyplot as plt\n",
    "%matplotlib inline\n",
    "#그래프는 show()함수를 통해서 독립창에서 실행되는 것이 원칙\n",
    "#그래프를 콘솔에서 바로 작동되록 하는 설정"
   ]
  },
  {
   "cell_type": "code",
   "execution_count": 5,
   "id": "fbb5f38a",
   "metadata": {},
   "outputs": [],
   "source": [
    "import pandas as pd\n",
    "import numpy as np\n",
    "from IPython.core.interactiveshell import InteractiveShell\n",
    "InteractiveShell.ast_node_interactivity=\"all\" "
   ]
  },
  {
   "cell_type": "code",
   "execution_count": 14,
   "id": "e34c9882",
   "metadata": {},
   "outputs": [],
   "source": [
    "# 한글 문제\n",
    "# matplotlit의 기본 폰트에서 한글 지원되지 않기 때문에\n",
    "# matplotlib의 폰트 변경 필요\n",
    "import platform\n",
    "\n",
    "from matplotlib import font_manager, rc\n",
    "plt.rcParams['axes.unicode_minus'] = False\n",
    "\n",
    "if platform.system() == 'Darwin':  # 맥OS \n",
    "    rc('font', family='AppleGothic')\n",
    "elif platform.system() == 'Windows':  # 윈도우\n",
    "    path = \"c:/Windows/Fonts/malgun.ttf\"\n",
    "    font_name = font_manager.FontProperties(fname=path).get_name()\n",
    "    rc('font', family=font_name)\n",
    "else:\n",
    "    print('Unknown system...  sorry~~~')\n"
   ]
  },
  {
   "cell_type": "markdown",
   "id": "3bd15ac6",
   "metadata": {},
   "source": [
    "1. line plot: plot()"
   ]
  },
  {
   "cell_type": "markdown",
   "id": "0b2c0a94",
   "metadata": {},
   "source": [
    "#### 함수설명 : plot()\n",
    "\n",
    "\n",
    "    - 기본으로 선을 그리는 함수\n",
    "    - 데이터가 시간, 순서 등에 따라 변화를 보여주기 위해 사용\n",
    "    \n",
    "    \n",
    "- show()\n",
    "    - 각화명령(그래프 그리는 함수) 후 실제로 차트로 렌더링 하고 마우스 이벤트등의 지시를 기다리는 함수\n",
    "    - 주피터 노트북 에서는 셀 단위로 플롯 명령을 자동으로 렌더링  주므로 show 명령이 필요 없지만\n",
    "    - 일반 파이썬 인터프리터(파이참)로 가동되는 경우를 대비해서 항상 마지막에 실행하도록 한다\n",
    "    .\n",
    "\n",
    "\n",
    "- 관련 함수 및 속성    \n",
    "    - figure(x,y) : 그래프 크기 설정 : 단위 인치\n",
    "    - title() : 제목 출력\n",
    "    - xlim : x 축 범위\n",
    "    - ylim : y 축 범위\n",
    "    - xticks():yticks() : 축과 값을 잇는 실선    \n",
    "    - legend() : 범례\n",
    "    - xlabel() : x축라벨(값)\n",
    "    - ylabel() : y축라벨(값)\n",
    "    - grid() : 그래프 배경으로 grid 사용 결정 함수\n",
    "    \n",
    "    \n",
    "- line plot 에서 자주 사용되는 스타일 속성(약자로도 표기 가능)\n",
    "   *  color:c(선색깔)\n",
    "   *  linewidth : lw(선 굵기)\n",
    "   *  linestyle: ls(선스타일)\n",
    "   *  marker:마커 종류\n",
    "   *  markersize : ms(마커크기)\n",
    "   *  markeredgecolor:mec(마커선색깔)\n",
    "   *  markeredgewidth:mew(마커선굵기)\n",
    "   *  markerfacecolor:mfc(마커내부색깔)\n"
   ]
  },
  {
   "cell_type": "code",
   "execution_count": 15,
   "id": "a889a16d",
   "metadata": {},
   "outputs": [
    {
     "data": {
      "text/plain": [
       "[<matplotlib.lines.Line2D at 0x1f34ae07eb0>]"
      ]
     },
     "execution_count": 15,
     "metadata": {},
     "output_type": "execute_result"
    },
    {
     "data": {
      "image/png": "[encoded data removed]",
      "text/plain": [
       "<Figure size 432x288 with 1 Axes>"
      ]
     },
     "metadata": {
      "needs_background": "light"
     },
     "output_type": "display_data"
    }
   ],
   "source": [
    "#plt.plot([]) 기본문법: []에 y 데이터값\n",
    "plt.plot([1,4,9,16,25,36,49]) #그래프 렌더링\n",
    "plt.show()"
   ]
  },
  {
   "cell_type": "code",
   "execution_count": 19,
   "id": "84089493",
   "metadata": {},
   "outputs": [
    {
     "data": {
      "text/plain": [
       "<Figure size 720x432 with 0 Axes>"
      ]
     },
     "execution_count": 19,
     "metadata": {},
     "output_type": "execute_result"
    },
    {
     "data": {
      "text/plain": [
       "[<matplotlib.lines.Line2D at 0x1f34ade9940>]"
      ]
     },
     "execution_count": 19,
     "metadata": {},
     "output_type": "execute_result"
    },
    {
     "data": {
      "image/png": "[encoded data removed]",
      "text/plain": [
       "<Figure size 720x432 with 1 Axes>"
      ]
     },
     "metadata": {
      "needs_background": "light"
     },
     "output_type": "display_data"
    }
   ],
   "source": [
    "# 그래프 크기설정 및 선 색상설정\n",
    "#색상은 단어로 지정 : color='green'\n",
    "\n",
    "t=[0,1,2,3,4,5,6]\n",
    "y=[1,4,5,8,9,5,3]\n",
    "\n",
    "plt.figure(figsize=(10,6)) #figsize =(가로,세로) 단위: inch\n",
    "plt.plot(t,y,color ='green')\n",
    "plt.show()"
   ]
  },
  {
   "cell_type": "markdown",
   "id": "f512d642",
   "metadata": {},
   "source": [
    "- linestyle =\n",
    "![](./시각화_라인스타일.png)\n"
   ]
  },
  {
   "cell_type": "markdown",
   "id": "dfdc6328",
   "metadata": {},
   "source": [
    "- marker =\n",
    "![](./시각화_마커지정자.png)"
   ]
  },
  {
   "cell_type": "markdown",
   "id": "cd2e2879",
   "metadata": {},
   "source": [
    "- 라인스타일 기호 지정\n",
    "![](./시각화_라인스타일지정자.png)\n"
   ]
  },
  {
   "cell_type": "code",
   "execution_count": 24,
   "id": "2fc1a058",
   "metadata": {},
   "outputs": [
    {
     "data": {
      "text/plain": [
       "<Figure size 720x432 with 0 Axes>"
      ]
     },
     "execution_count": 24,
     "metadata": {},
     "output_type": "execute_result"
    },
    {
     "data": {
      "text/plain": [
       "[<matplotlib.lines.Line2D at 0x1f34aac4e20>]"
      ]
     },
     "execution_count": 24,
     "metadata": {},
     "output_type": "execute_result"
    },
    {
     "data": {
      "image/png": "[encoded data removed]",
      "text/plain": [
       "<Figure size 720x432 with 1 Axes>"
      ]
     },
     "metadata": {
      "needs_background": "light"
     },
     "output_type": "display_data"
    }
   ],
   "source": [
    "# 선 스타일 설정\n",
    "#색상은 단어로 지정 : color='green'\n",
    "t=[0,1,2,3,4,5,6]\n",
    "y=[1,4,5,8,9,5,3]\n",
    "\n",
    "plt.figure(figsize=(10,6)) #figsize =(가로,세로) 단위: inch\n",
    "#plt.plot(t,y,color='green',linestyle='dotted')\n",
    "plt.plot(t,y,color='green',linestyle='dashdot')\n",
    "plt.show()"
   ]
  },
  {
   "cell_type": "code",
   "execution_count": 26,
   "id": "4f8b107a",
   "metadata": {},
   "outputs": [
    {
     "data": {
      "text/plain": [
       "<Figure size 720x432 with 0 Axes>"
      ]
     },
     "execution_count": 26,
     "metadata": {},
     "output_type": "execute_result"
    },
    {
     "data": {
      "text/plain": [
       "[<matplotlib.lines.Line2D at 0x1f34ac77730>]"
      ]
     },
     "execution_count": 26,
     "metadata": {},
     "output_type": "execute_result"
    },
    {
     "data": {
      "image/png": "[encoded data removed]",
      "text/plain": [
       "<Figure size 720x432 with 1 Axes>"
      ]
     },
     "metadata": {
      "needs_background": "light"
     },
     "output_type": "display_data"
    }
   ],
   "source": [
    "# 마커 설정\n",
    "#색상은 단어로 지정 : color='green'\n",
    "t=[0,1,2,3,4,5,6]\n",
    "y=[1,4,5,8,9,5,3]\n",
    "#마커 추가\n",
    "plt.figure(figsize=(10,6)) #figsize =(가로,세로) 단위: inch\n",
    "#plt.plot(t,y,color='green',linestyle='dotted')\n",
    "plt.plot(t,y,color='green',linestyle='dashdot',marker ='^')\n",
    "plt.show()"
   ]
  },
  {
   "cell_type": "code",
   "execution_count": null,
   "id": "3bddf353",
   "metadata": {},
   "outputs": [],
   "source": []
  },
  {
   "cell_type": "code",
   "execution_count": null,
   "id": "ad75d1d7",
   "metadata": {},
   "outputs": [],
   "source": []
  },
  {
   "cell_type": "code",
   "execution_count": null,
   "id": "f86b7515",
   "metadata": {},
   "outputs": [],
   "source": []
  },
  {
   "cell_type": "code",
   "execution_count": null,
   "id": "8c90e545",
   "metadata": {},
   "outputs": [],
   "source": []
  }
 ],
 "metadata": {
  "kernelspec": {
   "display_name": "Python 3",
   "language": "python",
   "name": "python3"
  },
  "language_info": {
   "codemirror_mode": {
    "name": "ipython",
    "version": 3
   },
   "file_extension": ".py",
   "mimetype": "text/x-python",
   "name": "python",
   "nbconvert_exporter": "python",
   "pygments_lexer": "ipython3",
   "version": "3.8.8"
  }
 },
 "nbformat": 4,
 "nbformat_minor": 5
}
