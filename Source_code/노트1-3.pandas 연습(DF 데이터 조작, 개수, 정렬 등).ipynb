{
 "cells": [
  {
   "cell_type": "code",
   "execution_count": 1,
   "id": "72666fa1",
   "metadata": {},
   "outputs": [],
   "source": [
    "from IPython.core.interactiveshell import InteractiveShell\n",
    "InteractiveShell.ast_node_interactivity=\"all\" "
   ]
  },
  {
   "cell_type": "code",
   "execution_count": 4,
   "id": "74d2071e",
   "metadata": {},
   "outputs": [],
   "source": [
    "#모듈 import\n",
    "import numpy as np\n",
    "import pandas as pd"
   ]
  },
  {
   "cell_type": "markdown",
   "id": "763ed9a1",
   "metadata": {},
   "source": [
    "### panas 데이터 처리 및 변환 관련 함수"
   ]
  },
  {
   "cell_type": "markdown",
   "id": "b42800eb",
   "metadata": {},
   "source": [
    "## 데이터 개수 세기\n",
    "- 가장 간단한 분석은 개수를 세는 것\n",
    "- count()함수 이용\n",
    "  - NaN 값은 세지 않는다"
   ]
  },
  {
   "cell_type": "code",
   "execution_count": 45,
   "id": "e1ccdbc5",
   "metadata": {},
   "outputs": [],
   "source": [
    "s= pd.Series(range(10))\n",
    "s[3]=np.nan"
   ]
  },
  {
   "cell_type": "code",
   "execution_count": 46,
   "id": "12113f89",
   "metadata": {},
   "outputs": [
    {
     "data": {
      "text/plain": [
       "0    0.0\n",
       "1    1.0\n",
       "2    2.0\n",
       "3    NaN\n",
       "4    4.0\n",
       "5    5.0\n",
       "6    6.0\n",
       "7    7.0\n",
       "8    8.0\n",
       "9    9.0\n",
       "dtype: float64"
      ]
     },
     "execution_count": 46,
     "metadata": {},
     "output_type": "execute_result"
    },
    {
     "data": {
      "text/plain": [
       "9"
      ]
     },
     "execution_count": 46,
     "metadata": {},
     "output_type": "execute_result"
    }
   ],
   "source": [
    "s\n",
    "s.count()"
   ]
  },
  {
   "cell_type": "markdown",
   "id": "69d5a4cc",
   "metadata": {},
   "source": [
    "### 난수\n",
    "- 난수 : seed(값) 함수를 사용할 수 있음\n",
    "- seed의 의미 : 난수 알고리즘에서 사용하는 기본 값으로\n",
    "    - 시드값이 같으면 동일한 난수가 발생함"
   ]
  },
  {
   "cell_type": "code",
   "execution_count": 41,
   "id": "9c438ca4",
   "metadata": {},
   "outputs": [
    {
     "data": {
      "text/plain": [
       "array([2, 0, 1, 3])"
      ]
     },
     "execution_count": 41,
     "metadata": {},
     "output_type": "execute_result"
    }
   ],
   "source": [
    "np.random.seed(3) #난수 값을 고정하기 위함\n",
    "np.random.randint(5,size=4)"
   ]
  },
  {
   "cell_type": "code",
   "execution_count": 44,
   "id": "f8be04cc",
   "metadata": {},
   "outputs": [
    {
     "data": {
      "text/plain": [
       "array([2, 0, 4, 4])"
      ]
     },
     "execution_count": 44,
     "metadata": {},
     "output_type": "execute_result"
    }
   ],
   "source": [
    "np.random.randint(5,size=4) #seed()함수가 같이 실행되지않기때문에 실행시마다 다른결과 반환"
   ]
  },
  {
   "cell_type": "code",
   "execution_count": null,
   "id": "ad722695",
   "metadata": {},
   "outputs": [],
   "source": []
  },
  {
   "cell_type": "code",
   "execution_count": null,
   "id": "25c47995",
   "metadata": {},
   "outputs": [],
   "source": []
  },
  {
   "cell_type": "code",
   "execution_count": null,
   "id": "3cdcccea",
   "metadata": {},
   "outputs": [],
   "source": []
  }
 ],
 "metadata": {
  "kernelspec": {
   "display_name": "Python 3",
   "language": "python",
   "name": "python3"
  },
  "language_info": {
   "codemirror_mode": {
    "name": "ipython",
    "version": 3
   },
   "file_extension": ".py",
   "mimetype": "text/x-python",
   "name": "python",
   "nbconvert_exporter": "python",
   "pygments_lexer": "ipython3",
   "version": "3.8.8"
  }
 },
 "nbformat": 4,
 "nbformat_minor": 5
}
