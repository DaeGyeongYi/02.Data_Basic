{
 "cells": [
  {
   "cell_type": "code",
   "execution_count": 1,
   "id": "5013b8f0",
   "metadata": {},
   "outputs": [],
   "source": [
    "from IPython.core.interactiveshell import InteractiveShell\n",
    "InteractiveShell.ast_node_interactivity=\"all\" #기본값은 'last_expr'\n",
    "\n",
    "import warnings\n",
    "warnings.filterwarnings('ignore')\n",
    "import pandas as pd\n",
    "import numpy as np"
   ]
  },
  {
   "cell_type": "markdown",
   "id": "94a81f93",
   "metadata": {},
   "source": [
    "### 날짜 자동 생성: date_range 함수 사용 p.241"
   ]
  },
  {
   "cell_type": "markdown",
   "id": "058cbe12",
   "metadata": {},
   "source": [
    "- 시리즈의 인덱스에 날짜 데이터를 사용\n",
    "- 날짜표시: '년-월-일'"
   ]
  },
  {
   "cell_type": "code",
   "execution_count": 5,
   "id": "cd002c8e",
   "metadata": {},
   "outputs": [
    {
     "data": {
      "text/plain": [
       "2018-10-07    200.0\n",
       "2018-10-08    195.0\n",
       "2018-10-09      NaN\n",
       "2018-10-10    205.0\n",
       "dtype: float64"
      ]
     },
     "execution_count": 5,
     "metadata": {},
     "output_type": "execute_result"
    },
    {
     "name": "stdout",
     "output_type": "stream",
     "text": [
      "=====================\n"
     ]
    },
    {
     "data": {
      "text/plain": [
       "str"
      ]
     },
     "execution_count": 5,
     "metadata": {},
     "output_type": "execute_result"
    }
   ],
   "source": [
    "index_date = ['2018-10-07','2018-10-08','2018-10-09','2018-10-10']\n",
    "s4 = pd.Series([200,195,np.nan, 205], index=index_date)\n",
    "s4\n",
    "\n",
    "print(\"=====================\")\n",
    "\n",
    "type(s4.index[0]) # 문자열형태"
   ]
  },
  {
   "cell_type": "markdown",
   "id": "cb5d8a3f",
   "metadata": {},
   "source": [
    "- 판다스 패키지의 date_range 함수 (날짜생성)\n",
    "    - pd.date_range(start=None, end=None, periods=None, freq='D')\n",
    "    - start : 시작날짜\n",
    "    - end= 끝날짜 \n",
    "    - periods = 날짜 생성기간\n",
    "    - fref = 날짜 생성 주기\n",
    "    - start는 필수 옵션/end나 periods는 둘 중 하나가 있어야 함\n",
    "    - freq는 기본 Day로 설정"
   ]
  },
  {
   "cell_type": "markdown",
   "id": "77802122",
   "metadata": {},
   "source": [
    "<center><img src='date_freq.PNG' width='600'></center>"
   ]
  },
  {
   "cell_type": "code",
   "execution_count": 16,
   "id": "45a4cc7c",
   "metadata": {},
   "outputs": [
    {
     "data": {
      "text/plain": [
       "DatetimeIndex(['2018-10-01', '2018-10-02', '2018-10-03', '2018-10-04',\n",
       "               '2018-10-05', '2018-10-06', '2018-10-07', '2018-10-08',\n",
       "               '2018-10-09', '2018-10-10', '2018-10-11', '2018-10-12',\n",
       "               '2018-10-13', '2018-10-14', '2018-10-15', '2018-10-16',\n",
       "               '2018-10-17', '2018-10-18', '2018-10-19', '2018-10-20'],\n",
       "              dtype='datetime64[ns]', freq='D')"
      ]
     },
     "execution_count": 16,
     "metadata": {},
     "output_type": "execute_result"
    }
   ],
   "source": [
    "pd.date_range(start = '2018-10-01',end = '2018-10-20') \n",
    "#dtype='datetime64[ns]' 형태로 생성, 문자열 아님"
   ]
  },
  {
   "cell_type": "code",
   "execution_count": 17,
   "id": "abcf3967",
   "metadata": {},
   "outputs": [
    {
     "data": {
      "text/plain": [
       "DatetimeIndex(['2018-10-01', '2018-10-04', '2018-10-07', '2018-10-10',\n",
       "               '2018-10-13', '2018-10-16', '2018-10-19'],\n",
       "              dtype='datetime64[ns]', freq='3D')"
      ]
     },
     "execution_count": 17,
     "metadata": {},
     "output_type": "execute_result"
    }
   ],
   "source": [
    "pd.date_range(start = '2018-10-01',end = '2018-10-20',freq = '3D') #3일씩 증가 "
   ]
  },
  {
   "cell_type": "code",
   "execution_count": 18,
   "id": "c27a23a1",
   "metadata": {},
   "outputs": [
    {
     "data": {
      "text/plain": [
       "DatetimeIndex(['2018-10-07', '2018-10-14'], dtype='datetime64[ns]', freq='W-SUN')"
      ]
     },
     "execution_count": 18,
     "metadata": {},
     "output_type": "execute_result"
    }
   ],
   "source": [
    "pd.date_range(start = '2018-10-01',end = '2018-10-20',freq='W') \n",
    "# 1주일 씩 증가하는 날짜 생성 - 1주의 시작일으로 표시(일요일)"
   ]
  },
  {
   "cell_type": "code",
   "execution_count": 21,
   "id": "cdb31661",
   "metadata": {},
   "outputs": [
    {
     "data": {
      "text/plain": [
       "DatetimeIndex(['2018-10-31', '2018-11-30', '2018-12-31', '2019-01-31'], dtype='datetime64[ns]', freq='M')"
      ]
     },
     "execution_count": 21,
     "metadata": {},
     "output_type": "execute_result"
    }
   ],
   "source": [
    "pd.date_range(start = '2018-10-07',periods=4,freq='M') \n",
    "#start날짜를 포함하는 월별의 날짜 4개월간"
   ]
  },
  {
   "cell_type": "code",
   "execution_count": 23,
   "id": "e5b9e6ff",
   "metadata": {},
   "outputs": [
    {
     "data": {
      "text/plain": [
       "DatetimeIndex(['2018-11-01', '2018-12-01', '2019-01-01', '2019-02-01'], dtype='datetime64[ns]', freq='MS')"
      ]
     },
     "execution_count": 23,
     "metadata": {},
     "output_type": "execute_result"
    }
   ],
   "source": [
    "pd.date_range(start='2018-10-07',periods = 4, freq='MS')\n",
    "#ms 초 단위 표시 월별 시작일은 MS사용"
   ]
  },
  {
   "cell_type": "code",
   "execution_count": 27,
   "id": "7b450049",
   "metadata": {},
   "outputs": [
    {
     "data": {
      "text/plain": [
       "DatetimeIndex(['2019-01-01', '2019-04-01', '2019-07-01', '2019-10-01'], dtype='datetime64[ns]', freq='QS-JAN')"
      ]
     },
     "execution_count": 27,
     "metadata": {},
     "output_type": "execute_result"
    }
   ],
   "source": [
    "pd.date_range(start='2018-10-07',periods=4,freq='QS')\n",
    "#분기 시작일 , 4개의 분기동안 출력"
   ]
  },
  {
   "cell_type": "code",
   "execution_count": 28,
   "id": "ea881ebc",
   "metadata": {},
   "outputs": [
    {
     "data": {
      "text/plain": [
       "DatetimeIndex(['2018-01-01', '2019-01-01', '2020-01-01', '2021-01-01'], dtype='datetime64[ns]', freq='AS-JAN')"
      ]
     },
     "execution_count": 28,
     "metadata": {},
     "output_type": "execute_result"
    }
   ],
   "source": [
    "pd.date_range(start='2018-1-1',periods=4, freq ='AS')\n",
    "#연도 첫날 기준으로 4개의 연도 첫날짜 생성"
   ]
  },
  {
   "cell_type": "code",
   "execution_count": null,
   "id": "8dda818c",
   "metadata": {},
   "outputs": [],
   "source": []
  }
 ],
 "metadata": {
  "kernelspec": {
   "display_name": "Python 3",
   "language": "python",
   "name": "python3"
  },
  "language_info": {
   "codemirror_mode": {
    "name": "ipython",
    "version": 3
   },
   "file_extension": ".py",
   "mimetype": "text/x-python",
   "name": "python",
   "nbconvert_exporter": "python",
   "pygments_lexer": "ipython3",
   "version": "3.8.8"
  }
 },
 "nbformat": 4,
 "nbformat_minor": 5
}
