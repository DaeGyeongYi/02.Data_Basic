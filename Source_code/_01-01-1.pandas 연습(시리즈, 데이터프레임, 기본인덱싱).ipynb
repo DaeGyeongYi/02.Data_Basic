{
 "cells": [
  {
   "cell_type": "markdown",
   "id": "e17b3863",
   "metadata": {},
   "source": [
    "# Pandas - 교재 p.237\n",
    "\n",
    "- series, DataFrame등의 자료구조를 활용한 데이터분석 기능을 제공해주는 라이브러리\n",
    "    - 라이브러리 구성\n",
    "        - 여러종류의 클래스와 다양한 함수로 구성\n",
    "        - 시리즈와 데이터 프레임의 자료 구조 제공\n",
    "        - 시리즈(1차원 배열) 데이터프레임(2차원 배열)\n",
    "    - 아나콘다에 기본으로 설치되어있음\n",
    "\n",
    "#### pandas의 목적\n",
    "    - 서로 다른 유형의 데이터를 공통된 포맷으로 정리하는 것\n",
    "    - 행과 열로 이루어진 2차원 데이터프레임을 처리 할 수 있는 함수제공 목적\n",
    "    - 실무 사용 형태 : 데이터 프레임\n",
    "\n"
   ]
  },
  {
   "cell_type": "markdown",
   "id": "d254db96",
   "metadata": {},
   "source": [
    "## 구조적 데이터 생성하기 -Series/DATA/FRAME"
   ]
  },
  {
   "cell_type": "markdown",
   "id": "a7796c75",
   "metadata": {},
   "source": [
    "#### Series(교재 pp 237~240)\n",
    "  - pandas의 기본 객체 중 하나\n",
    "  - numpy의 ndarray를 기반으로 인덱싱을 기능을 추가하여 1차원 배열을 나타냄\n",
    "  - index를 지정하지 않을 시, 기본적으로 ndarray와 같이 0-based 인덱스 생성\n",
    "  - 지정할 경우 명시적으로 지정된 index를 사용\n",
    "  - #### '같은' 타입으로만, 0개 이상의 데이터를 가질 수 있음\n"
   ]
  },
  {
   "cell_type": "markdown",
   "id": "ac7fafad",
   "metadata": {},
   "source": [
    "1. 자료구조: 시리즈\n",
    "    - 데이터가 순차적으로 나열된 1차원 배열 형태\n",
    "    - 인덱스(index)와 데이터 값(value)이 일대일로 대을\n",
    "    - 딕셔너리와 비슷한 구조 : {key:value} <=> {index:value}\n",
    "2. 시리즈의 인덱스\n",
    "    - 데이터 값의 위치를 나타내는 이름표 역할\n",
    "3. 시리즈 생성 : 판다스 내장함수인 Series()이용\n",
    "    - 리스트로 시리즈 만들기\n",
    "    - 딕셔너리로 시리즈 만들기\n",
    "    - 튜플로 시리즈 만들기\n"
   ]
  },
  {
   "cell_type": "code",
   "execution_count": 104,
   "id": "6f3e384f",
   "metadata": {},
   "outputs": [],
   "source": [
    "# 마지막 하나만 말고 좀 다 보여줄 수 없나요 ?\n",
    "\n",
    "from IPython.core.interactiveshell import InteractiveShell\n",
    "InteractiveShell.ast_node_interactivity=\"all\" #기본값은 'last_expr'"
   ]
  },
  {
   "cell_type": "code",
   "execution_count": 105,
   "id": "05068ea8",
   "metadata": {},
   "outputs": [],
   "source": [
    "#pandas 패키지(모듈) \n",
    "import pandas as pd\n",
    "#numpy 패키지 import\n",
    "import numpy as np\n",
    "#warnings에서 경고문구무시\n",
    "import warnings\n",
    "warnings.filterwarnings('ignore')\n"
   ]
  },
  {
   "cell_type": "markdown",
   "id": "e2b97723",
   "metadata": {},
   "source": [
    "### Series 생성하기"
   ]
  },
  {
   "cell_type": "markdown",
   "id": "e9ef6f2f",
   "metadata": {},
   "source": [
    "- data로만 생성하기\n",
    "    - index는 명시하지 않으면 0부터 자동생성"
   ]
  },
  {
   "cell_type": "code",
   "execution_count": 106,
   "id": "3fe6a55c",
   "metadata": {},
   "outputs": [
    {
     "data": {
      "text/plain": [
       "Series([], dtype: float64)"
      ]
     },
     "execution_count": 106,
     "metadata": {},
     "output_type": "execute_result"
    }
   ],
   "source": [
    "# 문법 : 변수 = pd.Series()\n",
    "blank_s = pd.Series()\n",
    "blank_s"
   ]
  },
  {
   "cell_type": "code",
   "execution_count": 107,
   "id": "841a08b7",
   "metadata": {},
   "outputs": [
    {
     "data": {
      "text/plain": [
       "0    1\n",
       "dtype: int64"
      ]
     },
     "execution_count": 107,
     "metadata": {},
     "output_type": "execute_result"
    }
   ],
   "source": [
    "s0 = pd.Series(1) #index를 명시하지 않고, 데이터를 1개로 생성 -> \n",
    "                  #인덱스는 0부터 시작하는 0-based인덱스 생성\n",
    "s0"
   ]
  },
  {
   "cell_type": "code",
   "execution_count": 108,
   "id": "60a117c9",
   "metadata": {},
   "outputs": [
    {
     "data": {
      "text/plain": [
       "0    1\n",
       "1    2\n",
       "2    3\n",
       "dtype: int64"
      ]
     },
     "execution_count": 108,
     "metadata": {},
     "output_type": "execute_result"
    }
   ],
   "source": [
    "#2개 이상의 원소값을 갖는 시리즈 생성시 - 리스트, 튜플, 딕셔너리 등을 활용해야함\n",
    "s1 = pd.Series([1,2,3])\n",
    "s1"
   ]
  },
  {
   "cell_type": "code",
   "execution_count": 109,
   "id": "8c2d7f46",
   "metadata": {},
   "outputs": [
    {
     "data": {
      "text/plain": [
       "0    1.0\n",
       "1    2.0\n",
       "2    3.5\n",
       "dtype: float64"
      ]
     },
     "execution_count": 109,
     "metadata": {},
     "output_type": "execute_result"
    }
   ],
   "source": [
    "#서로 다른 데이터 타입의 원소를 갖는 리스트 이용 - 시리즈\n",
    "s1_1 = pd.Series([1,2.0,3.5])  #float64형태의 시리즈\n",
    "s1_1"
   ]
  },
  {
   "cell_type": "code",
   "execution_count": 110,
   "id": "ad5d93cb",
   "metadata": {},
   "outputs": [
    {
     "data": {
      "text/plain": [
       "0      a\n",
       "1      1\n",
       "2    5.0\n",
       "dtype: object"
      ]
     },
     "execution_count": 110,
     "metadata": {},
     "output_type": "execute_result"
    }
   ],
   "source": [
    "s1_2 = pd.Series(['a',1,5.0]) #object: 숫자와 문자가 혼용되면 문자형태원소로 시리즈\n",
    "s1_2"
   ]
  },
  {
   "cell_type": "markdown",
   "id": "e42cba57",
   "metadata": {},
   "source": [
    "##### - 범위를 시리즈의 value 생성하는데 사용하기 -> range()/np.arange()"
   ]
  },
  {
   "cell_type": "code",
   "execution_count": 111,
   "id": "d65826d0",
   "metadata": {},
   "outputs": [
    {
     "data": {
      "text/plain": [
       "0    10\n",
       "1    11\n",
       "2    12\n",
       "3    13\n",
       "dtype: int64"
      ]
     },
     "execution_count": 111,
     "metadata": {},
     "output_type": "execute_result"
    }
   ],
   "source": [
    "s = pd.Series(range(10,14))\n",
    "s"
   ]
  },
  {
   "cell_type": "code",
   "execution_count": 112,
   "id": "97d79866",
   "metadata": {},
   "outputs": [
    {
     "data": {
      "text/plain": [
       "0        0\n",
       "1        1\n",
       "2        2\n",
       "3        3\n",
       "4        4\n",
       "      ... \n",
       "195    195\n",
       "196    196\n",
       "197    197\n",
       "198    198\n",
       "199    199\n",
       "Length: 200, dtype: int32"
      ]
     },
     "execution_count": 112,
     "metadata": {},
     "output_type": "execute_result"
    }
   ],
   "source": [
    "s = pd.Series(np.arange(200))\n",
    "s"
   ]
  },
  {
   "cell_type": "markdown",
   "id": "2c4554ff",
   "metadata": {},
   "source": [
    "### - 결측값을 포함해서 시리즈를 만들기\n",
    "    - 결측값은 NaN: numpy라는 모듈의 nan 속성을 통해서 생성 가능"
   ]
  },
  {
   "cell_type": "code",
   "execution_count": 113,
   "id": "ad0279ba",
   "metadata": {},
   "outputs": [
    {
     "data": {
      "text/plain": [
       "0    1.0\n",
       "1    2.0\n",
       "2    3.0\n",
       "3    NaN\n",
       "4    6.0\n",
       "5    8.0\n",
       "dtype: float64"
      ]
     },
     "execution_count": 113,
     "metadata": {},
     "output_type": "execute_result"
    }
   ],
   "source": [
    "s = pd.Series([1,2,3, np.nan,6,8]) # np.nan으로 결측값을 만들어보았다\n",
    "s                                  #결측치가 들어가면 float으로 처리됨"
   ]
  },
  {
   "cell_type": "markdown",
   "id": "ad2457bc",
   "metadata": {},
   "source": [
    "### - 인덱스 명시해서 시리즈 만들기\n",
    "    - 숫자 인덱스 지정/ 문자 인덱스 지정\n",
    "    - 변수 = pd.Series([값1,값2....],index=[인덱스1,인덱스2....])"
   ]
  },
  {
   "cell_type": "code",
   "execution_count": 114,
   "id": "922d2dfe",
   "metadata": {},
   "outputs": [
    {
     "data": {
      "text/plain": [
       "홍길동    10\n",
       "이몽룡    20\n",
       "성춘향    30\n",
       "dtype: int64"
      ]
     },
     "execution_count": 114,
     "metadata": {},
     "output_type": "execute_result"
    }
   ],
   "source": [
    "#인덱스 명시해서 시리즈 생성\n",
    "s= pd.Series([10,20,30],index=[\"홍길동\",\"이몽룡\",\"성춘향\"])\n",
    "s"
   ]
  },
  {
   "cell_type": "markdown",
   "id": "81818d5a",
   "metadata": {},
   "source": [
    "- 인덱스 활용:\n",
    "    - 시리즈의 index는 index 속성으로접근"
   ]
  },
  {
   "cell_type": "code",
   "execution_count": 115,
   "id": "e70f5e4e",
   "metadata": {},
   "outputs": [
    {
     "data": {
      "text/plain": [
       "Index(['홍길동', '이몽룡', '성춘향'], dtype='object')"
      ]
     },
     "execution_count": 115,
     "metadata": {},
     "output_type": "execute_result"
    }
   ],
   "source": [
    "#시리즈명.index\n",
    "s.index"
   ]
  },
  {
   "cell_type": "markdown",
   "id": "01993512",
   "metadata": {},
   "source": [
    "### - 시리즈.index.name 속성\n",
    "    - 시리즈의 인덱스에 이름을 붙일수 있음"
   ]
  },
  {
   "cell_type": "code",
   "execution_count": 116,
   "id": "b52b0e58",
   "metadata": {},
   "outputs": [
    {
     "data": {
      "text/plain": [
       "홍길동    10\n",
       "이몽룡    20\n",
       "성춘향    30\n",
       "dtype: int64"
      ]
     },
     "execution_count": 116,
     "metadata": {},
     "output_type": "execute_result"
    }
   ],
   "source": [
    "s"
   ]
  },
  {
   "cell_type": "code",
   "execution_count": 117,
   "id": "36674620",
   "metadata": {},
   "outputs": [
    {
     "data": {
      "text/plain": [
       "이름\n",
       "홍길동    10\n",
       "이몽룡    20\n",
       "성춘향    30\n",
       "dtype: int64"
      ]
     },
     "execution_count": 117,
     "metadata": {},
     "output_type": "execute_result"
    }
   ],
   "source": [
    "s.index.name = '이름'\n",
    "s"
   ]
  },
  {
   "cell_type": "markdown",
   "id": "6849e7da",
   "metadata": {},
   "source": [
    "## 예제 df 생성"
   ]
  },
  {
   "cell_type": "code",
   "execution_count": 118,
   "id": "6fd53c78",
   "metadata": {},
   "outputs": [
    {
     "data": {
      "text/plain": [
       "Index(['서울', '부산', '인천', '대구'], dtype='object')"
      ]
     },
     "execution_count": 118,
     "metadata": {},
     "output_type": "execute_result"
    }
   ],
   "source": [
    "s= pd.Series([9904312,3448737,289045,2466052],\n",
    "            index=[\"서울\",\"부산\",\"인천\",\"대구\"]) #dtype='object' datatype = '문자열객체'\n",
    "s.index"
   ]
  },
  {
   "cell_type": "code",
   "execution_count": 119,
   "id": "b6b46dad",
   "metadata": {},
   "outputs": [
    {
     "data": {
      "text/plain": [
       "도시\n",
       "서울    9904312\n",
       "부산    3448737\n",
       "인천     289045\n",
       "대구    2466052\n",
       "dtype: int64"
      ]
     },
     "execution_count": 119,
     "metadata": {},
     "output_type": "execute_result"
    }
   ],
   "source": [
    "s.index.name = '도시'\n",
    "s"
   ]
  },
  {
   "cell_type": "markdown",
   "id": "af113a7e",
   "metadata": {},
   "source": [
    "시리즈의 실제 값 추출 => 시리즈.value 속성 사용"
   ]
  },
  {
   "cell_type": "code",
   "execution_count": 120,
   "id": "5e20ac74",
   "metadata": {},
   "outputs": [
    {
     "data": {
      "text/plain": [
       "array([9904312, 3448737,  289045, 2466052], dtype=int64)"
      ]
     },
     "execution_count": 120,
     "metadata": {},
     "output_type": "execute_result"
    }
   ],
   "source": [
    "s.values #array 구조로 반환된다"
   ]
  },
  {
   "cell_type": "markdown",
   "id": "5bcf8509",
   "metadata": {},
   "source": [
    "- 시리즈.name 속성\n",
    "    - 시리즈 데이터(values)에 이름을 붙일 수 있다\n",
    "    - name 속성은 값의 의미 전달에 사용"
   ]
  },
  {
   "cell_type": "code",
   "execution_count": 121,
   "id": "fef355fa",
   "metadata": {},
   "outputs": [
    {
     "data": {
      "text/plain": [
       "도시\n",
       "서울    9904312\n",
       "부산    3448737\n",
       "인천     289045\n",
       "대구    2466052\n",
       "Name: 인구, dtype: int64"
      ]
     },
     "execution_count": 121,
     "metadata": {},
     "output_type": "execute_result"
    }
   ],
   "source": [
    "s.name = '인구'\n",
    "s"
   ]
  },
  {
   "cell_type": "markdown",
   "id": "33131846",
   "metadata": {},
   "source": [
    "### 딕셔너리로 시리즈 만들기\n",
    "- Series({key:value,key1:value1....})\n",
    "- 인덱스 -> key\n",
    "- 값 -> value\n"
   ]
  },
  {
   "cell_type": "code",
   "execution_count": 122,
   "id": "9fd3ab68",
   "metadata": {},
   "outputs": [
    {
     "data": {
      "text/plain": [
       "이름\n",
       "홍길동     96\n",
       "이몽룡    100\n",
       "성춘향     88\n",
       "Name: 점수, dtype: int64"
      ]
     },
     "execution_count": 122,
     "metadata": {},
     "output_type": "execute_result"
    }
   ],
   "source": [
    "scores = {'홍길동':96, '이몽룡':100 , '성춘향':88}\n",
    "s= pd.Series(scores)\n",
    "s.index.name = '이름'\n",
    "s.name = '점수'\n",
    "s"
   ]
  },
  {
   "cell_type": "code",
   "execution_count": 123,
   "id": "1ee6fd4a",
   "metadata": {},
   "outputs": [
    {
     "data": {
      "text/plain": [
       "서울    9904312\n",
       "부산    3448737\n",
       "인천    2632035\n",
       "대전    1490158\n",
       "dtype: int64"
      ]
     },
     "execution_count": 123,
     "metadata": {},
     "output_type": "execute_result"
    }
   ],
   "source": [
    "city = {\"서울\":9904312, \"부산\":3448737, \"인천\":2632035,\"대전\":1490158}\n",
    "s=pd.Series(city)\n",
    "s"
   ]
  },
  {
   "cell_type": "markdown",
   "id": "101d86b5",
   "metadata": {},
   "source": [
    "- 딕셔너리의 원소는 __순서를 갖지 않는다.__\n",
    "    - 딕셔너리로 생성된 시리즈의 원소도 순서가 보장되지 않는다.\n",
    "    - 만약 순서를 보장하고 싶으면 인덱스를 리스트로 지정해야 한다.\n"
   ]
  },
  {
   "cell_type": "code",
   "execution_count": 124,
   "id": "61529341",
   "metadata": {},
   "outputs": [
    {
     "data": {
      "text/plain": [
       "[도시]\n",
       "부산    3448737\n",
       "인천    2632035\n",
       "서울    9904312\n",
       "대전    1490158\n",
       "Name: 인구, dtype: int64"
      ]
     },
     "execution_count": 124,
     "metadata": {},
     "output_type": "execute_result"
    }
   ],
   "source": [
    "s2 = pd.Series(city, index=['부산','인천','서울','대전'])\n",
    "s2.index.name = '[도시]'\n",
    "s2.name = '인구'\n",
    "s2"
   ]
  },
  {
   "cell_type": "markdown",
   "id": "fa5fdf6b",
   "metadata": {},
   "source": [
    "#### 시리즈의 인덱싱 종류\n",
    "1. 정수형 위치 인덱스(integer position)\n",
    "2. 인덱스 이름(index name) 또는  인덱스 라벨(index label)\n",
    "\n",
    "    - 인덱스 별도 지정하지 않으면 0부터 시작하는 정수형 인덱스가 지정됨\n",
    "    \n",
    "\n",
    "##### 원소 접근\n",
    "   - 정수형 인덱스 : 숫자 s[0]\n",
    "   - 문자형 인덱스 : 문자 s['인천']\n",
    "    "
   ]
  },
  {
   "cell_type": "code",
   "execution_count": 125,
   "id": "9850cb0e",
   "metadata": {},
   "outputs": [
    {
     "name": "stdout",
     "output_type": "stream",
     "text": [
      "9904312\n",
      "9904312\n"
     ]
    }
   ],
   "source": [
    "#문자,위치 인덱스\n",
    "print(s['서울'])\n",
    "print(s[0])\n",
    "#print() 없이해도 출력됨"
   ]
  },
  {
   "cell_type": "code",
   "execution_count": 126,
   "id": "287ee966",
   "metadata": {},
   "outputs": [
    {
     "data": {
      "text/plain": [
       "1    1\n",
       "2    2\n",
       "3    3\n",
       "dtype: int64"
      ]
     },
     "execution_count": 126,
     "metadata": {},
     "output_type": "execute_result"
    }
   ],
   "source": [
    "### 확인 예제\n",
    "s_1 = pd.Series([1,2,3],index=[1,2,3])\n",
    "s_1"
   ]
  },
  {
   "cell_type": "code",
   "execution_count": 127,
   "id": "64ff5c85",
   "metadata": {},
   "outputs": [
    {
     "data": {
      "text/plain": [
       "Int64Index([1, 2, 3], dtype='int64')"
      ]
     },
     "execution_count": 127,
     "metadata": {},
     "output_type": "execute_result"
    }
   ],
   "source": [
    "s_1.index  #s_1[0] => 이런거 안됨, 인덱스 타입이 정수면 위치 인덱스 xxx"
   ]
  },
  {
   "cell_type": "code",
   "execution_count": 128,
   "id": "6d7cabaa",
   "metadata": {},
   "outputs": [
    {
     "data": {
      "text/plain": [
       "서울    9904312\n",
       "부산    3448737\n",
       "인천    2632035\n",
       "대전    1490158\n",
       "dtype: int64"
      ]
     },
     "execution_count": 128,
     "metadata": {},
     "output_type": "execute_result"
    },
    {
     "data": {
      "text/plain": [
       "(1490158, 1490158)"
      ]
     },
     "execution_count": 128,
     "metadata": {},
     "output_type": "execute_result"
    }
   ],
   "source": [
    "#한줄에 위치 인덱스, 문자인덱스를 동시에 접근\n",
    "s\n",
    "s[3] , s['대전']"
   ]
  },
  {
   "cell_type": "markdown",
   "id": "7d1110b1",
   "metadata": {},
   "source": [
    "#### 리스트 이용 인덱싱\n",
    "    - 자료의 순서를 바꿔 반환하거나, 특정 자료 여러개를 선택할때 사용\n",
    "    - 시리즈명[[인덱스1,인덱스2...]]"
   ]
  },
  {
   "cell_type": "code",
   "execution_count": 129,
   "id": "1a4f276a",
   "metadata": {},
   "outputs": [
    {
     "data": {
      "text/plain": [
       "서울    9904312\n",
       "부산    3448737\n",
       "인천    2632035\n",
       "대전    1490158\n",
       "dtype: int64"
      ]
     },
     "execution_count": 129,
     "metadata": {},
     "output_type": "execute_result"
    },
    {
     "data": {
      "text/plain": [
       "서울    9904312\n",
       "대전    1490158\n",
       "인천    2632035\n",
       "부산    3448737\n",
       "dtype: int64"
      ]
     },
     "execution_count": 129,
     "metadata": {},
     "output_type": "execute_result"
    }
   ],
   "source": [
    "s\n",
    "s[[0,3,2,1]]"
   ]
  },
  {
   "cell_type": "code",
   "execution_count": 130,
   "id": "d9dff0a4",
   "metadata": {},
   "outputs": [
    {
     "data": {
      "text/plain": [
       "서울    9904312\n",
       "인천    2632035\n",
       "dtype: int64"
      ]
     },
     "execution_count": 130,
     "metadata": {},
     "output_type": "execute_result"
    }
   ],
   "source": [
    "s[['서울','인천']]"
   ]
  },
  {
   "cell_type": "markdown",
   "id": "558d827a",
   "metadata": {},
   "source": [
    "##### 시리즈 슬라이싱을 이용한 인덱싱\n",
    "- 정수형 위치 인덱스를 사용한 슬라이싱\n",
    "    - 시리즈[start:stop+1]\n",
    "- 문자(라벨)인덱스 이용 슬라이싱\n",
    "    - 시리즈['시작라벨':'끝라벨']  : 표시된 라벨 범위 모두 추출\n"
   ]
  },
  {
   "cell_type": "code",
   "execution_count": 131,
   "id": "9b7b01f1",
   "metadata": {},
   "outputs": [
    {
     "data": {
      "text/plain": [
       "부산    3448737\n",
       "인천    2632035\n",
       "dtype: int64"
      ]
     },
     "execution_count": 131,
     "metadata": {},
     "output_type": "execute_result"
    }
   ],
   "source": [
    "#위치 인덱스 슬라이싱\n",
    "s[1:3]  #[1~2]의 의미"
   ]
  },
  {
   "cell_type": "code",
   "execution_count": 133,
   "id": "b6ec3b15",
   "metadata": {},
   "outputs": [
    {
     "data": {
      "text/plain": [
       "부산    3448737\n",
       "인천    2632035\n",
       "대전    1490158\n",
       "dtype: int64"
      ]
     },
     "execution_count": 133,
     "metadata": {},
     "output_type": "execute_result"
    }
   ],
   "source": [
    "#문자 인덱스를이용한 슬라이싱\n",
    "s['부산':'대전'] #표시된 인덱스의 모든 범위"
   ]
  },
  {
   "cell_type": "code",
   "execution_count": 136,
   "id": "b92e0acf",
   "metadata": {},
   "outputs": [
    {
     "data": {
      "text/plain": [
       "1    1\n",
       "3    2\n",
       "5    3\n",
       "7    4\n",
       "dtype: int64"
      ]
     },
     "execution_count": 136,
     "metadata": {},
     "output_type": "execute_result"
    }
   ],
   "source": [
    "###슬라이싱 예제 -> 명시적으로 설정한 정수 인덱스를 슬라이싱하면 위치 슬라이싱 적용됨\n",
    "s_test = pd.Series([1,2,3,4],index=[1,3,5,7])\n",
    "s_test"
   ]
  },
  {
   "cell_type": "code",
   "execution_count": 139,
   "id": "e00a46b5",
   "metadata": {},
   "outputs": [
    {
     "data": {
      "text/plain": [
       "3    2\n",
       "5    3\n",
       "7    4\n",
       "dtype: int64"
      ]
     },
     "execution_count": 139,
     "metadata": {},
     "output_type": "execute_result"
    }
   ],
   "source": [
    "s_test[1:5]"
   ]
  },
  {
   "cell_type": "code",
   "execution_count": 144,
   "id": "20397022",
   "metadata": {},
   "outputs": [
    {
     "data": {
      "text/plain": [
       "2632035"
      ]
     },
     "execution_count": 144,
     "metadata": {},
     "output_type": "execute_result"
    },
    {
     "data": {
      "text/plain": [
       "9904312"
      ]
     },
     "execution_count": 144,
     "metadata": {},
     "output_type": "execute_result"
    }
   ],
   "source": [
    "s.인천\n",
    "s.서울"
   ]
  },
  {
   "cell_type": "code",
   "execution_count": 145,
   "id": "0461122e",
   "metadata": {},
   "outputs": [
    {
     "data": {
      "text/plain": [
       "1    1\n",
       "3    2\n",
       "5    3\n",
       "7    4\n",
       "dtype: int64"
      ]
     },
     "execution_count": 145,
     "metadata": {},
     "output_type": "execute_result"
    }
   ],
   "source": [
    "s_test"
   ]
  },
  {
   "cell_type": "code",
   "execution_count": 146,
   "id": "78fdacb9",
   "metadata": {},
   "outputs": [],
   "source": [
    "#s_test.1(안됨) #연산자를 이용한 원소 접근은 문자 인덱스만 가능"
   ]
  },
  {
   "cell_type": "markdown",
   "id": "69075fe4",
   "metadata": {},
   "source": [
    "### 인덱싱을 통한 데이터 업데이트\n",
    "    - 시리즈명[인덱스] = 데이터값"
   ]
  },
  {
   "cell_type": "code",
   "execution_count": 150,
   "id": "ee4d950d",
   "metadata": {},
   "outputs": [
    {
     "data": {
      "text/plain": [
       "서울    1000000\n",
       "부산    3448737\n",
       "인천    2632035\n",
       "대전    1490158\n",
       "dtype: int64"
      ]
     },
     "execution_count": 150,
     "metadata": {},
     "output_type": "execute_result"
    }
   ],
   "source": [
    "s"
   ]
  },
  {
   "cell_type": "code",
   "execution_count": 147,
   "id": "2ec766e5",
   "metadata": {},
   "outputs": [
    {
     "data": {
      "text/plain": [
       "서울    1000000\n",
       "부산    3448737\n",
       "인천    2632035\n",
       "대전    1490158\n",
       "dtype: int64"
      ]
     },
     "execution_count": 147,
     "metadata": {},
     "output_type": "execute_result"
    }
   ],
   "source": [
    "s['서울'] = 1000000\n",
    "s"
   ]
  },
  {
   "cell_type": "markdown",
   "id": "9d3e0a8b",
   "metadata": {},
   "source": [
    "### 인덱스 재사용 가능"
   ]
  },
  {
   "cell_type": "code",
   "execution_count": 149,
   "id": "eca82521",
   "metadata": {},
   "outputs": [
    {
     "data": {
      "text/plain": [
       "Index(['서울', '부산', '인천', '대전'], dtype='object')"
      ]
     },
     "execution_count": 149,
     "metadata": {},
     "output_type": "execute_result"
    },
    {
     "data": {
      "text/plain": [
       "서울    0\n",
       "부산    1\n",
       "인천    2\n",
       "대전    3\n",
       "dtype: int32"
      ]
     },
     "execution_count": 149,
     "metadata": {},
     "output_type": "execute_result"
    }
   ],
   "source": [
    "s.index\n",
    "s1 = pd.Series(np.arange(4), s.index)\n",
    "s1"
   ]
  },
  {
   "cell_type": "markdown",
   "id": "004bb65f",
   "metadata": {},
   "source": [
    "### 시리즈 연산"
   ]
  },
  {
   "cell_type": "code",
   "execution_count": 151,
   "id": "257a9d3a",
   "metadata": {},
   "outputs": [
    {
     "data": {
      "text/plain": [
       "서울    1000000\n",
       "부산    3448737\n",
       "인천    2632035\n",
       "대전    1490158\n",
       "dtype: int64"
      ]
     },
     "execution_count": 151,
     "metadata": {},
     "output_type": "execute_result"
    }
   ],
   "source": [
    "#예제 시리즈\n",
    "s\n",
    "\n",
    "#서울    1000000\n",
    "#부산    3448737\n",
    "#인천    2632035\n",
    "#대전    1490158\n",
    "#dtype: int64"
   ]
  },
  {
   "cell_type": "markdown",
   "id": "1c2bf1da",
   "metadata": {},
   "source": [
    "##### 벡터화 연산\n",
    "- numpy 배열처럼 pandas의 시리즈도 벡터화 연산 가능 \n",
    "- 벡터화 연산이란 집합적 자료형의 원소 각각을 독립적으로 계산을 진행하는 방법\n",
    "    - 단, 연산은 시리즈의 값에만 적용되며 인덱스 값은 변경 불가\n"
   ]
  },
  {
   "cell_type": "code",
   "execution_count": 154,
   "id": "e5c8b557",
   "metadata": {},
   "outputs": [
    {
     "data": {
      "text/plain": [
       "0    1\n",
       "1    2\n",
       "2    3\n",
       "dtype: int64"
      ]
     },
     "execution_count": 154,
     "metadata": {},
     "output_type": "execute_result"
    },
    {
     "data": {
      "text/plain": [
       "0    5\n",
       "1    6\n",
       "2    7\n",
       "dtype: int64"
      ]
     },
     "execution_count": 154,
     "metadata": {},
     "output_type": "execute_result"
    }
   ],
   "source": [
    "pd.Series([1,2,3])\n",
    "pd.Series([1,2,3]) +4\n",
    "\n",
    "#0    1\n",
    "#1    2\n",
    "#2    3\n",
    "#dtype: int64\n",
    "#0    5\n",
    "#1    6\n",
    "#2    7\n",
    "#dtype: int64"
   ]
  },
  {
   "cell_type": "code",
   "execution_count": 155,
   "id": "86d94e64",
   "metadata": {},
   "outputs": [
    {
     "data": {
      "text/plain": [
       "서울    1.000000\n",
       "부산    3.448737\n",
       "인천    2.632035\n",
       "대전    1.490158\n",
       "dtype: float64"
      ]
     },
     "execution_count": 155,
     "metadata": {},
     "output_type": "execute_result"
    }
   ],
   "source": [
    "#s 시리즈의 값은 1/1000000 변환\n",
    "s/1000000\n",
    "\n",
    "#서울    1.000000\n",
    "#부산    3.448737\n",
    "#인천    2.632035\n",
    "#대전    1.490158\n",
    "#dtype: float64"
   ]
  },
  {
   "cell_type": "code",
   "execution_count": 158,
   "id": "44445908",
   "metadata": {},
   "outputs": [
    {
     "data": {
      "text/plain": [
       "서울    False\n",
       "부산     True\n",
       "인천     True\n",
       "대전    False\n",
       "dtype: bool"
      ]
     },
     "execution_count": 158,
     "metadata": {},
     "output_type": "execute_result"
    },
    {
     "data": {
      "text/plain": [
       "부산    3448737\n",
       "인천    2632035\n",
       "dtype: int64"
      ]
     },
     "execution_count": 158,
     "metadata": {},
     "output_type": "execute_result"
    }
   ],
   "source": [
    "#벡터화 인덱싱 = 인덱싱에 조건식을 활용할 수 있다\n",
    "#시리즈 s의 원소 값 중 2500000(250e4)보다 크고, 5000000(500e4)보다 작은 원소를 추출\n",
    "#시리즈명[조건식] - 각 원소의 값 모두를 각각 조건식으로 확인해서 결과가 ture인 원소만 추출\n",
    "(s>250e4) & (s<500e4)\n",
    "s[(s>250e4) & (s<500e4)]\n",
    "\n",
    "\n",
    "# 서울    False\n",
    "# 부산     True\n",
    "# 인천     True\n",
    "# 대전    False\n",
    "# dtype: bool\n",
    "# 부산    3448737\n",
    "# 인천    2632035\n",
    "# dtype: int64"
   ]
  },
  {
   "cell_type": "markdown",
   "id": "f7dcdf9e",
   "metadata": {},
   "source": [
    "#### **Boolean selection**\n",
    "  - boolean Series가 []와 함께 사용되면 True 값에 해당하는 값만 새로 반환되는 Series객체에 포함됨\n",
    "  - 다중조건의 경우, &(and), |(or)를 사용하여 연결 가능"
   ]
  },
  {
   "cell_type": "code",
   "execution_count": 167,
   "id": "0f9a754a",
   "metadata": {},
   "outputs": [
    {
     "data": {
      "text/plain": [
       "1     0\n",
       "2     1\n",
       "3     2\n",
       "4     3\n",
       "5     4\n",
       "6     5\n",
       "7     6\n",
       "8     7\n",
       "9     8\n",
       "10    9\n",
       "dtype: int32"
      ]
     },
     "execution_count": 167,
     "metadata": {},
     "output_type": "execute_result"
    }
   ],
   "source": [
    "s0 = pd.Series(np.arange(10), np.arange(10)+1)\n",
    "s0\n"
   ]
  },
  {
   "cell_type": "code",
   "execution_count": 168,
   "id": "7fc9e1bb",
   "metadata": {},
   "outputs": [
    {
     "data": {
      "text/plain": [
       "1     False\n",
       "2     False\n",
       "3     False\n",
       "4     False\n",
       "5     False\n",
       "6     False\n",
       "7      True\n",
       "8      True\n",
       "9      True\n",
       "10     True\n",
       "dtype: bool"
      ]
     },
     "execution_count": 168,
     "metadata": {},
     "output_type": "execute_result"
    }
   ],
   "source": [
    "s0>5\n",
    "\n",
    "# 1     False\n",
    "# 2     False\n",
    "# 3     False\n",
    "# 4     False\n",
    "# 5     False\n",
    "# 6     False\n",
    "# 7      True\n",
    "# 8      True\n",
    "# 9      True\n",
    "# 10     True\n",
    "# dtype: bool"
   ]
  },
  {
   "cell_type": "code",
   "execution_count": 169,
   "id": "ec2be985",
   "metadata": {},
   "outputs": [
    {
     "data": {
      "text/plain": [
       "7     6\n",
       "8     7\n",
       "9     8\n",
       "10    9\n",
       "dtype: int32"
      ]
     },
     "execution_count": 169,
     "metadata": {},
     "output_type": "execute_result"
    }
   ],
   "source": [
    "s0[s0>5]\n",
    "\n",
    "# 7     6\n",
    "# 8     7\n",
    "# 9     8\n",
    "# 10    9\n",
    "# dtype: int32"
   ]
  },
  {
   "cell_type": "code",
   "execution_count": 172,
   "id": "82bf1afa",
   "metadata": {},
   "outputs": [
    {
     "data": {
      "text/plain": [
       "1      True\n",
       "2     False\n",
       "3      True\n",
       "4     False\n",
       "5      True\n",
       "6     False\n",
       "7      True\n",
       "8     False\n",
       "9      True\n",
       "10    False\n",
       "dtype: bool"
      ]
     },
     "execution_count": 172,
     "metadata": {},
     "output_type": "execute_result"
    },
    {
     "data": {
      "text/plain": [
       "1    0\n",
       "3    2\n",
       "5    4\n",
       "7    6\n",
       "9    8\n",
       "dtype: int32"
      ]
     },
     "execution_count": 172,
     "metadata": {},
     "output_type": "execute_result"
    }
   ],
   "source": [
    "s0 % 2 == 0\n",
    "s0[s0 % 2==0]\n",
    "\n",
    "# 1      True\n",
    "# 2     False\n",
    "# 3      True\n",
    "# 4     False\n",
    "# 5      True\n",
    "# 6     False\n",
    "# 7      True\n",
    "# 8     False\n",
    "# 9      True\n",
    "# 10    False\n",
    "# dtype: bool\n",
    "# 1    0\n",
    "# 3    2\n",
    "# 5    4\n",
    "# 7    6\n",
    "# 9    8\n",
    "# dtype: int32"
   ]
  },
  {
   "cell_type": "code",
   "execution_count": 173,
   "id": "7130a6f2",
   "metadata": {},
   "outputs": [
    {
     "data": {
      "text/plain": [
       "array([False, False, False, False, False,  True,  True,  True,  True,\n",
       "        True])"
      ]
     },
     "execution_count": 173,
     "metadata": {},
     "output_type": "execute_result"
    }
   ],
   "source": [
    "s0.index >5 #s0의 인덱스 값을 추출해서 벡터화 연산"
   ]
  },
  {
   "cell_type": "code",
   "execution_count": 175,
   "id": "d349958c",
   "metadata": {},
   "outputs": [
    {
     "data": {
      "text/plain": [
       "6     5\n",
       "7     6\n",
       "8     7\n",
       "9     8\n",
       "10    9\n",
       "dtype: int32"
      ]
     },
     "execution_count": 175,
     "metadata": {},
     "output_type": "execute_result"
    }
   ],
   "source": [
    "s0[s0.index>5]  #s0 인덱스 값이 5를 초과하는 원소 출력"
   ]
  },
  {
   "cell_type": "code",
   "execution_count": 181,
   "id": "79603449",
   "metadata": {},
   "outputs": [
    {
     "data": {
      "text/plain": [
       "3"
      ]
     },
     "execution_count": 181,
     "metadata": {},
     "output_type": "execute_result"
    },
    {
     "data": {
      "text/plain": [
       "24"
      ]
     },
     "execution_count": 181,
     "metadata": {},
     "output_type": "execute_result"
    }
   ],
   "source": [
    "(s0>=7).sum()  #각 원소에 대하여, 조건식의 결과값이 True인 원소의 개수\n",
    "s0[s0>=7].sum() #각 원소에 대입한 조건식의 결과값이 True인 원소들의 값을 합함."
   ]
  },
  {
   "cell_type": "markdown",
   "id": "5ef23da2",
   "metadata": {},
   "source": [
    "- 두 시리즈 간의 연산"
   ]
  },
  {
   "cell_type": "code",
   "execution_count": 184,
   "id": "95b9fa39",
   "metadata": {},
   "outputs": [
    {
     "data": {
      "text/plain": [
       "a    1\n",
       "b    2\n",
       "c    3\n",
       "d    4\n",
       "dtype: int64"
      ]
     },
     "execution_count": 184,
     "metadata": {},
     "output_type": "execute_result"
    },
    {
     "data": {
      "text/plain": [
       "a    5\n",
       "b    6\n",
       "c    7\n",
       "d    8\n",
       "dtype: int64"
      ]
     },
     "execution_count": 184,
     "metadata": {},
     "output_type": "execute_result"
    }
   ],
   "source": [
    "num_s1 = pd.Series([1,2,3,4],index=['a','b','c','d'])\n",
    "num_s2 = pd.Series([5,6,7,8],index=['a','b','c','d'])\n",
    "num_s1\n",
    "num_s2"
   ]
  },
  {
   "cell_type": "code",
   "execution_count": 185,
   "id": "da9f5583",
   "metadata": {},
   "outputs": [
    {
     "data": {
      "text/plain": [
       "a     6\n",
       "b     8\n",
       "c    10\n",
       "d    12\n",
       "dtype: int64"
      ]
     },
     "execution_count": 185,
     "metadata": {},
     "output_type": "execute_result"
    }
   ],
   "source": [
    "num_s1+num_s2 #시리즈 간의 연산은 같은 인덱스를 찾아 진행함"
   ]
  },
  {
   "cell_type": "code",
   "execution_count": 189,
   "id": "8127fe0c",
   "metadata": {},
   "outputs": [
    {
     "data": {
      "text/plain": [
       "a    NaN\n",
       "b    7.0\n",
       "c    NaN\n",
       "d    NaN\n",
       "e    NaN\n",
       "f    NaN\n",
       "g    NaN\n",
       "dtype: float64"
      ]
     },
     "execution_count": 189,
     "metadata": {},
     "output_type": "execute_result"
    }
   ],
   "source": [
    "num_s3 = pd.Series([1,2,3,4],index=['e','b','f','g'])\n",
    "num_s4 = pd.Series([5,6,7,8],index=['b','c','d','a'])\n",
    "num_s3 + num_s4 \n",
    "#두 시리즈의 인덱스가 다르면, 동일한 인덱스끼리는 연산 진행\n",
    "# 나머지 인덱스는 연산처리가 불가능해서 NaN값으로 처리"
   ]
  },
  {
   "cell_type": "code",
   "execution_count": 190,
   "id": "d9bf89c2",
   "metadata": {},
   "outputs": [
    {
     "data": {
      "text/plain": [
       "array([4, 4, 4, 4], dtype=int64)"
      ]
     },
     "execution_count": 190,
     "metadata": {},
     "output_type": "execute_result"
    }
   ],
   "source": [
    "num_s4.values - num_s3.values\n",
    "#values 속성을 사용하면 시리즈의 형태가 사라져\n",
    "#동일한 위치의 원소들끼리 연산하게 된다.\n",
    "#array([4, 4, 4, 4], dtype=int64)"
   ]
  },
  {
   "cell_type": "markdown",
   "id": "6f3310ab",
   "metadata": {},
   "source": [
    "##### 딕셔너리 와 시리즈의 관계\n",
    "- 시리즈 객체는 라벨(문자)에 의해 인덱싱이 가능\n",
    "- 실질적으로는 라벨을 key로 가지는 딕셔너리 형과 같다고 볼 수 있음\n",
    "- 딕셔너리에서 제공하는 대부분의 연산자 사용 가능\n",
    "    - in 연산자 : T/F\n",
    "    - for 루프를 통해 각 원소의 key와 value에 접근 할수 있다.\n"
   ]
  },
  {
   "cell_type": "markdown",
   "id": "24c6599d",
   "metadata": {},
   "source": [
    "- in 연산자/ for 반복문 사용"
   ]
  },
  {
   "cell_type": "code",
   "execution_count": 191,
   "id": "b65013c4",
   "metadata": {},
   "outputs": [
    {
     "data": {
      "text/plain": [
       "True"
      ]
     },
     "execution_count": 191,
     "metadata": {},
     "output_type": "execute_result"
    }
   ],
   "source": [
    "#인덱스가 서울인 원소가 시리즈에 있는지 확인\n",
    "'서울' in s #True"
   ]
  },
  {
   "cell_type": "code",
   "execution_count": 192,
   "id": "d7500c5e",
   "metadata": {},
   "outputs": [
    {
     "data": {
      "text/plain": [
       "True"
      ]
     },
     "execution_count": 192,
     "metadata": {},
     "output_type": "execute_result"
    }
   ],
   "source": [
    "'대구' not in s"
   ]
  },
  {
   "cell_type": "code",
   "execution_count": 194,
   "id": "8dbdbc53",
   "metadata": {},
   "outputs": [
    {
     "data": {
      "text/plain": [
       "<zip at 0x24d4d956f40>"
      ]
     },
     "execution_count": 194,
     "metadata": {},
     "output_type": "execute_result"
    },
    {
     "data": {
      "text/plain": [
       "[('서울', 1000000), ('부산', 3448737), ('인천', 2632035), ('대전', 1490158)]"
      ]
     },
     "execution_count": 194,
     "metadata": {},
     "output_type": "execute_result"
    }
   ],
   "source": [
    "#딕셔너리의 items()함수는 시리즈에서도 사용할 수 있다.\n",
    "s.items()\n",
    "list(s.items())"
   ]
  },
  {
   "cell_type": "code",
   "execution_count": 195,
   "id": "3e54dd88",
   "metadata": {},
   "outputs": [
    {
     "name": "stdout",
     "output_type": "stream",
     "text": [
      "서울=1000000\n",
      "부산=3448737\n",
      "인천=2632035\n",
      "대전=1490158\n"
     ]
    }
   ],
   "source": [
    "for k,v in s.items():\n",
    "    print(\"%s=%d\"%(k,v))"
   ]
  },
  {
   "cell_type": "code",
   "execution_count": 197,
   "id": "9d01f070",
   "metadata": {},
   "outputs": [
    {
     "data": {
      "text/plain": [
       "서울    1000000\n",
       "부산    8630000\n",
       "인천    2632035\n",
       "대전    1490158\n",
       "dtype: int64"
      ]
     },
     "execution_count": 197,
     "metadata": {},
     "output_type": "execute_result"
    }
   ],
   "source": [
    "#시리즈의 값을 갱신\n",
    "s['부산'] = 8630000\n",
    "s"
   ]
  },
  {
   "cell_type": "code",
   "execution_count": 201,
   "id": "aae9168c",
   "metadata": {},
   "outputs": [
    {
     "data": {
      "text/plain": [
       "서울     1000000\n",
       "부산     8630000\n",
       "인천     2632035\n",
       "대전     1490158\n",
       "대구    18750000\n",
       "dtype: int64"
      ]
     },
     "execution_count": 201,
     "metadata": {},
     "output_type": "execute_result"
    }
   ],
   "source": [
    "#시리즈에 새로운 데이터 추가\n",
    "s['대구'] = 18750000\n",
    "s"
   ]
  },
  {
   "cell_type": "code",
   "execution_count": 203,
   "id": "c656e525",
   "metadata": {},
   "outputs": [
    {
     "data": {
      "text/plain": [
       "서울     1000000\n",
       "부산     8630000\n",
       "인천     2632035\n",
       "대구    18750000\n",
       "dtype: int64"
      ]
     },
     "execution_count": 203,
     "metadata": {},
     "output_type": "execute_result"
    }
   ],
   "source": [
    "#시리즈의 데이터 삭제: del명령사용\n",
    "del s['대전']\n",
    "s"
   ]
  },
  {
   "cell_type": "markdown",
   "id": "0cda10fc",
   "metadata": {},
   "source": [
    "#### **Series size, shape, unique, count, value_counts 함수**\n",
    " - size 속성 : 개수 반환\n",
    " - shape 속성: 튜플형태로 shape반환\n",
    " - unique: 유일한 값만 ndarray로 반환\n",
    " - count : NaN을 제외한 개수를 반환\n",
    " - mean: NaN을 제외한 평균 \n",
    " - value_counts: NaN을 제외하고 각 값들의 빈도를 반환\n"
   ]
  },
  {
   "cell_type": "code",
   "execution_count": 204,
   "id": "11056ec4",
   "metadata": {},
   "outputs": [
    {
     "data": {
      "text/plain": [
       "0     1.0\n",
       "1     1.0\n",
       "2     2.0\n",
       "3     1.0\n",
       "4     2.0\n",
       "5     2.0\n",
       "6     2.0\n",
       "7     1.0\n",
       "8     1.0\n",
       "9     3.0\n",
       "10    3.0\n",
       "11    4.0\n",
       "12    5.0\n",
       "13    5.0\n",
       "14    7.0\n",
       "15    NaN\n",
       "dtype: float64"
      ]
     },
     "execution_count": 204,
     "metadata": {},
     "output_type": "execute_result"
    }
   ],
   "source": [
    "s1 = pd.Series([1, 1, 2, 1, 2, 2, 2, 1, 1, 3, 3, 4, 5, 5, 7, np.NaN])\n",
    "s1\n"
   ]
  },
  {
   "cell_type": "code",
   "execution_count": 209,
   "id": "ca0b3a2f",
   "metadata": {},
   "outputs": [
    {
     "data": {
      "text/plain": [
       "16"
      ]
     },
     "execution_count": 209,
     "metadata": {},
     "output_type": "execute_result"
    },
    {
     "data": {
      "text/plain": [
       "16"
      ]
     },
     "execution_count": 209,
     "metadata": {},
     "output_type": "execute_result"
    }
   ],
   "source": [
    "len(s1) \n",
    "s1.size\n",
    "#모두 NaN값을 포함한 값을 반환"
   ]
  },
  {
   "cell_type": "code",
   "execution_count": 212,
   "id": "26bf60e8",
   "metadata": {},
   "outputs": [
    {
     "data": {
      "text/plain": [
       "(16,)"
      ]
     },
     "execution_count": 212,
     "metadata": {},
     "output_type": "execute_result"
    }
   ],
   "source": [
    "s1.shape #차원을 표현하기 때문에 튜플 형태로 출력\n",
    "#(16,) 으로 출력됨\n",
    "#이유 -> 16행 1열"
   ]
  },
  {
   "cell_type": "code",
   "execution_count": 214,
   "id": "9260788e",
   "metadata": {},
   "outputs": [
    {
     "data": {
      "text/plain": [
       "array([ 1.,  2.,  3.,  4.,  5.,  7., nan])"
      ]
     },
     "execution_count": 214,
     "metadata": {},
     "output_type": "execute_result"
    }
   ],
   "source": [
    "s1.unique() #중복값을 제거한 원소값출력"
   ]
  },
  {
   "cell_type": "code",
   "execution_count": 216,
   "id": "b461e9cf",
   "metadata": {},
   "outputs": [
    {
     "data": {
      "text/plain": [
       "15"
      ]
     },
     "execution_count": 216,
     "metadata": {},
     "output_type": "execute_result"
    }
   ],
   "source": [
    "s1.count() #NaN값을 제거한 원소의 개수 반환"
   ]
  },
  {
   "cell_type": "code",
   "execution_count": 219,
   "id": "f2cfd362",
   "metadata": {},
   "outputs": [
    {
     "data": {
      "text/plain": [
       "nan"
      ]
     },
     "execution_count": 219,
     "metadata": {},
     "output_type": "execute_result"
    },
    {
     "data": {
      "text/plain": [
       "2.0"
      ]
     },
     "execution_count": 219,
     "metadata": {},
     "output_type": "execute_result"
    }
   ],
   "source": [
    "a= np.array([2,2,2,2,2,np.NaN]) #결측치 포함\n",
    "b= pd.Series(a)\n",
    "a.mean() #np의 array를 평균계산 - NaN이 포함되면 계산 불가(nan반환)\n",
    "b.mean() # 기본 NaN값을 제외시키고 계산하도록 설정되어있음"
   ]
  },
  {
   "cell_type": "code",
   "execution_count": 221,
   "id": "f78c46ec",
   "metadata": {},
   "outputs": [
    {
     "data": {
      "text/plain": [
       "1.0    5\n",
       "2.0    4\n",
       "3.0    2\n",
       "5.0    2\n",
       "7.0    1\n",
       "4.0    1\n",
       "dtype: int64"
      ]
     },
     "execution_count": 221,
     "metadata": {},
     "output_type": "execute_result"
    }
   ],
   "source": [
    "s1.value_counts() # 각 원소들은 같은 값끼리 그룹을 만들고 개수를 세서 반환"
   ]
  },
  {
   "cell_type": "code",
   "execution_count": null,
   "id": "3a682c06",
   "metadata": {},
   "outputs": [],
   "source": []
  }
 ],
 "metadata": {
  "kernelspec": {
   "display_name": "Python 3",
   "language": "python",
   "name": "python3"
  },
  "language_info": {
   "codemirror_mode": {
    "name": "ipython",
    "version": 3
   },
   "file_extension": ".py",
   "mimetype": "text/x-python",
   "name": "python",
   "nbconvert_exporter": "python",
   "pygments_lexer": "ipython3",
   "version": "3.8.8"
  }
 },
 "nbformat": 4,
 "nbformat_minor": 5
}
