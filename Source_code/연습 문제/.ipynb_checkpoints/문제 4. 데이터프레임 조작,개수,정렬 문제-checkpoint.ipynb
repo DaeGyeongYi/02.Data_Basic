{
 "cells": [
  {
   "cell_type": "code",
   "execution_count": 6,
   "id": "ff03d825",
   "metadata": {},
   "outputs": [],
   "source": [
    "# 패키지 임포트\n",
    "import pandas as pd\n",
    "import numpy as np\n",
    "import seaborn as sns\n",
    "from IPython.core.interactiveshell import InteractiveShell\n",
    "InteractiveShell.ast_node_interactivity=\"all\""
   ]
  },
  {
   "cell_type": "code",
   "execution_count": 64,
   "id": "49ff0c9c",
   "metadata": {},
   "outputs": [],
   "source": [
    "# seaborn 패키지의 titanic 데이터셋을 load 하시오\n",
    "titanic = sns.load_dataset(\"titanic\")"
   ]
  },
  {
   "cell_type": "markdown",
   "id": "8b5a9210",
   "metadata": {},
   "source": [
    "#### 연습문제 1\n",
    "- 타이타닉 호 승객에 대해서, 성별(sex) 인원수, 나이별(age) 인원수, 선실별(class) 인원수, 사망/생존(alive)인원수를 구하시오.\n",
    "\n",
    "- 성별 인원수는 인덱스 기준으로 정렬하고\n",
    "- 나이별 인원수는 값 기준 정렬\n",
    "- 그 나머지는 임의 기준 정렬 하시오."
   ]
  },
  {
   "cell_type": "code",
   "execution_count": 65,
   "id": "8bc8d097",
   "metadata": {
    "scrolled": false
   },
   "outputs": [
    {
     "data": {
      "text/plain": [
       "female    314\n",
       "male      577\n",
       "Name: sex, dtype: int64"
      ]
     },
     "execution_count": 65,
     "metadata": {},
     "output_type": "execute_result"
    },
    {
     "data": {
      "text/plain": [
       "no     549\n",
       "yes    342\n",
       "Name: alive, dtype: int64"
      ]
     },
     "execution_count": 65,
     "metadata": {},
     "output_type": "execute_result"
    },
    {
     "data": {
      "text/plain": [
       "12.00     1\n",
       "24.50     1\n",
       "66.00     1\n",
       "20.50     1\n",
       "0.67      1\n",
       "         ..\n",
       "19.00    25\n",
       "28.00    25\n",
       "18.00    26\n",
       "22.00    27\n",
       "24.00    30\n",
       "Name: age, Length: 88, dtype: int64"
      ]
     },
     "execution_count": 65,
     "metadata": {},
     "output_type": "execute_result"
    },
    {
     "data": {
      "text/plain": [
       "Second    184\n",
       "First     216\n",
       "Third     491\n",
       "Name: class, dtype: int64"
      ]
     },
     "execution_count": 65,
     "metadata": {},
     "output_type": "execute_result"
    }
   ],
   "source": [
    "titanic['sex'].value_counts().sort_index()\n",
    "titanic['alive'].value_counts().sort_index()\n",
    "titanic['age'].value_counts().sort_values()\n",
    "titanic['class'].value_counts().sort_values()\n"
   ]
  },
  {
   "cell_type": "markdown",
   "id": "d406a49f",
   "metadata": {},
   "source": [
    "#### 연습문제 2\n",
    "- 성별에 따른 생존자수와 사망자수의 정보를 갖고 있는 데이터프레임 titanic_y_n 를 생성하시오\n",
    "    - 0은 생존 1은 사망"
   ]
  },
  {
   "cell_type": "markdown",
   "id": "6b5e45de",
   "metadata": {},
   "source": [
    "![](데이터조작문제.PNG)"
   ]
  },
  {
   "cell_type": "code",
   "execution_count": 568,
   "id": "9bb95c65",
   "metadata": {},
   "outputs": [
    {
     "data": {
      "text/html": [
       "<div>\n",
       "<style scoped>\n",
       "    .dataframe tbody tr th:only-of-type {\n",
       "        vertical-align: middle;\n",
       "    }\n",
       "\n",
       "    .dataframe tbody tr th {\n",
       "        vertical-align: top;\n",
       "    }\n",
       "\n",
       "    .dataframe thead th {\n",
       "        text-align: right;\n",
       "    }\n",
       "</style>\n",
       "<table border=\"1\" class=\"dataframe\">\n",
       "  <thead>\n",
       "    <tr style=\"text-align: right;\">\n",
       "      <th></th>\n",
       "      <th>male</th>\n",
       "      <th>female</th>\n",
       "    </tr>\n",
       "  </thead>\n",
       "  <tbody>\n",
       "    <tr>\n",
       "      <th>0</th>\n",
       "      <td>109</td>\n",
       "      <td>81</td>\n",
       "    </tr>\n",
       "    <tr>\n",
       "      <th>1</th>\n",
       "      <td>468</td>\n",
       "      <td>233</td>\n",
       "    </tr>\n",
       "  </tbody>\n",
       "</table>\n",
       "</div>"
      ],
      "text/plain": [
       "   male  female\n",
       "0   109      81\n",
       "1   468     233"
      ]
     },
     "execution_count": 568,
     "metadata": {},
     "output_type": "execute_result"
    }
   ],
   "source": [
    "titanic_y_n = titanic.iloc[:,[0,2]]\n",
    "fe = pd.DataFrame(titanic_y_n.loc[(titanic_y_n['sex']=='female')].value_counts())\n",
    "ma =pd.DataFrame(titanic_y_n.loc[(titanic_y_n['sex']=='male')].value_counts())\n",
    "\n",
    "fe = fe.set_index(0).sort_index().reset_index()\n",
    "ma = ma.set_index(0).sort_index().reset_index()\n",
    "\n",
    "ma['female'] = fe\n",
    "ma.rename(columns={0:'male'})"
   ]
  },
  {
   "cell_type": "markdown",
   "id": "dcbe7084",
   "metadata": {},
   "source": [
    "#### 연습문제\n",
    "- 타이타닉호 승객을 사망자와 생존자 그룹으로 나누고(alive)\n",
    "- 각 그룹에 대해 미성년자, 청년, 중년, 장년, 노년 승객의 비율을 구하시오.\n",
    "    - bins=[1,15,25,35,60,99]\n",
    "    - labels=['미성년자','청년','중년','장년','노년']\n",
    "    - 각 그룹별 비유의 전체 합은 1이 되어야 한다."
   ]
  },
  {
   "cell_type": "code",
   "execution_count": 479,
   "id": "89a332bf",
   "metadata": {},
   "outputs": [
    {
     "name": "stderr",
     "output_type": "stream",
     "text": [
      "<ipython-input-479-2ef6abc206c7>:2: SettingWithCopyWarning: \n",
      "A value is trying to be set on a copy of a slice from a DataFrame.\n",
      "Try using .loc[row_indexer,col_indexer] = value instead\n",
      "\n",
      "See the caveats in the documentation: https://pandas.pydata.org/pandas-docs/stable/user_guide/indexing.html#returning-a-view-versus-a-copy\n",
      "  passanger['age']= titanic[['age']]\n"
     ]
    },
    {
     "data": {
      "text/plain": [
       "중년      0.435101\n",
       "청년      0.261426\n",
       "장년      0.213894\n",
       "미성년자    0.058501\n",
       "노년      0.031079\n",
       "dtype: float64"
      ]
     },
     "execution_count": 479,
     "metadata": {},
     "output_type": "execute_result"
    },
    {
     "data": {
      "text/plain": [
       "중년      0.409091\n",
       "장년      0.236364\n",
       "청년      0.227273\n",
       "미성년자    0.112121\n",
       "노년      0.015152\n",
       "dtype: float64"
      ]
     },
     "execution_count": 479,
     "metadata": {},
     "output_type": "execute_result"
    }
   ],
   "source": [
    "passanger = titanic[['survived']]\n",
    "passanger['age']= titanic[['age']]\n",
    "passanger2 = passanger.fillna(alive['age'].mean()).astype(float)\n",
    "alive = passanger2.loc[passanger2['survived']==1]\n",
    "dead = passanger2.loc[passanger2['survived']==0]\n",
    "\n",
    "dead = dead.drop('survived',1)\n",
    "deadtoarray = dead.values.reshape(1,549).reshape(549)\n",
    "cats= pd.cut(deadtoarray,bins=[1,15,25,35,60,99],labels=['미성년자','청년','중년','장년','노년'])\n",
    "dead_cats= pd.value_counts(cats,normalize=True)\n",
    "\n",
    "alive = alive.drop('survived',1)\n",
    "alivetoarray = alive.values.reshape(1,len(alive)).reshape(len(alive))\n",
    "acats=pd.cut(alivetoarray,bins=[1,15,25,35,60,99],labels=['미성년자','청년','중년','장년','노년'])\n",
    "a_cats = pd.value_counts(acats,normalize=True)\n",
    "\n",
    "dead_cats\n",
    "a_cats"
   ]
  },
  {
   "cell_type": "markdown",
   "id": "32ad9969",
   "metadata": {},
   "source": [
    "#### 연습문제\n",
    "- ['id_1','id_2','id_3','id_4'] 와 같은 리스트 요소를\n",
    "- 내포 for문을 이용해서 생성후 리스트로 추가하시오."
   ]
  },
  {
   "cell_type": "code",
   "execution_count": null,
   "id": "0ecad2b4",
   "metadata": {},
   "outputs": [],
   "source": [
    "# 고정문자열(id_)과 반복 요소(1,2,3,4)를  조합하는 코드를 내포  \n",
    "# for문으로 만들어보세요"
   ]
  },
  {
   "cell_type": "code",
   "execution_count": 491,
   "id": "f4cbfdb5",
   "metadata": {},
   "outputs": [
    {
     "data": {
      "text/plain": [
       "['id_0', 'id_1', 'id_2', 'id_3']"
      ]
     },
     "execution_count": 491,
     "metadata": {},
     "output_type": "execute_result"
    }
   ],
   "source": [
    "list_id = ['id_'+str(i) for i in range(4)]\n",
    "list_id"
   ]
  },
  {
   "cell_type": "code",
   "execution_count": null,
   "id": "4636538b",
   "metadata": {},
   "outputs": [],
   "source": []
  }
 ],
 "metadata": {
  "kernelspec": {
   "display_name": "Python 3",
   "language": "python",
   "name": "python3"
  },
  "language_info": {
   "codemirror_mode": {
    "name": "ipython",
    "version": 3
   },
   "file_extension": ".py",
   "mimetype": "text/x-python",
   "name": "python",
   "nbconvert_exporter": "python",
   "pygments_lexer": "ipython3",
   "version": "3.8.8"
  }
 },
 "nbformat": 4,
 "nbformat_minor": 5
}
